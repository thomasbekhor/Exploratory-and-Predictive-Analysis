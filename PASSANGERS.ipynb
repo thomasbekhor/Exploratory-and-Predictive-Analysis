{
 "cells": [
  {
   "cell_type": "code",
   "execution_count": 1,
   "id": "cf44a99d",
   "metadata": {},
   "outputs": [],
   "source": [
    "%matplotlib inline\n",
    "from pprint import pprint\n",
    "\n",
    "import pandas as pd\n",
    "\n",
    "import matplotlib.pyplot as plt\n",
    "import numpy as np\n",
    "\n",
    "#from sklearn.linear_model import LinearRegression\n",
    "#from sklearn.pipeline import Pipeline\n",
    "#from sklearn.preprocessing import PolynomialFeatures, StandardScaler\n",
    "#from sklearn.impute import SimpleImputer\n",
    "from sklearn.model_selection import train_test_split\n",
    "#from sklearn.preprocessing import OneHotEncoder\n",
    "#from sklearn.compose import ColumnTransformer"
   ]
  },
  {
   "cell_type": "code",
   "execution_count": 2,
   "id": "7181b860",
   "metadata": {},
   "outputs": [],
   "source": [
    "RAND_SEED = 42\n",
    "np.random.seed(RAND_SEED)"
   ]
  },
  {
   "cell_type": "code",
   "execution_count": 3,
   "id": "e4bb0aed",
   "metadata": {},
   "outputs": [],
   "source": [
    "df_passangers = pd.read_csv(\"DATA2_passengers.csv\")"
   ]
  },
  {
   "cell_type": "code",
<<<<<<< HEAD
   "execution_count": 5,
=======
   "execution_count": 4,
   "id": "8d738fdc",
   "metadata": {},
   "outputs": [
    {
     "data": {
      "text/html": [
       "<div>\n",
       "<style scoped>\n",
       "    .dataframe tbody tr th:only-of-type {\n",
       "        vertical-align: middle;\n",
       "    }\n",
       "\n",
       "    .dataframe tbody tr th {\n",
       "        vertical-align: top;\n",
       "    }\n",
       "\n",
       "    .dataframe thead th {\n",
       "        text-align: right;\n",
       "    }\n",
       "</style>\n",
       "<table border=\"1\" class=\"dataframe\">\n",
       "  <thead>\n",
       "    <tr style=\"text-align: right;\">\n",
       "      <th></th>\n",
       "      <th>PassengerId</th>\n",
       "      <th>HomePlanet</th>\n",
       "      <th>CryoSleep</th>\n",
       "      <th>Cabin</th>\n",
       "      <th>Destination</th>\n",
       "      <th>Age</th>\n",
       "      <th>VIP</th>\n",
       "      <th>RoomService</th>\n",
       "      <th>FoodCourt</th>\n",
       "      <th>ShoppingMall</th>\n",
       "      <th>Spa</th>\n",
       "      <th>VRDeck</th>\n",
       "      <th>Name</th>\n",
       "      <th>Transported</th>\n",
       "    </tr>\n",
       "  </thead>\n",
       "  <tbody>\n",
       "    <tr>\n",
       "      <th>0</th>\n",
       "      <td>0001_01</td>\n",
       "      <td>Europa</td>\n",
       "      <td>False</td>\n",
       "      <td>B/0/P</td>\n",
       "      <td>TRAPPIST-1e</td>\n",
       "      <td>39.0</td>\n",
       "      <td>False</td>\n",
       "      <td>0.0</td>\n",
       "      <td>0.0</td>\n",
       "      <td>0.0</td>\n",
       "      <td>0.0</td>\n",
       "      <td>0.0</td>\n",
       "      <td>Maham Ofracculy</td>\n",
       "      <td>False</td>\n",
       "    </tr>\n",
       "    <tr>\n",
       "      <th>1</th>\n",
       "      <td>0002_01</td>\n",
       "      <td>Earth</td>\n",
       "      <td>False</td>\n",
       "      <td>F/0/S</td>\n",
       "      <td>TRAPPIST-1e</td>\n",
       "      <td>24.0</td>\n",
       "      <td>False</td>\n",
       "      <td>109.0</td>\n",
       "      <td>9.0</td>\n",
       "      <td>25.0</td>\n",
       "      <td>549.0</td>\n",
       "      <td>44.0</td>\n",
       "      <td>Juanna Vines</td>\n",
       "      <td>True</td>\n",
       "    </tr>\n",
       "    <tr>\n",
       "      <th>2</th>\n",
       "      <td>0003_01</td>\n",
       "      <td>Europa</td>\n",
       "      <td>False</td>\n",
       "      <td>A/0/S</td>\n",
       "      <td>TRAPPIST-1e</td>\n",
       "      <td>58.0</td>\n",
       "      <td>True</td>\n",
       "      <td>43.0</td>\n",
       "      <td>3576.0</td>\n",
       "      <td>0.0</td>\n",
       "      <td>6715.0</td>\n",
       "      <td>49.0</td>\n",
       "      <td>Altark Susent</td>\n",
       "      <td>False</td>\n",
       "    </tr>\n",
       "    <tr>\n",
       "      <th>3</th>\n",
       "      <td>0003_02</td>\n",
       "      <td>Europa</td>\n",
       "      <td>False</td>\n",
       "      <td>A/0/S</td>\n",
       "      <td>TRAPPIST-1e</td>\n",
       "      <td>33.0</td>\n",
       "      <td>False</td>\n",
       "      <td>0.0</td>\n",
       "      <td>1283.0</td>\n",
       "      <td>371.0</td>\n",
       "      <td>3329.0</td>\n",
       "      <td>193.0</td>\n",
       "      <td>Solam Susent</td>\n",
       "      <td>False</td>\n",
       "    </tr>\n",
       "    <tr>\n",
       "      <th>4</th>\n",
       "      <td>0004_01</td>\n",
       "      <td>Earth</td>\n",
       "      <td>False</td>\n",
       "      <td>F/1/S</td>\n",
       "      <td>TRAPPIST-1e</td>\n",
       "      <td>16.0</td>\n",
       "      <td>False</td>\n",
       "      <td>303.0</td>\n",
       "      <td>70.0</td>\n",
       "      <td>151.0</td>\n",
       "      <td>565.0</td>\n",
       "      <td>2.0</td>\n",
       "      <td>Willy Santantines</td>\n",
       "      <td>True</td>\n",
       "    </tr>\n",
       "  </tbody>\n",
       "</table>\n",
       "</div>"
      ],
      "text/plain": [
       "  PassengerId HomePlanet CryoSleep  Cabin  Destination   Age    VIP  \\\n",
       "0     0001_01     Europa     False  B/0/P  TRAPPIST-1e  39.0  False   \n",
       "1     0002_01      Earth     False  F/0/S  TRAPPIST-1e  24.0  False   \n",
       "2     0003_01     Europa     False  A/0/S  TRAPPIST-1e  58.0   True   \n",
       "3     0003_02     Europa     False  A/0/S  TRAPPIST-1e  33.0  False   \n",
       "4     0004_01      Earth     False  F/1/S  TRAPPIST-1e  16.0  False   \n",
       "\n",
       "   RoomService  FoodCourt  ShoppingMall     Spa  VRDeck               Name  \\\n",
       "0          0.0        0.0           0.0     0.0     0.0    Maham Ofracculy   \n",
       "1        109.0        9.0          25.0   549.0    44.0       Juanna Vines   \n",
       "2         43.0     3576.0           0.0  6715.0    49.0      Altark Susent   \n",
       "3          0.0     1283.0         371.0  3329.0   193.0       Solam Susent   \n",
       "4        303.0       70.0         151.0   565.0     2.0  Willy Santantines   \n",
       "\n",
       "   Transported  \n",
       "0        False  \n",
       "1         True  \n",
       "2        False  \n",
       "3        False  \n",
       "4         True  "
      ]
     },
     "execution_count": 4,
     "metadata": {},
     "output_type": "execute_result"
    }
   ],
   "source": [
    "df_passangers.head()"
   ]
  },
  {
   "cell_type": "markdown",
   "id": "87b20def",
   "metadata": {},
   "source": [
    "## Calculando o valor bruto"
   ]
  },
  {
   "cell_type": "code",
   "execution_count": 5,
   "id": "13f67584",
   "metadata": {},
   "outputs": [
    {
     "data": {
      "text/html": [
       "<div>\n",
       "<style scoped>\n",
       "    .dataframe tbody tr th:only-of-type {\n",
       "        vertical-align: middle;\n",
       "    }\n",
       "\n",
       "    .dataframe tbody tr th {\n",
       "        vertical-align: top;\n",
       "    }\n",
       "\n",
       "    .dataframe thead th {\n",
       "        text-align: right;\n",
       "    }\n",
       "</style>\n",
       "<table border=\"1\" class=\"dataframe\">\n",
       "  <thead>\n",
       "    <tr style=\"text-align: right;\">\n",
       "      <th></th>\n",
       "      <th>PassengerId</th>\n",
       "      <th>HomePlanet</th>\n",
       "      <th>CryoSleep</th>\n",
       "      <th>Cabin</th>\n",
       "      <th>Destination</th>\n",
       "      <th>Age</th>\n",
       "      <th>VIP</th>\n",
       "      <th>RoomService</th>\n",
       "      <th>FoodCourt</th>\n",
       "      <th>ShoppingMall</th>\n",
       "      <th>Spa</th>\n",
       "      <th>VRDeck</th>\n",
       "      <th>Name</th>\n",
       "      <th>Transported</th>\n",
       "      <th>Valor Bruto</th>\n",
       "    </tr>\n",
       "  </thead>\n",
       "  <tbody>\n",
       "    <tr>\n",
       "      <th>0</th>\n",
       "      <td>0001_01</td>\n",
       "      <td>Europa</td>\n",
       "      <td>False</td>\n",
       "      <td>B/0/P</td>\n",
       "      <td>TRAPPIST-1e</td>\n",
       "      <td>39.0</td>\n",
       "      <td>False</td>\n",
       "      <td>0.0</td>\n",
       "      <td>0.0</td>\n",
       "      <td>0.0</td>\n",
       "      <td>0.0</td>\n",
       "      <td>0.0</td>\n",
       "      <td>Maham Ofracculy</td>\n",
       "      <td>False</td>\n",
       "      <td>0.0</td>\n",
       "    </tr>\n",
       "    <tr>\n",
       "      <th>1</th>\n",
       "      <td>0002_01</td>\n",
       "      <td>Earth</td>\n",
       "      <td>False</td>\n",
       "      <td>F/0/S</td>\n",
       "      <td>TRAPPIST-1e</td>\n",
       "      <td>24.0</td>\n",
       "      <td>False</td>\n",
       "      <td>109.0</td>\n",
       "      <td>9.0</td>\n",
       "      <td>25.0</td>\n",
       "      <td>549.0</td>\n",
       "      <td>44.0</td>\n",
       "      <td>Juanna Vines</td>\n",
       "      <td>True</td>\n",
       "      <td>736.0</td>\n",
       "    </tr>\n",
       "    <tr>\n",
       "      <th>2</th>\n",
       "      <td>0003_01</td>\n",
       "      <td>Europa</td>\n",
       "      <td>False</td>\n",
       "      <td>A/0/S</td>\n",
       "      <td>TRAPPIST-1e</td>\n",
       "      <td>58.0</td>\n",
       "      <td>True</td>\n",
       "      <td>43.0</td>\n",
       "      <td>3576.0</td>\n",
       "      <td>0.0</td>\n",
       "      <td>6715.0</td>\n",
       "      <td>49.0</td>\n",
       "      <td>Altark Susent</td>\n",
       "      <td>False</td>\n",
       "      <td>10383.0</td>\n",
       "    </tr>\n",
       "    <tr>\n",
       "      <th>3</th>\n",
       "      <td>0003_02</td>\n",
       "      <td>Europa</td>\n",
       "      <td>False</td>\n",
       "      <td>A/0/S</td>\n",
       "      <td>TRAPPIST-1e</td>\n",
       "      <td>33.0</td>\n",
       "      <td>False</td>\n",
       "      <td>0.0</td>\n",
       "      <td>1283.0</td>\n",
       "      <td>371.0</td>\n",
       "      <td>3329.0</td>\n",
       "      <td>193.0</td>\n",
       "      <td>Solam Susent</td>\n",
       "      <td>False</td>\n",
       "      <td>5176.0</td>\n",
       "    </tr>\n",
       "    <tr>\n",
       "      <th>4</th>\n",
       "      <td>0004_01</td>\n",
       "      <td>Earth</td>\n",
       "      <td>False</td>\n",
       "      <td>F/1/S</td>\n",
       "      <td>TRAPPIST-1e</td>\n",
       "      <td>16.0</td>\n",
       "      <td>False</td>\n",
       "      <td>303.0</td>\n",
       "      <td>70.0</td>\n",
       "      <td>151.0</td>\n",
       "      <td>565.0</td>\n",
       "      <td>2.0</td>\n",
       "      <td>Willy Santantines</td>\n",
       "      <td>True</td>\n",
       "      <td>1091.0</td>\n",
       "    </tr>\n",
       "    <tr>\n",
       "      <th>...</th>\n",
       "      <td>...</td>\n",
       "      <td>...</td>\n",
       "      <td>...</td>\n",
       "      <td>...</td>\n",
       "      <td>...</td>\n",
       "      <td>...</td>\n",
       "      <td>...</td>\n",
       "      <td>...</td>\n",
       "      <td>...</td>\n",
       "      <td>...</td>\n",
       "      <td>...</td>\n",
       "      <td>...</td>\n",
       "      <td>...</td>\n",
       "      <td>...</td>\n",
       "      <td>...</td>\n",
       "    </tr>\n",
       "    <tr>\n",
       "      <th>8688</th>\n",
       "      <td>9276_01</td>\n",
       "      <td>Europa</td>\n",
       "      <td>False</td>\n",
       "      <td>A/98/P</td>\n",
       "      <td>55 Cancri e</td>\n",
       "      <td>41.0</td>\n",
       "      <td>True</td>\n",
       "      <td>0.0</td>\n",
       "      <td>6819.0</td>\n",
       "      <td>0.0</td>\n",
       "      <td>1643.0</td>\n",
       "      <td>74.0</td>\n",
       "      <td>Gravior Noxnuther</td>\n",
       "      <td>False</td>\n",
       "      <td>8536.0</td>\n",
       "    </tr>\n",
       "    <tr>\n",
       "      <th>8689</th>\n",
       "      <td>9278_01</td>\n",
       "      <td>Earth</td>\n",
       "      <td>True</td>\n",
       "      <td>G/1499/S</td>\n",
       "      <td>PSO J318.5-22</td>\n",
       "      <td>18.0</td>\n",
       "      <td>False</td>\n",
       "      <td>0.0</td>\n",
       "      <td>0.0</td>\n",
       "      <td>0.0</td>\n",
       "      <td>0.0</td>\n",
       "      <td>0.0</td>\n",
       "      <td>Kurta Mondalley</td>\n",
       "      <td>False</td>\n",
       "      <td>0.0</td>\n",
       "    </tr>\n",
       "    <tr>\n",
       "      <th>8690</th>\n",
       "      <td>9279_01</td>\n",
       "      <td>Earth</td>\n",
       "      <td>False</td>\n",
       "      <td>G/1500/S</td>\n",
       "      <td>TRAPPIST-1e</td>\n",
       "      <td>26.0</td>\n",
       "      <td>False</td>\n",
       "      <td>0.0</td>\n",
       "      <td>0.0</td>\n",
       "      <td>1872.0</td>\n",
       "      <td>1.0</td>\n",
       "      <td>0.0</td>\n",
       "      <td>Fayey Connon</td>\n",
       "      <td>True</td>\n",
       "      <td>1873.0</td>\n",
       "    </tr>\n",
       "    <tr>\n",
       "      <th>8691</th>\n",
       "      <td>9280_01</td>\n",
       "      <td>Europa</td>\n",
       "      <td>False</td>\n",
       "      <td>E/608/S</td>\n",
       "      <td>55 Cancri e</td>\n",
       "      <td>32.0</td>\n",
       "      <td>False</td>\n",
       "      <td>0.0</td>\n",
       "      <td>1049.0</td>\n",
       "      <td>0.0</td>\n",
       "      <td>353.0</td>\n",
       "      <td>3235.0</td>\n",
       "      <td>Celeon Hontichre</td>\n",
       "      <td>False</td>\n",
       "      <td>4637.0</td>\n",
       "    </tr>\n",
       "    <tr>\n",
       "      <th>8692</th>\n",
       "      <td>9280_02</td>\n",
       "      <td>Europa</td>\n",
       "      <td>False</td>\n",
       "      <td>E/608/S</td>\n",
       "      <td>TRAPPIST-1e</td>\n",
       "      <td>44.0</td>\n",
       "      <td>False</td>\n",
       "      <td>126.0</td>\n",
       "      <td>4688.0</td>\n",
       "      <td>0.0</td>\n",
       "      <td>0.0</td>\n",
       "      <td>12.0</td>\n",
       "      <td>Propsh Hontichre</td>\n",
       "      <td>True</td>\n",
       "      <td>4826.0</td>\n",
       "    </tr>\n",
       "  </tbody>\n",
       "</table>\n",
       "<p>8693 rows × 15 columns</p>\n",
       "</div>"
      ],
      "text/plain": [
       "     PassengerId HomePlanet CryoSleep     Cabin    Destination   Age    VIP  \\\n",
       "0        0001_01     Europa     False     B/0/P    TRAPPIST-1e  39.0  False   \n",
       "1        0002_01      Earth     False     F/0/S    TRAPPIST-1e  24.0  False   \n",
       "2        0003_01     Europa     False     A/0/S    TRAPPIST-1e  58.0   True   \n",
       "3        0003_02     Europa     False     A/0/S    TRAPPIST-1e  33.0  False   \n",
       "4        0004_01      Earth     False     F/1/S    TRAPPIST-1e  16.0  False   \n",
       "...          ...        ...       ...       ...            ...   ...    ...   \n",
       "8688     9276_01     Europa     False    A/98/P    55 Cancri e  41.0   True   \n",
       "8689     9278_01      Earth      True  G/1499/S  PSO J318.5-22  18.0  False   \n",
       "8690     9279_01      Earth     False  G/1500/S    TRAPPIST-1e  26.0  False   \n",
       "8691     9280_01     Europa     False   E/608/S    55 Cancri e  32.0  False   \n",
       "8692     9280_02     Europa     False   E/608/S    TRAPPIST-1e  44.0  False   \n",
       "\n",
       "      RoomService  FoodCourt  ShoppingMall     Spa  VRDeck               Name  \\\n",
       "0             0.0        0.0           0.0     0.0     0.0    Maham Ofracculy   \n",
       "1           109.0        9.0          25.0   549.0    44.0       Juanna Vines   \n",
       "2            43.0     3576.0           0.0  6715.0    49.0      Altark Susent   \n",
       "3             0.0     1283.0         371.0  3329.0   193.0       Solam Susent   \n",
       "4           303.0       70.0         151.0   565.0     2.0  Willy Santantines   \n",
       "...           ...        ...           ...     ...     ...                ...   \n",
       "8688          0.0     6819.0           0.0  1643.0    74.0  Gravior Noxnuther   \n",
       "8689          0.0        0.0           0.0     0.0     0.0    Kurta Mondalley   \n",
       "8690          0.0        0.0        1872.0     1.0     0.0       Fayey Connon   \n",
       "8691          0.0     1049.0           0.0   353.0  3235.0   Celeon Hontichre   \n",
       "8692        126.0     4688.0           0.0     0.0    12.0   Propsh Hontichre   \n",
       "\n",
       "      Transported  Valor Bruto  \n",
       "0           False          0.0  \n",
       "1            True        736.0  \n",
       "2           False      10383.0  \n",
       "3           False       5176.0  \n",
       "4            True       1091.0  \n",
       "...           ...          ...  \n",
       "8688        False       8536.0  \n",
       "8689        False          0.0  \n",
       "8690         True       1873.0  \n",
       "8691        False       4637.0  \n",
       "8692         True       4826.0  \n",
       "\n",
       "[8693 rows x 15 columns]"
      ]
     },
     "execution_count": 5,
     "metadata": {},
     "output_type": "execute_result"
    }
   ],
   "source": [
    "df_passangers['Valor Bruto']=df_passangers['RoomService']+df_passangers['FoodCourt']+df_passangers['ShoppingMall']+df_passangers['Spa']+df_passangers['VRDeck']\n",
    "df_passangers"
   ]
  },
  {
   "cell_type": "code",
   "execution_count": 6,
>>>>>>> 952e7cc15416eecf33de1fb444b00bc44dca3446
   "id": "1d012fb0",
   "metadata": {},
   "outputs": [
    {
     "data": {
      "text/html": [
       "<div>\n",
       "<style scoped>\n",
       "    .dataframe tbody tr th:only-of-type {\n",
       "        vertical-align: middle;\n",
       "    }\n",
       "\n",
       "    .dataframe tbody tr th {\n",
       "        vertical-align: top;\n",
       "    }\n",
       "\n",
       "    .dataframe thead th {\n",
       "        text-align: right;\n",
       "    }\n",
       "</style>\n",
       "<table border=\"1\" class=\"dataframe\">\n",
       "  <thead>\n",
       "    <tr style=\"text-align: right;\">\n",
       "      <th></th>\n",
       "      <th>count</th>\n",
       "      <th>mean</th>\n",
       "      <th>std</th>\n",
       "      <th>min</th>\n",
       "      <th>25%</th>\n",
       "      <th>50%</th>\n",
       "      <th>75%</th>\n",
       "      <th>max</th>\n",
       "    </tr>\n",
       "  </thead>\n",
       "  <tbody>\n",
       "    <tr>\n",
       "      <th>Age</th>\n",
       "      <td>8514.0</td>\n",
       "      <td>28.827930</td>\n",
       "      <td>14.489021</td>\n",
       "      <td>0.0</td>\n",
       "      <td>19.0</td>\n",
       "      <td>27.0</td>\n",
       "      <td>38.0</td>\n",
       "      <td>79.0</td>\n",
       "    </tr>\n",
       "    <tr>\n",
       "      <th>RoomService</th>\n",
       "      <td>8512.0</td>\n",
       "      <td>224.687617</td>\n",
       "      <td>666.717663</td>\n",
       "      <td>0.0</td>\n",
       "      <td>0.0</td>\n",
       "      <td>0.0</td>\n",
       "      <td>47.0</td>\n",
       "      <td>14327.0</td>\n",
       "    </tr>\n",
       "    <tr>\n",
       "      <th>FoodCourt</th>\n",
       "      <td>8510.0</td>\n",
       "      <td>458.077203</td>\n",
       "      <td>1611.489240</td>\n",
       "      <td>0.0</td>\n",
       "      <td>0.0</td>\n",
       "      <td>0.0</td>\n",
       "      <td>76.0</td>\n",
       "      <td>29813.0</td>\n",
       "    </tr>\n",
       "    <tr>\n",
       "      <th>ShoppingMall</th>\n",
       "      <td>8485.0</td>\n",
       "      <td>173.729169</td>\n",
       "      <td>604.696458</td>\n",
       "      <td>0.0</td>\n",
       "      <td>0.0</td>\n",
       "      <td>0.0</td>\n",
       "      <td>27.0</td>\n",
       "      <td>23492.0</td>\n",
       "    </tr>\n",
       "    <tr>\n",
       "      <th>Spa</th>\n",
       "      <td>8510.0</td>\n",
       "      <td>311.138778</td>\n",
       "      <td>1136.705535</td>\n",
       "      <td>0.0</td>\n",
       "      <td>0.0</td>\n",
       "      <td>0.0</td>\n",
       "      <td>59.0</td>\n",
       "      <td>22408.0</td>\n",
       "    </tr>\n",
       "    <tr>\n",
       "      <th>VRDeck</th>\n",
       "      <td>8505.0</td>\n",
       "      <td>304.854791</td>\n",
       "      <td>1145.717189</td>\n",
       "      <td>0.0</td>\n",
       "      <td>0.0</td>\n",
       "      <td>0.0</td>\n",
       "      <td>46.0</td>\n",
       "      <td>24133.0</td>\n",
       "    </tr>\n",
       "    <tr>\n",
       "      <th>Valor Bruto</th>\n",
       "      <td>7785.0</td>\n",
       "      <td>1484.601541</td>\n",
       "      <td>2845.288241</td>\n",
       "      <td>0.0</td>\n",
       "      <td>0.0</td>\n",
       "      <td>736.0</td>\n",
       "      <td>1486.0</td>\n",
       "      <td>35987.0</td>\n",
       "    </tr>\n",
       "  </tbody>\n",
       "</table>\n",
       "</div>"
      ],
      "text/plain": [
       "               count         mean          std  min   25%    50%     75%  \\\n",
       "Age           8514.0    28.827930    14.489021  0.0  19.0   27.0    38.0   \n",
       "RoomService   8512.0   224.687617   666.717663  0.0   0.0    0.0    47.0   \n",
       "FoodCourt     8510.0   458.077203  1611.489240  0.0   0.0    0.0    76.0   \n",
       "ShoppingMall  8485.0   173.729169   604.696458  0.0   0.0    0.0    27.0   \n",
       "Spa           8510.0   311.138778  1136.705535  0.0   0.0    0.0    59.0   \n",
       "VRDeck        8505.0   304.854791  1145.717189  0.0   0.0    0.0    46.0   \n",
       "Valor Bruto   7785.0  1484.601541  2845.288241  0.0   0.0  736.0  1486.0   \n",
       "\n",
       "                  max  \n",
       "Age              79.0  \n",
       "RoomService   14327.0  \n",
       "FoodCourt     29813.0  \n",
       "ShoppingMall  23492.0  \n",
       "Spa           22408.0  \n",
       "VRDeck        24133.0  \n",
       "Valor Bruto   35987.0  "
      ]
     },
     "execution_count": 5,
     "metadata": {},
     "output_type": "execute_result"
    }
   ],
   "source": [
    "df_passangers.describe().transpose()"
   ]
  },
  {
   "cell_type": "code",
   "execution_count": 6,
   "id": "8ee92c9b",
   "metadata": {},
   "outputs": [
    {
     "name": "stdout",
     "output_type": "stream",
     "text": [
      "<class 'pandas.core.frame.DataFrame'>\n",
      "RangeIndex: 8693 entries, 0 to 8692\n",
      "Data columns (total 15 columns):\n",
      " #   Column        Non-Null Count  Dtype  \n",
      "---  ------        --------------  -----  \n",
      " 0   PassengerId   8693 non-null   object \n",
      " 1   HomePlanet    8492 non-null   object \n",
      " 2   CryoSleep     8476 non-null   object \n",
      " 3   Cabin         8494 non-null   object \n",
      " 4   Destination   8511 non-null   object \n",
      " 5   Age           8514 non-null   float64\n",
      " 6   VIP           8490 non-null   object \n",
      " 7   RoomService   8512 non-null   float64\n",
      " 8   FoodCourt     8510 non-null   float64\n",
      " 9   ShoppingMall  8485 non-null   float64\n",
      " 10  Spa           8510 non-null   float64\n",
      " 11  VRDeck        8505 non-null   float64\n",
      " 12  Name          8493 non-null   object \n",
      " 13  Transported   8693 non-null   bool   \n",
      " 14  Valor Bruto   7785 non-null   float64\n",
      "dtypes: bool(1), float64(7), object(7)\n",
      "memory usage: 959.4+ KB\n"
     ]
    }
   ],
   "source": [
    "df_passangers.info()"
   ]
  },
  {
   "cell_type": "code",
<<<<<<< HEAD
   "execution_count": 7,
   "id": "c4a6cf0d",
   "metadata": {},
   "outputs": [
    {
     "data": {
      "text/plain": [
       "Earth     4602\n",
       "Europa    2131\n",
       "Mars      1759\n",
       "Name: HomePlanet, dtype: int64"
      ]
     },
     "metadata": {},
     "output_type": "display_data"
    }
   ],
   "source": [
    "display(df_passangers[\"HomePlanet\"].value_counts())"
   ]
  },
  {
   "cell_type": "code",
   "execution_count": 8,
   "id": "52ed5529",
   "metadata": {},
   "outputs": [],
   "source": [
=======
   "execution_count": 8,
   "id": "588f7be0",
   "metadata": {},
   "outputs": [
    {
     "name": "stdout",
     "output_type": "stream",
     "text": [
      "  PassengerId HomePlanet CryoSleep  Cabin  Destination   Age    VIP  \\\n",
      "0     0001_01     Europa     False  B/0/P  TRAPPIST-1e  39.0  False   \n",
      "1     0002_01      Earth     False  F/0/S  TRAPPIST-1e  24.0  False   \n",
      "2     0003_01     Europa     False  A/0/S  TRAPPIST-1e  58.0   True   \n",
      "3     0003_02     Europa     False  A/0/S  TRAPPIST-1e  33.0  False   \n",
      "4     0004_01      Earth     False  F/1/S  TRAPPIST-1e  16.0  False   \n",
      "\n",
      "   RoomService  FoodCourt  ShoppingMall     Spa  VRDeck               Name  \\\n",
      "0          0.0        0.0           0.0     0.0     0.0    Maham Ofracculy   \n",
      "1        109.0        9.0          25.0   549.0    44.0       Juanna Vines   \n",
      "2         43.0     3576.0           0.0  6715.0    49.0      Altark Susent   \n",
      "3          0.0     1283.0         371.0  3329.0   193.0       Solam Susent   \n",
      "4        303.0       70.0         151.0   565.0     2.0  Willy Santantines   \n",
      "\n",
      "   Transported  Valor Bruto  \n",
      "0        False          0.0  \n",
      "1         True        736.0  \n",
      "2        False      10383.0  \n",
      "3        False       5176.0  \n",
      "4         True       1091.0  \n"
     ]
    }
   ],
   "source": [
>>>>>>> 952e7cc15416eecf33de1fb444b00bc44dca3446
    "df_passangers=df_passangers[df_passangers[\"Transported\"].notna()]\n",
    "#ver a quantidade de nao nulos e fazer input para os que tem quantidade relevante \n",
    "df_passangers=df_passangers[df_passangers[\"Destination\"].notna()]\n",
    "df_passangers=df_passangers[df_passangers[\"Spa\"].notna()]\n",
    "df_passangers=df_passangers[df_passangers[\"HomePlanet\"].notna()]\n",
    "df_passangers=df_passangers[df_passangers[\"CryoSleep\"].notna()]\n",
    "df_passangers=df_passangers[df_passangers[\"Valor Bruto\"].notna()]\n",
    "df_passangers=df_passangers[df_passangers[\"ShoppingMall\"].notna()]\n",
    "df_passangers=df_passangers[df_passangers[\"Cabin\"].notna()]\n",
    "df_passangers=df_passangers[df_passangers[\"Age\"].notna()]\n",
    "df_passangers=df_passangers[df_passangers[\"VIP\"].notna()]\n",
    "df_passangers=df_passangers[df_passangers[\"RoomService\"].notna()]\n",
    "df_passangers=df_passangers[df_passangers[\"FoodCourt\"].notna()]\n",
    "df_passangers=df_passangers[df_passangers[\"VRDeck\"].notna()]\n",
    "#retirei colunas nome e id pq é individual de cada e não ajuda na classificação\n",
    "\n",
    "df_passangers.loc[:,[\"HomePlanet\",\"CryoSleep\",\"Cabin\",\"Destination\",\"Age\",\"VIP\",\"RoomService\",\"FoodCourt\",\"ShoppingMall\",\"Spa\",\"VRDeck\",\"Transported\"]]\n",
    "df=df_passangers\n",
    "print(df.head())"
   ]
  },
  {
   "cell_type": "code",
   "execution_count": null,
   "id": "42fd954e",
   "metadata": {},
   "outputs": [],
   "source": []
  },
  {
   "cell_type": "code",
   "execution_count": 9,
<<<<<<< HEAD
   "id": "5edd2850",
   "metadata": {},
   "outputs": [
    {
     "data": {
      "text/plain": [
       "HomePlanet  Transported\n",
       "0           False          0.576054\n",
       "            True           0.423946\n",
       "1           True           0.658846\n",
       "            False          0.341154\n",
       "2           True           0.523024\n",
       "            False          0.476976\n",
       "Name: Transported, dtype: float64"
      ]
     },
     "execution_count": 9,
     "metadata": {},
     "output_type": "execute_result"
=======
   "id": "1f231c07",
   "metadata": {},
   "outputs": [
    {
     "name": "stderr",
     "output_type": "stream",
     "text": [
      "C:\\Users\\joaob\\AppData\\Local\\Temp/ipykernel_1188/4114384792.py:1: FutureWarning: Columnar iteration over characters will be deprecated in future releases.\n",
      "  df[\"Primeira Cabin\"],df[\"Segunda Cabin\"],df[\"Terceira Cabin\"]=df[\"Cabin\"].str.split('/').str\n"
     ]
>>>>>>> 952e7cc15416eecf33de1fb444b00bc44dca3446
    }
   ],
   "source": [
    "df[\"Primeira Cabin\"],df[\"Segunda Cabin\"],df[\"Terceira Cabin\"]=df[\"Cabin\"].str.split('/').str\n",
    "del df[\"Cabin\"]\n",
    "del df['Name']\n",
    "del df['PassengerId']"
   ]
  },
  {
   "cell_type": "code",
   "execution_count": 10,
<<<<<<< HEAD
   "id": "d713cd0b",
=======
   "id": "281b99e6",
   "metadata": {},
   "outputs": [
    {
     "name": "stdout",
     "output_type": "stream",
     "text": [
      "<class 'pandas.core.frame.DataFrame'>\n",
      "Int64Index: 6764 entries, 0 to 8692\n",
      "Data columns (total 15 columns):\n",
      " #   Column          Non-Null Count  Dtype  \n",
      "---  ------          --------------  -----  \n",
      " 0   HomePlanet      6764 non-null   object \n",
      " 1   CryoSleep       6764 non-null   object \n",
      " 2   Destination     6764 non-null   object \n",
      " 3   Age             6764 non-null   float64\n",
      " 4   VIP             6764 non-null   object \n",
      " 5   RoomService     6764 non-null   float64\n",
      " 6   FoodCourt       6764 non-null   float64\n",
      " 7   ShoppingMall    6764 non-null   float64\n",
      " 8   Spa             6764 non-null   float64\n",
      " 9   VRDeck          6764 non-null   float64\n",
      " 10  Transported     6764 non-null   bool   \n",
      " 11  Valor Bruto     6764 non-null   float64\n",
      " 12  Primeira Cabin  6764 non-null   object \n",
      " 13  Segunda Cabin   6764 non-null   object \n",
      " 14  Terceira Cabin  6764 non-null   object \n",
      "dtypes: bool(1), float64(7), object(7)\n",
      "memory usage: 799.3+ KB\n"
     ]
    }
   ],
   "source": [
    "df.info()"
   ]
  },
  {
   "cell_type": "code",
   "execution_count": 11,
   "id": "52ed5529",
   "metadata": {},
   "outputs": [
    {
     "name": "stdout",
     "output_type": "stream",
     "text": [
      "Index(['55 Cancri e', 'PSO J318.5-22', 'TRAPPIST-1e'], dtype='object')\n"
     ]
    }
   ],
   "source": [
    "\n",
    "df[\"HomePlanet\"]=df[\"HomePlanet\"].astype('category')\n",
    "df[\"HomePlanet\"].cat.categories=[0,1,2]\n",
    "# 0 é Earth , Europa é 1 e Mars é 2\n",
    "\n",
    "df[\"Destination\"]=df[\"Destination\"].astype('category')\n",
    "print(df[\"Destination\"].cat.categories)\n",
    "df[\"Destination\"].cat.categories=[0,1,2]\n",
    "# 0 é 55 Canccri e 1 é  PSO J318.5-22, 2 é TRAPPIST-1e\n",
    "\n",
    "df[\"Primeira Cabin\"]=df[\"Primeira Cabin\"].astype('category')\n",
    "df[\"Primeira Cabin\"].cat.categories=[0,1,2,3,4,5,6,7]\n",
    "#0 é A, 1 é B ....6 é F e 7 é T\n",
    "df[\"Segunda Cabin\"]=df[\"Segunda Cabin\"].astype('category')\n",
    "#analisando posso deletar pq tem pouquissimos numeros para cada variavel\n",
    "del df[\"Segunda Cabin\"]\n",
    "\n",
    "df[\"Terceira Cabin\"]=df[\"Terceira Cabin\"].astype(\"category\")\n",
    "df[\"Terceira Cabin\"].cat.categories=[0,1]\n",
    "#P=0 e S=1"
   ]
  },
  {
   "cell_type": "code",
   "execution_count": null,
   "id": "e5fd4497",
>>>>>>> 952e7cc15416eecf33de1fb444b00bc44dca3446
   "metadata": {},
   "outputs": [],
   "source": []
  },
  {
   "cell_type": "markdown",
   "id": "4178d5ff",
   "metadata": {},
   "source": [
    "# Análise exploratória\n",
    "\n",
    "\n",
    "Para variaveis de quant com quali fazer Box plot\n",
    "para variaveis de quant com quant fazer histograma com valores relativos"
   ]
  },
  {
   "cell_type": "code",
   "execution_count": 12,
   "id": "5edd2850",
   "metadata": {},
   "outputs": [
    {
     "data": {
      "text/plain": [
       "HomePlanet  Transported\n",
       "0           False          0.574672\n",
       "            True           0.425328\n",
       "1           True           0.658095\n",
       "            False          0.341905\n",
       "2           True           0.515390\n",
       "            False          0.484610\n",
       "Name: Transported, dtype: float64"
      ]
     },
     "execution_count": 12,
     "metadata": {},
     "output_type": "execute_result"
    }
   ],
   "source": [
    "df.groupby(by='HomePlanet')[\"Transported\"].value_counts(normalize=True)"
   ]
  },
  {
   "cell_type": "code",
   "execution_count": 13,
   "id": "d713cd0b",
   "metadata": {},
   "outputs": [
    {
     "data": {
      "text/plain": [
       "Primeira Cabin  Transported\n",
       "0               False          0.516432\n",
       "                True           0.483568\n",
       "1               True           0.730109\n",
       "                False          0.269891\n",
       "2               True           0.677796\n",
       "                False          0.322204\n",
       "3               False          0.574803\n",
       "                True           0.425197\n",
       "4               False          0.645714\n",
       "                True           0.354286\n",
       "5               False          0.565670\n",
       "                True           0.434330\n",
       "6               True           0.522041\n",
       "                False          0.477959\n",
       "7               False          0.666667\n",
       "                True           0.333333\n",
       "Name: Transported, dtype: float64"
      ]
     },
     "execution_count": 13,
     "metadata": {},
     "output_type": "execute_result"
    }
   ],
   "source": [
    "df.groupby(by='Primeira Cabin')[\"Transported\"].value_counts(normalize=True)"
   ]
  },
  {
   "cell_type": "code",
   "execution_count": 14,
   "id": "e7b087f3",
   "metadata": {},
   "outputs": [],
   "source": [
    "#df.groupby(by='Segunda Cabin')[\"Transported\"].value_counts()"
   ]
  },
  {
   "cell_type": "code",
   "execution_count": 15,
   "id": "b9e18766",
   "metadata": {},
   "outputs": [
    {
     "data": {
      "text/plain": [
       "Terceira Cabin  Transported\n",
       "0               False          0.551063\n",
       "                True           0.448937\n",
       "1               True           0.555328\n",
       "                False          0.444672\n",
       "Name: Transported, dtype: float64"
      ]
     },
     "execution_count": 15,
     "metadata": {},
     "output_type": "execute_result"
    }
   ],
   "source": [
    "df.groupby(by='Terceira Cabin')[\"Transported\"].value_counts(normalize=True)"
   ]
  },
  {
   "cell_type": "code",
<<<<<<< HEAD
   "execution_count": 11,
=======
   "execution_count": 16,
>>>>>>> 952e7cc15416eecf33de1fb444b00bc44dca3446
   "id": "5e61466f",
   "metadata": {},
   "outputs": [
    {
     "data": {
      "text/plain": [
       "CryoSleep  Transported\n",
       "False      False          0.667199\n",
       "           True           0.332801\n",
       "True       True           0.815966\n",
       "           False          0.184034\n",
       "Name: Transported, dtype: float64"
      ]
     },
<<<<<<< HEAD
     "execution_count": 11,
=======
     "execution_count": 16,
>>>>>>> 952e7cc15416eecf33de1fb444b00bc44dca3446
     "metadata": {},
     "output_type": "execute_result"
    }
   ],
   "source": [
    "df.groupby(by='CryoSleep')[\"Transported\"].value_counts(normalize=True)"
   ]
  },
  {
   "cell_type": "code",
   "execution_count": null,
   "id": "92798166",
   "metadata": {},
   "outputs": [],
   "source": []
  },
  {
   "cell_type": "code",
<<<<<<< HEAD
   "execution_count": 12,
=======
   "execution_count": 17,
>>>>>>> 952e7cc15416eecf33de1fb444b00bc44dca3446
   "id": "d49a44d6",
   "metadata": {},
   "outputs": [
    {
     "data": {
      "text/plain": [
       "Destination  Transported\n",
       "0            True           0.617892\n",
       "             False          0.382108\n",
       "1            True           0.504687\n",
       "             False          0.495312\n",
       "2            False          0.532892\n",
       "             True           0.467108\n",
       "Name: Transported, dtype: float64"
      ]
     },
<<<<<<< HEAD
     "execution_count": 12,
=======
     "execution_count": 17,
>>>>>>> 952e7cc15416eecf33de1fb444b00bc44dca3446
     "metadata": {},
     "output_type": "execute_result"
    }
   ],
   "source": [
    "df.groupby(by='Destination')[\"Transported\"].value_counts(normalize=True)"
   ]
  },
  {
   "cell_type": "code",
<<<<<<< HEAD
   "execution_count": 13,
=======
   "execution_count": 18,
>>>>>>> 952e7cc15416eecf33de1fb444b00bc44dca3446
   "id": "445567ab",
   "metadata": {},
   "outputs": [
    {
     "data": {
      "text/html": [
       "<div>\n",
       "<style scoped>\n",
       "    .dataframe tbody tr th:only-of-type {\n",
       "        vertical-align: middle;\n",
       "    }\n",
       "\n",
       "    .dataframe tbody tr th {\n",
       "        vertical-align: top;\n",
       "    }\n",
       "\n",
       "    .dataframe thead th {\n",
       "        text-align: right;\n",
       "    }\n",
       "</style>\n",
       "<table border=\"1\" class=\"dataframe\">\n",
       "  <thead>\n",
       "    <tr style=\"text-align: right;\">\n",
       "      <th>Faixa_idade</th>\n",
       "      <th>(0, 5]</th>\n",
       "      <th>(5, 10]</th>\n",
       "      <th>(10, 15]</th>\n",
       "      <th>(15, 20]</th>\n",
       "      <th>(20, 25]</th>\n",
       "      <th>(25, 30]</th>\n",
       "      <th>(30, 35]</th>\n",
       "      <th>(35, 40]</th>\n",
       "      <th>(40, 45]</th>\n",
       "      <th>(45, 50]</th>\n",
       "      <th>(50, 55]</th>\n",
       "      <th>(55, 60]</th>\n",
       "      <th>(60, 65]</th>\n",
       "      <th>(65, 70]</th>\n",
       "      <th>(70, 75]</th>\n",
       "      <th>(75, 80]</th>\n",
       "    </tr>\n",
       "    <tr>\n",
       "      <th>Transported</th>\n",
       "      <th></th>\n",
       "      <th></th>\n",
       "      <th></th>\n",
       "      <th></th>\n",
       "      <th></th>\n",
       "      <th></th>\n",
       "      <th></th>\n",
       "      <th></th>\n",
       "      <th></th>\n",
       "      <th></th>\n",
       "      <th></th>\n",
       "      <th></th>\n",
       "      <th></th>\n",
       "      <th></th>\n",
       "      <th></th>\n",
       "      <th></th>\n",
       "    </tr>\n",
       "  </thead>\n",
       "  <tbody>\n",
       "    <tr>\n",
       "      <th>False</th>\n",
       "      <td>71</td>\n",
       "      <td>66</td>\n",
       "      <td>181</td>\n",
       "      <td>465</td>\n",
       "      <td>639</td>\n",
       "      <td>487</td>\n",
       "      <td>390</td>\n",
       "      <td>337</td>\n",
       "      <td>239</td>\n",
       "      <td>163</td>\n",
       "      <td>129</td>\n",
       "      <td>80</td>\n",
       "      <td>55</td>\n",
       "      <td>18</td>\n",
       "      <td>14</td>\n",
       "      <td>5</td>\n",
       "    </tr>\n",
       "    <tr>\n",
       "      <th>True</th>\n",
       "      <td>185</td>\n",
       "      <td>109</td>\n",
       "      <td>239</td>\n",
       "      <td>458</td>\n",
       "      <td>525</td>\n",
       "      <td>472</td>\n",
       "      <td>325</td>\n",
       "      <td>287</td>\n",
       "      <td>227</td>\n",
       "      <td>166</td>\n",
       "      <td>111</td>\n",
       "      <td>91</td>\n",
       "      <td>55</td>\n",
       "      <td>22</td>\n",
       "      <td>7</td>\n",
       "      <td>3</td>\n",
       "    </tr>\n",
       "  </tbody>\n",
       "</table>\n",
       "</div>"
      ],
      "text/plain": [
       "Faixa_idade  (0, 5]  (5, 10]  (10, 15]  (15, 20]  (20, 25]  (25, 30]  \\\n",
       "Transported                                                            \n",
       "False            71       66       181       465       639       487   \n",
       "True            185      109       239       458       525       472   \n",
       "\n",
       "Faixa_idade  (30, 35]  (35, 40]  (40, 45]  (45, 50]  (50, 55]  (55, 60]  \\\n",
       "Transported                                                               \n",
       "False             390       337       239       163       129        80   \n",
       "True              325       287       227       166       111        91   \n",
       "\n",
       "Faixa_idade  (60, 65]  (65, 70]  (70, 75]  (75, 80]  \n",
       "Transported                                          \n",
       "False              55        18        14         5  \n",
       "True               55        22         7         3  "
      ]
     },
<<<<<<< HEAD
     "execution_count": 13,
=======
     "execution_count": 18,
>>>>>>> 952e7cc15416eecf33de1fb444b00bc44dca3446
     "metadata": {},
     "output_type": "execute_result"
    }
   ],
   "source": [
    "df['Faixa_idade']=pd.cut(df['Age'],np.arange(0,85,5))\n",
    "oi=df['Faixa_idade'].value_counts(normalize=True)\n",
    "pd.crosstab(df['Transported'],df['Faixa_idade'])"
   ]
  },
  {
   "cell_type": "code",
<<<<<<< HEAD
   "execution_count": 14,
=======
   "execution_count": 19,
>>>>>>> 952e7cc15416eecf33de1fb444b00bc44dca3446
   "id": "8523a512",
   "metadata": {},
   "outputs": [
    {
     "data": {
      "text/plain": [
       "VIP    Transported\n",
       "False  True           0.505909\n",
       "       False          0.494091\n",
       "True   False          0.621951\n",
       "       True           0.378049\n",
       "Name: Transported, dtype: float64"
      ]
     },
<<<<<<< HEAD
     "execution_count": 14,
=======
     "execution_count": 19,
>>>>>>> 952e7cc15416eecf33de1fb444b00bc44dca3446
     "metadata": {},
     "output_type": "execute_result"
    }
   ],
   "source": [
    "df.groupby(by='VIP')[\"Transported\"].value_counts(normalize=True)"
   ]
  },
  {
   "cell_type": "code",
<<<<<<< HEAD
   "execution_count": 15,
=======
   "execution_count": null,
   "id": "e09a9813",
   "metadata": {},
   "outputs": [],
   "source": []
  },
  {
   "cell_type": "code",
   "execution_count": 20,
>>>>>>> 952e7cc15416eecf33de1fb444b00bc44dca3446
   "id": "5b619461",
   "metadata": {},
   "outputs": [
    {
     "data": {
<<<<<<< HEAD
      "image/png": "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",
=======
      "image/png": "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\n",
>>>>>>> 952e7cc15416eecf33de1fb444b00bc44dca3446
      "text/plain": [
       "<Figure size 432x288 with 1 Axes>"
      ]
     },
     "metadata": {
      "needs_background": "light"
     },
     "output_type": "display_data"
    },
    {
     "data": {
<<<<<<< HEAD
      "image/png": "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",
=======
      "image/png": "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\n",
>>>>>>> 952e7cc15416eecf33de1fb444b00bc44dca3446
      "text/plain": [
       "<Figure size 432x288 with 1 Axes>"
      ]
     },
     "metadata": {
      "needs_background": "light"
     },
     "output_type": "display_data"
    },
    {
     "data": {
<<<<<<< HEAD
      "image/png": "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",
=======
      "image/png": "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\n",
>>>>>>> 952e7cc15416eecf33de1fb444b00bc44dca3446
      "text/plain": [
       "<Figure size 432x288 with 1 Axes>"
      ]
     },
     "metadata": {
      "needs_background": "light"
     },
     "output_type": "display_data"
    },
    {
     "data": {
<<<<<<< HEAD
      "image/png": "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",
=======
      "image/png": "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\n",
>>>>>>> 952e7cc15416eecf33de1fb444b00bc44dca3446
      "text/plain": [
       "<Figure size 432x288 with 1 Axes>"
      ]
     },
     "metadata": {
      "needs_background": "light"
     },
     "output_type": "display_data"
    },
    {
     "data": {
<<<<<<< HEAD
      "image/png": "iVBORw0KGgoAAAANSUhEUgAAAYIAAAEWCAYAAABrDZDcAAAAOXRFWHRTb2Z0d2FyZQBNYXRwbG90bGliIHZlcnNpb24zLjQuMywgaHR0cHM6Ly9tYXRwbG90bGliLm9yZy/MnkTPAAAACXBIWXMAAAsTAAALEwEAmpwYAAAbEElEQVR4nO3de5xd873/8dfbJCSREJHoQUQijUtcE4P054fguARNOKiEUqpCW30oPT30csgpHk6r2tK6NNoUbYjTuhzVIHpx7XGYJKohLlOKafhJQtwjGfn8/lg77Exm9uyZzFprZq/38/GYR/a6ZO3P2B77nfW9LUUEZmZWXOvlXYCZmeXLQWBmVnAOAjOzgnMQmJkVnIPAzKzgHARmZgXXK+8COmrw4MExfPjwvMswM+tR5s6duyQihrR2rMcFwfDhw2loaMi7DDOzHkXSi20dc9OQmVnBOQjMzArOQWBmVnAOAjOzgnMQmJkVXGpBIGmGpNckLWjjuCRdIalR0hOSxqZVi5mZtS3NO4LrgEMrHJ8AjCr9TAWuTrEWMzNrQ2pBEBEPAK9XOGUScEMkHgEGSto8rXrMzKx1eU4o2xJ4uWy7qbTvlZYnSppKctfAsGHDMimu7N0zfr+s1fqDifz59Vz+7LKSZ2dxa59yq/9lImJ6RNRHRP2QIa3OkDYzs07KMwiagK3KtocCi3KqxcyssPIMgjuAk0qjh8YBb0bEWs1CZmaWrtT6CCTdBIwHBktqAi4AegNExDXAbOAwoBF4DzglrVqswNzMbNau1IIgIqa0czyAL6f1/mbWwznEM+OZxWZmBdfjnkeQOf+rxMxqnO8IzMwKzkFgZlZwDgIzs4JzEJiZFZyDwMys4BwEZmYF5yAwMys4B4GZWcE5CMzMCs5BYGZWcA4CM7OCcxCYmRWcg8DMrOAcBGZmBecgMDMrOAeBmVnBOQjMzArOQWBmVnAOAjOzgnMQmJkVnIPAzKzgHARmZgXnIDAzKzgHgZlZwTkIzMwKzkFgZlZwDgIzs4JzEJiZFZyDwMys4BwEZmYFl2oQSDpU0jOSGiWd18rxjSX9VtJfJD0p6ZQ06zEzs7WlFgSS6oArgQnAaGCKpNEtTvsy8FRE7AqMBy6TtH5aNZmZ2drSvCPYE2iMiOcjYgUwC5jU4pwABkgS0B94HWhOsSYzM2shzSDYEni5bLuptK/cT4AdgEXAX4GzImJVijWZmVkLaQaBWtkXLbYPAR4HtgB2A34iaaO1LiRNldQgqWHx4sVdXaeZWaGlGQRNwFZl20NJ/uVf7hTg1kg0Ai8A27e8UERMj4j6iKgfMmRIagWbmRVRmkHwGDBK0ohSB/Bk4I4W57wEHAgg6RPAdsDzKdZkZmYt9ErrwhHRLOlM4B6gDpgREU9KOqN0/BrgQuA6SX8laUo6NyKWpFWTmZmtrd0gkLQZsDdJO/77wAKgoZpO3YiYDcxuse+asteLgIM7WLOZmXWhNoNA0v7AecAgYD7wGtAHOBIYKek3wGUR8VYGdZqZWUoq3REcBpwWES+1PCCpF3AEcBBwS0q1mZlZBtoMgoj4eoVjzcDtaRRkZmbZqnrUkKRxkv4o6WFJR6VZlJmZZadSH8E/RcSrZbvOASaSjO75M3BbyrWZmVkGKvURXCNpLnBpRCwHlgHHA6sAdxCbmdWINpuGIuJIkuUf7pR0IvBVkhDoRzJyyMzMakDFPoKI+C3JekADgVuBZyLiiojwgj9mZjWizSCQNFHSQ8AfSSaRTQaOknSTpJFZFWhmZumq1EdwEfApoC8wOyL2BM6RNAq4mCQYzMysh6sUBG+SfNn3JZlVDEBEPIdDwMysZlTqIziKpGO4mWS0kJmZ1aBKM4uXAD8GkLSJpF3Kz4+IeemXZ2Zmaatm9dHvkDxA5m98/ISxAA5IsS4zM8tINc8jOA4YWXoAvZmZ1Zhq1hpaQDKPwMzMalA1dwSXAPMlLQA+WL0zIiamVpWZmWWmmiC4Hvgu8FeSJSbMzKyGVBMESyLiitQrMTOzXFQTBHMlXQLcwZpNQx4+amZWA6oJgjGlP8eV7fPwUTOzGtFuEETE/lkUYmZm+Wh3+KikT0j6uaS7StujJZ2afmlmZpaFauYRXAfcA2xR2n6W5CE1ZmZWA6oJgsER8V+Uho5GRDPwYapVmZlZZqoJgnclbUppnSFJ40iWqDYzsxpQzaihc0iGjo6U9DAwBDgm1arMzCwz1YwamidpP2A7QCTPLV6ZemVmZpaJSs8s/r+rX0dEc0Q8GRELVoeApI0k7ZRFkWZmlp5KdwRHS/oecDcwF1gM9AE+CewPbA18LfUKzcwsVZWeUHa2pE1I+gOOBTYH3gcWAj+NiIeyKdHMzNJUsY8gIt4Ari39mJlZDapm+GinSTpU0jOSGiWd18Y54yU9LulJSfenWY+Zma2tmuGjnSKpDrgSOAhoAh6TdEdEPFV2zkDgKuDQiHhJ0mZp1WNmZq1L845gT6AxIp4vPe94FjCpxTnHA7dGxEsAEfFaivWYmVkrqll07lhJA0qvvy3pVkljq7j2lsDLZdtNpX3ltgU2kXSfpLmSTqq2cDMz6xrV3BH8e0S8XZpXcAjJoyuvruLvqZV90WK7F7A7cHjp2v8uadu1LiRNldQgqWHx4sVVvLWZmVWrmiBYvcDc4cDVEfHfwPpV/L0mYKuy7aHAolbOuTsi3o2IJcADwK4tLxQR0yOiPiLqhwwZUsVbm5lZtaoJgn9I+inwGWC2pA2q/HuPAaMkjZC0PjCZZM2icv8N7COpl6R+wF4k8xTMzCwj1Ywa+gxwKPD9iFgmaXPg6+39pYholnQmybMM6oAZEfGkpDNKx6+JiIWS7gaeIFnm+mcRsaCzv4yZmXWcIlo227dxYjK0s8/q7dUjfbJWX18fDQ0N2b2hWuvqqCFVfv49lj+/nsufXZeSNDci6ls7Vs2ooYmSngNeAO4v/XlX15ZoZmZ5qaat/0JgHPBsRIwA/hl4ONWqzMwsM9UEwcqIWAqsJ2m9iPgTsFu6ZZmZWVaq6SxeJqk/ydDOmZJeA5rTLcvMzLJSzR3BJOA94GySZxP8Dfh0mkWZmVl2qrkjmAr8OiKaSGYVm5lZDanmjmAj4B5JD0r6sqRPpF2UmZllp90giIj/iIgdgS8DWwD3S/p96pWZmVkmOrIM9WvAq8BSwM8NMDOrEdVMKPuipPuAPwCDgdMiYpe0CzMzs2xU01m8NfDViHg85VrMzCwHbQaBpI0i4i3ge6XtQeXHI+L1lGszM7MMVLojuBE4AphL8kCZ8hWgAtgmxbrMzCwjbQZBRBxR+nNEduWYmVnWquks/kM1+8zMrGeq1EfQB+gHDJa0CR83DW1EMp/AzMxqQKU+gtOBr5J86c/l4yB4C7gy3bLMzCwrlfoILgcul/SViPhxhjWZmVmG2p1HEBE/lrQTMJo1H1V5Q5qFmZlZNtoNAkkXAONJgmA2MAF4CHAQmJnVgGrWGjoGOBB4NSJOAXYFNki1KjMzy0w1QfB+RKwCmiVtRLL4nCeTmZnViGrWGmqQNBC4lmT00DvAo2kWZWZm2amms/hLpZfXSLob2Cginki3LDMzy0qlCWVjKx2LiHnplGRmZlmqdEdwWYVjARzQxbWYmVkOKk0o2z/LQszMLB/VLDrXT9K3JU0vbY+SdET6pZmZWRaqGT76C2AF8H9K203ARalVZGZmmaomCEZGxPeAlQAR8T5rPqTGzMx6sGqCYIWkviQdxEgaCXyQalVmZpaZaiaUXQDcDWwlaSawN3BymkWZmVl2qplQdq+kecA4kiahs4AN0y7MzMyyUbFpSNKnJB0D1EXE74CXgCtIVh9tl6RDJT0jqVHSeRXO20PSh6X3MjOzDLUZBJIuBWYARwO/Ky1HfS/wv8Co9i4sqY7kSWYTSJawniJpdBvnfRe4pzO/gJmZrZtKTUOHA2MiYnnpmcWLgF0i4rkqr70n0BgRzwNImgVMAp5qcd5XgFuAPTpUuZmZdYlKTUPvR8RygIh4A3imAyEAsCXwctl2U2nfRyRtCRwFXNOB65qZWReqdEcwUtIdZdvDy7cjYmI7125trkG02P4RcG5EfCi1PTVB0lRgKsCwYcPaeVszM+uISkEwqcV2pUXoWtMEbFW2PZSkealcPTCrFAKDgcMkNUfE7eUnRcR0YDpAfX19yzAxM7N1UGnRufvX8dqPAaMkjQD+AUwGjm/xHiNWv5Z0HXBnyxAwM7N0VTOhrFMiolnSmSSjgeqAGRHxpKQzSsfdL2Bm1g2kFgQAETEbmN1iX6sBEBEnp1mLmZm1rpq1hszMrIZ1KghKo3jMzKwGdPaOwMtQm5nViE4FQUT8tKsLMTOzfLTbWSzpnErHI+IHXVeOmZllrZpRQ/Uk6wCtnlX8aeAB1lw+wszMeqhqgmAwMDYi3gaQNA34dUR8Ic3CzMwsG9X0EQwjeXj9aiuA4alUY2ZmmavmjuCXwKOSbiNZNO4o4IZUqzIzs8xU86jKiyXdBexT2nVKRMxPtywzM8tKtcNH+wFvRcTlQFNpITkzM6sB7QZB6RGV5wLfKO3qDfwqzaLMzCw71dwRHAVMBN4FiIhFwIA0izIzs+xUEwQrIiIoPV1M0obplmRmZlmqJgj+S9JPgYGSTgN+D1ybbllmZpaViqOGlDxD8mZge+AtYDvg/Ii4N4PazMwsAxWDICJC0u0RsTvgL38zsxpUTdPQI5L2SL0SMzPLRTUzi/cHzpD0d5KRQyK5WdglzcLMzCwbbQaBpGER8RIwIcN6zMwsY5XuCG4nWXX0RUm3RMTRGdVkZmYZqtRHUP44ym3SLsTMzPJRKQiijddmZlZDKjUN7SrpLZI7g76l1/BxZ/FGqVdnZmapazMIIqIuy0LMzCwf1Qwf7fZWrlxJU1MTy5cv7/qL33VX119zXaxaRZ/GRoZOm0bvN97IuxozqwE1EQRNTU0MGDCA4cOHk6yK0YXefbdrr7eOAlg6aBBN06Yx4qyz8i7HzGpAtQ+m6daWL1/Opptu2vUh0A0J2LRXL5Z/8pN5l2JmNaImggAoRAisJoD1auajM7Oc+dukHeNPP517/ud/1tj3oxtv5LCzzmKn444D4L65c9l4/HjGnHACOxx7LP9xrVfpNrOew0HQjimHHMKsOXPW2Dfr3nv5xsknr7FvnzFjmD9zJg033MCv7rqLuQsXZlilmVnnOQjaccwBB3DnQw/xwYoVAPx90SIWLV7M0M02a/X8Dfv2Zfftt+dvTU1Zlmlm1mmpBoGkQyU9I6lR0nmtHD9B0hOlnz9L2jXNejpj04ED2XPHHbm71Dw0a84cjjvooDb7JJYuW8YjCxaw4zZelcPMeobUgkBSHXAlyeqlo4Epkka3OO0FYL/SktYXAtPTqmddTDn44I+ah2bNmcOUQw5Z65wH589nzAkncPBXvsJ5n/scO44cmXWZZmadkuY8gj2Bxoh4HkDSLGAS8NTqEyLiz2XnPwIMTbGeTjty/HjO+dGPmPf007z/wQeM3X57/r5o0Rrn7DNmDHf+8Ic5VWhm1nlpNg1tCbxctt1U2teWU4FuNo030b9fP8bvvjuf/853Wr0bMDPrydIMgtYa0VtdxVTS/iRBcG4bx6dKapDUsHjx4i4ssXpTDj6Yvzz3HJMPPjiX9zczS0uaTUNNwFZl20OBRS1PkrQL8DNgQkQsbe1CETGdUv9BfX19LktiH7X//sRjj320PXyLLVhw880AjN99d8bvvnseZZmZrbM07wgeA0ZJGiFpfWAycEf5CZKGAbcCJ0bEsynWYmZmbUjtjiAimiWdCdwD1AEzIuJJSWeUjl8DnA9sClxVGo7ZHBH1adVkZmZrS3X10YiYDcxuse+astdfAL6QZg1mZlaZZxabmRWcg8DMrOAcBGZmBVcTTyjrDur22oudy5aVuP3732f4Flu0em7/ffflnQceyKo0M7OKajMIuvohNWXzB9rSd4MNePzGG7v2fc3MMlCbQdANvPPee0z62td44+23WdnczEVf/CKT9ttvjXNeWbKE4775Td565x2aP/yQq887j33GjGHOI49wwfTpfLBiBSOHDuUX559P/379cvpNzKzWOQi6yPsffMBuxx8PwIgtt+TXl1zCbZdeykb9+7Nk2TLGnXIKE/fdd43lq2+8+24OGTeOb33+83z44Ye8t3w5S5Yt46IZM/j9lVeyYd++fPf66/nBzJmcf9ppef1qZlbjHARdpGXT0MrmZr551VU8MH8+60n8Y/Fi/t/SpfzT4MEfnbPH6NF8/sILWdnczJH77cdu223H/Q8+yFPPP8/ep54KwIrmZj61886Z/z5mVhwOgpTMvOsuFr/xBnN/+Ut69+rF8IkTWV56ytlq+44dywPTp/O7hx7ixAsu4OsnnsgmAwZw0F57cdPFF+dUuZkVjYePpuTNd95hs0GD6N2rF39qaODFV15Z65wXX3mFzTbZhNOOOopTJ05k3tNPM27nnXn4L3+h8eVkBe/3li/n2RdfzLp8MysQ3xGk5IQJE/j0OedQf9JJ7Lbttmw/fPha59w3dy6Xlu4Y+vfrxw3TpjFkk0247oILmPKtb/HBypUAXHTGGWy79dYZ/wZmVhSKyGVV506rr6+PhoaGNfYtXLiQHXbYIZ03bPFe3cXCJUvYYcKEdb9QD/v8O6yrhxJ3N7X8+fmz61KS5ra1qKebhszMCs5BYGZWcA4CM7OCcxCYmRWcg8DMrOAcBGZmBed5BF1g6bJlHPilLwHw6tKl1NXVMWTgQAAevf561u/dO8fqzMwqq9Eg6MLxx/VAQ+VlqDcdOPCjdYamTZ9O/759+dcTT/zoeHNzM7161eh/ajPr8fztlJKTp01j0MYbM/+ZZxi73XYM2HDDNQJip+OO484f/pDhW2zBr2bP5oqbb2bFypXstdNOXHXuudTV1eX8G5hZUbiPIEXPvvQSv7/ySi47++w2z1n4wgvcfO+9PPzzn/P4jTdSt956zLz77gyrNLOi8x1Bio498MB2/2X/h8ceY+7TT7PHSScByXMNNhs0KIvyzMwAB0GqNuzb96PXverqWFW2tsjqJakjgs8dfjiXnHlm5vWZmYGbhjIzfPPNmff00wDMe/ppXli0CIAD99iD3/zxj7z2+usAvP7mm60uWW1mlhbfEWTk6AMO4IbZs9nt+OPZY/Roth02DIDR22zDRWecwcFnnsmqCHr36sWV//ZvbL355jlXbGZF4WWo2+NlqHs2L2Xcc/mz61JehtrMzNrkIDAzKzgHgZlZwdVMEPS0vo51EQCrVuVdhpnViJoIgj59+rB06dJChEEAS5ub6dPYmHcpZlYjamL46NChQ2lqamLx4sVdf/ElS7r+muti1Sr6NDYydNq0vCsxsxqRahBIOhS4HKgDfhYR/9niuErHDwPeA06OiHkdfZ/evXszYsSILqi4FaNHp3NdM7NuIrWmIUl1wJXABGA0MEVSy2/VCcCo0s9U4Oq06jEzs9al2UewJ9AYEc9HxApgFjCpxTmTgBsi8QgwUJKn1JqZZSjNINgSeLlsu6m0r6PnmJlZitLsI2htfnjLYT3VnIOkqSRNRwDvSHpmHWvrzgYD2fVQ1/o0/uz58+u5av2z27qtA2kGQROwVdn2UGBRJ84hIqYD07u6wO5IUkNb64FY9+fPr+cq8meXZtPQY8AoSSMkrQ9MBu5occ4dwElKjAPejAivwWxmlqHU7ggiolnSmcA9JMNHZ0TEk5LOKB2/BphNMnS0kWT46Clp1WNmZq3rcctQ1zpJU0tNYdYD+fPruYr82TkIzMwKribWGjIzs85zEJiZFZyDwGwdlEa8fVbS+aXtYZL2zLsus45wH0E3IKkf8DVgWEScJmkUsF1E3JlzadYOSVcDq4ADImIHSZsAcyJij5xLszZI+i2tTFxdLSImZlhOt1ATy1DXgF8Ac4FPlbabgF8DDoLub6+IGCtpPkBEvFGaN2Pd1/fzLqC7cRB0DyMj4jhJUwAi4v3SEt3W/a0srbQbAJKGkNwhWDcVEffnXUN34yDoHlZI6svHXyYjgQ/yLcmqdAVwG7CZpIuBY4Bv51uSVSLpr7TeNCRgVUTsmnFJuXMfQTcg6SCSL4/RwBxgb5KH9NyXZ11WHUnbAweSfJH8ISIW5lySVSCptcXXRLLW2Tcj4rCMS8qdg6CbkLQpMI7kf8hHIqKbPSPTWiNpWGv7I+KlrGuxjpO0G3A88BngBeCWiPhJrkXlwEHQDUjaG3g8It6V9FlgLHB5RLyYc2nWjrJmBgF9gBHAMxGxY66FWZskbUuyCOYUYClwM/CvEdHmMs21zkHQDUh6AtgV2AW4AZgB/EtE7JdrYdZhksYCp0fE6XnXYq2TtAp4EDg1IhpL+56PiG3yrSw/nlDWPTRHksiTgCsi4nJgQM41WSdExDzAcwi6t6OBV4E/SbpW0ur+ncLyqKHu4W1J3wA+C+xbGo7YO+earAqSzinbXI+kWW9xTuVYFSLiNuA2SRsCRwJnA58oTQ68LSLm5FlfHnxH0D0cRzJc9NSIeJXkuc2X5luSVWlA2c8GwO9I7uysm4uIdyNiZkQcQTJi6HHgvHyryof7CMw6qXTn9p8R8fW8azFbF24aypGkt2l7YktExEYZl2RVktSr9BS+sXnXYrauHAQ5igh3CPdcj5L0Bzwu6Q6StaHeXX0wIm7NqzCzjnIQdCOSNiMZiw54UlIPMYhkLPoBfDyfIAAHgfUYDoJuQNJE4DJgC+A1YGtgIeBJSd3XZqURQwv4OABWc8eb9SgeNdQ9XEiyvMSzETGCZN2ah/MtydpRB/Qv/Qwoe736x6zH8B1B97AyIpZKWk/SehHxJ0nfzbsoq+iViPhO3kWYdQUHQfewTFJ/4AFgpqTXgOaca7LKCj0T1WqL5xHkSNKwiHipNMPxfZKmuhOAjYGZEbE01wKtTZIGRcTreddh1hUcBDmSNC8ixpZe3xIRR+ddk5kVjzuL81XevFDYlQ/NLF8OgnxFG6/NzDLjpqEcSfqQZDaqgL7Ae6sP4SUmzCwjDgIzs4Jz05CZWcE5CMzMCs5BYNYBku6TdEiLfV+VNFvSgtL2eElvSpovaaGkC/Kp1qw6DgKzjrkJmNxi32Tgkhb7HoyIMUA98FlJu2dRnFlnOAjMOuY3wBGSNgCQNJxk1dim1k6OiHeBucDIrAo06ygHgVkHlJb9eBQ4tLRrMnAzbcwDkbQpycqyT2ZSoFknOAjMOq68eWhyabulfSTNB+aQPNfYQWDdllcfNeu424EflJ5X3Dci5pWaiMo9GBFHZF6ZWSf4jsCsgyLiHeA+YAat3w2Y9SgOArPOuQnYFZiVdyFm68pLTJiZFZzvCMzMCs5BYGZWcA4CM7OCcxCYmRWcg8DMrOAcBGZmBecgMDMrOAeBmVnB/X/PspdAFL7hjwAAAABJRU5ErkJggg==",
=======
      "image/png": "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\n",
>>>>>>> 952e7cc15416eecf33de1fb444b00bc44dca3446
      "text/plain": [
       "<Figure size 432x288 with 1 Axes>"
      ]
     },
     "metadata": {
      "needs_background": "light"
     },
     "output_type": "display_data"
    }
   ],
   "source": [
    "lista=[\"HomePlanet\",'CryoSleep','Destination','Faixa_idade','VIP']\n",
    "cores = ['red','blue','green','darkgreen','yellow','purple','pink','orange']\n",
    "n=0\n",
    "#seria bom fazer uma figura\n",
    "for i in lista:\n",
    "    Transported_x_y=pd.crosstab(df[i], df['Transported'], normalize='index',margins=True).round(4)\n",
    "    Transported_x_y.plot.bar(color=cores, stacked=True)\n",
    "    plt.ylabel(\"Freq. Relativas (em%)\")\n",
    "    plt.xlabel(i)\n",
    "plt.show()"
   ]
  },
  {
   "cell_type": "markdown",
   "id": "f4abd9fb",
   "metadata": {},
   "source": [
    "# Análise das informações:\n"
   ]
  },
  {
   "cell_type": "markdown",
   "id": "7dc2badb",
   "metadata": {},
   "source": [
    "# Manipulando dados"
   ]
  },
  {
   "cell_type": "code",
<<<<<<< HEAD
   "execution_count": 16,
=======
   "execution_count": 21,
>>>>>>> 952e7cc15416eecf33de1fb444b00bc44dca3446
   "id": "8c7bbf93",
   "metadata": {},
   "outputs": [
    {
<<<<<<< HEAD
     "ename": "NameError",
     "evalue": "name 'df_sliced' is not defined",
     "output_type": "error",
     "traceback": [
      "\u001b[0;31m---------------------------------------------------------------------------\u001b[0m",
      "\u001b[0;31mNameError\u001b[0m                                 Traceback (most recent call last)",
      "\u001b[0;32m/var/folders/fz/gd29gzpx1gq7t8g8q8ckr7ch0000gn/T/ipykernel_21920/2389991132.py\u001b[0m in \u001b[0;36m<module>\u001b[0;34m\u001b[0m\n\u001b[0;32m----> 1\u001b[0;31m \u001b[0mBINS\u001b[0m\u001b[0;34m=\u001b[0m \u001b[0mint\u001b[0m\u001b[0;34m(\u001b[0m\u001b[0mnp\u001b[0m\u001b[0;34m.\u001b[0m\u001b[0msqrt\u001b[0m\u001b[0;34m(\u001b[0m\u001b[0mlen\u001b[0m\u001b[0;34m(\u001b[0m\u001b[0mdf_sliced\u001b[0m\u001b[0;34m.\u001b[0m\u001b[0mindex\u001b[0m\u001b[0;34m)\u001b[0m\u001b[0;34m)\u001b[0m\u001b[0;34m)\u001b[0m\u001b[0;34m\u001b[0m\u001b[0;34m\u001b[0m\u001b[0m\n\u001b[0m\u001b[1;32m      2\u001b[0m \u001b[0mdf\u001b[0m\u001b[0;34m.\u001b[0m\u001b[0mhist\u001b[0m\u001b[0;34m(\u001b[0m\u001b[0mbins\u001b[0m\u001b[0;34m=\u001b[0m\u001b[0mBINS\u001b[0m\u001b[0;34m,\u001b[0m\u001b[0mfigsize\u001b[0m\u001b[0;34m=\u001b[0m\u001b[0;34m(\u001b[0m\u001b[0;36m15\u001b[0m\u001b[0;34m,\u001b[0m\u001b[0;36m10\u001b[0m\u001b[0;34m)\u001b[0m\u001b[0;34m)\u001b[0m\u001b[0;34m;\u001b[0m\u001b[0;34m\u001b[0m\u001b[0;34m\u001b[0m\u001b[0m\n",
      "\u001b[0;31mNameError\u001b[0m: name 'df_sliced' is not defined"
     ]
=======
     "data": {
      "image/png": "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\n",
      "text/plain": [
       "<Figure size 1080x720 with 9 Axes>"
      ]
     },
     "metadata": {
      "needs_background": "light"
     },
     "output_type": "display_data"
>>>>>>> 952e7cc15416eecf33de1fb444b00bc44dca3446
    }
   ],
   "source": [
    "BINS= int(np.sqrt(len(df.index)))\n",
    "df.hist(bins=BINS,figsize=(15,10));"
   ]
  },
  {
   "cell_type": "markdown",
   "id": "37e81b77",
   "metadata": {},
   "source": [
    "# Separando Treino e Teste"
   ]
  },
  {
   "cell_type": "code",
<<<<<<< HEAD
   "execution_count": null,
=======
   "execution_count": 22,
   "id": "2e0dadc2",
   "metadata": {},
   "outputs": [],
   "source": [
    "del df[\"Faixa_idade\"]"
   ]
  },
  {
   "cell_type": "code",
   "execution_count": 23,
>>>>>>> 952e7cc15416eecf33de1fb444b00bc44dca3446
   "id": "eb34992c",
   "metadata": {},
   "outputs": [],
   "source": [
    "ypassanger=df.loc[:,[\"Transported\"]]\n",
    "Xpassanger=df.drop([\"Transported\"],axis=1)"
   ]
  },
  {
   "cell_type": "code",
   "execution_count": null,
<<<<<<< HEAD
=======
   "id": "d26546ad",
   "metadata": {},
   "outputs": [],
   "source": []
  },
  {
   "cell_type": "code",
   "execution_count": 24,
>>>>>>> 952e7cc15416eecf33de1fb444b00bc44dca3446
   "id": "c1823250",
   "metadata": {},
   "outputs": [
    {
     "data": {
      "text/html": [
       "<div>\n",
       "<style scoped>\n",
       "    .dataframe tbody tr th:only-of-type {\n",
       "        vertical-align: middle;\n",
       "    }\n",
       "\n",
       "    .dataframe tbody tr th {\n",
       "        vertical-align: top;\n",
       "    }\n",
       "\n",
       "    .dataframe thead th {\n",
       "        text-align: right;\n",
       "    }\n",
       "</style>\n",
       "<table border=\"1\" class=\"dataframe\">\n",
       "  <thead>\n",
       "    <tr style=\"text-align: right;\">\n",
       "      <th></th>\n",
       "      <th>HomePlanet</th>\n",
       "      <th>CryoSleep</th>\n",
       "      <th>Destination</th>\n",
       "      <th>Age</th>\n",
       "      <th>VIP</th>\n",
       "      <th>RoomService</th>\n",
       "      <th>FoodCourt</th>\n",
       "      <th>ShoppingMall</th>\n",
       "      <th>Spa</th>\n",
       "      <th>VRDeck</th>\n",
       "      <th>Valor Bruto</th>\n",
       "      <th>Primeira Cabin</th>\n",
       "      <th>Terceira Cabin</th>\n",
       "    </tr>\n",
       "  </thead>\n",
       "  <tbody>\n",
       "    <tr>\n",
       "      <th>7726</th>\n",
       "      <td>0</td>\n",
       "      <td>False</td>\n",
       "      <td>2</td>\n",
       "      <td>27.0</td>\n",
       "      <td>False</td>\n",
       "      <td>1007.0</td>\n",
       "      <td>0.0</td>\n",
       "      <td>0.0</td>\n",
       "      <td>9.0</td>\n",
       "      <td>0.0</td>\n",
       "      <td>1016.0</td>\n",
       "      <td>6</td>\n",
       "      <td>0</td>\n",
       "    </tr>\n",
       "    <tr>\n",
       "      <th>6296</th>\n",
       "      <td>1</td>\n",
       "      <td>True</td>\n",
       "      <td>0</td>\n",
       "      <td>17.0</td>\n",
       "      <td>False</td>\n",
       "      <td>0.0</td>\n",
       "      <td>0.0</td>\n",
       "      <td>0.0</td>\n",
       "      <td>0.0</td>\n",
       "      <td>0.0</td>\n",
       "      <td>0.0</td>\n",
       "      <td>1</td>\n",
       "      <td>0</td>\n",
       "    </tr>\n",
       "    <tr>\n",
       "      <th>3841</th>\n",
       "      <td>0</td>\n",
       "      <td>False</td>\n",
       "      <td>2</td>\n",
       "      <td>25.0</td>\n",
       "      <td>False</td>\n",
       "      <td>0.0</td>\n",
       "      <td>38.0</td>\n",
       "      <td>0.0</td>\n",
       "      <td>847.0</td>\n",
       "      <td>112.0</td>\n",
       "      <td>997.0</td>\n",
       "      <td>4</td>\n",
       "      <td>0</td>\n",
       "    </tr>\n",
       "    <tr>\n",
       "      <th>3003</th>\n",
       "      <td>0</td>\n",
       "      <td>False</td>\n",
       "      <td>2</td>\n",
       "      <td>21.0</td>\n",
       "      <td>False</td>\n",
       "      <td>0.0</td>\n",
       "      <td>0.0</td>\n",
       "      <td>687.0</td>\n",
       "      <td>46.0</td>\n",
       "      <td>20.0</td>\n",
       "      <td>753.0</td>\n",
       "      <td>6</td>\n",
       "      <td>0</td>\n",
       "    </tr>\n",
       "    <tr>\n",
       "      <th>636</th>\n",
       "      <td>1</td>\n",
       "      <td>False</td>\n",
       "      <td>2</td>\n",
       "      <td>36.0</td>\n",
       "      <td>False</td>\n",
       "      <td>0.0</td>\n",
       "      <td>0.0</td>\n",
       "      <td>0.0</td>\n",
       "      <td>4507.0</td>\n",
       "      <td>5689.0</td>\n",
       "      <td>10196.0</td>\n",
       "      <td>4</td>\n",
       "      <td>1</td>\n",
       "    </tr>\n",
       "  </tbody>\n",
       "</table>\n",
       "</div>"
      ],
      "text/plain": [
       "     HomePlanet CryoSleep Destination   Age    VIP  RoomService  FoodCourt  \\\n",
       "7726          0     False           2  27.0  False       1007.0        0.0   \n",
       "6296          1      True           0  17.0  False          0.0        0.0   \n",
       "3841          0     False           2  25.0  False          0.0       38.0   \n",
       "3003          0     False           2  21.0  False          0.0        0.0   \n",
       "636           1     False           2  36.0  False          0.0        0.0   \n",
       "\n",
       "      ShoppingMall     Spa  VRDeck  Valor Bruto Primeira Cabin Terceira Cabin  \n",
       "7726           0.0     9.0     0.0       1016.0              6              0  \n",
       "6296           0.0     0.0     0.0          0.0              1              0  \n",
       "3841           0.0   847.0   112.0        997.0              4              0  \n",
       "3003         687.0    46.0    20.0        753.0              6              0  \n",
       "636            0.0  4507.0  5689.0      10196.0              4              1  "
      ]
     },
     "execution_count": 24,
     "metadata": {},
     "output_type": "execute_result"
    }
   ],
   "source": [
    "X_trainpassanger, X_testpassanger, y_trainpassanger, y_testpassanger = train_test_split(\n",
    "    Xpassanger,\n",
    "    ypassanger,                  \n",
    "    test_size=0.3,\n",
    "    random_state=RAND_SEED,\n",
    ")\n",
    "X_testpassanger.head()\n",
    "\n",
    "\n",
    "#from sklearn.preprocessing import StandardScaler\n",
    "#sc = StandardScaler()\n",
    "#X = sc.fit_transform(X_trainpassanger,y_trainpassanger)\n",
    "#y= X_testpassanger"
   ]
  },
  {
   "cell_type": "code",
<<<<<<< HEAD
   "execution_count": null,
   "id": "e52849b5",
=======
   "execution_count": 25,
   "id": "26492cc2",
>>>>>>> 952e7cc15416eecf33de1fb444b00bc44dca3446
   "metadata": {},
   "outputs": [
    {
     "data": {
      "text/html": [
       "<div>\n",
       "<style scoped>\n",
       "    .dataframe tbody tr th:only-of-type {\n",
       "        vertical-align: middle;\n",
       "    }\n",
       "\n",
       "    .dataframe tbody tr th {\n",
       "        vertical-align: top;\n",
       "    }\n",
       "\n",
       "    .dataframe thead th {\n",
       "        text-align: right;\n",
       "    }\n",
       "</style>\n",
       "<table border=\"1\" class=\"dataframe\">\n",
       "  <thead>\n",
       "    <tr style=\"text-align: right;\">\n",
       "      <th></th>\n",
       "      <th>Transported</th>\n",
       "    </tr>\n",
       "  </thead>\n",
       "  <tbody>\n",
       "    <tr>\n",
       "      <th>7726</th>\n",
       "      <td>False</td>\n",
       "    </tr>\n",
       "    <tr>\n",
       "      <th>6296</th>\n",
       "      <td>True</td>\n",
       "    </tr>\n",
       "    <tr>\n",
       "      <th>3841</th>\n",
       "      <td>False</td>\n",
       "    </tr>\n",
       "    <tr>\n",
       "      <th>3003</th>\n",
       "      <td>False</td>\n",
       "    </tr>\n",
       "    <tr>\n",
       "      <th>636</th>\n",
       "      <td>False</td>\n",
       "    </tr>\n",
       "  </tbody>\n",
       "</table>\n",
       "</div>"
      ],
      "text/plain": [
       "      Transported\n",
       "7726        False\n",
       "6296         True\n",
       "3841        False\n",
       "3003        False\n",
       "636         False"
      ]
     },
     "execution_count": 25,
     "metadata": {},
     "output_type": "execute_result"
    }
   ],
   "source": [
    "y_testpassanger.head()"
   ]
  },
  {
   "cell_type": "code",
   "execution_count": 26,
   "id": "8bbe6304",
   "metadata": {},
   "outputs": [],
   "source": [
    "from sklearn.tree import DecisionTreeClassifier\n",
    "from sklearn.model_selection import cross_val_score\n",
    "dtc=DecisionTreeClassifier()\n",
    "y_trainpassanger=y_trainpassanger.astype('int')\n",
    "dtc.fit(X_trainpassanger, y_trainpassanger)\n",
    "resultado=dtc.predict(X_testpassanger)\n",
    "\n"
   ]
  },
  {
   "cell_type": "code",
   "execution_count": 27,
   "id": "157a7883",
   "metadata": {},
   "outputs": [
    {
     "name": "stdout",
     "output_type": "stream",
     "text": [
      "              precision    recall  f1-score   support\n",
      "\n",
      "       False       0.75      0.74      0.74      1020\n",
      "        True       0.74      0.75      0.75      1010\n",
      "\n",
      "    accuracy                           0.74      2030\n",
      "   macro avg       0.74      0.74      0.74      2030\n",
      "weighted avg       0.74      0.74      0.74      2030\n",
      "\n"
     ]
    }
   ],
   "source": [
    "from sklearn.metrics import classification_report\n",
    "print(classification_report(y_testpassanger, resultado))"
   ]
  },
  {
   "cell_type": "code",
   "execution_count": 28,
   "id": "ae3ea21d",
   "metadata": {},
   "outputs": [],
   "source": [
    "def display_scores(scores):\n",
    "    print('Scores:', scores.round(decimals=2))\n",
    "    print('Mean:', scores.mean())\n",
    "    print('Standard deviation:', scores.std())"
   ]
  },
  {
   "cell_type": "code",
   "execution_count": 29,
   "id": "9516492b",
   "metadata": {},
   "outputs": [
    {
     "name": "stdout",
     "output_type": "stream",
     "text": [
      "[0.77637131 0.70253165 0.68987342 0.74683544 0.74418605 0.71035941\n",
      " 0.72093023 0.74630021 0.73995772 0.75264271]\n",
      "Scores: [0.78 0.7  0.69 0.75 0.74 0.71 0.72 0.75 0.74 0.75]\n",
      "Mean: 0.7329988135699057\n",
      "Standard deviation: 0.025010512243079732\n"
     ]
    }
   ],
   "source": [
    "tree_scores = cross_val_score(\n",
    "    dtc,\n",
    "    X_trainpassanger,\n",
    "    y_trainpassanger,\n",
    "    cv=10,\n",
    ")\n",
    "\n",
    "tree_rmse_scores = tree_scores\n",
    "print(tree_rmse_scores)\n",
    "\n",
    "display_scores(tree_rmse_scores)"
   ]
  },
  {
   "cell_type": "code",
   "execution_count": 30,
   "id": "e52849b5",
   "metadata": {},
   "outputs": [
    {
     "data": {
      "text/plain": [
       "'from sklearn.model_selection import KFold\\nfrom sklearn.model_selection import cross_val_score\\nfrom sklearn.linear_model import LogisticRegression\\nfrom sklearn.tree import DecisionTreeClassifier\\nfrom sklearn.neighbors import KNeighborsClassifier\\nfrom sklearn.ensemble import RandomForestClassifier\\nfrom sklearn.naive_bayes import GaussianNB\\nfrom sklearn.svm import SVC\\n\\nclassification_models = []\\nclassification_models.append((\\'Logistic Regression\\', LogisticRegression(solver=\"liblinear\")))\\nclassification_models.append((\\'K Nearest Neighbor\\', KNeighborsClassifier(n_neighbors=5, metric=\"minkowski\",p=2)))\\nclassification_models.append((\\'Kernel SVM\\', SVC(kernel = \\'rbf\\',gamma=\\'scale\\')))\\nclassification_models.append((\\'Naive Bayes\\', GaussianNB()))\\nclassification_models.append((\\'Decision Tree\\', DecisionTreeClassifier(criterion = \"entropy\")))\\nclassification_models.append((\\'Random Forest\\', RandomForestClassifier(n_estimators=100, criterion=\"entropy\")))\\n\\nfor name, model in classification_models:\\n  result = cross_val_score(model, X, y, scoring=\\'accuracy\\')\\n  print(\"%s: Mean Accuracy = %.2f%% - SD Accuracy = %.2f%%\" % (name, result.mean()*100, result.std()*100))'"
      ]
     },
     "execution_count": 30,
     "metadata": {},
     "output_type": "execute_result"
    }
   ],
   "source": [
    "\"\"\"from sklearn.model_selection import KFold\n",
    "from sklearn.model_selection import cross_val_score\n",
    "from sklearn.linear_model import LogisticRegression\n",
    "from sklearn.tree import DecisionTreeClassifier\n",
    "from sklearn.neighbors import KNeighborsClassifier\n",
    "from sklearn.ensemble import RandomForestClassifier\n",
    "from sklearn.naive_bayes import GaussianNB\n",
    "from sklearn.svm import SVC\n",
    "\n",
    "classification_models = []\n",
    "classification_models.append(('Logistic Regression', LogisticRegression(solver=\"liblinear\")))\n",
    "classification_models.append(('K Nearest Neighbor', KNeighborsClassifier(n_neighbors=5, metric=\"minkowski\",p=2)))\n",
    "classification_models.append(('Kernel SVM', SVC(kernel = 'rbf',gamma='scale')))\n",
    "classification_models.append(('Naive Bayes', GaussianNB()))\n",
    "classification_models.append(('Decision Tree', DecisionTreeClassifier(criterion = \"entropy\")))\n",
    "classification_models.append(('Random Forest', RandomForestClassifier(n_estimators=100, criterion=\"entropy\")))\n",
    "\n",
    "for name, model in classification_models:\n",
    "  result = cross_val_score(model, X, y, scoring='accuracy')\n",
    "  print(\"%s: Mean Accuracy = %.2f%% - SD Accuracy = %.2f%%\" % (name, result.mean()*100, result.std()*100))\"\"\"\n"
   ]
  },
  {
   "cell_type": "markdown",
   "id": "3ed2a545",
   "metadata": {},
   "source": [
    "#"
   ]
  },
  {
   "cell_type": "markdown",
   "id": "a0c5bc5a",
   "metadata": {},
   "source": [
    "# Plotando gráficos boxplot\n"
   ]
  },
  {
   "cell_type": "markdown",
   "id": "8e28f723",
   "metadata": {},
   "source": []
  },
  {
   "cell_type": "code",
   "execution_count": 35,
   "id": "73320078",
   "metadata": {},
   "outputs": [
    {
     "data": {
      "text/plain": [
       "(-2000.0, 5000.0)"
      ]
     },
     "execution_count": 35,
     "metadata": {},
     "output_type": "execute_result"
    },
    {
     "data": {
      "image/png": "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\n",
      "text/plain": [
       "<Figure size 432x288 with 1 Axes>"
      ]
     },
     "metadata": {
      "needs_background": "light"
     },
     "output_type": "display_data"
    }
   ],
   "source": [
    "df_passangers.boxplot(['Valor Bruto'], by=['Transported'])\n",
    "#fazer modelo com e sem para ver se muda alguma coisa\n",
    "#fazer o predict para o perfil de uma pessoa e de outra pessoa que so muda a variavel do valor bruto\n",
    "plt.ylim(-2000,5000)"
   ]
  },
  {
   "cell_type": "code",
   "execution_count": 32,
   "id": "0151f83c",
   "metadata": {},
   "outputs": [
    {
     "data": {
      "text/plain": [
       "<AxesSubplot:title={'center':'Age'}, xlabel='[Transported]'>"
      ]
     },
     "execution_count": 32,
     "metadata": {},
     "output_type": "execute_result"
    },
    {
     "data": {
      "image/png": "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\n",
      "text/plain": [
       "<Figure size 432x288 with 1 Axes>"
      ]
     },
     "metadata": {
      "needs_background": "light"
     },
     "output_type": "display_data"
    }
   ],
   "source": [
    "df_passangers.boxplot(['Age'], by=['Transported'])"
   ]
  },
  {
   "cell_type": "code",
   "execution_count": null,
   "id": "5f144c9b",
   "metadata": {},
   "outputs": [],
   "source": []
  },
  {
   "cell_type": "code",
   "execution_count": null,
   "id": "5b1f92eb",
   "metadata": {},
   "outputs": [],
   "source": []
  }
 ],
 "metadata": {
  "kernelspec": {
   "display_name": "Python 3.9.7 64-bit ('anaconda3')",
   "language": "python",
   "name": "python3"
  },
  "language_info": {
   "codemirror_mode": {
    "name": "ipython",
    "version": 3
   },
   "file_extension": ".py",
   "mimetype": "text/x-python",
   "name": "python",
   "nbconvert_exporter": "python",
   "pygments_lexer": "ipython3",
   "version": "3.9.7"
  },
  "vscode": {
   "interpreter": {
<<<<<<< HEAD
    "hash": "f5c412d1dbea01ef3fd78650bb3a52055fa6c9048fd9876591f4e6607e6a4756"
=======
    "hash": "33bea494317c8c22a4760028ceed23349c4667bf8f6d1305a13b8d31b6e7f27d"
>>>>>>> 952e7cc15416eecf33de1fb444b00bc44dca3446
   }
  }
 },
 "nbformat": 4,
 "nbformat_minor": 5
}
