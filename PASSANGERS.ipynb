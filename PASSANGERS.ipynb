{
 "cells": [
  {
   "cell_type": "markdown",
   "id": "0cfed28c",
   "metadata": {},
   "source": [
    "# O Dataset e o Projeto: Passangers \n",
    "<hr>\n",
    "<p> Thomas Bekhor, João Bresser, Marcos Paulo</p>\n",
    "\n",
    "###  Descrição:\n",
    "<p style='font-size: 18px; line-height: 2; margin: 10px 50px; text-align: justify;'> O dataset é o conjunto de passageiros, que fizeram uma viagem interplanetar.</p>\n",
    "\n",
    "### Features do Dataset:\n",
    "<ul style='font-size: 18px; line-height: 2; text-align: justify;'>\n",
    "    <li><b>Passengerid </b> - Numero individual de cada passageiro.</li>\n",
    "    <li><b>Home Planet</b> - Local de origem do passageiro. </li>\n",
    "    <li><b>CryoSleep</b> - Indica se o passageiro foi colocado em \"CryoSleep\"  </li>\n",
    "    <li><b>Cabin</b> - Cabine que o passageiro estava. Deck/numero/lado </li>\n",
    "    <li><b>Destination</b> - Local que o passageiro vai </li>\n",
    "    <li><b>Age</b> - Idade do passageiro </li>\n",
    "    <li><b>VIP</b> - Se o passageiro é VIP </li>\n",
    "    <li><b>RoomService, FoodCourt, ShoppingMall, Spa, VRDeck</b> - Dinheiro que cada passageiro gastou na viagem </li>\n",
    "    <li><b>Name</b> - Nome do passageiro </li>\n",
    "    <li><b>Transported</b> - Se o passageiro foi transportado para outra dimensão </li>\n",
    "</ul>\n",
    "<p style='font-size: 18px; line-height: 2; margin: 10px 50px; text-align: justify;'>O objetivo deste treinamento será estimar um modelo de <b>Machine Learning</b> utilizando a técnica de <b>Classificação</b> para demonstrar os impactos das variáveis disponibilizadas neste dataset. No final do projeto teremos um modelo de Classificação acurado para a target Transported.</p>\n",
    "    \n",
    "<p style='font-size: 18px; line-height: 2; margin: 10px 50px; text-align: justify;'></p>\n",
    "    "
   ]
  },
  {
   "cell_type": "markdown",
   "id": "d1cf1818",
   "metadata": {},
   "source": [
    "# <font color='red' style='font-size: 30px;'>Importando bibliotecas</font>\n",
    "<hr style='border: 2px solid red;'>"
   ]
  },
  {
   "cell_type": "code",
   "execution_count": 1,
   "id": "85a8ed74",
   "metadata": {},
   "outputs": [],
   "source": [
    "%matplotlib inline\n",
    "#bibliotecas matemáticas e graficas\n",
    "import pandas as pd\n",
    "import numpy as np\n",
    "import matplotlib.pyplot as plt\n",
    "import seaborn as sns\n",
    "\n",
    "#separação entre treino e teste\n",
    "from sklearn.model_selection import train_test_split\n",
    "\n",
    "#separação estratificada\n",
    "from sklearn.pipeline import Pipeline\n",
    "from sklearn.preprocessing import PolynomialFeatures, StandardScaler\n",
    "from sklearn.impute import SimpleImputer\n",
    "from sklearn.preprocessing import OneHotEncoder\n",
    "from sklearn.compose import ColumnTransformer\n",
    "\n",
    "#modelagem\n",
    "from sklearn.tree import DecisionTreeClassifier\n",
    "from sklearn.linear_model import LogisticRegression\n",
    "from sklearn.neighbors import KNeighborsClassifier\n",
    "from sklearn.naive_bayes import GaussianNB\n",
    "from sklearn.svm import SVC\n",
    "\n",
    "#resultados da modelagem\n",
    "from sklearn.metrics import r2_score\n",
    "from sklearn.metrics import mean_squared_error\n",
    "from sklearn.metrics import classification_report\n",
    "\n",
    "#fazer o cross validation\n",
    "from sklearn.model_selection import cross_val_score\n",
    "\n",
    "\n",
    "#encontrando os melhores features\n",
    "from sklearn.feature_selection import f_regression, mutual_info_regression\n",
    "from sklearn.feature_selection import SelectKBest\n",
    "\n",
    "#serializar modelo\n",
    "import joblib\n",
    "\n",
    "\n",
    "#tuning de hiperparametros\n",
    "from sklearn.model_selection import GridSearchCV, RandomizedSearchCV\n",
    "\n",
    "from pprint import pprint\n",
    "\n",
    "#from sklearn.linear_model import LinearRegression\n",
    "#from sklearn.pipeline import Pipeline\n",
    "#from sklearn.preprocessing import PolynomialFeatures, StandardScaler\n",
    "#from sklearn.impute import SimpleImputer\n",
    "#from sklearn.preprocessing import OneHotEncoder\n",
    "#from sklearn.compose import ColumnTransformer"
   ]
  },
  {
   "cell_type": "code",
   "execution_count": 2,
   "id": "694c400f",
   "metadata": {},
   "outputs": [],
   "source": [
    "RAND_SEED = 42\n",
    "np.random.seed(RAND_SEED)"
   ]
  },
  {
   "cell_type": "markdown",
   "id": "64699d67",
   "metadata": {},
   "source": [
    "# <font color='red' style='font-size: 30px;'>Explorando o DataSet</font>\n",
    "<hr style='border: 2px solid red;'>"
   ]
  },
  {
   "cell_type": "markdown",
   "id": "6c33e120",
   "metadata": {},
   "source": [
    "Lendo a base de dados"
   ]
  },
  {
   "cell_type": "code",
   "execution_count": 3,
   "id": "7da8c478",
   "metadata": {},
   "outputs": [],
   "source": [
    "df_passangers = pd.read_csv(\"DATA2_passengers.csv\")"
   ]
  },
  {
   "cell_type": "markdown",
   "id": "f82cb86a",
   "metadata": {},
   "source": [
    "Entendendo como é o DataFrame"
   ]
  },
  {
   "cell_type": "code",
   "execution_count": 4,
   "id": "16591354",
   "metadata": {},
   "outputs": [
    {
     "data": {
      "text/html": [
       "<div>\n",
       "<style scoped>\n",
       "    .dataframe tbody tr th:only-of-type {\n",
       "        vertical-align: middle;\n",
       "    }\n",
       "\n",
       "    .dataframe tbody tr th {\n",
       "        vertical-align: top;\n",
       "    }\n",
       "\n",
       "    .dataframe thead th {\n",
       "        text-align: right;\n",
       "    }\n",
       "</style>\n",
       "<table border=\"1\" class=\"dataframe\">\n",
       "  <thead>\n",
       "    <tr style=\"text-align: right;\">\n",
       "      <th></th>\n",
       "      <th>PassengerId</th>\n",
       "      <th>HomePlanet</th>\n",
       "      <th>CryoSleep</th>\n",
       "      <th>Cabin</th>\n",
       "      <th>Destination</th>\n",
       "      <th>Age</th>\n",
       "      <th>VIP</th>\n",
       "      <th>RoomService</th>\n",
       "      <th>FoodCourt</th>\n",
       "      <th>ShoppingMall</th>\n",
       "      <th>Spa</th>\n",
       "      <th>VRDeck</th>\n",
       "      <th>Name</th>\n",
       "      <th>Transported</th>\n",
       "    </tr>\n",
       "  </thead>\n",
       "  <tbody>\n",
       "    <tr>\n",
       "      <th>0</th>\n",
       "      <td>0001_01</td>\n",
       "      <td>Europa</td>\n",
       "      <td>False</td>\n",
       "      <td>B/0/P</td>\n",
       "      <td>TRAPPIST-1e</td>\n",
       "      <td>39.0</td>\n",
       "      <td>False</td>\n",
       "      <td>0.0</td>\n",
       "      <td>0.0</td>\n",
       "      <td>0.0</td>\n",
       "      <td>0.0</td>\n",
       "      <td>0.0</td>\n",
       "      <td>Maham Ofracculy</td>\n",
       "      <td>False</td>\n",
       "    </tr>\n",
       "    <tr>\n",
       "      <th>1</th>\n",
       "      <td>0002_01</td>\n",
       "      <td>Earth</td>\n",
       "      <td>False</td>\n",
       "      <td>F/0/S</td>\n",
       "      <td>TRAPPIST-1e</td>\n",
       "      <td>24.0</td>\n",
       "      <td>False</td>\n",
       "      <td>109.0</td>\n",
       "      <td>9.0</td>\n",
       "      <td>25.0</td>\n",
       "      <td>549.0</td>\n",
       "      <td>44.0</td>\n",
       "      <td>Juanna Vines</td>\n",
       "      <td>True</td>\n",
       "    </tr>\n",
       "    <tr>\n",
       "      <th>2</th>\n",
       "      <td>0003_01</td>\n",
       "      <td>Europa</td>\n",
       "      <td>False</td>\n",
       "      <td>A/0/S</td>\n",
       "      <td>TRAPPIST-1e</td>\n",
       "      <td>58.0</td>\n",
       "      <td>True</td>\n",
       "      <td>43.0</td>\n",
       "      <td>3576.0</td>\n",
       "      <td>0.0</td>\n",
       "      <td>6715.0</td>\n",
       "      <td>49.0</td>\n",
       "      <td>Altark Susent</td>\n",
       "      <td>False</td>\n",
       "    </tr>\n",
       "    <tr>\n",
       "      <th>3</th>\n",
       "      <td>0003_02</td>\n",
       "      <td>Europa</td>\n",
       "      <td>False</td>\n",
       "      <td>A/0/S</td>\n",
       "      <td>TRAPPIST-1e</td>\n",
       "      <td>33.0</td>\n",
       "      <td>False</td>\n",
       "      <td>0.0</td>\n",
       "      <td>1283.0</td>\n",
       "      <td>371.0</td>\n",
       "      <td>3329.0</td>\n",
       "      <td>193.0</td>\n",
       "      <td>Solam Susent</td>\n",
       "      <td>False</td>\n",
       "    </tr>\n",
       "    <tr>\n",
       "      <th>4</th>\n",
       "      <td>0004_01</td>\n",
       "      <td>Earth</td>\n",
       "      <td>False</td>\n",
       "      <td>F/1/S</td>\n",
       "      <td>TRAPPIST-1e</td>\n",
       "      <td>16.0</td>\n",
       "      <td>False</td>\n",
       "      <td>303.0</td>\n",
       "      <td>70.0</td>\n",
       "      <td>151.0</td>\n",
       "      <td>565.0</td>\n",
       "      <td>2.0</td>\n",
       "      <td>Willy Santantines</td>\n",
       "      <td>True</td>\n",
       "    </tr>\n",
       "  </tbody>\n",
       "</table>\n",
       "</div>"
      ],
      "text/plain": [
       "  PassengerId HomePlanet CryoSleep  Cabin  Destination   Age    VIP  \\\n",
       "0     0001_01     Europa     False  B/0/P  TRAPPIST-1e  39.0  False   \n",
       "1     0002_01      Earth     False  F/0/S  TRAPPIST-1e  24.0  False   \n",
       "2     0003_01     Europa     False  A/0/S  TRAPPIST-1e  58.0   True   \n",
       "3     0003_02     Europa     False  A/0/S  TRAPPIST-1e  33.0  False   \n",
       "4     0004_01      Earth     False  F/1/S  TRAPPIST-1e  16.0  False   \n",
       "\n",
       "   RoomService  FoodCourt  ShoppingMall     Spa  VRDeck               Name  \\\n",
       "0          0.0        0.0           0.0     0.0     0.0    Maham Ofracculy   \n",
       "1        109.0        9.0          25.0   549.0    44.0       Juanna Vines   \n",
       "2         43.0     3576.0           0.0  6715.0    49.0      Altark Susent   \n",
       "3          0.0     1283.0         371.0  3329.0   193.0       Solam Susent   \n",
       "4        303.0       70.0         151.0   565.0     2.0  Willy Santantines   \n",
       "\n",
       "   Transported  \n",
       "0        False  \n",
       "1         True  \n",
       "2        False  \n",
       "3        False  \n",
       "4         True  "
      ]
     },
     "execution_count": 4,
     "metadata": {},
     "output_type": "execute_result"
    }
   ],
   "source": [
    "df_passangers.head()"
   ]
  },
  {
   "cell_type": "code",
   "execution_count": 5,
   "id": "528bfc12",
   "metadata": {},
   "outputs": [
    {
     "data": {
      "text/html": [
       "<div>\n",
       "<style scoped>\n",
       "    .dataframe tbody tr th:only-of-type {\n",
       "        vertical-align: middle;\n",
       "    }\n",
       "\n",
       "    .dataframe tbody tr th {\n",
       "        vertical-align: top;\n",
       "    }\n",
       "\n",
       "    .dataframe thead th {\n",
       "        text-align: right;\n",
       "    }\n",
       "</style>\n",
       "<table border=\"1\" class=\"dataframe\">\n",
       "  <thead>\n",
       "    <tr style=\"text-align: right;\">\n",
       "      <th></th>\n",
       "      <th>PassengerId</th>\n",
       "      <th>HomePlanet</th>\n",
       "      <th>CryoSleep</th>\n",
       "      <th>Cabin</th>\n",
       "      <th>Destination</th>\n",
       "      <th>Age</th>\n",
       "      <th>VIP</th>\n",
       "      <th>RoomService</th>\n",
       "      <th>FoodCourt</th>\n",
       "      <th>ShoppingMall</th>\n",
       "      <th>Spa</th>\n",
       "      <th>VRDeck</th>\n",
       "      <th>Name</th>\n",
       "      <th>Transported</th>\n",
       "      <th>Valor Bruto</th>\n",
       "    </tr>\n",
       "  </thead>\n",
       "  <tbody>\n",
       "    <tr>\n",
       "      <th>0</th>\n",
       "      <td>0001_01</td>\n",
       "      <td>Europa</td>\n",
       "      <td>False</td>\n",
       "      <td>B/0/P</td>\n",
       "      <td>TRAPPIST-1e</td>\n",
       "      <td>39.0</td>\n",
       "      <td>False</td>\n",
       "      <td>0.0</td>\n",
       "      <td>0.0</td>\n",
       "      <td>0.0</td>\n",
       "      <td>0.0</td>\n",
       "      <td>0.0</td>\n",
       "      <td>Maham Ofracculy</td>\n",
       "      <td>False</td>\n",
       "      <td>0.0</td>\n",
       "    </tr>\n",
       "    <tr>\n",
       "      <th>1</th>\n",
       "      <td>0002_01</td>\n",
       "      <td>Earth</td>\n",
       "      <td>False</td>\n",
       "      <td>F/0/S</td>\n",
       "      <td>TRAPPIST-1e</td>\n",
       "      <td>24.0</td>\n",
       "      <td>False</td>\n",
       "      <td>109.0</td>\n",
       "      <td>9.0</td>\n",
       "      <td>25.0</td>\n",
       "      <td>549.0</td>\n",
       "      <td>44.0</td>\n",
       "      <td>Juanna Vines</td>\n",
       "      <td>True</td>\n",
       "      <td>736.0</td>\n",
       "    </tr>\n",
       "    <tr>\n",
       "      <th>2</th>\n",
       "      <td>0003_01</td>\n",
       "      <td>Europa</td>\n",
       "      <td>False</td>\n",
       "      <td>A/0/S</td>\n",
       "      <td>TRAPPIST-1e</td>\n",
       "      <td>58.0</td>\n",
       "      <td>True</td>\n",
       "      <td>43.0</td>\n",
       "      <td>3576.0</td>\n",
       "      <td>0.0</td>\n",
       "      <td>6715.0</td>\n",
       "      <td>49.0</td>\n",
       "      <td>Altark Susent</td>\n",
       "      <td>False</td>\n",
       "      <td>10383.0</td>\n",
       "    </tr>\n",
       "    <tr>\n",
       "      <th>3</th>\n",
       "      <td>0003_02</td>\n",
       "      <td>Europa</td>\n",
       "      <td>False</td>\n",
       "      <td>A/0/S</td>\n",
       "      <td>TRAPPIST-1e</td>\n",
       "      <td>33.0</td>\n",
       "      <td>False</td>\n",
       "      <td>0.0</td>\n",
       "      <td>1283.0</td>\n",
       "      <td>371.0</td>\n",
       "      <td>3329.0</td>\n",
       "      <td>193.0</td>\n",
       "      <td>Solam Susent</td>\n",
       "      <td>False</td>\n",
       "      <td>5176.0</td>\n",
       "    </tr>\n",
       "    <tr>\n",
       "      <th>4</th>\n",
       "      <td>0004_01</td>\n",
       "      <td>Earth</td>\n",
       "      <td>False</td>\n",
       "      <td>F/1/S</td>\n",
       "      <td>TRAPPIST-1e</td>\n",
       "      <td>16.0</td>\n",
       "      <td>False</td>\n",
       "      <td>303.0</td>\n",
       "      <td>70.0</td>\n",
       "      <td>151.0</td>\n",
       "      <td>565.0</td>\n",
       "      <td>2.0</td>\n",
       "      <td>Willy Santantines</td>\n",
       "      <td>True</td>\n",
       "      <td>1091.0</td>\n",
       "    </tr>\n",
       "    <tr>\n",
       "      <th>...</th>\n",
       "      <td>...</td>\n",
       "      <td>...</td>\n",
       "      <td>...</td>\n",
       "      <td>...</td>\n",
       "      <td>...</td>\n",
       "      <td>...</td>\n",
       "      <td>...</td>\n",
       "      <td>...</td>\n",
       "      <td>...</td>\n",
       "      <td>...</td>\n",
       "      <td>...</td>\n",
       "      <td>...</td>\n",
       "      <td>...</td>\n",
       "      <td>...</td>\n",
       "      <td>...</td>\n",
       "    </tr>\n",
       "    <tr>\n",
       "      <th>8688</th>\n",
       "      <td>9276_01</td>\n",
       "      <td>Europa</td>\n",
       "      <td>False</td>\n",
       "      <td>A/98/P</td>\n",
       "      <td>55 Cancri e</td>\n",
       "      <td>41.0</td>\n",
       "      <td>True</td>\n",
       "      <td>0.0</td>\n",
       "      <td>6819.0</td>\n",
       "      <td>0.0</td>\n",
       "      <td>1643.0</td>\n",
       "      <td>74.0</td>\n",
       "      <td>Gravior Noxnuther</td>\n",
       "      <td>False</td>\n",
       "      <td>8536.0</td>\n",
       "    </tr>\n",
       "    <tr>\n",
       "      <th>8689</th>\n",
       "      <td>9278_01</td>\n",
       "      <td>Earth</td>\n",
       "      <td>True</td>\n",
       "      <td>G/1499/S</td>\n",
       "      <td>PSO J318.5-22</td>\n",
       "      <td>18.0</td>\n",
       "      <td>False</td>\n",
       "      <td>0.0</td>\n",
       "      <td>0.0</td>\n",
       "      <td>0.0</td>\n",
       "      <td>0.0</td>\n",
       "      <td>0.0</td>\n",
       "      <td>Kurta Mondalley</td>\n",
       "      <td>False</td>\n",
       "      <td>0.0</td>\n",
       "    </tr>\n",
       "    <tr>\n",
       "      <th>8690</th>\n",
       "      <td>9279_01</td>\n",
       "      <td>Earth</td>\n",
       "      <td>False</td>\n",
       "      <td>G/1500/S</td>\n",
       "      <td>TRAPPIST-1e</td>\n",
       "      <td>26.0</td>\n",
       "      <td>False</td>\n",
       "      <td>0.0</td>\n",
       "      <td>0.0</td>\n",
       "      <td>1872.0</td>\n",
       "      <td>1.0</td>\n",
       "      <td>0.0</td>\n",
       "      <td>Fayey Connon</td>\n",
       "      <td>True</td>\n",
       "      <td>1873.0</td>\n",
       "    </tr>\n",
       "    <tr>\n",
       "      <th>8691</th>\n",
       "      <td>9280_01</td>\n",
       "      <td>Europa</td>\n",
       "      <td>False</td>\n",
       "      <td>E/608/S</td>\n",
       "      <td>55 Cancri e</td>\n",
       "      <td>32.0</td>\n",
       "      <td>False</td>\n",
       "      <td>0.0</td>\n",
       "      <td>1049.0</td>\n",
       "      <td>0.0</td>\n",
       "      <td>353.0</td>\n",
       "      <td>3235.0</td>\n",
       "      <td>Celeon Hontichre</td>\n",
       "      <td>False</td>\n",
       "      <td>4637.0</td>\n",
       "    </tr>\n",
       "    <tr>\n",
       "      <th>8692</th>\n",
       "      <td>9280_02</td>\n",
       "      <td>Europa</td>\n",
       "      <td>False</td>\n",
       "      <td>E/608/S</td>\n",
       "      <td>TRAPPIST-1e</td>\n",
       "      <td>44.0</td>\n",
       "      <td>False</td>\n",
       "      <td>126.0</td>\n",
       "      <td>4688.0</td>\n",
       "      <td>0.0</td>\n",
       "      <td>0.0</td>\n",
       "      <td>12.0</td>\n",
       "      <td>Propsh Hontichre</td>\n",
       "      <td>True</td>\n",
       "      <td>4826.0</td>\n",
       "    </tr>\n",
       "  </tbody>\n",
       "</table>\n",
       "<p>8693 rows × 15 columns</p>\n",
       "</div>"
      ],
      "text/plain": [
       "     PassengerId HomePlanet CryoSleep     Cabin    Destination   Age    VIP  \\\n",
       "0        0001_01     Europa     False     B/0/P    TRAPPIST-1e  39.0  False   \n",
       "1        0002_01      Earth     False     F/0/S    TRAPPIST-1e  24.0  False   \n",
       "2        0003_01     Europa     False     A/0/S    TRAPPIST-1e  58.0   True   \n",
       "3        0003_02     Europa     False     A/0/S    TRAPPIST-1e  33.0  False   \n",
       "4        0004_01      Earth     False     F/1/S    TRAPPIST-1e  16.0  False   \n",
       "...          ...        ...       ...       ...            ...   ...    ...   \n",
       "8688     9276_01     Europa     False    A/98/P    55 Cancri e  41.0   True   \n",
       "8689     9278_01      Earth      True  G/1499/S  PSO J318.5-22  18.0  False   \n",
       "8690     9279_01      Earth     False  G/1500/S    TRAPPIST-1e  26.0  False   \n",
       "8691     9280_01     Europa     False   E/608/S    55 Cancri e  32.0  False   \n",
       "8692     9280_02     Europa     False   E/608/S    TRAPPIST-1e  44.0  False   \n",
       "\n",
       "      RoomService  FoodCourt  ShoppingMall     Spa  VRDeck               Name  \\\n",
       "0             0.0        0.0           0.0     0.0     0.0    Maham Ofracculy   \n",
       "1           109.0        9.0          25.0   549.0    44.0       Juanna Vines   \n",
       "2            43.0     3576.0           0.0  6715.0    49.0      Altark Susent   \n",
       "3             0.0     1283.0         371.0  3329.0   193.0       Solam Susent   \n",
       "4           303.0       70.0         151.0   565.0     2.0  Willy Santantines   \n",
       "...           ...        ...           ...     ...     ...                ...   \n",
       "8688          0.0     6819.0           0.0  1643.0    74.0  Gravior Noxnuther   \n",
       "8689          0.0        0.0           0.0     0.0     0.0    Kurta Mondalley   \n",
       "8690          0.0        0.0        1872.0     1.0     0.0       Fayey Connon   \n",
       "8691          0.0     1049.0           0.0   353.0  3235.0   Celeon Hontichre   \n",
       "8692        126.0     4688.0           0.0     0.0    12.0   Propsh Hontichre   \n",
       "\n",
       "      Transported  Valor Bruto  \n",
       "0           False          0.0  \n",
       "1            True        736.0  \n",
       "2           False      10383.0  \n",
       "3           False       5176.0  \n",
       "4            True       1091.0  \n",
       "...           ...          ...  \n",
       "8688        False       8536.0  \n",
       "8689        False          0.0  \n",
       "8690         True       1873.0  \n",
       "8691        False       4637.0  \n",
       "8692         True       4826.0  \n",
       "\n",
       "[8693 rows x 15 columns]"
      ]
     },
     "execution_count": 5,
     "metadata": {},
     "output_type": "execute_result"
    }
   ],
   "source": [
    "df_passangers['Valor Bruto']=df_passangers['RoomService']+df_passangers['FoodCourt']+df_passangers['ShoppingMall']+df_passangers['Spa']+df_passangers['VRDeck']\n",
    "df_passangers"
   ]
  },
  {
   "cell_type": "code",
   "execution_count": 6,
   "id": "cb8d34db",
   "metadata": {},
   "outputs": [
    {
     "data": {
      "text/html": [
       "<div>\n",
       "<style scoped>\n",
       "    .dataframe tbody tr th:only-of-type {\n",
       "        vertical-align: middle;\n",
       "    }\n",
       "\n",
       "    .dataframe tbody tr th {\n",
       "        vertical-align: top;\n",
       "    }\n",
       "\n",
       "    .dataframe thead th {\n",
       "        text-align: right;\n",
       "    }\n",
       "</style>\n",
       "<table border=\"1\" class=\"dataframe\">\n",
       "  <thead>\n",
       "    <tr style=\"text-align: right;\">\n",
       "      <th></th>\n",
       "      <th>count</th>\n",
       "      <th>mean</th>\n",
       "      <th>std</th>\n",
       "      <th>min</th>\n",
       "      <th>25%</th>\n",
       "      <th>50%</th>\n",
       "      <th>75%</th>\n",
       "      <th>max</th>\n",
       "    </tr>\n",
       "  </thead>\n",
       "  <tbody>\n",
       "    <tr>\n",
       "      <th>Age</th>\n",
       "      <td>8514.0</td>\n",
       "      <td>28.827930</td>\n",
       "      <td>14.489021</td>\n",
       "      <td>0.0</td>\n",
       "      <td>19.0</td>\n",
       "      <td>27.0</td>\n",
       "      <td>38.0</td>\n",
       "      <td>79.0</td>\n",
       "    </tr>\n",
       "    <tr>\n",
       "      <th>RoomService</th>\n",
       "      <td>8512.0</td>\n",
       "      <td>224.687617</td>\n",
       "      <td>666.717663</td>\n",
       "      <td>0.0</td>\n",
       "      <td>0.0</td>\n",
       "      <td>0.0</td>\n",
       "      <td>47.0</td>\n",
       "      <td>14327.0</td>\n",
       "    </tr>\n",
       "    <tr>\n",
       "      <th>FoodCourt</th>\n",
       "      <td>8510.0</td>\n",
       "      <td>458.077203</td>\n",
       "      <td>1611.489240</td>\n",
       "      <td>0.0</td>\n",
       "      <td>0.0</td>\n",
       "      <td>0.0</td>\n",
       "      <td>76.0</td>\n",
       "      <td>29813.0</td>\n",
       "    </tr>\n",
       "    <tr>\n",
       "      <th>ShoppingMall</th>\n",
       "      <td>8485.0</td>\n",
       "      <td>173.729169</td>\n",
       "      <td>604.696458</td>\n",
       "      <td>0.0</td>\n",
       "      <td>0.0</td>\n",
       "      <td>0.0</td>\n",
       "      <td>27.0</td>\n",
       "      <td>23492.0</td>\n",
       "    </tr>\n",
       "    <tr>\n",
       "      <th>Spa</th>\n",
       "      <td>8510.0</td>\n",
       "      <td>311.138778</td>\n",
       "      <td>1136.705535</td>\n",
       "      <td>0.0</td>\n",
       "      <td>0.0</td>\n",
       "      <td>0.0</td>\n",
       "      <td>59.0</td>\n",
       "      <td>22408.0</td>\n",
       "    </tr>\n",
       "    <tr>\n",
       "      <th>VRDeck</th>\n",
       "      <td>8505.0</td>\n",
       "      <td>304.854791</td>\n",
       "      <td>1145.717189</td>\n",
       "      <td>0.0</td>\n",
       "      <td>0.0</td>\n",
       "      <td>0.0</td>\n",
       "      <td>46.0</td>\n",
       "      <td>24133.0</td>\n",
       "    </tr>\n",
       "    <tr>\n",
       "      <th>Valor Bruto</th>\n",
       "      <td>7785.0</td>\n",
       "      <td>1484.601541</td>\n",
       "      <td>2845.288241</td>\n",
       "      <td>0.0</td>\n",
       "      <td>0.0</td>\n",
       "      <td>736.0</td>\n",
       "      <td>1486.0</td>\n",
       "      <td>35987.0</td>\n",
       "    </tr>\n",
       "  </tbody>\n",
       "</table>\n",
       "</div>"
      ],
      "text/plain": [
       "               count         mean          std  min   25%    50%     75%  \\\n",
       "Age           8514.0    28.827930    14.489021  0.0  19.0   27.0    38.0   \n",
       "RoomService   8512.0   224.687617   666.717663  0.0   0.0    0.0    47.0   \n",
       "FoodCourt     8510.0   458.077203  1611.489240  0.0   0.0    0.0    76.0   \n",
       "ShoppingMall  8485.0   173.729169   604.696458  0.0   0.0    0.0    27.0   \n",
       "Spa           8510.0   311.138778  1136.705535  0.0   0.0    0.0    59.0   \n",
       "VRDeck        8505.0   304.854791  1145.717189  0.0   0.0    0.0    46.0   \n",
       "Valor Bruto   7785.0  1484.601541  2845.288241  0.0   0.0  736.0  1486.0   \n",
       "\n",
       "                  max  \n",
       "Age              79.0  \n",
       "RoomService   14327.0  \n",
       "FoodCourt     29813.0  \n",
       "ShoppingMall  23492.0  \n",
       "Spa           22408.0  \n",
       "VRDeck        24133.0  \n",
       "Valor Bruto   35987.0  "
      ]
     },
     "execution_count": 6,
     "metadata": {},
     "output_type": "execute_result"
    }
   ],
   "source": [
    "df_passangers.describe().transpose()"
   ]
  },
  {
   "cell_type": "markdown",
   "id": "416a03da",
   "metadata": {},
   "source": [
    "Vendo as informações do nosso DataFrame"
   ]
  },
  {
   "cell_type": "code",
   "execution_count": 7,
   "id": "bec8d36a",
   "metadata": {},
   "outputs": [
    {
     "name": "stdout",
     "output_type": "stream",
     "text": [
      "<class 'pandas.core.frame.DataFrame'>\n",
      "RangeIndex: 8693 entries, 0 to 8692\n",
      "Data columns (total 15 columns):\n",
      " #   Column        Non-Null Count  Dtype  \n",
      "---  ------        --------------  -----  \n",
      " 0   PassengerId   8693 non-null   object \n",
      " 1   HomePlanet    8492 non-null   object \n",
      " 2   CryoSleep     8476 non-null   object \n",
      " 3   Cabin         8494 non-null   object \n",
      " 4   Destination   8511 non-null   object \n",
      " 5   Age           8514 non-null   float64\n",
      " 6   VIP           8490 non-null   object \n",
      " 7   RoomService   8512 non-null   float64\n",
      " 8   FoodCourt     8510 non-null   float64\n",
      " 9   ShoppingMall  8485 non-null   float64\n",
      " 10  Spa           8510 non-null   float64\n",
      " 11  VRDeck        8505 non-null   float64\n",
      " 12  Name          8493 non-null   object \n",
      " 13  Transported   8693 non-null   bool   \n",
      " 14  Valor Bruto   7785 non-null   float64\n",
      "dtypes: bool(1), float64(7), object(7)\n",
      "memory usage: 959.4+ KB\n"
     ]
    }
   ],
   "source": [
    "df_passangers.info()"
   ]
  },
  {
   "cell_type": "code",
   "execution_count": 8,
   "id": "d0ea8de7",
   "metadata": {},
   "outputs": [
    {
     "name": "stdout",
     "output_type": "stream",
     "text": [
      "  PassengerId HomePlanet CryoSleep  Cabin  Destination   Age    VIP  \\\n",
      "0     0001_01     Europa     False  B/0/P  TRAPPIST-1e  39.0  False   \n",
      "1     0002_01      Earth     False  F/0/S  TRAPPIST-1e  24.0  False   \n",
      "2     0003_01     Europa     False  A/0/S  TRAPPIST-1e  58.0   True   \n",
      "3     0003_02     Europa     False  A/0/S  TRAPPIST-1e  33.0  False   \n",
      "4     0004_01      Earth     False  F/1/S  TRAPPIST-1e  16.0  False   \n",
      "\n",
      "   RoomService  FoodCourt  ShoppingMall     Spa  VRDeck               Name  \\\n",
      "0          0.0        0.0           0.0     0.0     0.0    Maham Ofracculy   \n",
      "1        109.0        9.0          25.0   549.0    44.0       Juanna Vines   \n",
      "2         43.0     3576.0           0.0  6715.0    49.0      Altark Susent   \n",
      "3          0.0     1283.0         371.0  3329.0   193.0       Solam Susent   \n",
      "4        303.0       70.0         151.0   565.0     2.0  Willy Santantines   \n",
      "\n",
      "   Transported  Valor Bruto  \n",
      "0        False          0.0  \n",
      "1         True        736.0  \n",
      "2        False      10383.0  \n",
      "3        False       5176.0  \n",
      "4         True       1091.0  \n"
     ]
    }
   ],
   "source": [
    "df_passangers=df_passangers[df_passangers[\"Transported\"].notna()]\n",
    "#ver a quantidade de nao nulos e fazer input para os que tem quantidade relevante \n",
    "df_passangers=df_passangers[df_passangers[\"Destination\"].notna()]\n",
    "df_passangers=df_passangers[df_passangers[\"Spa\"].notna()]\n",
    "df_passangers=df_passangers[df_passangers[\"HomePlanet\"].notna()]\n",
    "df_passangers=df_passangers[df_passangers[\"CryoSleep\"].notna()]\n",
    "df_passangers=df_passangers[df_passangers[\"Valor Bruto\"].notna()]\n",
    "df_passangers=df_passangers[df_passangers[\"ShoppingMall\"].notna()]\n",
    "df_passangers=df_passangers[df_passangers[\"Cabin\"].notna()]\n",
    "df_passangers=df_passangers[df_passangers[\"Age\"].notna()]\n",
    "df_passangers=df_passangers[df_passangers[\"VIP\"].notna()]\n",
    "df_passangers=df_passangers[df_passangers[\"RoomService\"].notna()]\n",
    "df_passangers=df_passangers[df_passangers[\"FoodCourt\"].notna()]\n",
    "df_passangers=df_passangers[df_passangers[\"VRDeck\"].notna()]\n",
    "#retirei colunas nome e id pq é individual de cada e não ajuda na classificação\n",
    "\n",
    "df_passangers.loc[:,[\"HomePlanet\",\"CryoSleep\",\"Cabin\",\"Destination\",\"Age\",\"VIP\",\"RoomService\",\"FoodCourt\",\"ShoppingMall\",\"Spa\",\"VRDeck\",\"Transported\"]]\n",
    "df=df_passangers\n",
    "print(df.head())"
   ]
  },
  {
   "cell_type": "code",
   "execution_count": 9,
   "id": "620a4796",
   "metadata": {},
   "outputs": [
    {
     "name": "stderr",
     "output_type": "stream",
     "text": [
      "C:\\Users\\joaob\\AppData\\Local\\Temp/ipykernel_28232/4114384792.py:1: FutureWarning: Columnar iteration over characters will be deprecated in future releases.\n",
      "  df[\"Primeira Cabin\"],df[\"Segunda Cabin\"],df[\"Terceira Cabin\"]=df[\"Cabin\"].str.split('/').str\n"
     ]
    }
   ],
   "source": [
    "df[\"Primeira Cabin\"],df[\"Segunda Cabin\"],df[\"Terceira Cabin\"]=df[\"Cabin\"].str.split('/').str\n",
    "del df[\"Cabin\"]\n",
    "del df['Name']\n",
    "del df['PassengerId']"
   ]
  },
  {
   "cell_type": "code",
   "execution_count": 10,
   "id": "f8ff9bb4",
   "metadata": {},
   "outputs": [
    {
     "name": "stdout",
     "output_type": "stream",
     "text": [
      "<class 'pandas.core.frame.DataFrame'>\n",
      "Int64Index: 6764 entries, 0 to 8692\n",
      "Data columns (total 15 columns):\n",
      " #   Column          Non-Null Count  Dtype  \n",
      "---  ------          --------------  -----  \n",
      " 0   HomePlanet      6764 non-null   object \n",
      " 1   CryoSleep       6764 non-null   object \n",
      " 2   Destination     6764 non-null   object \n",
      " 3   Age             6764 non-null   float64\n",
      " 4   VIP             6764 non-null   object \n",
      " 5   RoomService     6764 non-null   float64\n",
      " 6   FoodCourt       6764 non-null   float64\n",
      " 7   ShoppingMall    6764 non-null   float64\n",
      " 8   Spa             6764 non-null   float64\n",
      " 9   VRDeck          6764 non-null   float64\n",
      " 10  Transported     6764 non-null   bool   \n",
      " 11  Valor Bruto     6764 non-null   float64\n",
      " 12  Primeira Cabin  6764 non-null   object \n",
      " 13  Segunda Cabin   6764 non-null   object \n",
      " 14  Terceira Cabin  6764 non-null   object \n",
      "dtypes: bool(1), float64(7), object(7)\n",
      "memory usage: 799.3+ KB\n"
     ]
    }
   ],
   "source": [
    "df.info()"
   ]
  },
  {
   "cell_type": "code",
   "execution_count": 11,
   "id": "6791b9f7",
   "metadata": {},
   "outputs": [
    {
     "name": "stdout",
     "output_type": "stream",
     "text": [
      "Index(['55 Cancri e', 'PSO J318.5-22', 'TRAPPIST-1e'], dtype='object')\n"
     ]
    }
   ],
   "source": [
    "df[\"HomePlanet\"]=df[\"HomePlanet\"].astype('category')\n",
    "df[\"HomePlanet\"].cat.categories=[0,1,2]\n",
    "# 0 é Earth , Europa é 1 e Mars é 2\n",
    "\n",
    "df[\"Destination\"]=df[\"Destination\"].astype('category')\n",
    "print(df[\"Destination\"].cat.categories)\n",
    "df[\"Destination\"].cat.categories=[0,1,2]\n",
    "# 0 é 55 Canccri e 1 é  PSO J318.5-22, 2 é TRAPPIST-1e\n",
    "\n",
    "df[\"Primeira Cabin\"]=df[\"Primeira Cabin\"].astype('category')\n",
    "df[\"Primeira Cabin\"].cat.categories=[0,1,2,3,4,5,6,7]\n",
    "#0 é A, 1 é B ....6 é F e 7 é T\n",
    "df[\"Segunda Cabin\"]=df[\"Segunda Cabin\"].astype('category')\n",
    "#analisando posso deletar pq tem pouquissimos numeros para cada variavel\n",
    "del df[\"Segunda Cabin\"]\n",
    "df[\"Terceira Cabin\"]=df[\"Terceira Cabin\"].astype(\"category\")\n",
    "df[\"Terceira Cabin\"].cat.categories=[0,1]\n",
    "#P=0 e S=1"
   ]
  },
  {
   "cell_type": "markdown",
   "id": "aafc59a2",
   "metadata": {},
   "source": [
    "# <font color='red' style='font-size: 30px;'>Explorando o target</font>\n",
    "<hr style='border: 2px solid red;'"
   ]
  },
  {
   "cell_type": "code",
   "execution_count": 12,
   "id": "881b2d58",
   "metadata": {},
   "outputs": [
    {
     "data": {
      "text/plain": [
       "HomePlanet  Transported\n",
       "0           False          0.574672\n",
       "            True           0.425328\n",
       "1           True           0.658095\n",
       "            False          0.341905\n",
       "2           True           0.515390\n",
       "            False          0.484610\n",
       "Name: Transported, dtype: float64"
      ]
     },
     "execution_count": 12,
     "metadata": {},
     "output_type": "execute_result"
    }
   ],
   "source": [
    "df.groupby(by='HomePlanet')[\"Transported\"].value_counts(normalize=True)"
   ]
  },
  {
   "cell_type": "code",
   "execution_count": 13,
   "id": "b28a1711",
   "metadata": {},
   "outputs": [
    {
     "data": {
      "text/plain": [
       "Primeira Cabin  Transported\n",
       "0               False          0.516432\n",
       "                True           0.483568\n",
       "1               True           0.730109\n",
       "                False          0.269891\n",
       "2               True           0.677796\n",
       "                False          0.322204\n",
       "3               False          0.574803\n",
       "                True           0.425197\n",
       "4               False          0.645714\n",
       "                True           0.354286\n",
       "5               False          0.565670\n",
       "                True           0.434330\n",
       "6               True           0.522041\n",
       "                False          0.477959\n",
       "7               False          0.666667\n",
       "                True           0.333333\n",
       "Name: Transported, dtype: float64"
      ]
     },
     "execution_count": 13,
     "metadata": {},
     "output_type": "execute_result"
    }
   ],
   "source": [
    "df.groupby(by='Primeira Cabin')[\"Transported\"].value_counts(normalize=True)"
   ]
  },
  {
   "cell_type": "code",
   "execution_count": 14,
   "id": "2cdfa1ae",
   "metadata": {},
   "outputs": [
    {
     "data": {
      "text/plain": [
       "Terceira Cabin  Transported\n",
       "0               False          0.551063\n",
       "                True           0.448937\n",
       "1               True           0.555328\n",
       "                False          0.444672\n",
       "Name: Transported, dtype: float64"
      ]
     },
     "execution_count": 14,
     "metadata": {},
     "output_type": "execute_result"
    }
   ],
   "source": [
    "df.groupby(by='Terceira Cabin')[\"Transported\"].value_counts(normalize=True)"
   ]
  },
  {
   "cell_type": "code",
   "execution_count": 15,
   "id": "38e920cf",
   "metadata": {},
   "outputs": [
    {
     "data": {
      "text/plain": [
       "CryoSleep  Transported\n",
       "False      False          0.667199\n",
       "           True           0.332801\n",
       "True       True           0.815966\n",
       "           False          0.184034\n",
       "Name: Transported, dtype: float64"
      ]
     },
     "execution_count": 15,
     "metadata": {},
     "output_type": "execute_result"
    }
   ],
   "source": [
    "df.groupby(by='CryoSleep')[\"Transported\"].value_counts(normalize=True)"
   ]
  },
  {
   "cell_type": "code",
   "execution_count": 16,
   "id": "30715a06",
   "metadata": {},
   "outputs": [
    {
     "data": {
      "text/plain": [
       "Destination  Transported\n",
       "0            True           0.617892\n",
       "             False          0.382108\n",
       "1            True           0.504687\n",
       "             False          0.495312\n",
       "2            False          0.532892\n",
       "             True           0.467108\n",
       "Name: Transported, dtype: float64"
      ]
     },
     "execution_count": 16,
     "metadata": {},
     "output_type": "execute_result"
    }
   ],
   "source": [
    "df.groupby(by='Destination')[\"Transported\"].value_counts(normalize=True)"
   ]
  },
  {
   "cell_type": "code",
   "execution_count": 17,
   "id": "ee047fab",
   "metadata": {},
   "outputs": [
    {
     "data": {
      "text/html": [
       "<div>\n",
       "<style scoped>\n",
       "    .dataframe tbody tr th:only-of-type {\n",
       "        vertical-align: middle;\n",
       "    }\n",
       "\n",
       "    .dataframe tbody tr th {\n",
       "        vertical-align: top;\n",
       "    }\n",
       "\n",
       "    .dataframe thead th {\n",
       "        text-align: right;\n",
       "    }\n",
       "</style>\n",
       "<table border=\"1\" class=\"dataframe\">\n",
       "  <thead>\n",
       "    <tr style=\"text-align: right;\">\n",
       "      <th>Faixa_idade</th>\n",
       "      <th>(0, 5]</th>\n",
       "      <th>(5, 10]</th>\n",
       "      <th>(10, 15]</th>\n",
       "      <th>(15, 20]</th>\n",
       "      <th>(20, 25]</th>\n",
       "      <th>(25, 30]</th>\n",
       "      <th>(30, 35]</th>\n",
       "      <th>(35, 40]</th>\n",
       "      <th>(40, 45]</th>\n",
       "      <th>(45, 50]</th>\n",
       "      <th>(50, 55]</th>\n",
       "      <th>(55, 60]</th>\n",
       "      <th>(60, 65]</th>\n",
       "      <th>(65, 70]</th>\n",
       "      <th>(70, 75]</th>\n",
       "      <th>(75, 80]</th>\n",
       "    </tr>\n",
       "    <tr>\n",
       "      <th>Transported</th>\n",
       "      <th></th>\n",
       "      <th></th>\n",
       "      <th></th>\n",
       "      <th></th>\n",
       "      <th></th>\n",
       "      <th></th>\n",
       "      <th></th>\n",
       "      <th></th>\n",
       "      <th></th>\n",
       "      <th></th>\n",
       "      <th></th>\n",
       "      <th></th>\n",
       "      <th></th>\n",
       "      <th></th>\n",
       "      <th></th>\n",
       "      <th></th>\n",
       "    </tr>\n",
       "  </thead>\n",
       "  <tbody>\n",
       "    <tr>\n",
       "      <th>False</th>\n",
       "      <td>71</td>\n",
       "      <td>66</td>\n",
       "      <td>181</td>\n",
       "      <td>465</td>\n",
       "      <td>639</td>\n",
       "      <td>487</td>\n",
       "      <td>390</td>\n",
       "      <td>337</td>\n",
       "      <td>239</td>\n",
       "      <td>163</td>\n",
       "      <td>129</td>\n",
       "      <td>80</td>\n",
       "      <td>55</td>\n",
       "      <td>18</td>\n",
       "      <td>14</td>\n",
       "      <td>5</td>\n",
       "    </tr>\n",
       "    <tr>\n",
       "      <th>True</th>\n",
       "      <td>185</td>\n",
       "      <td>109</td>\n",
       "      <td>239</td>\n",
       "      <td>458</td>\n",
       "      <td>525</td>\n",
       "      <td>472</td>\n",
       "      <td>325</td>\n",
       "      <td>287</td>\n",
       "      <td>227</td>\n",
       "      <td>166</td>\n",
       "      <td>111</td>\n",
       "      <td>91</td>\n",
       "      <td>55</td>\n",
       "      <td>22</td>\n",
       "      <td>7</td>\n",
       "      <td>3</td>\n",
       "    </tr>\n",
       "  </tbody>\n",
       "</table>\n",
       "</div>"
      ],
      "text/plain": [
       "Faixa_idade  (0, 5]  (5, 10]  (10, 15]  (15, 20]  (20, 25]  (25, 30]  \\\n",
       "Transported                                                            \n",
       "False            71       66       181       465       639       487   \n",
       "True            185      109       239       458       525       472   \n",
       "\n",
       "Faixa_idade  (30, 35]  (35, 40]  (40, 45]  (45, 50]  (50, 55]  (55, 60]  \\\n",
       "Transported                                                               \n",
       "False             390       337       239       163       129        80   \n",
       "True              325       287       227       166       111        91   \n",
       "\n",
       "Faixa_idade  (60, 65]  (65, 70]  (70, 75]  (75, 80]  \n",
       "Transported                                          \n",
       "False              55        18        14         5  \n",
       "True               55        22         7         3  "
      ]
     },
     "execution_count": 17,
     "metadata": {},
     "output_type": "execute_result"
    }
   ],
   "source": [
    "\n",
    "df['Faixa_idade']=pd.cut(df['Age'],np.arange(0,85,5))\n",
    "oi=df['Faixa_idade'].value_counts(normalize=True)\n",
    "pd.crosstab(df['Transported'],df['Faixa_idade'])"
   ]
  },
  {
   "cell_type": "code",
   "execution_count": 18,
   "id": "9cb5ca78",
   "metadata": {},
   "outputs": [
    {
     "data": {
      "text/plain": [
       "VIP    Transported\n",
       "False  True           0.505909\n",
       "       False          0.494091\n",
       "True   False          0.621951\n",
       "       True           0.378049\n",
       "Name: Transported, dtype: float64"
      ]
     },
     "execution_count": 18,
     "metadata": {},
     "output_type": "execute_result"
    }
   ],
   "source": [
    "df.groupby(by='VIP')[\"Transported\"].value_counts(normalize=True)"
   ]
  },
  {
   "cell_type": "code",
   "execution_count": 19,
   "id": "5ed4a659",
   "metadata": {},
   "outputs": [
    {
     "data": {
      "image/png": "[encoded data removed]",
      "text/plain": [
       "<Figure size 432x288 with 1 Axes>"
      ]
     },
     "metadata": {
      "needs_background": "light"
     },
     "output_type": "display_data"
    },
    {
     "data": {
      "image/png": "[encoded data removed]",
      "text/plain": [
       "<Figure size 432x288 with 1 Axes>"
      ]
     },
     "metadata": {
      "needs_background": "light"
     },
     "output_type": "display_data"
    },
    {
     "data": {
      "image/png": "[encoded data removed]",
      "text/plain": [
       "<Figure size 432x288 with 1 Axes>"
      ]
     },
     "metadata": {
      "needs_background": "light"
     },
     "output_type": "display_data"
    },
    {
     "data": {
      "image/png": "[encoded data removed]",
      "text/plain": [
       "<Figure size 432x288 with 1 Axes>"
      ]
     },
     "metadata": {
      "needs_background": "light"
     },
     "output_type": "display_data"
    },
    {
     "data": {
      "image/png": "[encoded data removed]",
      "text/plain": [
       "<Figure size 432x288 with 1 Axes>"
      ]
     },
     "metadata": {
      "needs_background": "light"
     },
     "output_type": "display_data"
    }
   ],
   "source": [
    "lista=[\"HomePlanet\",'CryoSleep','Destination','Faixa_idade','VIP']\n",
    "cores = ['red','blue','green','darkgreen','yellow','purple','pink','orange']\n",
    "n=0\n",
    "#seria bom fazer uma figura\n",
    "for i in lista:\n",
    "    Transported_x_y=pd.crosstab(df[i], df['Transported'], normalize='index',margins=True).round(4)\n",
    "    Transported_x_y.plot.bar(color=cores, stacked=True)\n",
    "    plt.ylabel(\"Freq. Relativas (em%)\")\n",
    "    plt.xlabel(i)\n",
    "plt.show()"
   ]
  },
  {
   "cell_type": "code",
   "execution_count": 20,
   "id": "7627765b",
   "metadata": {},
   "outputs": [
    {
     "data": {
      "image/png": "[encoded data removed]",
      "text/plain": [
       "<Figure size 1080x720 with 9 Axes>"
      ]
     },
     "metadata": {
      "needs_background": "light"
     },
     "output_type": "display_data"
    }
   ],
   "source": [
    "BINS= int(np.sqrt(len(df.index)))\n",
    "df.hist(bins=BINS,figsize=(15,10));"
   ]
  },
  {
   "cell_type": "code",
   "execution_count": 21,
   "id": "e8fc29bc",
   "metadata": {},
   "outputs": [],
   "source": [
    "del df[\"Faixa_idade\"]"
   ]
  },
  {
   "cell_type": "markdown",
   "id": "02c5c370",
   "metadata": {},
   "source": [
    "# <font color='red' style='font-size: 30px;'>Treino e Teste</font>\n",
    "<hr style='border: 2px solid red;'>"
   ]
  },
  {
   "cell_type": "code",
   "execution_count": 22,
   "id": "8681891f",
   "metadata": {},
   "outputs": [],
   "source": [
    "ypassanger=df.loc[:,[\"Transported\"]]\n",
    "Xpassanger=df.drop([\"Transported\"],axis=1)"
   ]
  },
  {
   "cell_type": "code",
   "execution_count": 23,
   "id": "6237910d",
   "metadata": {},
   "outputs": [
    {
     "data": {
      "text/html": [
       "<div>\n",
       "<style scoped>\n",
       "    .dataframe tbody tr th:only-of-type {\n",
       "        vertical-align: middle;\n",
       "    }\n",
       "\n",
       "    .dataframe tbody tr th {\n",
       "        vertical-align: top;\n",
       "    }\n",
       "\n",
       "    .dataframe thead th {\n",
       "        text-align: right;\n",
       "    }\n",
       "</style>\n",
       "<table border=\"1\" class=\"dataframe\">\n",
       "  <thead>\n",
       "    <tr style=\"text-align: right;\">\n",
       "      <th></th>\n",
       "      <th>HomePlanet</th>\n",
       "      <th>CryoSleep</th>\n",
       "      <th>Destination</th>\n",
       "      <th>Age</th>\n",
       "      <th>VIP</th>\n",
       "      <th>RoomService</th>\n",
       "      <th>FoodCourt</th>\n",
       "      <th>ShoppingMall</th>\n",
       "      <th>Spa</th>\n",
       "      <th>VRDeck</th>\n",
       "      <th>Valor Bruto</th>\n",
       "      <th>Primeira Cabin</th>\n",
       "      <th>Terceira Cabin</th>\n",
       "    </tr>\n",
       "  </thead>\n",
       "  <tbody>\n",
       "    <tr>\n",
       "      <th>7726</th>\n",
       "      <td>0</td>\n",
       "      <td>False</td>\n",
       "      <td>2</td>\n",
       "      <td>27.0</td>\n",
       "      <td>False</td>\n",
       "      <td>1007.0</td>\n",
       "      <td>0.0</td>\n",
       "      <td>0.0</td>\n",
       "      <td>9.0</td>\n",
       "      <td>0.0</td>\n",
       "      <td>1016.0</td>\n",
       "      <td>6</td>\n",
       "      <td>0</td>\n",
       "    </tr>\n",
       "    <tr>\n",
       "      <th>6296</th>\n",
       "      <td>1</td>\n",
       "      <td>True</td>\n",
       "      <td>0</td>\n",
       "      <td>17.0</td>\n",
       "      <td>False</td>\n",
       "      <td>0.0</td>\n",
       "      <td>0.0</td>\n",
       "      <td>0.0</td>\n",
       "      <td>0.0</td>\n",
       "      <td>0.0</td>\n",
       "      <td>0.0</td>\n",
       "      <td>1</td>\n",
       "      <td>0</td>\n",
       "    </tr>\n",
       "    <tr>\n",
       "      <th>3841</th>\n",
       "      <td>0</td>\n",
       "      <td>False</td>\n",
       "      <td>2</td>\n",
       "      <td>25.0</td>\n",
       "      <td>False</td>\n",
       "      <td>0.0</td>\n",
       "      <td>38.0</td>\n",
       "      <td>0.0</td>\n",
       "      <td>847.0</td>\n",
       "      <td>112.0</td>\n",
       "      <td>997.0</td>\n",
       "      <td>4</td>\n",
       "      <td>0</td>\n",
       "    </tr>\n",
       "    <tr>\n",
       "      <th>3003</th>\n",
       "      <td>0</td>\n",
       "      <td>False</td>\n",
       "      <td>2</td>\n",
       "      <td>21.0</td>\n",
       "      <td>False</td>\n",
       "      <td>0.0</td>\n",
       "      <td>0.0</td>\n",
       "      <td>687.0</td>\n",
       "      <td>46.0</td>\n",
       "      <td>20.0</td>\n",
       "      <td>753.0</td>\n",
       "      <td>6</td>\n",
       "      <td>0</td>\n",
       "    </tr>\n",
       "    <tr>\n",
       "      <th>636</th>\n",
       "      <td>1</td>\n",
       "      <td>False</td>\n",
       "      <td>2</td>\n",
       "      <td>36.0</td>\n",
       "      <td>False</td>\n",
       "      <td>0.0</td>\n",
       "      <td>0.0</td>\n",
       "      <td>0.0</td>\n",
       "      <td>4507.0</td>\n",
       "      <td>5689.0</td>\n",
       "      <td>10196.0</td>\n",
       "      <td>4</td>\n",
       "      <td>1</td>\n",
       "    </tr>\n",
       "  </tbody>\n",
       "</table>\n",
       "</div>"
      ],
      "text/plain": [
       "     HomePlanet CryoSleep Destination   Age    VIP  RoomService  FoodCourt  \\\n",
       "7726          0     False           2  27.0  False       1007.0        0.0   \n",
       "6296          1      True           0  17.0  False          0.0        0.0   \n",
       "3841          0     False           2  25.0  False          0.0       38.0   \n",
       "3003          0     False           2  21.0  False          0.0        0.0   \n",
       "636           1     False           2  36.0  False          0.0        0.0   \n",
       "\n",
       "      ShoppingMall     Spa  VRDeck  Valor Bruto Primeira Cabin Terceira Cabin  \n",
       "7726           0.0     9.0     0.0       1016.0              6              0  \n",
       "6296           0.0     0.0     0.0          0.0              1              0  \n",
       "3841           0.0   847.0   112.0        997.0              4              0  \n",
       "3003         687.0    46.0    20.0        753.0              6              0  \n",
       "636            0.0  4507.0  5689.0      10196.0              4              1  "
      ]
     },
     "execution_count": 23,
     "metadata": {},
     "output_type": "execute_result"
    }
   ],
   "source": [
    "X_trainpassanger, X_testpassanger, y_trainpassanger, y_testpassanger = train_test_split(\n",
    "    Xpassanger,\n",
    "    ypassanger,                  \n",
    "    test_size=0.3,\n",
    "    random_state=RAND_SEED,\n",
    ")\n",
    "X_testpassanger.head()\n",
    "\n",
    "\n",
    "#from sklearn.preprocessing import StandardScaler\n",
    "#sc = StandardScaler()\n",
    "#X = sc.fit_transform(X_trainpassanger,y_trainpassanger)\n",
    "#y= X_testpassanger"
   ]
  },
  {
   "cell_type": "code",
   "execution_count": 24,
   "id": "bb1a74ec",
   "metadata": {},
   "outputs": [
    {
     "data": {
      "text/html": [
       "<div>\n",
       "<style scoped>\n",
       "    .dataframe tbody tr th:only-of-type {\n",
       "        vertical-align: middle;\n",
       "    }\n",
       "\n",
       "    .dataframe tbody tr th {\n",
       "        vertical-align: top;\n",
       "    }\n",
       "\n",
       "    .dataframe thead th {\n",
       "        text-align: right;\n",
       "    }\n",
       "</style>\n",
       "<table border=\"1\" class=\"dataframe\">\n",
       "  <thead>\n",
       "    <tr style=\"text-align: right;\">\n",
       "      <th></th>\n",
       "      <th>Transported</th>\n",
       "    </tr>\n",
       "  </thead>\n",
       "  <tbody>\n",
       "    <tr>\n",
       "      <th>7726</th>\n",
       "      <td>False</td>\n",
       "    </tr>\n",
       "    <tr>\n",
       "      <th>6296</th>\n",
       "      <td>True</td>\n",
       "    </tr>\n",
       "    <tr>\n",
       "      <th>3841</th>\n",
       "      <td>False</td>\n",
       "    </tr>\n",
       "    <tr>\n",
       "      <th>3003</th>\n",
       "      <td>False</td>\n",
       "    </tr>\n",
       "    <tr>\n",
       "      <th>636</th>\n",
       "      <td>False</td>\n",
       "    </tr>\n",
       "  </tbody>\n",
       "</table>\n",
       "</div>"
      ],
      "text/plain": [
       "      Transported\n",
       "7726        False\n",
       "6296         True\n",
       "3841        False\n",
       "3003        False\n",
       "636         False"
      ]
     },
     "execution_count": 24,
     "metadata": {},
     "output_type": "execute_result"
    }
   ],
   "source": [
    "y_testpassanger.head()"
   ]
  },
  {
   "cell_type": "markdown",
   "id": "cf8afebc",
   "metadata": {},
   "source": [
    "# <font color='red' style='font-size: 30px;'>Modelos de Classificação</font>\n",
    "<hr style='border: 2px solid red;'>"
   ]
  },
  {
   "cell_type": "code",
   "execution_count": 25,
   "id": "46da8b6b",
   "metadata": {},
   "outputs": [],
   "source": [
    "\n",
    "dtc=DecisionTreeClassifier()\n",
    "y_trainpassanger=y_trainpassanger.astype('int')\n",
    "dtc.fit(X_trainpassanger, y_trainpassanger)\n",
    "resultado_dtc=dtc.predict(X_testpassanger)"
   ]
  },
  {
   "cell_type": "code",
   "execution_count": 26,
   "id": "f6118e76",
   "metadata": {},
   "outputs": [
    {
     "name": "stderr",
     "output_type": "stream",
     "text": [
      "C:\\Users\\joaob\\anaconda3\\lib\\site-packages\\sklearn\\utils\\validation.py:63: DataConversionWarning: A column-vector y was passed when a 1d array was expected. Please change the shape of y to (n_samples, ), for example using ravel().\n",
      "  return f(*args, **kwargs)\n",
      "C:\\Users\\joaob\\anaconda3\\lib\\site-packages\\sklearn\\linear_model\\_logistic.py:763: ConvergenceWarning: lbfgs failed to converge (status=1):\n",
      "STOP: TOTAL NO. of ITERATIONS REACHED LIMIT.\n",
      "\n",
      "Increase the number of iterations (max_iter) or scale the data as shown in:\n",
      "    https://scikit-learn.org/stable/modules/preprocessing.html\n",
      "Please also refer to the documentation for alternative solver options:\n",
      "    https://scikit-learn.org/stable/modules/linear_model.html#logistic-regression\n",
      "  n_iter_i = _check_optimize_result(\n",
      "C:\\Users\\joaob\\anaconda3\\lib\\site-packages\\sklearn\\utils\\validation.py:63: FutureWarning: Arrays of bytes/strings is being converted to decimal numbers if dtype='numeric'. This behavior is deprecated in 0.24 and will be removed in 1.1 (renaming of 0.26). Please convert your data to numeric values explicitly instead.\n",
      "  return f(*args, **kwargs)\n"
     ]
    }
   ],
   "source": [
    "# Criando modelo e treinando com os dados de treino\n",
    "clr = LogisticRegression()\n",
    "clr.fit(X_trainpassanger, y_trainpassanger)\n",
    "# Fazendo a predição nos dados de treino\n",
    "resultado_clr = clr.predict(X_testpassanger)"
   ]
  },
  {
   "cell_type": "code",
   "execution_count": 27,
   "id": "70ce8606",
   "metadata": {},
   "outputs": [
    {
     "name": "stderr",
     "output_type": "stream",
     "text": [
      "C:\\Users\\joaob\\anaconda3\\lib\\site-packages\\sklearn\\utils\\validation.py:63: FutureWarning: Arrays of bytes/strings is being converted to decimal numbers if dtype='numeric'. This behavior is deprecated in 0.24 and will be removed in 1.1 (renaming of 0.26). Please convert your data to numeric values explicitly instead.\n",
      "  return f(*args, **kwargs)\n",
      "C:\\Users\\joaob\\anaconda3\\lib\\site-packages\\sklearn\\neighbors\\_classification.py:179: DataConversionWarning: A column-vector y was passed when a 1d array was expected. Please change the shape of y to (n_samples,), for example using ravel().\n",
      "  return self._fit(X, y)\n",
      "C:\\Users\\joaob\\anaconda3\\lib\\site-packages\\sklearn\\utils\\validation.py:63: FutureWarning: Arrays of bytes/strings is being converted to decimal numbers if dtype='numeric'. This behavior is deprecated in 0.24 and will be removed in 1.1 (renaming of 0.26). Please convert your data to numeric values explicitly instead.\n",
      "  return f(*args, **kwargs)\n"
     ]
    }
   ],
   "source": [
    "# Criando modelo e treinando com os dados de treino\n",
    "knn = KNeighborsClassifier()\n",
    "knn.fit(X_trainpassanger, y_trainpassanger)\n",
    "# Fazendo a predição nos dados de treino\n",
    "resultado_knn = knn.predict(X_testpassanger)"
   ]
  },
  {
   "cell_type": "code",
   "execution_count": 28,
   "id": "6fb1bc70",
   "metadata": {},
   "outputs": [
    {
     "name": "stderr",
     "output_type": "stream",
     "text": [
      "C:\\Users\\joaob\\anaconda3\\lib\\site-packages\\sklearn\\utils\\validation.py:63: FutureWarning: Arrays of bytes/strings is being converted to decimal numbers if dtype='numeric'. This behavior is deprecated in 0.24 and will be removed in 1.1 (renaming of 0.26). Please convert your data to numeric values explicitly instead.\n",
      "  return f(*args, **kwargs)\n",
      "C:\\Users\\joaob\\anaconda3\\lib\\site-packages\\sklearn\\neighbors\\_classification.py:179: DataConversionWarning: A column-vector y was passed when a 1d array was expected. Please change the shape of y to (n_samples,), for example using ravel().\n",
      "  return self._fit(X, y)\n"
     ]
    },
    {
     "ename": "NotFittedError",
     "evalue": "This GaussianNB instance is not fitted yet. Call 'fit' with appropriate arguments before using this estimator.",
     "output_type": "error",
     "traceback": [
      "\u001b[1;31m---------------------------------------------------------------------------\u001b[0m",
      "\u001b[1;31mNotFittedError\u001b[0m                            Traceback (most recent call last)",
      "\u001b[1;32m~\\AppData\\Local\\Temp/ipykernel_28232/577462074.py\u001b[0m in \u001b[0;36m<module>\u001b[1;34m\u001b[0m\n\u001b[0;32m      2\u001b[0m \u001b[0mknn\u001b[0m\u001b[1;33m.\u001b[0m\u001b[0mfit\u001b[0m\u001b[1;33m(\u001b[0m\u001b[0mX_trainpassanger\u001b[0m\u001b[1;33m,\u001b[0m \u001b[0my_trainpassanger\u001b[0m\u001b[1;33m)\u001b[0m\u001b[1;33m\u001b[0m\u001b[1;33m\u001b[0m\u001b[0m\n\u001b[0;32m      3\u001b[0m \u001b[1;31m# Fazendo a predição nos dados de treino\u001b[0m\u001b[1;33m\u001b[0m\u001b[1;33m\u001b[0m\u001b[0m\n\u001b[1;32m----> 4\u001b[1;33m \u001b[0mresultado_nb\u001b[0m \u001b[1;33m=\u001b[0m \u001b[0mnb\u001b[0m\u001b[1;33m.\u001b[0m\u001b[0mpredict\u001b[0m\u001b[1;33m(\u001b[0m\u001b[0mX_testpassanger\u001b[0m\u001b[1;33m)\u001b[0m\u001b[1;33m\u001b[0m\u001b[1;33m\u001b[0m\u001b[0m\n\u001b[0m",
      "\u001b[1;32m~\\anaconda3\\lib\\site-packages\\sklearn\\naive_bayes.py\u001b[0m in \u001b[0;36mpredict\u001b[1;34m(self, X)\u001b[0m\n\u001b[0;32m     71\u001b[0m             \u001b[0mPredicted\u001b[0m \u001b[0mtarget\u001b[0m \u001b[0mvalues\u001b[0m \u001b[1;32mfor\u001b[0m \u001b[0mX\u001b[0m\u001b[1;33m\u001b[0m\u001b[1;33m\u001b[0m\u001b[0m\n\u001b[0;32m     72\u001b[0m         \"\"\"\n\u001b[1;32m---> 73\u001b[1;33m         \u001b[0mcheck_is_fitted\u001b[0m\u001b[1;33m(\u001b[0m\u001b[0mself\u001b[0m\u001b[1;33m)\u001b[0m\u001b[1;33m\u001b[0m\u001b[1;33m\u001b[0m\u001b[0m\n\u001b[0m\u001b[0;32m     74\u001b[0m         \u001b[0mX\u001b[0m \u001b[1;33m=\u001b[0m \u001b[0mself\u001b[0m\u001b[1;33m.\u001b[0m\u001b[0m_check_X\u001b[0m\u001b[1;33m(\u001b[0m\u001b[0mX\u001b[0m\u001b[1;33m)\u001b[0m\u001b[1;33m\u001b[0m\u001b[1;33m\u001b[0m\u001b[0m\n\u001b[0;32m     75\u001b[0m         \u001b[0mjll\u001b[0m \u001b[1;33m=\u001b[0m \u001b[0mself\u001b[0m\u001b[1;33m.\u001b[0m\u001b[0m_joint_log_likelihood\u001b[0m\u001b[1;33m(\u001b[0m\u001b[0mX\u001b[0m\u001b[1;33m)\u001b[0m\u001b[1;33m\u001b[0m\u001b[1;33m\u001b[0m\u001b[0m\n",
      "\u001b[1;32m~\\anaconda3\\lib\\site-packages\\sklearn\\utils\\validation.py\u001b[0m in \u001b[0;36minner_f\u001b[1;34m(*args, **kwargs)\u001b[0m\n\u001b[0;32m     61\u001b[0m             \u001b[0mextra_args\u001b[0m \u001b[1;33m=\u001b[0m \u001b[0mlen\u001b[0m\u001b[1;33m(\u001b[0m\u001b[0margs\u001b[0m\u001b[1;33m)\u001b[0m \u001b[1;33m-\u001b[0m \u001b[0mlen\u001b[0m\u001b[1;33m(\u001b[0m\u001b[0mall_args\u001b[0m\u001b[1;33m)\u001b[0m\u001b[1;33m\u001b[0m\u001b[1;33m\u001b[0m\u001b[0m\n\u001b[0;32m     62\u001b[0m             \u001b[1;32mif\u001b[0m \u001b[0mextra_args\u001b[0m \u001b[1;33m<=\u001b[0m \u001b[1;36m0\u001b[0m\u001b[1;33m:\u001b[0m\u001b[1;33m\u001b[0m\u001b[1;33m\u001b[0m\u001b[0m\n\u001b[1;32m---> 63\u001b[1;33m                 \u001b[1;32mreturn\u001b[0m \u001b[0mf\u001b[0m\u001b[1;33m(\u001b[0m\u001b[1;33m*\u001b[0m\u001b[0margs\u001b[0m\u001b[1;33m,\u001b[0m \u001b[1;33m**\u001b[0m\u001b[0mkwargs\u001b[0m\u001b[1;33m)\u001b[0m\u001b[1;33m\u001b[0m\u001b[1;33m\u001b[0m\u001b[0m\n\u001b[0m\u001b[0;32m     64\u001b[0m \u001b[1;33m\u001b[0m\u001b[0m\n\u001b[0;32m     65\u001b[0m             \u001b[1;31m# extra_args > 0\u001b[0m\u001b[1;33m\u001b[0m\u001b[1;33m\u001b[0m\u001b[0m\n",
      "\u001b[1;32m~\\anaconda3\\lib\\site-packages\\sklearn\\utils\\validation.py\u001b[0m in \u001b[0;36mcheck_is_fitted\u001b[1;34m(estimator, attributes, msg, all_or_any)\u001b[0m\n\u001b[0;32m   1096\u001b[0m \u001b[1;33m\u001b[0m\u001b[0m\n\u001b[0;32m   1097\u001b[0m     \u001b[1;32mif\u001b[0m \u001b[1;32mnot\u001b[0m \u001b[0mattrs\u001b[0m\u001b[1;33m:\u001b[0m\u001b[1;33m\u001b[0m\u001b[1;33m\u001b[0m\u001b[0m\n\u001b[1;32m-> 1098\u001b[1;33m         \u001b[1;32mraise\u001b[0m \u001b[0mNotFittedError\u001b[0m\u001b[1;33m(\u001b[0m\u001b[0mmsg\u001b[0m \u001b[1;33m%\u001b[0m \u001b[1;33m{\u001b[0m\u001b[1;34m'name'\u001b[0m\u001b[1;33m:\u001b[0m \u001b[0mtype\u001b[0m\u001b[1;33m(\u001b[0m\u001b[0mestimator\u001b[0m\u001b[1;33m)\u001b[0m\u001b[1;33m.\u001b[0m\u001b[0m__name__\u001b[0m\u001b[1;33m}\u001b[0m\u001b[1;33m)\u001b[0m\u001b[1;33m\u001b[0m\u001b[1;33m\u001b[0m\u001b[0m\n\u001b[0m\u001b[0;32m   1099\u001b[0m \u001b[1;33m\u001b[0m\u001b[0m\n\u001b[0;32m   1100\u001b[0m \u001b[1;33m\u001b[0m\u001b[0m\n",
      "\u001b[1;31mNotFittedError\u001b[0m: This GaussianNB instance is not fitted yet. Call 'fit' with appropriate arguments before using this estimator."
     ]
    }
   ],
   "source": [
    "nb = GaussianNB()\n",
    "knn.fit(X_trainpassanger, y_trainpassanger)\n",
    "# Fazendo a predição nos dados de treino\n",
    "resultado_nb = nb.predict(X_testpassanger)"
   ]
  },
  {
   "cell_type": "code",
   "execution_count": null,
   "id": "b0c6cc79",
   "metadata": {},
   "outputs": [],
   "source": [
    "SVM = SVC()\n",
    "SVM.fit(X_trainpassanger, y_trainpassanger)\n",
    "# Fazendo a predição nos dados de treino\n",
    "resultado_SVM = SVM.predict(X_testpassanger)"
   ]
  },
  {
   "cell_type": "markdown",
   "id": "cd8ad5fd",
   "metadata": {},
   "source": [
    "# <font color='red' style='font-size: 30px;'>Desempenho dos modelos</font>\n",
    "<hr style='border: 2px solid red;'>"
   ]
  },
  {
   "cell_type": "markdown",
   "id": "9db3f512",
   "metadata": {},
   "source": [
    "## Resultado Decision Tree"
   ]
  },
  {
   "cell_type": "code",
   "execution_count": null,
   "id": "1fced323",
   "metadata": {},
   "outputs": [],
   "source": [
    "\n",
    "print(classification_report(y_testpassanger, resultado_dtc))"
   ]
  },
  {
   "cell_type": "code",
   "execution_count": null,
   "id": "b8f9e507",
   "metadata": {},
   "outputs": [],
   "source": [
    "def display_scores(scores):\n",
    "    print('Scores:', scores.round(decimals=2))\n",
    "    print('Mean:', scores.mean())\n",
    "    print('Standard deviation:', scores.std())"
   ]
  },
  {
   "cell_type": "code",
   "execution_count": null,
   "id": "7c892347",
   "metadata": {},
   "outputs": [],
   "source": [
    "tree_scores = cross_val_score(\n",
    "    dtc,\n",
    "    X_trainpassanger,\n",
    "    y_trainpassanger,\n",
    "    cv=10,\n",
    ")\n",
    "\n",
    "tree_rmse_scores = tree_scores\n",
    "print(tree_rmse_scores)\n",
    "\n",
    "display_scores(tree_rmse_scores)"
   ]
  },
  {
   "cell_type": "markdown",
   "id": "3f994d60",
   "metadata": {},
   "source": [
    "## Resultado KNN"
   ]
  },
  {
   "cell_type": "code",
   "execution_count": null,
   "id": "775e825e",
   "metadata": {},
   "outputs": [],
   "source": [
    "print(classification_report(y_testpassanger, resultado_knn))"
   ]
  },
  {
   "cell_type": "code",
   "execution_count": null,
   "id": "0e0289f3",
   "metadata": {},
   "outputs": [],
   "source": [
    "knn_scores = cross_val_score(\n",
    "    knn,\n",
    "    X_trainpassanger,\n",
    "    y_trainpassanger,\n",
    "    cv=10,\n",
    ")\n",
    "\n",
    "knn_rmse_scores = knn_scores\n",
    "print(knn_rmse_scores)\n",
    "\n",
    "display_scores(knn_rmse_scores)"
   ]
  },
  {
   "cell_type": "markdown",
   "id": "08654eb1",
   "metadata": {},
   "source": [
    "## Resultados Regressão Logística \n",
    "(é de classificação)"
   ]
  },
  {
   "cell_type": "code",
   "execution_count": null,
   "id": "f7e8a307",
   "metadata": {},
   "outputs": [],
   "source": [
    "print(classification_report(y_testpassanger, resultado_clr))"
   ]
  },
  {
   "cell_type": "code",
   "execution_count": null,
   "id": "d3b93f94",
   "metadata": {},
   "outputs": [],
   "source": [
    "clr_scores = cross_val_score(\n",
    "    clr,\n",
    "    X_trainpassanger,\n",
    "    y_trainpassanger,\n",
    "    cv=10,\n",
    ")\n",
    "\n",
    "clr_rmse_scores = clr_scores\n",
    "print(clr_rmse_scores)\n",
    "\n",
    "display_scores(clr_rmse_scores)"
   ]
  },
  {
   "cell_type": "markdown",
   "id": "2fe75f51",
   "metadata": {},
   "source": [
    "# Resultados Gaussian Classifier"
   ]
  },
  {
   "cell_type": "code",
   "execution_count": null,
   "id": "664d6f26",
   "metadata": {},
   "outputs": [],
   "source": [
    "print(classification_report(y_testpassanger, resultado_nb))"
   ]
  },
  {
   "cell_type": "code",
   "execution_count": null,
   "id": "d64b99d0",
   "metadata": {},
   "outputs": [],
   "source": [
    "nb_scores = cross_val_score(\n",
    "    nb,\n",
    "    X_trainpassanger,\n",
    "    y_trainpassanger,\n",
    "    cv=10,\n",
    ")\n",
    "\n",
    "nb_rmse_scores = nb_scores\n",
    "print(nb_rmse_scores)\n",
    "\n",
    "display_scores(nb_rmse_scores)"
   ]
  },
  {
   "cell_type": "markdown",
   "id": "c1c743f6",
   "metadata": {},
   "source": [
    "# Resultados SVC "
   ]
  },
  {
   "cell_type": "code",
   "execution_count": null,
   "id": "e4705a79",
   "metadata": {},
   "outputs": [],
   "source": [
    "print(classification_report(y_testpassanger, resultado_SVM))"
   ]
  },
  {
   "cell_type": "code",
   "execution_count": null,
   "id": "505c62be",
   "metadata": {},
   "outputs": [],
   "source": [
    "SVM_scores = cross_val_score(\n",
    "    SVM,\n",
    "    X_trainpassanger,\n",
    "    y_trainpassanger,\n",
    "    cv=10,\n",
    ")\n",
    "\n",
    "SVM_rmse_scores = SVM_scores\n",
    "print(SVM_rmse_scores)\n",
    "\n",
    "display_scores(SVM_rmse_scores)"
   ]
  },
  {
   "cell_type": "markdown",
   "id": "ed64f034",
   "metadata": {},
   "source": [
    "# boxplot"
   ]
  },
  {
   "cell_type": "code",
   "execution_count": null,
   "id": "55046548",
   "metadata": {},
   "outputs": [],
   "source": [
    "df_passangers.boxplot(['Valor Bruto'], by=['Transported'])\n",
    "#fazer modelo com e sem para ver se muda alguma coisa\n",
    "#fazer o predict para o perfil de uma pessoa e de outra pessoa que so muda a variavel do valor bruto\n",
    "plt.ylim(-2000,5000)"
   ]
  },
  {
   "cell_type": "code",
   "execution_count": null,
   "id": "81446df8",
   "metadata": {},
   "outputs": [],
   "source": [
    "df_passangers.boxplot(['Age'], by=['Transported'])"
   ]
  },
  {
   "cell_type": "code",
   "execution_count": null,
   "id": "fca15126",
   "metadata": {},
   "outputs": [],
   "source": []
  }
 ],
 "metadata": {
  "kernelspec": {
   "display_name": "Python 3 (ipykernel)",
   "language": "python",
   "name": "python3"
  },
  "language_info": {
   "codemirror_mode": {
    "name": "ipython",
    "version": 3
   },
   "file_extension": ".py",
   "mimetype": "text/x-python",
   "name": "python",
   "nbconvert_exporter": "python",
   "pygments_lexer": "ipython3",
   "version": "3.9.7"
  }
 },
 "nbformat": 4,
 "nbformat_minor": 5
}
