{
 "cells": [
  {
   "cell_type": "markdown",
   "id": "0ac9c015",
   "metadata": {},
   "source": [
    "# O Dataset e o Projeto: Passangers \n",
    "<hr>\n",
    "<p> Thomas Bekhor, João Bresser, Marcos Paulo</p>\n",
    "\n",
    "###  Descrição:\n",
    "<p style='font-size: 18px; line-height: 2; margin: 10px 50px; text-align: justify;'> O dataset é o conjunto de passageiros, que fizeram uma viagem interplanetar.</p>\n",
    "\n",
    "### Features do Dataset:\n",
    "<ul style='font-size: 18px; line-height: 2; text-align: justify;'>\n",
    "    <li><b>Passengerid </b> - Numero individual de cada passageiro.</li>\n",
    "    <li><b>Home Planet</b> - Local de origem do passageiro. </li>\n",
    "    <li><b>CryoSleep</b> - Indica se o passageiro foi colocado em \"CryoSleep\"  </li>\n",
    "    <li><b>Cabin</b> - Cabine que o passageiro estava. Deck/numero/lado </li>\n",
    "    <li><b>Destination</b> - Local que o passageiro vai </li>\n",
    "    <li><b>Age</b> - Idade do passageiro </li>\n",
    "    <li><b>VIP</b> - Se o passageiro é VIP </li>\n",
    "    <li><b>RoomService, FoodCourt, ShoppingMall, Spa, VRDeck</b> - Dinheiro que cada passageiro gastou na viagem </li>\n",
    "    <li><b>Name</b> - Nome do passageiro </li>\n",
    "    <li><b>Transported</b> - Se o passageiro foi transportado para outra dimensão </li>\n",
    "</ul>\n",
    "<p style='font-size: 18px; line-height: 2; margin: 10px 50px; text-align: justify;'>O objetivo deste treinamento será estimar um modelo de <b>Machine Learning</b> utilizando a técnica de <b>Classificação</b> para demonstrar os impactos das variáveis disponibilizadas neste dataset. No final do projeto teremos um modelo de Classificação acurado para a target Transported.</p>\n",
    "    \n",
    "<p style='font-size: 18px; line-height: 2; margin: 10px 50px; text-align: justify;'></p>"
   ]
  },
  {
   "cell_type": "markdown",
   "id": "63a8982f",
   "metadata": {},
   "source": [
    "# <font color='red' style='font-size: 30px;'>Importando bibliotecas</font>\n",
    "<hr style='border: 2px solid red;'>"
   ]
  },
  {
   "cell_type": "code",
   "execution_count": 135,
   "id": "f8694df2",
   "metadata": {},
   "outputs": [],
   "source": [
    "%matplotlib inline\n",
    "#bibliotecas matemáticas e graficas\n",
    "import pandas as pd\n",
    "import numpy as np\n",
    "import matplotlib.pyplot as plt\n",
    "import seaborn as sns\n",
    "\n",
    "#separação entre treino e teste\n",
    "from sklearn.model_selection import train_test_split\n",
    "\n",
    "#separação estratificada\n",
    "from sklearn.pipeline import Pipeline\n",
    "from sklearn.preprocessing import PolynomialFeatures, StandardScaler\n",
    "from sklearn.impute import SimpleImputer\n",
    "from sklearn.preprocessing import OneHotEncoder\n",
    "from sklearn.compose import ColumnTransformer\n",
    "\n",
    "#modelagem\n",
    "from sklearn.tree import DecisionTreeClassifier\n",
    "from sklearn.linear_model import LogisticRegression\n",
    "from sklearn.neighbors import KNeighborsClassifier\n",
    "from sklearn.naive_bayes import GaussianNB\n",
    "from sklearn.svm import SVC\n",
    "\n",
    "#resultados da modelagem\n",
    "from sklearn.metrics import r2_score\n",
    "from sklearn.metrics import mean_squared_error\n",
    "from sklearn.metrics import classification_report\n",
    "\n",
    "#fazer o cross validation\n",
    "from sklearn.model_selection import cross_val_score\n",
    "\n",
    "\n",
    "#encontrando os melhores features\n",
    "from sklearn.feature_selection import f_regression, mutual_info_regression\n",
    "from sklearn.feature_selection import SelectKBest\n",
    "\n",
    "#serializar modelo\n",
    "import joblib\n",
    "\n",
    "\n",
    "#tuning de hiperparametros\n",
    "from sklearn.model_selection import GridSearchCV, RandomizedSearchCV\n",
    "\n",
    "from pprint import pprint\n"
   ]
  },
  {
   "cell_type": "code",
   "execution_count": 136,
   "id": "ab4936af",
   "metadata": {},
   "outputs": [],
   "source": [
    "RAND_SEED = 42\n",
    "np.random.seed(RAND_SEED)"
   ]
  },
  {
   "cell_type": "markdown",
   "id": "c69553e3",
   "metadata": {},
   "source": [
    "# <font color='red' style='font-size: 30px;'>Explorando o DataSet</font>\n",
    "<hr style='border: 2px solid red;'>"
   ]
  },
  {
   "cell_type": "code",
   "execution_count": 137,
   "id": "d9ee2c5b",
   "metadata": {},
   "outputs": [],
   "source": [
    "df_passangers = pd.read_csv(\"DATA2_passengers.csv\")"
   ]
  },
  {
   "cell_type": "code",
   "execution_count": 138,
   "id": "c0f6ffeb",
   "metadata": {},
   "outputs": [
    {
     "data": {
      "text/html": [
       "<div>\n",
       "<style scoped>\n",
       "    .dataframe tbody tr th:only-of-type {\n",
       "        vertical-align: middle;\n",
       "    }\n",
       "\n",
       "    .dataframe tbody tr th {\n",
       "        vertical-align: top;\n",
       "    }\n",
       "\n",
       "    .dataframe thead th {\n",
       "        text-align: right;\n",
       "    }\n",
       "</style>\n",
       "<table border=\"1\" class=\"dataframe\">\n",
       "  <thead>\n",
       "    <tr style=\"text-align: right;\">\n",
       "      <th></th>\n",
       "      <th>PassengerId</th>\n",
       "      <th>HomePlanet</th>\n",
       "      <th>CryoSleep</th>\n",
       "      <th>Cabin</th>\n",
       "      <th>Destination</th>\n",
       "      <th>Age</th>\n",
       "      <th>VIP</th>\n",
       "      <th>RoomService</th>\n",
       "      <th>FoodCourt</th>\n",
       "      <th>ShoppingMall</th>\n",
       "      <th>Spa</th>\n",
       "      <th>VRDeck</th>\n",
       "      <th>Name</th>\n",
       "      <th>Transported</th>\n",
       "    </tr>\n",
       "  </thead>\n",
       "  <tbody>\n",
       "    <tr>\n",
       "      <th>0</th>\n",
       "      <td>0001_01</td>\n",
       "      <td>Europa</td>\n",
       "      <td>False</td>\n",
       "      <td>B/0/P</td>\n",
       "      <td>TRAPPIST-1e</td>\n",
       "      <td>39.0</td>\n",
       "      <td>False</td>\n",
       "      <td>0.0</td>\n",
       "      <td>0.0</td>\n",
       "      <td>0.0</td>\n",
       "      <td>0.0</td>\n",
       "      <td>0.0</td>\n",
       "      <td>Maham Ofracculy</td>\n",
       "      <td>False</td>\n",
       "    </tr>\n",
       "    <tr>\n",
       "      <th>1</th>\n",
       "      <td>0002_01</td>\n",
       "      <td>Earth</td>\n",
       "      <td>False</td>\n",
       "      <td>F/0/S</td>\n",
       "      <td>TRAPPIST-1e</td>\n",
       "      <td>24.0</td>\n",
       "      <td>False</td>\n",
       "      <td>109.0</td>\n",
       "      <td>9.0</td>\n",
       "      <td>25.0</td>\n",
       "      <td>549.0</td>\n",
       "      <td>44.0</td>\n",
       "      <td>Juanna Vines</td>\n",
       "      <td>True</td>\n",
       "    </tr>\n",
       "    <tr>\n",
       "      <th>2</th>\n",
       "      <td>0003_01</td>\n",
       "      <td>Europa</td>\n",
       "      <td>False</td>\n",
       "      <td>A/0/S</td>\n",
       "      <td>TRAPPIST-1e</td>\n",
       "      <td>58.0</td>\n",
       "      <td>True</td>\n",
       "      <td>43.0</td>\n",
       "      <td>3576.0</td>\n",
       "      <td>0.0</td>\n",
       "      <td>6715.0</td>\n",
       "      <td>49.0</td>\n",
       "      <td>Altark Susent</td>\n",
       "      <td>False</td>\n",
       "    </tr>\n",
       "    <tr>\n",
       "      <th>3</th>\n",
       "      <td>0003_02</td>\n",
       "      <td>Europa</td>\n",
       "      <td>False</td>\n",
       "      <td>A/0/S</td>\n",
       "      <td>TRAPPIST-1e</td>\n",
       "      <td>33.0</td>\n",
       "      <td>False</td>\n",
       "      <td>0.0</td>\n",
       "      <td>1283.0</td>\n",
       "      <td>371.0</td>\n",
       "      <td>3329.0</td>\n",
       "      <td>193.0</td>\n",
       "      <td>Solam Susent</td>\n",
       "      <td>False</td>\n",
       "    </tr>\n",
       "    <tr>\n",
       "      <th>4</th>\n",
       "      <td>0004_01</td>\n",
       "      <td>Earth</td>\n",
       "      <td>False</td>\n",
       "      <td>F/1/S</td>\n",
       "      <td>TRAPPIST-1e</td>\n",
       "      <td>16.0</td>\n",
       "      <td>False</td>\n",
       "      <td>303.0</td>\n",
       "      <td>70.0</td>\n",
       "      <td>151.0</td>\n",
       "      <td>565.0</td>\n",
       "      <td>2.0</td>\n",
       "      <td>Willy Santantines</td>\n",
       "      <td>True</td>\n",
       "    </tr>\n",
       "  </tbody>\n",
       "</table>\n",
       "</div>"
      ],
      "text/plain": [
       "  PassengerId HomePlanet CryoSleep  Cabin  Destination   Age    VIP  \\\n",
       "0     0001_01     Europa     False  B/0/P  TRAPPIST-1e  39.0  False   \n",
       "1     0002_01      Earth     False  F/0/S  TRAPPIST-1e  24.0  False   \n",
       "2     0003_01     Europa     False  A/0/S  TRAPPIST-1e  58.0   True   \n",
       "3     0003_02     Europa     False  A/0/S  TRAPPIST-1e  33.0  False   \n",
       "4     0004_01      Earth     False  F/1/S  TRAPPIST-1e  16.0  False   \n",
       "\n",
       "   RoomService  FoodCourt  ShoppingMall     Spa  VRDeck               Name  \\\n",
       "0          0.0        0.0           0.0     0.0     0.0    Maham Ofracculy   \n",
       "1        109.0        9.0          25.0   549.0    44.0       Juanna Vines   \n",
       "2         43.0     3576.0           0.0  6715.0    49.0      Altark Susent   \n",
       "3          0.0     1283.0         371.0  3329.0   193.0       Solam Susent   \n",
       "4        303.0       70.0         151.0   565.0     2.0  Willy Santantines   \n",
       "\n",
       "   Transported  \n",
       "0        False  \n",
       "1         True  \n",
       "2        False  \n",
       "3        False  \n",
       "4         True  "
      ]
     },
     "execution_count": 138,
     "metadata": {},
     "output_type": "execute_result"
    }
   ],
   "source": [
    "df_passangers.head()"
   ]
  },
  {
   "cell_type": "code",
   "execution_count": 139,
   "id": "5ad1b634",
   "metadata": {},
   "outputs": [
    {
     "data": {
      "text/html": [
       "<div>\n",
       "<style scoped>\n",
       "    .dataframe tbody tr th:only-of-type {\n",
       "        vertical-align: middle;\n",
       "    }\n",
       "\n",
       "    .dataframe tbody tr th {\n",
       "        vertical-align: top;\n",
       "    }\n",
       "\n",
       "    .dataframe thead th {\n",
       "        text-align: right;\n",
       "    }\n",
       "</style>\n",
       "<table border=\"1\" class=\"dataframe\">\n",
       "  <thead>\n",
       "    <tr style=\"text-align: right;\">\n",
       "      <th></th>\n",
       "      <th>count</th>\n",
       "      <th>mean</th>\n",
       "      <th>std</th>\n",
       "      <th>min</th>\n",
       "      <th>25%</th>\n",
       "      <th>50%</th>\n",
       "      <th>75%</th>\n",
       "      <th>max</th>\n",
       "    </tr>\n",
       "  </thead>\n",
       "  <tbody>\n",
       "    <tr>\n",
       "      <th>Age</th>\n",
       "      <td>8514.0</td>\n",
       "      <td>28.827930</td>\n",
       "      <td>14.489021</td>\n",
       "      <td>0.0</td>\n",
       "      <td>19.0</td>\n",
       "      <td>27.0</td>\n",
       "      <td>38.0</td>\n",
       "      <td>79.0</td>\n",
       "    </tr>\n",
       "    <tr>\n",
       "      <th>RoomService</th>\n",
       "      <td>8512.0</td>\n",
       "      <td>224.687617</td>\n",
       "      <td>666.717663</td>\n",
       "      <td>0.0</td>\n",
       "      <td>0.0</td>\n",
       "      <td>0.0</td>\n",
       "      <td>47.0</td>\n",
       "      <td>14327.0</td>\n",
       "    </tr>\n",
       "    <tr>\n",
       "      <th>FoodCourt</th>\n",
       "      <td>8510.0</td>\n",
       "      <td>458.077203</td>\n",
       "      <td>1611.489240</td>\n",
       "      <td>0.0</td>\n",
       "      <td>0.0</td>\n",
       "      <td>0.0</td>\n",
       "      <td>76.0</td>\n",
       "      <td>29813.0</td>\n",
       "    </tr>\n",
       "    <tr>\n",
       "      <th>ShoppingMall</th>\n",
       "      <td>8485.0</td>\n",
       "      <td>173.729169</td>\n",
       "      <td>604.696458</td>\n",
       "      <td>0.0</td>\n",
       "      <td>0.0</td>\n",
       "      <td>0.0</td>\n",
       "      <td>27.0</td>\n",
       "      <td>23492.0</td>\n",
       "    </tr>\n",
       "    <tr>\n",
       "      <th>Spa</th>\n",
       "      <td>8510.0</td>\n",
       "      <td>311.138778</td>\n",
       "      <td>1136.705535</td>\n",
       "      <td>0.0</td>\n",
       "      <td>0.0</td>\n",
       "      <td>0.0</td>\n",
       "      <td>59.0</td>\n",
       "      <td>22408.0</td>\n",
       "    </tr>\n",
       "    <tr>\n",
       "      <th>VRDeck</th>\n",
       "      <td>8505.0</td>\n",
       "      <td>304.854791</td>\n",
       "      <td>1145.717189</td>\n",
       "      <td>0.0</td>\n",
       "      <td>0.0</td>\n",
       "      <td>0.0</td>\n",
       "      <td>46.0</td>\n",
       "      <td>24133.0</td>\n",
       "    </tr>\n",
       "  </tbody>\n",
       "</table>\n",
       "</div>"
      ],
      "text/plain": [
       "               count        mean          std  min   25%   50%   75%      max\n",
       "Age           8514.0   28.827930    14.489021  0.0  19.0  27.0  38.0     79.0\n",
       "RoomService   8512.0  224.687617   666.717663  0.0   0.0   0.0  47.0  14327.0\n",
       "FoodCourt     8510.0  458.077203  1611.489240  0.0   0.0   0.0  76.0  29813.0\n",
       "ShoppingMall  8485.0  173.729169   604.696458  0.0   0.0   0.0  27.0  23492.0\n",
       "Spa           8510.0  311.138778  1136.705535  0.0   0.0   0.0  59.0  22408.0\n",
       "VRDeck        8505.0  304.854791  1145.717189  0.0   0.0   0.0  46.0  24133.0"
      ]
     },
     "execution_count": 139,
     "metadata": {},
     "output_type": "execute_result"
    }
   ],
   "source": [
    "df_passangers.describe().transpose()"
   ]
  },
  {
   "cell_type": "code",
   "execution_count": 140,
   "id": "3ec9e459",
   "metadata": {},
   "outputs": [
    {
     "name": "stdout",
     "output_type": "stream",
     "text": [
      "<class 'pandas.core.frame.DataFrame'>\n",
      "RangeIndex: 8693 entries, 0 to 8692\n",
      "Data columns (total 14 columns):\n",
      " #   Column        Non-Null Count  Dtype  \n",
      "---  ------        --------------  -----  \n",
      " 0   PassengerId   8693 non-null   object \n",
      " 1   HomePlanet    8492 non-null   object \n",
      " 2   CryoSleep     8476 non-null   object \n",
      " 3   Cabin         8494 non-null   object \n",
      " 4   Destination   8511 non-null   object \n",
      " 5   Age           8514 non-null   float64\n",
      " 6   VIP           8490 non-null   object \n",
      " 7   RoomService   8512 non-null   float64\n",
      " 8   FoodCourt     8510 non-null   float64\n",
      " 9   ShoppingMall  8485 non-null   float64\n",
      " 10  Spa           8510 non-null   float64\n",
      " 11  VRDeck        8505 non-null   float64\n",
      " 12  Name          8493 non-null   object \n",
      " 13  Transported   8693 non-null   bool   \n",
      "dtypes: bool(1), float64(6), object(7)\n",
      "memory usage: 891.5+ KB\n"
     ]
    }
   ],
   "source": [
    "df_passangers.info()"
   ]
  },
  {
   "cell_type": "code",
   "execution_count": 141,
   "id": "6aad4c0d",
   "metadata": {},
   "outputs": [
    {
     "data": {
      "text/plain": [
       "PassengerId       0\n",
       "HomePlanet      201\n",
       "CryoSleep       217\n",
       "Cabin           199\n",
       "Destination     182\n",
       "Age             179\n",
       "VIP             203\n",
       "RoomService     181\n",
       "FoodCourt       183\n",
       "ShoppingMall    208\n",
       "Spa             183\n",
       "VRDeck          188\n",
       "Name            200\n",
       "Transported       0\n",
       "dtype: int64"
      ]
     },
     "execution_count": 141,
     "metadata": {},
     "output_type": "execute_result"
    }
   ],
   "source": [
    "df_passangers.isnull().sum()"
   ]
  },
  {
   "cell_type": "markdown",
   "id": "3e35be0a",
   "metadata": {},
   "source": [
    "# <font color='red' style='font-size: 30px;'>Tratando Dados Nulos</font>\n",
    "<hr style='border: 2px solid red;'>"
   ]
  },
  {
   "cell_type": "code",
   "execution_count": 142,
   "id": "7c9866e7",
   "metadata": {},
   "outputs": [],
   "source": [
    "df_passangers=df_passangers[df_passangers[\"Transported\"].notna()]\n",
    "#a coluna Transported é exencial para a nossa analise. (não tem nulo mas vou garantir)"
   ]
  },
  {
   "cell_type": "code",
   "execution_count": 143,
   "id": "0b4e1a66",
   "metadata": {},
   "outputs": [
    {
     "data": {
      "text/plain": [
       "False    8291\n",
       "True      199\n",
       "Name: VIP, dtype: int64"
      ]
     },
     "execution_count": 143,
     "metadata": {},
     "output_type": "execute_result"
    }
   ],
   "source": [
    "#Quantidade de Vip True e False no dataframe\n",
    "#Como tem bem menos True para os valores faltantes faz sentido coloca-los como False\n",
    "df_passangers['VIP'].value_counts()"
   ]
  },
  {
   "cell_type": "code",
   "execution_count": 144,
   "id": "4c3cf411",
   "metadata": {},
   "outputs": [],
   "source": [
    "#ver a quantidade de nao nulos e fazer input para os que tem quantidade relevante \n",
    "import math\n",
    "\n",
    "#Para todos os Valores de nulos que são quantitativos coloquei a mediana\n",
    "#Porque todos os que fazem referencia a renda tem a mesma distribuição\n",
    "# e colando a mediana a distribuição dos dados não é tao alterada\n",
    "\n",
    "SPA_medio=df_passangers['Spa'].median()\n",
    "SPA_medio=math.floor(SPA_medio)\n",
    "df_passangers.update(df_passangers['Spa'].fillna(SPA_medio))\n",
    "\n",
    "\n",
    "\n",
    "shopping_medio=df_passangers['ShoppingMall'].median()\n",
    "shopping_medio=math.floor(shopping_medio)\n",
    "df_passangers.update(df_passangers['ShoppingMall'].fillna(shopping_medio))\n",
    "\n",
    "df_passangers=df_passangers[df_passangers[\"Cabin\"].notna()]\n",
    "\n",
    "Age_medio=df_passangers[\"Age\"].median()\n",
    "Age_medio=math.floor(Age_medio)\n",
    "df_passangers.update(df_passangers[\"Age\"].fillna(Age_medio))\n",
    "\n",
    "\n",
    "df_passangers.update(df_passangers[\"VIP\"].fillna(False))\n",
    "#Justificado anteriormente o valor de VIP \n",
    "\n",
    "RoomService_medio=df_passangers[\"RoomService\"].median()\n",
    "RoomService_medio=math.floor(RoomService_medio)\n",
    "df_passangers.update(df_passangers[\"RoomService\"].fillna(RoomService_medio))\n",
    "\n",
    "\n",
    "FoodCourt_medio=df_passangers[\"FoodCourt\"].median()\n",
    "FoodCourt_medio=math.floor(FoodCourt_medio)\n",
    "df_passangers.update(df_passangers[\"FoodCourt\"].fillna(FoodCourt_medio))\n",
    "\n",
    "\n",
    "VRDeck_medio=df_passangers[\"VRDeck\"].median()\n",
    "VRDeck_medio=math.floor(VRDeck_medio)\n",
    "df_passangers.update(df_passangers[\"VRDeck\"].fillna(VRDeck_medio))\n",
    "\n",
    "\n"
   ]
  },
  {
   "cell_type": "markdown",
   "id": "9ae9b6c0",
   "metadata": {},
   "source": [
    "<p>Na celula de baixo vou filtrar os valores quantitavos maiores que 0 para ter uma visão melhor da distribuição deles. Uma vez que deixando o 0 dá para ver que todos tem uma distribuição de 0 muito grandes, mas não dá para ver as distribuióes seguintes</p>\n"
   ]
  },
  {
   "cell_type": "code",
   "execution_count": 145,
   "id": "2de91d1d",
   "metadata": {},
   "outputs": [
    {
     "data": {
      "text/html": [
       "<div>\n",
       "<style scoped>\n",
       "    .dataframe tbody tr th:only-of-type {\n",
       "        vertical-align: middle;\n",
       "    }\n",
       "\n",
       "    .dataframe tbody tr th {\n",
       "        vertical-align: top;\n",
       "    }\n",
       "\n",
       "    .dataframe thead th {\n",
       "        text-align: right;\n",
       "    }\n",
       "</style>\n",
       "<table border=\"1\" class=\"dataframe\">\n",
       "  <thead>\n",
       "    <tr style=\"text-align: right;\">\n",
       "      <th></th>\n",
       "      <th>PassengerId</th>\n",
       "      <th>HomePlanet</th>\n",
       "      <th>CryoSleep</th>\n",
       "      <th>Cabin</th>\n",
       "      <th>Destination</th>\n",
       "      <th>Age</th>\n",
       "      <th>VIP</th>\n",
       "      <th>RoomService</th>\n",
       "      <th>FoodCourt</th>\n",
       "      <th>ShoppingMall</th>\n",
       "      <th>Spa</th>\n",
       "      <th>VRDeck</th>\n",
       "      <th>Name</th>\n",
       "      <th>Transported</th>\n",
       "    </tr>\n",
       "  </thead>\n",
       "  <tbody>\n",
       "    <tr>\n",
       "      <th>1</th>\n",
       "      <td>0002_01</td>\n",
       "      <td>Earth</td>\n",
       "      <td>False</td>\n",
       "      <td>F/0/S</td>\n",
       "      <td>TRAPPIST-1e</td>\n",
       "      <td>24.0</td>\n",
       "      <td>False</td>\n",
       "      <td>109.0</td>\n",
       "      <td>9.0</td>\n",
       "      <td>25.0</td>\n",
       "      <td>549.0</td>\n",
       "      <td>44.0</td>\n",
       "      <td>Juanna Vines</td>\n",
       "      <td>True</td>\n",
       "    </tr>\n",
       "    <tr>\n",
       "      <th>4</th>\n",
       "      <td>0004_01</td>\n",
       "      <td>Earth</td>\n",
       "      <td>False</td>\n",
       "      <td>F/1/S</td>\n",
       "      <td>TRAPPIST-1e</td>\n",
       "      <td>16.0</td>\n",
       "      <td>False</td>\n",
       "      <td>303.0</td>\n",
       "      <td>70.0</td>\n",
       "      <td>151.0</td>\n",
       "      <td>565.0</td>\n",
       "      <td>2.0</td>\n",
       "      <td>Willy Santantines</td>\n",
       "      <td>True</td>\n",
       "    </tr>\n",
       "    <tr>\n",
       "      <th>11</th>\n",
       "      <td>0008_03</td>\n",
       "      <td>Europa</td>\n",
       "      <td>False</td>\n",
       "      <td>B/1/P</td>\n",
       "      <td>55 Cancri e</td>\n",
       "      <td>45.0</td>\n",
       "      <td>False</td>\n",
       "      <td>39.0</td>\n",
       "      <td>7295.0</td>\n",
       "      <td>589.0</td>\n",
       "      <td>110.0</td>\n",
       "      <td>124.0</td>\n",
       "      <td>Wezena Flatic</td>\n",
       "      <td>True</td>\n",
       "    </tr>\n",
       "    <tr>\n",
       "      <th>14</th>\n",
       "      <td>0011_01</td>\n",
       "      <td>Earth</td>\n",
       "      <td>False</td>\n",
       "      <td>F/2/P</td>\n",
       "      <td>TRAPPIST-1e</td>\n",
       "      <td>28.0</td>\n",
       "      <td>False</td>\n",
       "      <td>8.0</td>\n",
       "      <td>974.0</td>\n",
       "      <td>12.0</td>\n",
       "      <td>2.0</td>\n",
       "      <td>7.0</td>\n",
       "      <td>Elle Bertsontry</td>\n",
       "      <td>True</td>\n",
       "    </tr>\n",
       "    <tr>\n",
       "      <th>54</th>\n",
       "      <td>0056_03</td>\n",
       "      <td>Europa</td>\n",
       "      <td>False</td>\n",
       "      <td>A/1/S</td>\n",
       "      <td>TRAPPIST-1e</td>\n",
       "      <td>27.0</td>\n",
       "      <td>False</td>\n",
       "      <td>279.0</td>\n",
       "      <td>605.0</td>\n",
       "      <td>3374.0</td>\n",
       "      <td>286.0</td>\n",
       "      <td>3.0</td>\n",
       "      <td>Zinoces Tractive</td>\n",
       "      <td>True</td>\n",
       "    </tr>\n",
       "    <tr>\n",
       "      <th>...</th>\n",
       "      <td>...</td>\n",
       "      <td>...</td>\n",
       "      <td>...</td>\n",
       "      <td>...</td>\n",
       "      <td>...</td>\n",
       "      <td>...</td>\n",
       "      <td>...</td>\n",
       "      <td>...</td>\n",
       "      <td>...</td>\n",
       "      <td>...</td>\n",
       "      <td>...</td>\n",
       "      <td>...</td>\n",
       "      <td>...</td>\n",
       "      <td>...</td>\n",
       "    </tr>\n",
       "    <tr>\n",
       "      <th>3439</th>\n",
       "      <td>3707_01</td>\n",
       "      <td>Earth</td>\n",
       "      <td>False</td>\n",
       "      <td>G/604/S</td>\n",
       "      <td>TRAPPIST-1e</td>\n",
       "      <td>18.0</td>\n",
       "      <td>False</td>\n",
       "      <td>622.0</td>\n",
       "      <td>53.0</td>\n",
       "      <td>8.0</td>\n",
       "      <td>47.0</td>\n",
       "      <td>39.0</td>\n",
       "      <td>Marvey Delangleton</td>\n",
       "      <td>False</td>\n",
       "    </tr>\n",
       "    <tr>\n",
       "      <th>3457</th>\n",
       "      <td>3716_01</td>\n",
       "      <td>Earth</td>\n",
       "      <td>False</td>\n",
       "      <td>G/603/P</td>\n",
       "      <td>TRAPPIST-1e</td>\n",
       "      <td>18.0</td>\n",
       "      <td>False</td>\n",
       "      <td>18.0</td>\n",
       "      <td>2.0</td>\n",
       "      <td>1769.0</td>\n",
       "      <td>1.0</td>\n",
       "      <td>2.0</td>\n",
       "      <td>Fredy Batestonley</td>\n",
       "      <td>True</td>\n",
       "    </tr>\n",
       "    <tr>\n",
       "      <th>3503</th>\n",
       "      <td>3761_01</td>\n",
       "      <td>NaN</td>\n",
       "      <td>False</td>\n",
       "      <td>E/222/P</td>\n",
       "      <td>55 Cancri e</td>\n",
       "      <td>45.0</td>\n",
       "      <td>False</td>\n",
       "      <td>824.0</td>\n",
       "      <td>2196.0</td>\n",
       "      <td>385.0</td>\n",
       "      <td>19.0</td>\n",
       "      <td>1113.0</td>\n",
       "      <td>Nuscham Stingive</td>\n",
       "      <td>True</td>\n",
       "    </tr>\n",
       "    <tr>\n",
       "      <th>3517</th>\n",
       "      <td>3774_03</td>\n",
       "      <td>Earth</td>\n",
       "      <td>False</td>\n",
       "      <td>F/778/P</td>\n",
       "      <td>TRAPPIST-1e</td>\n",
       "      <td>35.0</td>\n",
       "      <td>False</td>\n",
       "      <td>227.0</td>\n",
       "      <td>117.0</td>\n",
       "      <td>394.0</td>\n",
       "      <td>9.0</td>\n",
       "      <td>56.0</td>\n",
       "      <td>Dorah Willy</td>\n",
       "      <td>False</td>\n",
       "    </tr>\n",
       "    <tr>\n",
       "      <th>3520</th>\n",
       "      <td>3776_01</td>\n",
       "      <td>Europa</td>\n",
       "      <td>False</td>\n",
       "      <td>C/134/S</td>\n",
       "      <td>TRAPPIST-1e</td>\n",
       "      <td>29.0</td>\n",
       "      <td>False</td>\n",
       "      <td>2.0</td>\n",
       "      <td>407.0</td>\n",
       "      <td>4509.0</td>\n",
       "      <td>1433.0</td>\n",
       "      <td>9.0</td>\n",
       "      <td>Sinon Gearitte</td>\n",
       "      <td>True</td>\n",
       "    </tr>\n",
       "  </tbody>\n",
       "</table>\n",
       "<p>100 rows × 14 columns</p>\n",
       "</div>"
      ],
      "text/plain": [
       "     PassengerId HomePlanet CryoSleep    Cabin  Destination   Age    VIP  \\\n",
       "1        0002_01      Earth     False    F/0/S  TRAPPIST-1e  24.0  False   \n",
       "4        0004_01      Earth     False    F/1/S  TRAPPIST-1e  16.0  False   \n",
       "11       0008_03     Europa     False    B/1/P  55 Cancri e  45.0  False   \n",
       "14       0011_01      Earth     False    F/2/P  TRAPPIST-1e  28.0  False   \n",
       "54       0056_03     Europa     False    A/1/S  TRAPPIST-1e  27.0  False   \n",
       "...          ...        ...       ...      ...          ...   ...    ...   \n",
       "3439     3707_01      Earth     False  G/604/S  TRAPPIST-1e  18.0  False   \n",
       "3457     3716_01      Earth     False  G/603/P  TRAPPIST-1e  18.0  False   \n",
       "3503     3761_01        NaN     False  E/222/P  55 Cancri e  45.0  False   \n",
       "3517     3774_03      Earth     False  F/778/P  TRAPPIST-1e  35.0  False   \n",
       "3520     3776_01     Europa     False  C/134/S  TRAPPIST-1e  29.0  False   \n",
       "\n",
       "      RoomService  FoodCourt  ShoppingMall     Spa  VRDeck  \\\n",
       "1           109.0        9.0          25.0   549.0    44.0   \n",
       "4           303.0       70.0         151.0   565.0     2.0   \n",
       "11           39.0     7295.0         589.0   110.0   124.0   \n",
       "14            8.0      974.0          12.0     2.0     7.0   \n",
       "54          279.0      605.0        3374.0   286.0     3.0   \n",
       "...           ...        ...           ...     ...     ...   \n",
       "3439        622.0       53.0           8.0    47.0    39.0   \n",
       "3457         18.0        2.0        1769.0     1.0     2.0   \n",
       "3503        824.0     2196.0         385.0    19.0  1113.0   \n",
       "3517        227.0      117.0         394.0     9.0    56.0   \n",
       "3520          2.0      407.0        4509.0  1433.0     9.0   \n",
       "\n",
       "                    Name  Transported  \n",
       "1           Juanna Vines         True  \n",
       "4      Willy Santantines         True  \n",
       "11         Wezena Flatic         True  \n",
       "14       Elle Bertsontry         True  \n",
       "54      Zinoces Tractive         True  \n",
       "...                  ...          ...  \n",
       "3439  Marvey Delangleton        False  \n",
       "3457   Fredy Batestonley         True  \n",
       "3503    Nuscham Stingive         True  \n",
       "3517         Dorah Willy        False  \n",
       "3520      Sinon Gearitte         True  \n",
       "\n",
       "[100 rows x 14 columns]"
      ]
     },
     "execution_count": 145,
     "metadata": {},
     "output_type": "execute_result"
    },
    {
     "data": {
      "image/png": "[encoded data removed]",
      "text/plain": [
       "<Figure size 1080x720 with 6 Axes>"
      ]
     },
     "metadata": {
      "needs_background": "light"
     },
     "output_type": "display_data"
    }
   ],
   "source": [
    "filtra = df_passangers['Spa']>= 0.1\n",
    "filtro= df_passangers['FoodCourt']>=0.1\n",
    "filtru= df_passangers['RoomService']>=0.1\n",
    "filtre= df_passangers['ShoppingMall']>=0.1\n",
    "filtrt= df_passangers['VRDeck']>=0.001\n",
    "df_analise=df_passangers.loc[filtra & filtro & filtru & filtre & filtrt,:]\n",
    "\n",
    "BINS= int(np.sqrt(len(df_analise.index)))\n",
    "df_analise.hist(bins=BINS,figsize=(15,10));\n",
    "\n"
   ]
  },
  {
   "cell_type": "markdown",
   "id": "b07cb2b5",
   "metadata": {},
   "source": [
    "<p>Como a distribuição dos valores de renda são muito parecidos faz sentido juntar todos eles em um único valor para conseguir fazer uma analise dos dados mais simples, ja que não precisarei ficar fazendo para cada valor </p>"
   ]
  },
  {
   "cell_type": "code",
   "execution_count": 146,
   "id": "255e3a38",
   "metadata": {},
   "outputs": [
    {
     "data": {
      "text/html": [
       "<div>\n",
       "<style scoped>\n",
       "    .dataframe tbody tr th:only-of-type {\n",
       "        vertical-align: middle;\n",
       "    }\n",
       "\n",
       "    .dataframe tbody tr th {\n",
       "        vertical-align: top;\n",
       "    }\n",
       "\n",
       "    .dataframe thead th {\n",
       "        text-align: right;\n",
       "    }\n",
       "</style>\n",
       "<table border=\"1\" class=\"dataframe\">\n",
       "  <thead>\n",
       "    <tr style=\"text-align: right;\">\n",
       "      <th></th>\n",
       "      <th>PassengerId</th>\n",
       "      <th>HomePlanet</th>\n",
       "      <th>CryoSleep</th>\n",
       "      <th>Cabin</th>\n",
       "      <th>Destination</th>\n",
       "      <th>Age</th>\n",
       "      <th>VIP</th>\n",
       "      <th>RoomService</th>\n",
       "      <th>FoodCourt</th>\n",
       "      <th>ShoppingMall</th>\n",
       "      <th>Spa</th>\n",
       "      <th>VRDeck</th>\n",
       "      <th>Name</th>\n",
       "      <th>Transported</th>\n",
       "      <th>Valor Bruto</th>\n",
       "    </tr>\n",
       "  </thead>\n",
       "  <tbody>\n",
       "    <tr>\n",
       "      <th>0</th>\n",
       "      <td>0001_01</td>\n",
       "      <td>Europa</td>\n",
       "      <td>False</td>\n",
       "      <td>B/0/P</td>\n",
       "      <td>TRAPPIST-1e</td>\n",
       "      <td>39.0</td>\n",
       "      <td>False</td>\n",
       "      <td>0.0</td>\n",
       "      <td>0.0</td>\n",
       "      <td>0.0</td>\n",
       "      <td>0.0</td>\n",
       "      <td>0.0</td>\n",
       "      <td>Maham Ofracculy</td>\n",
       "      <td>False</td>\n",
       "      <td>0.0</td>\n",
       "    </tr>\n",
       "    <tr>\n",
       "      <th>1</th>\n",
       "      <td>0002_01</td>\n",
       "      <td>Earth</td>\n",
       "      <td>False</td>\n",
       "      <td>F/0/S</td>\n",
       "      <td>TRAPPIST-1e</td>\n",
       "      <td>24.0</td>\n",
       "      <td>False</td>\n",
       "      <td>109.0</td>\n",
       "      <td>9.0</td>\n",
       "      <td>25.0</td>\n",
       "      <td>549.0</td>\n",
       "      <td>44.0</td>\n",
       "      <td>Juanna Vines</td>\n",
       "      <td>True</td>\n",
       "      <td>736.0</td>\n",
       "    </tr>\n",
       "    <tr>\n",
       "      <th>2</th>\n",
       "      <td>0003_01</td>\n",
       "      <td>Europa</td>\n",
       "      <td>False</td>\n",
       "      <td>A/0/S</td>\n",
       "      <td>TRAPPIST-1e</td>\n",
       "      <td>58.0</td>\n",
       "      <td>True</td>\n",
       "      <td>43.0</td>\n",
       "      <td>3576.0</td>\n",
       "      <td>0.0</td>\n",
       "      <td>6715.0</td>\n",
       "      <td>49.0</td>\n",
       "      <td>Altark Susent</td>\n",
       "      <td>False</td>\n",
       "      <td>10383.0</td>\n",
       "    </tr>\n",
       "    <tr>\n",
       "      <th>3</th>\n",
       "      <td>0003_02</td>\n",
       "      <td>Europa</td>\n",
       "      <td>False</td>\n",
       "      <td>A/0/S</td>\n",
       "      <td>TRAPPIST-1e</td>\n",
       "      <td>33.0</td>\n",
       "      <td>False</td>\n",
       "      <td>0.0</td>\n",
       "      <td>1283.0</td>\n",
       "      <td>371.0</td>\n",
       "      <td>3329.0</td>\n",
       "      <td>193.0</td>\n",
       "      <td>Solam Susent</td>\n",
       "      <td>False</td>\n",
       "      <td>5176.0</td>\n",
       "    </tr>\n",
       "    <tr>\n",
       "      <th>4</th>\n",
       "      <td>0004_01</td>\n",
       "      <td>Earth</td>\n",
       "      <td>False</td>\n",
       "      <td>F/1/S</td>\n",
       "      <td>TRAPPIST-1e</td>\n",
       "      <td>16.0</td>\n",
       "      <td>False</td>\n",
       "      <td>303.0</td>\n",
       "      <td>70.0</td>\n",
       "      <td>151.0</td>\n",
       "      <td>565.0</td>\n",
       "      <td>2.0</td>\n",
       "      <td>Willy Santantines</td>\n",
       "      <td>True</td>\n",
       "      <td>1091.0</td>\n",
       "    </tr>\n",
       "    <tr>\n",
       "      <th>...</th>\n",
       "      <td>...</td>\n",
       "      <td>...</td>\n",
       "      <td>...</td>\n",
       "      <td>...</td>\n",
       "      <td>...</td>\n",
       "      <td>...</td>\n",
       "      <td>...</td>\n",
       "      <td>...</td>\n",
       "      <td>...</td>\n",
       "      <td>...</td>\n",
       "      <td>...</td>\n",
       "      <td>...</td>\n",
       "      <td>...</td>\n",
       "      <td>...</td>\n",
       "      <td>...</td>\n",
       "    </tr>\n",
       "    <tr>\n",
       "      <th>8688</th>\n",
       "      <td>9276_01</td>\n",
       "      <td>Europa</td>\n",
       "      <td>False</td>\n",
       "      <td>A/98/P</td>\n",
       "      <td>55 Cancri e</td>\n",
       "      <td>41.0</td>\n",
       "      <td>True</td>\n",
       "      <td>0.0</td>\n",
       "      <td>6819.0</td>\n",
       "      <td>0.0</td>\n",
       "      <td>1643.0</td>\n",
       "      <td>74.0</td>\n",
       "      <td>Gravior Noxnuther</td>\n",
       "      <td>False</td>\n",
       "      <td>8536.0</td>\n",
       "    </tr>\n",
       "    <tr>\n",
       "      <th>8689</th>\n",
       "      <td>9278_01</td>\n",
       "      <td>Earth</td>\n",
       "      <td>True</td>\n",
       "      <td>G/1499/S</td>\n",
       "      <td>PSO J318.5-22</td>\n",
       "      <td>18.0</td>\n",
       "      <td>False</td>\n",
       "      <td>0.0</td>\n",
       "      <td>0.0</td>\n",
       "      <td>0.0</td>\n",
       "      <td>0.0</td>\n",
       "      <td>0.0</td>\n",
       "      <td>Kurta Mondalley</td>\n",
       "      <td>False</td>\n",
       "      <td>0.0</td>\n",
       "    </tr>\n",
       "    <tr>\n",
       "      <th>8690</th>\n",
       "      <td>9279_01</td>\n",
       "      <td>Earth</td>\n",
       "      <td>False</td>\n",
       "      <td>G/1500/S</td>\n",
       "      <td>TRAPPIST-1e</td>\n",
       "      <td>26.0</td>\n",
       "      <td>False</td>\n",
       "      <td>0.0</td>\n",
       "      <td>0.0</td>\n",
       "      <td>1872.0</td>\n",
       "      <td>1.0</td>\n",
       "      <td>0.0</td>\n",
       "      <td>Fayey Connon</td>\n",
       "      <td>True</td>\n",
       "      <td>1873.0</td>\n",
       "    </tr>\n",
       "    <tr>\n",
       "      <th>8691</th>\n",
       "      <td>9280_01</td>\n",
       "      <td>Europa</td>\n",
       "      <td>False</td>\n",
       "      <td>E/608/S</td>\n",
       "      <td>55 Cancri e</td>\n",
       "      <td>32.0</td>\n",
       "      <td>False</td>\n",
       "      <td>0.0</td>\n",
       "      <td>1049.0</td>\n",
       "      <td>0.0</td>\n",
       "      <td>353.0</td>\n",
       "      <td>3235.0</td>\n",
       "      <td>Celeon Hontichre</td>\n",
       "      <td>False</td>\n",
       "      <td>4637.0</td>\n",
       "    </tr>\n",
       "    <tr>\n",
       "      <th>8692</th>\n",
       "      <td>9280_02</td>\n",
       "      <td>Europa</td>\n",
       "      <td>False</td>\n",
       "      <td>E/608/S</td>\n",
       "      <td>TRAPPIST-1e</td>\n",
       "      <td>44.0</td>\n",
       "      <td>False</td>\n",
       "      <td>126.0</td>\n",
       "      <td>4688.0</td>\n",
       "      <td>0.0</td>\n",
       "      <td>0.0</td>\n",
       "      <td>12.0</td>\n",
       "      <td>Propsh Hontichre</td>\n",
       "      <td>True</td>\n",
       "      <td>4826.0</td>\n",
       "    </tr>\n",
       "  </tbody>\n",
       "</table>\n",
       "<p>8494 rows × 15 columns</p>\n",
       "</div>"
      ],
      "text/plain": [
       "     PassengerId HomePlanet CryoSleep     Cabin    Destination   Age    VIP  \\\n",
       "0        0001_01     Europa     False     B/0/P    TRAPPIST-1e  39.0  False   \n",
       "1        0002_01      Earth     False     F/0/S    TRAPPIST-1e  24.0  False   \n",
       "2        0003_01     Europa     False     A/0/S    TRAPPIST-1e  58.0   True   \n",
       "3        0003_02     Europa     False     A/0/S    TRAPPIST-1e  33.0  False   \n",
       "4        0004_01      Earth     False     F/1/S    TRAPPIST-1e  16.0  False   \n",
       "...          ...        ...       ...       ...            ...   ...    ...   \n",
       "8688     9276_01     Europa     False    A/98/P    55 Cancri e  41.0   True   \n",
       "8689     9278_01      Earth      True  G/1499/S  PSO J318.5-22  18.0  False   \n",
       "8690     9279_01      Earth     False  G/1500/S    TRAPPIST-1e  26.0  False   \n",
       "8691     9280_01     Europa     False   E/608/S    55 Cancri e  32.0  False   \n",
       "8692     9280_02     Europa     False   E/608/S    TRAPPIST-1e  44.0  False   \n",
       "\n",
       "      RoomService  FoodCourt  ShoppingMall     Spa  VRDeck               Name  \\\n",
       "0             0.0        0.0           0.0     0.0     0.0    Maham Ofracculy   \n",
       "1           109.0        9.0          25.0   549.0    44.0       Juanna Vines   \n",
       "2            43.0     3576.0           0.0  6715.0    49.0      Altark Susent   \n",
       "3             0.0     1283.0         371.0  3329.0   193.0       Solam Susent   \n",
       "4           303.0       70.0         151.0   565.0     2.0  Willy Santantines   \n",
       "...           ...        ...           ...     ...     ...                ...   \n",
       "8688          0.0     6819.0           0.0  1643.0    74.0  Gravior Noxnuther   \n",
       "8689          0.0        0.0           0.0     0.0     0.0    Kurta Mondalley   \n",
       "8690          0.0        0.0        1872.0     1.0     0.0       Fayey Connon   \n",
       "8691          0.0     1049.0           0.0   353.0  3235.0   Celeon Hontichre   \n",
       "8692        126.0     4688.0           0.0     0.0    12.0   Propsh Hontichre   \n",
       "\n",
       "      Transported  Valor Bruto  \n",
       "0           False          0.0  \n",
       "1            True        736.0  \n",
       "2           False      10383.0  \n",
       "3           False       5176.0  \n",
       "4            True       1091.0  \n",
       "...           ...          ...  \n",
       "8688        False       8536.0  \n",
       "8689        False          0.0  \n",
       "8690         True       1873.0  \n",
       "8691        False       4637.0  \n",
       "8692         True       4826.0  \n",
       "\n",
       "[8494 rows x 15 columns]"
      ]
     },
     "execution_count": 146,
     "metadata": {},
     "output_type": "execute_result"
    }
   ],
   "source": [
    "#Criando coluna que é a soma de todos os valores\n",
    "df_passangers['Valor Bruto']=df_passangers['RoomService']+df_passangers['FoodCourt']+df_passangers['ShoppingMall']+df_passangers['Spa']+df_passangers['VRDeck']\n",
    "df_passangers"
   ]
  },
  {
   "cell_type": "code",
   "execution_count": 147,
   "id": "efef3722",
   "metadata": {},
   "outputs": [
    {
     "data": {
      "text/plain": [
       "PassengerId       0\n",
       "HomePlanet      195\n",
       "CryoSleep       210\n",
       "Cabin             0\n",
       "Destination     178\n",
       "Age               0\n",
       "VIP               0\n",
       "RoomService       0\n",
       "FoodCourt         0\n",
       "ShoppingMall      0\n",
       "Spa               0\n",
       "VRDeck            0\n",
       "Name            198\n",
       "Transported       0\n",
       "Valor Bruto       0\n",
       "dtype: int64"
      ]
     },
     "execution_count": 147,
     "metadata": {},
     "output_type": "execute_result"
    }
   ],
   "source": [
    "#estou vendo quais variaveis ainda preciso fazer input nelas\n",
    "df_passangers.isnull().sum()"
   ]
  },
  {
   "cell_type": "code",
   "execution_count": 148,
   "id": "50d88914",
   "metadata": {},
   "outputs": [
    {
     "data": {
      "text/plain": [
       "(-2000.0, 5000.0)"
      ]
     },
     "execution_count": 148,
     "metadata": {},
     "output_type": "execute_result"
    },
    {
     "data": {
      "image/png": "[encoded data removed]",
      "text/plain": [
       "<Figure size 432x288 with 1 Axes>"
      ]
     },
     "metadata": {
      "needs_background": "light"
     },
     "output_type": "display_data"
    }
   ],
   "source": [
    "df_passangers.boxplot(['Valor Bruto'], by=['Transported'])\n",
    "plt.ylim(-2000,5000)"
   ]
  },
  {
   "cell_type": "markdown",
   "id": "46689567",
   "metadata": {},
   "source": [
    "<p>Pelo Grafico acima consegue-se observar que pelo menos metade das pessoas que são Transported não tiveram gasto nenhum de dinheiro durante a viagem, isso se deve, parte por que tiveram pessoas que fizeram CryoSleep e muitas dessas foram Transportadas.</p>"
   ]
  },
  {
   "cell_type": "markdown",
   "id": "564a7791",
   "metadata": {},
   "source": [
    "<p>No grafico a baixo se dá para comprovar que a grande maioria das pessoas que fizeram CryoSleep não tiveram gasto nenhum</p>"
   ]
  },
  {
   "cell_type": "code",
   "execution_count": 149,
   "id": "40dec719",
   "metadata": {},
   "outputs": [
    {
     "data": {
      "text/plain": [
       "<AxesSubplot:title={'center':'Valor Bruto'}, xlabel='[CryoSleep]'>"
      ]
     },
     "execution_count": 149,
     "metadata": {},
     "output_type": "execute_result"
    },
    {
     "data": {
      "image/png": "[encoded data removed]",
      "text/plain": [
       "<Figure size 432x288 with 1 Axes>"
      ]
     },
     "metadata": {
      "needs_background": "light"
     },
     "output_type": "display_data"
    }
   ],
   "source": [
    "df_passangers.boxplot(['Valor Bruto'], by=['CryoSleep'])"
   ]
  },
  {
   "cell_type": "markdown",
   "id": "8abde660",
   "metadata": {},
   "source": [
    "<p>Pelas duas celulas abaixo dá para fazer a analise que a probabilidade de uma pessoa ter feito cryoSleep e não gastado nada e relação a nao ter feito CryoSleep e não ter gastado nada é bem maior. Dessa forma, Caso o gasto for 0 de valor Bruto e o CryoSleep for um valor nulo fáz sentido adiciona-lo como True</p>"
   ]
  },
  {
   "cell_type": "code",
   "execution_count": 150,
   "id": "41cc517e",
   "metadata": {},
   "outputs": [
    {
     "data": {
      "text/plain": [
       "PassengerId     2953\n",
       "HomePlanet      2882\n",
       "CryoSleep       2953\n",
       "Cabin           2953\n",
       "Destination     2906\n",
       "Age             2953\n",
       "VIP             2953\n",
       "RoomService     2953\n",
       "FoodCourt       2953\n",
       "ShoppingMall    2953\n",
       "Spa             2953\n",
       "VRDeck          2953\n",
       "Name            2891\n",
       "Transported     2953\n",
       "Valor Bruto     2953\n",
       "dtype: int64"
      ]
     },
     "execution_count": 150,
     "metadata": {},
     "output_type": "execute_result"
    }
   ],
   "source": [
    "(df_passangers\n",
    "[(df_passangers['CryoSleep'] == True) &\n",
    "(df_passangers['Valor Bruto'] == 0)\n",
    "].count()\n",
    ")"
   ]
  },
  {
   "cell_type": "code",
   "execution_count": 151,
   "id": "ba71aa1f",
   "metadata": {},
   "outputs": [
    {
     "data": {
      "text/plain": [
       "PassengerId     507\n",
       "HomePlanet      494\n",
       "CryoSleep       507\n",
       "Cabin           507\n",
       "Destination     495\n",
       "Age             507\n",
       "VIP             507\n",
       "RoomService     507\n",
       "FoodCourt       507\n",
       "ShoppingMall    507\n",
       "Spa             507\n",
       "VRDeck          507\n",
       "Name            490\n",
       "Transported     507\n",
       "Valor Bruto     507\n",
       "dtype: int64"
      ]
     },
     "execution_count": 151,
     "metadata": {},
     "output_type": "execute_result"
    }
   ],
   "source": [
    "(df_passangers\n",
    "[(df_passangers['CryoSleep'] == False) &\n",
    "(df_passangers['Valor Bruto'] == 0)\n",
    "].count()\n",
    ")"
   ]
  },
  {
   "cell_type": "markdown",
   "id": "fb2246f1",
   "metadata": {},
   "source": [
    "<p>Pela celula abaixo se ve que ninguem que gastou mais que 0 foi CryoSleep. Logo, para valores que são nulos no CryoSleep e o valor bruto for maior que 0 faz sentido adicionar o valor do CryoSleep como False </p>"
   ]
  },
  {
   "cell_type": "code",
   "execution_count": 152,
   "id": "cc0949cb",
   "metadata": {},
   "outputs": [
    {
     "data": {
      "text/plain": [
       "PassengerId     0\n",
       "HomePlanet      0\n",
       "CryoSleep       0\n",
       "Cabin           0\n",
       "Destination     0\n",
       "Age             0\n",
       "VIP             0\n",
       "RoomService     0\n",
       "FoodCourt       0\n",
       "ShoppingMall    0\n",
       "Spa             0\n",
       "VRDeck          0\n",
       "Name            0\n",
       "Transported     0\n",
       "Valor Bruto     0\n",
       "dtype: int64"
      ]
     },
     "execution_count": 152,
     "metadata": {},
     "output_type": "execute_result"
    }
   ],
   "source": [
    "(df_passangers\n",
    "[(df_passangers['CryoSleep'] == True) &\n",
    "(df_passangers['Valor Bruto'] > 0)\n",
    "].count()\n",
    ")"
   ]
  },
  {
   "cell_type": "code",
   "execution_count": 153,
   "id": "fca23c6d",
   "metadata": {},
   "outputs": [],
   "source": [
    "#dando input nas variaveis da maneira que foi discutido nas celulas anteriores\n",
    "df_passangers.loc[\n",
    "    (df_passangers['CryoSleep'].isnull()) & \n",
    "    (df_passangers['Valor Bruto']>0),\n",
    "     'CryoSleep']=False\n",
    "df_passangers.loc[\n",
    "    (df_passangers['CryoSleep'].isnull()) & \n",
    "    (df_passangers['Valor Bruto']==0),\n",
    "     'CryoSleep']=True"
   ]
  },
  {
   "cell_type": "code",
   "execution_count": 154,
   "id": "89946963",
   "metadata": {},
   "outputs": [
    {
     "data": {
      "text/plain": [
       "Destination    HomePlanet\n",
       "55 Cancri e    Europa        0.496223\n",
       "               Earth         0.392795\n",
       "               Mars          0.110982\n",
       "PSO J318.5-22  Earth         0.913386\n",
       "               Mars          0.062992\n",
       "               Europa        0.023622\n",
       "TRAPPIST-1e    Earth         0.538462\n",
       "               Mars          0.255760\n",
       "               Europa        0.205778\n",
       "Name: HomePlanet, dtype: float64"
      ]
     },
     "execution_count": 154,
     "metadata": {},
     "output_type": "execute_result"
    }
   ],
   "source": [
    "#Analise de frequencia relativa do Destination pelo HomePlanet \n",
    "df_passangers.groupby(by=\"Destination\")['HomePlanet'].value_counts(normalize=True)"
   ]
  },
  {
   "cell_type": "code",
   "execution_count": 205,
   "id": "7aa851ec",
   "metadata": {},
   "outputs": [
    {
     "data": {
      "text/plain": [
       "Earth     4673\n",
       "Europa    2099\n",
       "Mars      1722\n",
       "Name: HomePlanet, dtype: int64"
      ]
     },
     "execution_count": 205,
     "metadata": {},
     "output_type": "execute_result"
    }
   ],
   "source": [
    "df_passangers['HomePlanet'].value_counts()"
   ]
  },
  {
   "cell_type": "markdown",
   "id": "8a4e7c18",
   "metadata": {},
   "source": [
    "<p>Como Usar valores da analise de frequencia anterior tem uma chance maior de acertar do que adicionar aleatoriamente (em certos casos indo até 91%) usamos valores do Destination para prever o home planet.\n",
    "Caso não tenha valor de Destination também, colocamos como Earth que é a maior quantidade de dados</p>"
   ]
  },
  {
   "cell_type": "code",
   "execution_count": 155,
   "id": "ff62fa7e",
   "metadata": {},
   "outputs": [],
   "source": [
    "df_passangers.loc[\n",
    "    (df_passangers['HomePlanet'].isnull()) & \n",
    "    (df_passangers['Destination']==df_passangers['Destination'].value_counts().reset_index().values.tolist()[2][0]),\n",
    "     'HomePlanet']='Earth'\n",
    "\n",
    "df_passangers.loc[\n",
    "    (df_passangers['HomePlanet'].isnull()) & \n",
    "    (df_passangers['Destination']=='TRAPPIST-1e'),\n",
    "    'HomePlanet']='Earth'\n",
    "df_passangers.loc[\n",
    "    (df_passangers['HomePlanet'].isnull()) & \n",
    "    (df_passangers['Destination']=='55 Cancri e'),\n",
    "    'HomePlanet']='Europa'\n",
    "df_passangers.update(df_passangers[\"HomePlanet\"].fillna('Earth'))"
   ]
  },
  {
   "cell_type": "code",
   "execution_count": 156,
   "id": "d5824cb9",
   "metadata": {},
   "outputs": [
    {
     "data": {
      "text/plain": [
       "PassengerId       0\n",
       "HomePlanet        0\n",
       "CryoSleep         0\n",
       "Cabin             0\n",
       "Destination     178\n",
       "Age               0\n",
       "VIP               0\n",
       "RoomService       0\n",
       "FoodCourt         0\n",
       "ShoppingMall      0\n",
       "Spa               0\n",
       "VRDeck            0\n",
       "Name            198\n",
       "Transported       0\n",
       "Valor Bruto       0\n",
       "dtype: int64"
      ]
     },
     "execution_count": 156,
     "metadata": {},
     "output_type": "execute_result"
    }
   ],
   "source": [
    "#Só falta o Destination para colocar valores, uma vez que o nome como é uma variavel  unica não vai ser utilizada no modelo\n",
    "df_passangers.isnull().sum()"
   ]
  },
  {
   "cell_type": "code",
   "execution_count": 157,
   "id": "bb6304a8",
   "metadata": {},
   "outputs": [
    {
     "name": "stdout",
     "output_type": "stream",
     "text": [
      "HomePlanet  Destination  \n",
      "Earth       TRAPPIST-1e      0.696413\n",
      "            PSO J318.5-22    0.155731\n",
      "            55 Cancri e      0.147857\n",
      "Europa      TRAPPIST-1e      0.563046\n",
      "            55 Cancri e      0.428225\n",
      "            PSO J318.5-22    0.008729\n",
      "Mars        TRAPPIST-1e      0.857907\n",
      "            55 Cancri e      0.113555\n",
      "            PSO J318.5-22    0.028537\n",
      "Name: Destination, dtype: float64\n"
     ]
    },
    {
     "data": {
      "text/plain": [
       "CryoSleep  Destination  \n",
       "False      TRAPPIST-1e      0.734575\n",
       "           55 Cancri e      0.191497\n",
       "           PSO J318.5-22    0.073928\n",
       "True       TRAPPIST-1e      0.627667\n",
       "           55 Cancri e      0.244000\n",
       "           PSO J318.5-22    0.128333\n",
       "Name: Destination, dtype: float64"
      ]
     },
     "execution_count": 157,
     "metadata": {},
     "output_type": "execute_result"
    },
    {
     "data": {
      "image/png": "[encoded data removed]",
      "text/plain": [
       "<Figure size 432x288 with 1 Axes>"
      ]
     },
     "metadata": {
      "needs_background": "light"
     },
     "output_type": "display_data"
    }
   ],
   "source": [
    "#tentativa falha de achar alguma correlação\n",
    "df_passangers.boxplot(['Age'], by=['Destination'])\n",
    "print(df_passangers.groupby(by='HomePlanet')['Destination'].value_counts(normalize=True))\n",
    "df_passangers.groupby(by='CryoSleep')['Destination'].value_counts(normalize=True)\n",
    "#df_passangers['Destination'].value_counts(normalize=True)"
   ]
  },
  {
   "cell_type": "markdown",
   "id": "1ef993f1",
   "metadata": {},
   "source": [
    "<p>Como existe muito mais pessoas que vão para o pais TRAppist vamos adicionar o valor nulo como Trappist-1e</p>"
   ]
  },
  {
   "cell_type": "code",
   "execution_count": 158,
   "id": "8c909523",
   "metadata": {},
   "outputs": [],
   "source": [
    "\n",
    "df_passangers.update(df_passangers[\"Destination\"].fillna('TRAPPIST-1e'))"
   ]
  },
  {
   "cell_type": "code",
   "execution_count": 159,
   "id": "50176a27",
   "metadata": {},
   "outputs": [],
   "source": [
    "#criei novo dataframe com as variveis já ajustadas\n",
    "df_passangers.isnull().sum()\n",
    "df=df_passangers.copy()"
   ]
  },
  {
   "cell_type": "markdown",
   "id": "f510d81f",
   "metadata": {},
   "source": [
    "# <font color='red' style='font-size: 30px;'>Manutenção Variaveis</font>\n",
    "<hr style='border: 2px solid red;'>"
   ]
  },
  {
   "cell_type": "code",
   "execution_count": 160,
   "id": "2e5573a7",
   "metadata": {},
   "outputs": [
    {
     "name": "stderr",
     "output_type": "stream",
     "text": [
      "C:\\Users\\joaob\\AppData\\Local\\Temp/ipykernel_13056/4094298745.py:2: FutureWarning: Columnar iteration over characters will be deprecated in future releases.\n",
      "  df[\"Primeira Cabin\"],df[\"Segunda Cabin\"],df[\"Terceira Cabin\"]=df[\"Cabin\"].str.split('/').str\n"
     ]
    }
   ],
   "source": [
    "#separei o valor Cabin nas 3 informações que estão nelas\n",
    "df[\"Primeira Cabin\"],df[\"Segunda Cabin\"],df[\"Terceira Cabin\"]=df[\"Cabin\"].str.split('/').str\n",
    "#tirei a coluna Cabin, já que é um valor unico\n",
    "del df[\"Cabin\"]\n",
    "#tirei a coluna name e id, pq são valores unicos para cada dado\n",
    "del df['Name']\n",
    "del df['PassengerId']\n",
    "#fazendo a previsão no final(por tentativa e erro) é melhor utilizar separadamente os dados de gasto\n",
    "#do que o de valor bruto direto para a modelagem, então tirei ele tambem\n",
    "del df['Valor Bruto']"
   ]
  },
  {
   "cell_type": "code",
   "execution_count": 161,
   "id": "e98c1c18",
   "metadata": {},
   "outputs": [
    {
     "name": "stdout",
     "output_type": "stream",
     "text": [
      "<class 'pandas.core.frame.DataFrame'>\n",
      "Int64Index: 8494 entries, 0 to 8692\n",
      "Data columns (total 14 columns):\n",
      " #   Column          Non-Null Count  Dtype  \n",
      "---  ------          --------------  -----  \n",
      " 0   HomePlanet      8494 non-null   object \n",
      " 1   CryoSleep       8494 non-null   object \n",
      " 2   Destination     8494 non-null   object \n",
      " 3   Age             8494 non-null   float64\n",
      " 4   VIP             8494 non-null   object \n",
      " 5   RoomService     8494 non-null   float64\n",
      " 6   FoodCourt       8494 non-null   float64\n",
      " 7   ShoppingMall    8494 non-null   float64\n",
      " 8   Spa             8494 non-null   float64\n",
      " 9   VRDeck          8494 non-null   float64\n",
      " 10  Transported     8494 non-null   bool   \n",
      " 11  Primeira Cabin  8494 non-null   object \n",
      " 12  Segunda Cabin   8494 non-null   object \n",
      " 13  Terceira Cabin  8494 non-null   object \n",
      "dtypes: bool(1), float64(6), object(7)\n",
      "memory usage: 937.3+ KB\n"
     ]
    }
   ],
   "source": [
    "df.info()"
   ]
  },
  {
   "cell_type": "markdown",
   "id": "cb753f85",
   "metadata": {},
   "source": [
    "<p>Transformando todas as variveis para numéricas para ser possível rodar o modelo</p>"
   ]
  },
  {
   "cell_type": "code",
   "execution_count": 162,
   "id": "11281f45",
   "metadata": {},
   "outputs": [],
   "source": [
    "df[\"HomePlanet\"]=df[\"HomePlanet\"].astype('category')\n",
    "df[\"HomePlanet\"].cat.categories=[0,1,2]\n",
    "# 0 é Earth , Europa é 1 e Mars é 2\n",
    "#df[\"HomePlanet\"].cat.categories=[0,1,2]\n",
    "\n",
    "df[\"Transported\"]=df[\"Transported\"].astype('category')\n",
    "#print(df['Transported'].cat.categories)\n",
    "df['Transported'].cat.categories=[0,1]\n",
    "#False é 0 e True é 1\n",
    "\n",
    "df[\"VIP\"]=df[\"VIP\"].astype('category')\n",
    "#print(df['VIP'].cat.categories)\n",
    "df['VIP'].cat.categories=[0,1]\n",
    "#False é 0 e True é 1\n",
    "\n",
    "df[\"CryoSleep\"]=df[\"CryoSleep\"].astype('category')\n",
    "#print(df['CryoSleep'].cat.categories)\n",
    "df['CryoSleep'].cat.categories=[0,1]\n",
    "#False é 0 e True é 1\n",
    "\n",
    "df[\"Destination\"]=df[\"Destination\"].astype('category')\n",
    "#print(df[\"Destination\"].cat.categories)\n",
    "df[\"Destination\"].cat.categories=[0,1,2]\n",
    "# 0 é 55 Canccri e 1 é  PSO J318.5-22, 2 é TRAPPIST-1e\n",
    "\n",
    "df[\"Primeira Cabin\"]=df[\"Primeira Cabin\"].astype('category')\n",
    "df[\"Primeira Cabin\"].cat.categories=[0,1,2,3,4,5,6,7]\n",
    "#0 é A, 1 é B ....6 é F e 7 é T\n",
    "df[\"Segunda Cabin\"]=df[\"Segunda Cabin\"].astype('category')\n",
    "#analisando posso deletar pq tem pouquissimos numeros para cada variavel\n",
    "del df[\"Segunda Cabin\"]\n",
    "df[\"Terceira Cabin\"]=df[\"Terceira Cabin\"].astype(\"category\")\n",
    "df[\"Terceira Cabin\"].cat.categories=[0,1]\n",
    "#P=0 e S=1"
   ]
  },
  {
   "cell_type": "markdown",
   "id": "271a4855",
   "metadata": {},
   "source": [
    "# <font color='red' style='font-size: 30px;'>Explorando o target</font>\n",
    "<hr style='border: 2px solid red;'"
   ]
  },
  {
   "cell_type": "code",
   "execution_count": 163,
   "id": "b8299fd2",
   "metadata": {},
   "outputs": [
    {
     "data": {
      "text/plain": [
       "<AxesSubplot:title={'center':'Age'}, xlabel='[Transported]'>"
      ]
     },
     "execution_count": 163,
     "metadata": {},
     "output_type": "execute_result"
    },
    {
     "data": {
      "image/png": "[encoded data removed]",
      "text/plain": [
       "<Figure size 432x288 with 1 Axes>"
      ]
     },
     "metadata": {
      "needs_background": "light"
     },
     "output_type": "display_data"
    }
   ],
   "source": [
    "df_passangers.boxplot(['Age'], by=['Transported'])"
   ]
  },
  {
   "cell_type": "markdown",
   "id": "d4cf945f",
   "metadata": {},
   "source": [
    "<p>Por esse boxplot viu-se que não tem uma relação direta entre a idade e a chance deles serem transportados. Contudo não tiramos essa variavel porque talvez seja possivel fazer uma anlise com mais uma dimensão que não é vista por-nós mas é vista pelo modelo</p>"
   ]
  },
  {
   "cell_type": "markdown",
   "id": "d8d42a68",
   "metadata": {},
   "source": [
    "<p>Vamos fazer uma série de Frequencias relativas para conseguir entender melhor como cada variavel qualitativa se relaciona com a nossa Target</p>"
   ]
  },
  {
   "cell_type": "code",
   "execution_count": 164,
   "id": "fb7305c1",
   "metadata": {},
   "outputs": [
    {
     "data": {
      "text/plain": [
       "HomePlanet   \n",
       "0           0    0.573935\n",
       "            1    0.426065\n",
       "1           1    0.659838\n",
       "            0    0.340162\n",
       "2           1    0.523810\n",
       "            0    0.476190\n",
       "Name: Transported, dtype: float64"
      ]
     },
     "execution_count": 164,
     "metadata": {},
     "output_type": "execute_result"
    }
   ],
   "source": [
    "df.groupby(by='HomePlanet')[\"Transported\"].value_counts(normalize=True)"
   ]
  },
  {
   "cell_type": "code",
   "execution_count": 165,
   "id": "4943176c",
   "metadata": {},
   "outputs": [
    {
     "data": {
      "text/plain": [
       "Primeira Cabin   \n",
       "0               0    0.503906\n",
       "                1    0.496094\n",
       "1               1    0.734275\n",
       "                0    0.265725\n",
       "2               1    0.680054\n",
       "                0    0.319946\n",
       "3               0    0.566946\n",
       "                1    0.433054\n",
       "4               0    0.642694\n",
       "                1    0.357306\n",
       "5               0    0.560129\n",
       "                1    0.439871\n",
       "6               1    0.516217\n",
       "                0    0.483783\n",
       "7               0    0.800000\n",
       "                1    0.200000\n",
       "Name: Transported, dtype: float64"
      ]
     },
     "execution_count": 165,
     "metadata": {},
     "output_type": "execute_result"
    }
   ],
   "source": [
    "df.groupby(by='Primeira Cabin')[\"Transported\"].value_counts(normalize=True)"
   ]
  },
  {
   "cell_type": "code",
   "execution_count": 166,
   "id": "f635eeb1",
   "metadata": {},
   "outputs": [
    {
     "data": {
      "text/plain": [
       "Terceira Cabin   \n",
       "0               0    0.548740\n",
       "                1    0.451260\n",
       "1               1    0.555037\n",
       "                0    0.444963\n",
       "Name: Transported, dtype: float64"
      ]
     },
     "execution_count": 166,
     "metadata": {},
     "output_type": "execute_result"
    }
   ],
   "source": [
    "df.groupby(by='Terceira Cabin')[\"Transported\"].value_counts(normalize=True)"
   ]
  },
  {
   "cell_type": "code",
   "execution_count": 167,
   "id": "5d85181c",
   "metadata": {},
   "outputs": [
    {
     "data": {
      "text/plain": [
       "CryoSleep   \n",
       "0          0    0.670707\n",
       "           1    0.329293\n",
       "1          1    0.815021\n",
       "           0    0.184979\n",
       "Name: Transported, dtype: float64"
      ]
     },
     "execution_count": 167,
     "metadata": {},
     "output_type": "execute_result"
    }
   ],
   "source": [
    "df.groupby(by='CryoSleep')[\"Transported\"].value_counts(normalize=True)"
   ]
  },
  {
   "cell_type": "code",
   "execution_count": 168,
   "id": "d946e573",
   "metadata": {},
   "outputs": [
    {
     "data": {
      "text/plain": [
       "Destination   \n",
       "0            1    0.609143\n",
       "             0    0.390857\n",
       "1            1    0.508997\n",
       "             0    0.491003\n",
       "2            0    0.527992\n",
       "             1    0.472008\n",
       "Name: Transported, dtype: float64"
      ]
     },
     "execution_count": 168,
     "metadata": {},
     "output_type": "execute_result"
    }
   ],
   "source": [
    "df.groupby(by='Destination')[\"Transported\"].value_counts(normalize=True)"
   ]
  },
  {
   "cell_type": "code",
   "execution_count": 169,
   "id": "b6e78f86",
   "metadata": {},
   "outputs": [
    {
     "data": {
      "text/plain": [
       "VIP   \n",
       "0    1    0.506325\n",
       "     0    0.493675\n",
       "1    0    0.611399\n",
       "     1    0.388601\n",
       "Name: Transported, dtype: float64"
      ]
     },
     "execution_count": 169,
     "metadata": {},
     "output_type": "execute_result"
    }
   ],
   "source": [
    "df.groupby(by='VIP')[\"Transported\"].value_counts(normalize=True)"
   ]
  },
  {
   "cell_type": "markdown",
   "id": "e5eeb081",
   "metadata": {},
   "source": [
    "<p>Outra forma de visualizar as informações anteriores. So lembrando que a ultima coluna é uma media de todas as variaveis qualitativas que se tem</p>"
   ]
  },
  {
   "cell_type": "code",
   "execution_count": 206,
   "id": "0482f327",
   "metadata": {},
   "outputs": [
    {
     "data": {
      "image/png": "[encoded data removed]",
      "text/plain": [
       "<Figure size 432x288 with 1 Axes>"
      ]
     },
     "metadata": {
      "needs_background": "light"
     },
     "output_type": "display_data"
    },
    {
     "data": {
      "image/png": "[encoded data removed]",
      "text/plain": [
       "<Figure size 432x288 with 1 Axes>"
      ]
     },
     "metadata": {
      "needs_background": "light"
     },
     "output_type": "display_data"
    },
    {
     "data": {
      "image/png": "[encoded data removed]",
      "text/plain": [
       "<Figure size 432x288 with 1 Axes>"
      ]
     },
     "metadata": {
      "needs_background": "light"
     },
     "output_type": "display_data"
    },
    {
     "data": {
      "image/png": "[encoded data removed]",
      "text/plain": [
       "<Figure size 432x288 with 1 Axes>"
      ]
     },
     "metadata": {
      "needs_background": "light"
     },
     "output_type": "display_data"
    }
   ],
   "source": [
    "lista=[\"HomePlanet\",'CryoSleep','Destination','VIP']\n",
    "cores = ['red','blue','green','darkgreen','yellow','purple','pink','orange']\n",
    "n=0\n",
    "#seria bom fazer uma figura\n",
    "for i in lista:\n",
    "    Transported_x_y=pd.crosstab(df_passangers[i], df_passangers['Transported'], normalize='index',margins=True).round(4)\n",
    "    Transported_x_y.plot.bar(color=cores, stacked=True)\n",
    "    plt.ylabel(\"Freq. Relativas (em%)\")\n",
    "    plt.xlabel(i)\n",
    "plt.show()"
   ]
  },
  {
   "cell_type": "code",
   "execution_count": 171,
   "id": "647bd7cf",
   "metadata": {},
   "outputs": [
    {
     "data": {
      "image/png": "[encoded data removed]",
      "text/plain": [
       "<Figure size 1080x720 with 6 Axes>"
      ]
     },
     "metadata": {
      "needs_background": "light"
     },
     "output_type": "display_data"
    }
   ],
   "source": [
    "#parecido com o histograma do início, mas esse mostra que os valores que o gasto é 0 tambem.\n",
    "#mostrando quanta gente não gastou nada\n",
    "BINS= int(np.sqrt(len(df.index)))\n",
    "df.hist(bins=BINS,figsize=(15,10));"
   ]
  },
  {
   "cell_type": "markdown",
   "id": "c6a6da1f",
   "metadata": {},
   "source": [
    "# <font color='red' style='font-size: 30px;'>Treino e Teste</font>\n",
    "<hr style='border: 2px solid red;'>"
   ]
  },
  {
   "cell_type": "code",
   "execution_count": 172,
   "id": "fd1f0dda",
   "metadata": {},
   "outputs": [],
   "source": [
    "ypassanger=df.loc[:,[\"Transported\"]]\n",
    "Xpassanger=df.drop([\"Transported\"],axis=1)"
   ]
  },
  {
   "cell_type": "code",
   "execution_count": 173,
   "id": "591a2dc5",
   "metadata": {},
   "outputs": [
    {
     "data": {
      "text/html": [
       "<div>\n",
       "<style scoped>\n",
       "    .dataframe tbody tr th:only-of-type {\n",
       "        vertical-align: middle;\n",
       "    }\n",
       "\n",
       "    .dataframe tbody tr th {\n",
       "        vertical-align: top;\n",
       "    }\n",
       "\n",
       "    .dataframe thead th {\n",
       "        text-align: right;\n",
       "    }\n",
       "</style>\n",
       "<table border=\"1\" class=\"dataframe\">\n",
       "  <thead>\n",
       "    <tr style=\"text-align: right;\">\n",
       "      <th></th>\n",
       "      <th>HomePlanet</th>\n",
       "      <th>CryoSleep</th>\n",
       "      <th>Destination</th>\n",
       "      <th>Age</th>\n",
       "      <th>VIP</th>\n",
       "      <th>RoomService</th>\n",
       "      <th>FoodCourt</th>\n",
       "      <th>ShoppingMall</th>\n",
       "      <th>Spa</th>\n",
       "      <th>VRDeck</th>\n",
       "      <th>Primeira Cabin</th>\n",
       "      <th>Terceira Cabin</th>\n",
       "    </tr>\n",
       "  </thead>\n",
       "  <tbody>\n",
       "    <tr>\n",
       "      <th>8415</th>\n",
       "      <td>1</td>\n",
       "      <td>0</td>\n",
       "      <td>2</td>\n",
       "      <td>17.0</td>\n",
       "      <td>0</td>\n",
       "      <td>0.0</td>\n",
       "      <td>366.0</td>\n",
       "      <td>23492.0</td>\n",
       "      <td>356.0</td>\n",
       "      <td>3.0</td>\n",
       "      <td>1</td>\n",
       "      <td>0</td>\n",
       "    </tr>\n",
       "    <tr>\n",
       "      <th>4676</th>\n",
       "      <td>0</td>\n",
       "      <td>1</td>\n",
       "      <td>1</td>\n",
       "      <td>29.0</td>\n",
       "      <td>0</td>\n",
       "      <td>0.0</td>\n",
       "      <td>0.0</td>\n",
       "      <td>0.0</td>\n",
       "      <td>0.0</td>\n",
       "      <td>0.0</td>\n",
       "      <td>6</td>\n",
       "      <td>1</td>\n",
       "    </tr>\n",
       "    <tr>\n",
       "      <th>1588</th>\n",
       "      <td>0</td>\n",
       "      <td>0</td>\n",
       "      <td>0</td>\n",
       "      <td>7.0</td>\n",
       "      <td>0</td>\n",
       "      <td>0.0</td>\n",
       "      <td>0.0</td>\n",
       "      <td>0.0</td>\n",
       "      <td>0.0</td>\n",
       "      <td>0.0</td>\n",
       "      <td>6</td>\n",
       "      <td>0</td>\n",
       "    </tr>\n",
       "    <tr>\n",
       "      <th>4342</th>\n",
       "      <td>1</td>\n",
       "      <td>1</td>\n",
       "      <td>2</td>\n",
       "      <td>17.0</td>\n",
       "      <td>0</td>\n",
       "      <td>0.0</td>\n",
       "      <td>0.0</td>\n",
       "      <td>0.0</td>\n",
       "      <td>0.0</td>\n",
       "      <td>0.0</td>\n",
       "      <td>1</td>\n",
       "      <td>1</td>\n",
       "    </tr>\n",
       "    <tr>\n",
       "      <th>5763</th>\n",
       "      <td>1</td>\n",
       "      <td>0</td>\n",
       "      <td>2</td>\n",
       "      <td>13.0</td>\n",
       "      <td>0</td>\n",
       "      <td>0.0</td>\n",
       "      <td>9.0</td>\n",
       "      <td>0.0</td>\n",
       "      <td>0.0</td>\n",
       "      <td>5648.0</td>\n",
       "      <td>2</td>\n",
       "      <td>0</td>\n",
       "    </tr>\n",
       "  </tbody>\n",
       "</table>\n",
       "</div>"
      ],
      "text/plain": [
       "     HomePlanet CryoSleep Destination   Age VIP  RoomService  FoodCourt  \\\n",
       "8415          1         0           2  17.0   0          0.0      366.0   \n",
       "4676          0         1           1  29.0   0          0.0        0.0   \n",
       "1588          0         0           0   7.0   0          0.0        0.0   \n",
       "4342          1         1           2  17.0   0          0.0        0.0   \n",
       "5763          1         0           2  13.0   0          0.0        9.0   \n",
       "\n",
       "      ShoppingMall    Spa  VRDeck Primeira Cabin Terceira Cabin  \n",
       "8415       23492.0  356.0     3.0              1              0  \n",
       "4676           0.0    0.0     0.0              6              1  \n",
       "1588           0.0    0.0     0.0              6              0  \n",
       "4342           0.0    0.0     0.0              1              1  \n",
       "5763           0.0    0.0  5648.0              2              0  "
      ]
     },
     "execution_count": 173,
     "metadata": {},
     "output_type": "execute_result"
    }
   ],
   "source": [
    "X_trainpassanger, X_testpassanger, y_trainpassanger, y_testpassanger = train_test_split(\n",
    "    Xpassanger,\n",
    "    ypassanger,                  \n",
    "    test_size=0.3,\n",
    "    random_state=RAND_SEED,\n",
    ")\n",
    "X_testpassanger.head()"
   ]
  },
  {
   "cell_type": "code",
   "execution_count": 174,
   "id": "b5235c91",
   "metadata": {},
   "outputs": [
    {
     "data": {
      "text/html": [
       "<div>\n",
       "<style scoped>\n",
       "    .dataframe tbody tr th:only-of-type {\n",
       "        vertical-align: middle;\n",
       "    }\n",
       "\n",
       "    .dataframe tbody tr th {\n",
       "        vertical-align: top;\n",
       "    }\n",
       "\n",
       "    .dataframe thead th {\n",
       "        text-align: right;\n",
       "    }\n",
       "</style>\n",
       "<table border=\"1\" class=\"dataframe\">\n",
       "  <thead>\n",
       "    <tr style=\"text-align: right;\">\n",
       "      <th></th>\n",
       "      <th>Transported</th>\n",
       "    </tr>\n",
       "  </thead>\n",
       "  <tbody>\n",
       "    <tr>\n",
       "      <th>8415</th>\n",
       "      <td>1</td>\n",
       "    </tr>\n",
       "    <tr>\n",
       "      <th>4676</th>\n",
       "      <td>1</td>\n",
       "    </tr>\n",
       "    <tr>\n",
       "      <th>1588</th>\n",
       "      <td>0</td>\n",
       "    </tr>\n",
       "    <tr>\n",
       "      <th>4342</th>\n",
       "      <td>1</td>\n",
       "    </tr>\n",
       "    <tr>\n",
       "      <th>5763</th>\n",
       "      <td>0</td>\n",
       "    </tr>\n",
       "  </tbody>\n",
       "</table>\n",
       "</div>"
      ],
      "text/plain": [
       "     Transported\n",
       "8415           1\n",
       "4676           1\n",
       "1588           0\n",
       "4342           1\n",
       "5763           0"
      ]
     },
     "execution_count": 174,
     "metadata": {},
     "output_type": "execute_result"
    }
   ],
   "source": [
    "y_testpassanger.head()"
   ]
  },
  {
   "cell_type": "markdown",
   "id": "249449b0",
   "metadata": {},
   "source": [
    "# <font color='red' style='font-size: 30px;'>Modelos de Classificação</font>\n",
    "<hr style='border: 2px solid red;'>"
   ]
  },
  {
   "cell_type": "code",
   "execution_count": 207,
   "id": "c144f334",
   "metadata": {},
   "outputs": [],
   "source": [
    "\n",
    "dtc=DecisionTreeClassifier(random_state=42)\n",
    "y_trainpassanger=y_trainpassanger.astype('int')\n",
    "dtc.fit(X_trainpassanger, y_trainpassanger)\n",
    "resultado_dtc=dtc.predict(X_testpassanger)"
   ]
  },
  {
   "cell_type": "code",
   "execution_count": 208,
   "id": "81319023",
   "metadata": {},
   "outputs": [
    {
     "name": "stderr",
     "output_type": "stream",
     "text": [
      "C:\\Users\\joaob\\Anaconda3\\lib\\site-packages\\sklearn\\utils\\validation.py:63: DataConversionWarning: A column-vector y was passed when a 1d array was expected. Please change the shape of y to (n_samples, ), for example using ravel().\n",
      "  return f(*args, **kwargs)\n",
      "C:\\Users\\joaob\\Anaconda3\\lib\\site-packages\\sklearn\\linear_model\\_logistic.py:763: ConvergenceWarning: lbfgs failed to converge (status=1):\n",
      "STOP: TOTAL NO. of ITERATIONS REACHED LIMIT.\n",
      "\n",
      "Increase the number of iterations (max_iter) or scale the data as shown in:\n",
      "    https://scikit-learn.org/stable/modules/preprocessing.html\n",
      "Please also refer to the documentation for alternative solver options:\n",
      "    https://scikit-learn.org/stable/modules/linear_model.html#logistic-regression\n",
      "  n_iter_i = _check_optimize_result(\n"
     ]
    }
   ],
   "source": [
    "# Criando modelo e treinando com os dados de treino\n",
    "clr = LogisticRegression(random_state=42)\n",
    "clr.fit(X_trainpassanger, y_trainpassanger)\n",
    "# Fazendo a predição nos dados de treino\n",
    "resultado_clr = clr.predict(X_testpassanger)"
   ]
  },
  {
   "cell_type": "code",
   "execution_count": 213,
   "id": "70d90f60",
   "metadata": {},
   "outputs": [
    {
     "name": "stderr",
     "output_type": "stream",
     "text": [
      "C:\\Users\\joaob\\Anaconda3\\lib\\site-packages\\sklearn\\neighbors\\_classification.py:179: DataConversionWarning: A column-vector y was passed when a 1d array was expected. Please change the shape of y to (n_samples,), for example using ravel().\n",
      "  return self._fit(X, y)\n"
     ]
    }
   ],
   "source": [
    "# Criando modelo e treinando com os dados de treino\n",
    "knn = KNeighborsClassifier()\n",
    "knn.fit(X_trainpassanger, y_trainpassanger)\n",
    "# Fazendo a predição nos dados de treino\n",
    "resultado_knn = knn.predict(X_testpassanger)"
   ]
  },
  {
   "cell_type": "code",
   "execution_count": 212,
   "id": "e8eee0c2",
   "metadata": {},
   "outputs": [
    {
     "name": "stderr",
     "output_type": "stream",
     "text": [
      "C:\\Users\\joaob\\Anaconda3\\lib\\site-packages\\sklearn\\utils\\validation.py:63: DataConversionWarning: A column-vector y was passed when a 1d array was expected. Please change the shape of y to (n_samples, ), for example using ravel().\n",
      "  return f(*args, **kwargs)\n"
     ]
    }
   ],
   "source": [
    "nb = GaussianNB()\n",
    "nb.fit(X_trainpassanger, y_trainpassanger)\n",
    "# Fazendo a predição nos dados de treino\n",
    "resultado_nb = nb.predict(X_testpassanger)"
   ]
  },
  {
   "cell_type": "code",
   "execution_count": 211,
   "id": "35c95909",
   "metadata": {},
   "outputs": [
    {
     "name": "stderr",
     "output_type": "stream",
     "text": [
      "C:\\Users\\joaob\\Anaconda3\\lib\\site-packages\\sklearn\\utils\\validation.py:63: DataConversionWarning: A column-vector y was passed when a 1d array was expected. Please change the shape of y to (n_samples, ), for example using ravel().\n",
      "  return f(*args, **kwargs)\n"
     ]
    }
   ],
   "source": [
    "SVM = SVC(random_state=42)\n",
    "SVM.fit(X_trainpassanger, y_trainpassanger)\n",
    "# Fazendo a predição nos dados de treino\n",
    "resultado_SVM = SVM.predict(X_testpassanger)"
   ]
  },
  {
   "cell_type": "markdown",
   "id": "053a5f75",
   "metadata": {},
   "source": [
    "# <font color='red' style='font-size: 30px;'>Desempenho dos modelos</font>\n",
    "<hr style='border: 2px solid red;'>"
   ]
  },
  {
   "cell_type": "code",
   "execution_count": 180,
   "id": "0fcbccb9",
   "metadata": {},
   "outputs": [],
   "source": [
    "def display_scores(scores):\n",
    "    print('Scores:', scores.round(decimals=2))\n",
    "    print('Mean:', scores.mean())\n",
    "    print('Standard deviation:', scores.std())"
   ]
  },
  {
   "cell_type": "markdown",
   "id": "00f6e3b4",
   "metadata": {},
   "source": [
    "## Resultado Decision Tree"
   ]
  },
  {
   "cell_type": "code",
   "execution_count": 181,
   "id": "18b7f66f",
   "metadata": {},
   "outputs": [
    {
     "name": "stdout",
     "output_type": "stream",
     "text": [
      "              precision    recall  f1-score   support\n",
      "\n",
      "           0       0.76      0.75      0.75      1287\n",
      "           1       0.75      0.76      0.75      1262\n",
      "\n",
      "    accuracy                           0.75      2549\n",
      "   macro avg       0.75      0.75      0.75      2549\n",
      "weighted avg       0.75      0.75      0.75      2549\n",
      "\n"
     ]
    }
   ],
   "source": [
    "print(classification_report(y_testpassanger, resultado_dtc))"
   ]
  },
  {
   "cell_type": "markdown",
   "id": "cb85349d",
   "metadata": {},
   "source": [
    "## Cross Validation"
   ]
  },
  {
   "cell_type": "code",
   "execution_count": 217,
   "id": "77f31249",
   "metadata": {},
   "outputs": [
    {
     "name": "stdout",
     "output_type": "stream",
     "text": [
      "[0.66554622 0.71428571 0.71092437 0.73277311 0.72268908 0.72727273\n",
      " 0.70538721 0.70707071 0.75084175 0.6986532 ]\n",
      "Scores: [0.67 0.71 0.71 0.73 0.72 0.73 0.71 0.71 0.75 0.7 ]\n",
      "Mean: 0.7135444076620547\n",
      "Standard deviation: 0.02162027667869731\n"
     ]
    }
   ],
   "source": [
    "tree_scores = cross_val_score(\n",
    "    dtc,\n",
    "    X_trainpassanger,\n",
    "    y_trainpassanger,\n",
    "    cv=10,\n",
    "    n_jobs=-1\n",
    ")\n",
    "\n",
    "tree_rmse_scores = tree_scores\n",
    "print(tree_rmse_scores)\n",
    "\n",
    "display_scores(tree_rmse_scores)"
   ]
  },
  {
   "cell_type": "markdown",
   "id": "36603ea0",
   "metadata": {},
   "source": [
    "## Resultado KNN"
   ]
  },
  {
   "cell_type": "code",
   "execution_count": 183,
   "id": "6c5c43f7",
   "metadata": {},
   "outputs": [
    {
     "name": "stdout",
     "output_type": "stream",
     "text": [
      "              precision    recall  f1-score   support\n",
      "\n",
      "           0       0.80      0.77      0.79      1287\n",
      "           1       0.78      0.80      0.79      1262\n",
      "\n",
      "    accuracy                           0.79      2549\n",
      "   macro avg       0.79      0.79      0.79      2549\n",
      "weighted avg       0.79      0.79      0.79      2549\n",
      "\n"
     ]
    }
   ],
   "source": [
    "print(classification_report(y_testpassanger, resultado_knn))"
   ]
  },
  {
   "cell_type": "markdown",
   "id": "5b267593",
   "metadata": {},
   "source": [
    "## Cross Validation"
   ]
  },
  {
   "cell_type": "code",
   "execution_count": 184,
   "id": "104a287c",
   "metadata": {},
   "outputs": [
    {
     "name": "stdout",
     "output_type": "stream",
     "text": [
      "[0.74789916 0.77310924 0.76638655 0.75966387 0.78991597 0.76936027\n",
      " 0.74915825 0.74410774 0.78451178 0.76936027]\n",
      "Scores: [0.75 0.77 0.77 0.76 0.79 0.77 0.75 0.74 0.78 0.77]\n",
      "Mean: 0.7653473106414282\n",
      "Standard deviation: 0.014540892788810562\n"
     ]
    }
   ],
   "source": [
    "knn_scores = cross_val_score(\n",
    "    knn,\n",
    "    X_trainpassanger,\n",
    "    y_trainpassanger,\n",
    "    cv=10,\n",
    "    n_jobs=-1,\n",
    ")\n",
    "print(knn_scores)\n",
    "\n",
    "display_scores(knn_scores)"
   ]
  },
  {
   "cell_type": "markdown",
   "id": "e6966f17",
   "metadata": {},
   "source": [
    "## Resultados Regressão Logística \n",
    "(é de classificação)"
   ]
  },
  {
   "cell_type": "code",
   "execution_count": 185,
   "id": "9a292404",
   "metadata": {},
   "outputs": [
    {
     "name": "stdout",
     "output_type": "stream",
     "text": [
      "              precision    recall  f1-score   support\n",
      "\n",
      "           0       0.83      0.75      0.79      1287\n",
      "           1       0.77      0.84      0.81      1262\n",
      "\n",
      "    accuracy                           0.80      2549\n",
      "   macro avg       0.80      0.80      0.80      2549\n",
      "weighted avg       0.80      0.80      0.80      2549\n",
      "\n"
     ]
    }
   ],
   "source": [
    "print(classification_report(y_testpassanger, resultado_clr))"
   ]
  },
  {
   "cell_type": "markdown",
   "id": "5cadd3a3",
   "metadata": {},
   "source": [
    "## Cross Validation"
   ]
  },
  {
   "cell_type": "code",
   "execution_count": 186,
   "id": "9ab9a451",
   "metadata": {},
   "outputs": [
    {
     "name": "stdout",
     "output_type": "stream",
     "text": [
      "[0.7512605  0.80168067 0.78151261 0.77815126 0.78991597 0.78114478\n",
      " 0.77272727 0.75925926 0.8013468  0.76936027]\n",
      "Scores: [0.75 0.8  0.78 0.78 0.79 0.78 0.77 0.76 0.8  0.77]\n",
      "Mean: 0.7786359392241745\n",
      "Standard deviation: 0.015603547545481572\n"
     ]
    }
   ],
   "source": [
    "clr_scores = cross_val_score(\n",
    "    clr,\n",
    "    X_trainpassanger,\n",
    "    y_trainpassanger,\n",
    "    cv=10,\n",
    "    n_jobs=-1\n",
    "    \n",
    ")\n",
    "\n",
    "\n",
    "print(clr_scores)\n",
    "\n",
    "display_scores(clr_scores)"
   ]
  },
  {
   "cell_type": "markdown",
   "id": "47bae1fd",
   "metadata": {},
   "source": [
    "## Resultados Gaussian Classifier"
   ]
  },
  {
   "cell_type": "code",
   "execution_count": 187,
   "id": "2813b073",
   "metadata": {},
   "outputs": [
    {
     "name": "stdout",
     "output_type": "stream",
     "text": [
      "              precision    recall  f1-score   support\n",
      "\n",
      "           0       0.86      0.46      0.60      1287\n",
      "           1       0.63      0.93      0.75      1262\n",
      "\n",
      "    accuracy                           0.69      2549\n",
      "   macro avg       0.75      0.70      0.68      2549\n",
      "weighted avg       0.75      0.69      0.68      2549\n",
      "\n"
     ]
    }
   ],
   "source": [
    "print(classification_report(y_testpassanger, resultado_nb))"
   ]
  },
  {
   "cell_type": "markdown",
   "id": "1fcc4669",
   "metadata": {},
   "source": [
    "## Cross Validation"
   ]
  },
  {
   "cell_type": "code",
   "execution_count": 188,
   "id": "82b6f694",
   "metadata": {},
   "outputs": [
    {
     "name": "stdout",
     "output_type": "stream",
     "text": [
      "[0.68067227 0.6907563  0.69411765 0.71092437 0.72773109 0.73232323\n",
      " 0.67845118 0.6952862  0.68686869 0.68518519]\n",
      "Scores: [0.68 0.69 0.69 0.71 0.73 0.73 0.68 0.7  0.69 0.69]\n",
      "Mean: 0.6982316158786747\n",
      "Standard deviation: 0.018094103630505957\n"
     ]
    }
   ],
   "source": [
    "nb_scores = cross_val_score(\n",
    "    nb,\n",
    "    X_trainpassanger,\n",
    "    y_trainpassanger,\n",
    "    cv=10,\n",
    "    n_jobs=-1\n",
    ")\n",
    "\n",
    "print(nb_scores)\n",
    "\n",
    "display_scores(nb_scores)"
   ]
  },
  {
   "cell_type": "markdown",
   "id": "680730f3",
   "metadata": {},
   "source": [
    "## Resultados SVC "
   ]
  },
  {
   "cell_type": "code",
   "execution_count": 189,
   "id": "971d9ace",
   "metadata": {},
   "outputs": [
    {
     "name": "stdout",
     "output_type": "stream",
     "text": [
      "              precision    recall  f1-score   support\n",
      "\n",
      "           0       0.86      0.70      0.77      1287\n",
      "           1       0.74      0.89      0.81      1262\n",
      "\n",
      "    accuracy                           0.79      2549\n",
      "   macro avg       0.80      0.79      0.79      2549\n",
      "weighted avg       0.80      0.79      0.79      2549\n",
      "\n"
     ]
    }
   ],
   "source": [
    "print(classification_report(y_testpassanger, resultado_SVM))"
   ]
  },
  {
   "cell_type": "markdown",
   "id": "bf9e0770",
   "metadata": {},
   "source": [
    "## Cross Validation"
   ]
  },
  {
   "cell_type": "code",
   "execution_count": 190,
   "id": "e0bf195c",
   "metadata": {},
   "outputs": [
    {
     "name": "stdout",
     "output_type": "stream",
     "text": [
      "[0.75798319 0.78991597 0.77647059 0.77815126 0.81176471 0.80808081\n",
      " 0.77104377 0.76430976 0.8047138  0.76094276]\n",
      "Scores: [0.76 0.79 0.78 0.78 0.81 0.81 0.77 0.76 0.8  0.76]\n",
      "Mean: 0.7823376623376623\n",
      "Standard deviation: 0.019084471331515543\n"
     ]
    }
   ],
   "source": [
    "SVM_scores = cross_val_score(\n",
    "    SVM,\n",
    "    X_trainpassanger,\n",
    "    y_trainpassanger,\n",
    "    cv=10,\n",
    "    n_jobs=-1\n",
    ")\n",
    "\n",
    "print(SVM_scores)\n",
    "\n",
    "display_scores(SVM_scores)"
   ]
  },
  {
   "cell_type": "markdown",
   "id": "9349d7ed",
   "metadata": {},
   "source": [
    "<p>Aqui fiz uma analise geral de todos os modelos para ver qual tem a melhor acuracia</p>"
   ]
  },
  {
   "cell_type": "code",
   "execution_count": 191,
   "id": "a7b8eaaf",
   "metadata": {},
   "outputs": [
    {
     "data": {
      "image/png": "[encoded data removed]",
      "text/plain": [
       "<Figure size 432x288 with 1 Axes>"
      ]
     },
     "metadata": {
      "needs_background": "light"
     },
     "output_type": "display_data"
    }
   ],
   "source": [
    "pd.DataFrame({\n",
    "    'SVM': SVM_scores,\n",
    "    'NB': nb_scores,\n",
    "    'Decision Tree': tree_scores,\n",
    "    'KNN': knn_scores,\n",
    "     'Regressão Logistica': clr_scores,\n",
    "    \n",
    "}).plot.box(\n",
    "    xlabel='Classificador',\n",
    "    ylabel='Acuracia',\n",
    "    figsize=(6, 4),\n",
    ");"
   ]
  },
  {
   "cell_type": "markdown",
   "id": "436e2d79",
   "metadata": {},
   "source": [
    "<p>Analisando, vimos que os melhores modelos foram a de regressão logistica e o SVM</p>\n"
   ]
  },
  {
   "cell_type": "markdown",
   "id": "ba37b922",
   "metadata": {},
   "source": [
    "# <font color='red' style='font-size: 30px;'>Otimização de Modelos</font>\n",
    "<hr style='border: 2px solid red;'>\n",
    "<p>Os melhores modelos foram Regresão Logistica e SVM </p>"
   ]
  },
  {
   "cell_type": "code",
   "execution_count": 290,
   "id": "126ba241",
   "metadata": {},
   "outputs": [
    {
     "name": "stderr",
     "output_type": "stream",
     "text": [
      "C:\\Users\\joaob\\Anaconda3\\lib\\site-packages\\sklearn\\utils\\validation.py:63: DataConversionWarning: A column-vector y was passed when a 1d array was expected. Please change the shape of y to (n_samples, ), for example using ravel().\n",
      "  return f(*args, **kwargs)\n"
     ]
    },
    {
     "data": {
      "text/plain": [
       "['CryoSleep', 'RoomService', 'Spa']"
      ]
     },
     "execution_count": 290,
     "metadata": {},
     "output_type": "execute_result"
    }
   ],
   "source": [
    "from sklearn.feature_selection import SelectKBest\n",
    "\n",
    "from sklearn.feature_selection import f_classif\n",
    "\n",
    "f_clas=SelectKBest(f_classif,k=3)\n",
    "f_clas.fit(X_trainpassanger,y_trainpassanger)\n",
    "\n",
    "f_clas_support=f_clas.get_support()\n",
    "f_feature=X_trainpassanger.loc[:,f_clas_support].columns.tolist()\n",
    "f_feature\n",
    "#from sklearn.feature_selection import chi2\n",
    "#chi2(X_testpassanger,y_testpassanger)"
   ]
  },
  {
   "cell_type": "code",
   "execution_count": 291,
   "id": "395c0761",
   "metadata": {},
   "outputs": [
    {
     "data": {
      "text/plain": [
       "['CryoSleep',\n",
       " 'RoomService',\n",
       " 'FoodCourt',\n",
       " 'ShoppingMall',\n",
       " 'Spa',\n",
       " 'VRDeck',\n",
       " 'Primeira Cabin']"
      ]
     },
     "execution_count": 291,
     "metadata": {},
     "output_type": "execute_result"
    }
   ],
   "source": [
    "mi_clas_support=mi_clas.get_support()\n",
    "mi_feature=X_testpassanger.loc[:,mi_clas_support].columns.tolist()\n",
    "mi_feature"
   ]
  },
  {
   "cell_type": "code",
   "execution_count": 292,
   "id": "a1da9d45",
   "metadata": {},
   "outputs": [],
   "source": [
    "df_f=df.loc[:,['CryoSleep','RoomService','Spa','Transported']]"
   ]
  },
  {
   "cell_type": "code",
   "execution_count": 293,
   "id": "b33231c3",
   "metadata": {},
   "outputs": [
    {
     "data": {
      "text/html": [
       "<div>\n",
       "<style scoped>\n",
       "    .dataframe tbody tr th:only-of-type {\n",
       "        vertical-align: middle;\n",
       "    }\n",
       "\n",
       "    .dataframe tbody tr th {\n",
       "        vertical-align: top;\n",
       "    }\n",
       "\n",
       "    .dataframe thead th {\n",
       "        text-align: right;\n",
       "    }\n",
       "</style>\n",
       "<table border=\"1\" class=\"dataframe\">\n",
       "  <thead>\n",
       "    <tr style=\"text-align: right;\">\n",
       "      <th></th>\n",
       "      <th>CryoSleep</th>\n",
       "      <th>RoomService</th>\n",
       "      <th>Spa</th>\n",
       "      <th>Transported</th>\n",
       "    </tr>\n",
       "  </thead>\n",
       "  <tbody>\n",
       "    <tr>\n",
       "      <th>0</th>\n",
       "      <td>0</td>\n",
       "      <td>0.0</td>\n",
       "      <td>0.0</td>\n",
       "      <td>0</td>\n",
       "    </tr>\n",
       "    <tr>\n",
       "      <th>1</th>\n",
       "      <td>0</td>\n",
       "      <td>109.0</td>\n",
       "      <td>549.0</td>\n",
       "      <td>1</td>\n",
       "    </tr>\n",
       "    <tr>\n",
       "      <th>2</th>\n",
       "      <td>0</td>\n",
       "      <td>43.0</td>\n",
       "      <td>6715.0</td>\n",
       "      <td>0</td>\n",
       "    </tr>\n",
       "    <tr>\n",
       "      <th>3</th>\n",
       "      <td>0</td>\n",
       "      <td>0.0</td>\n",
       "      <td>3329.0</td>\n",
       "      <td>0</td>\n",
       "    </tr>\n",
       "    <tr>\n",
       "      <th>4</th>\n",
       "      <td>0</td>\n",
       "      <td>303.0</td>\n",
       "      <td>565.0</td>\n",
       "      <td>1</td>\n",
       "    </tr>\n",
       "  </tbody>\n",
       "</table>\n",
       "</div>"
      ],
      "text/plain": [
       "  CryoSleep  RoomService     Spa Transported\n",
       "0         0          0.0     0.0           0\n",
       "1         0        109.0   549.0           1\n",
       "2         0         43.0  6715.0           0\n",
       "3         0          0.0  3329.0           0\n",
       "4         0        303.0   565.0           1"
      ]
     },
     "execution_count": 293,
     "metadata": {},
     "output_type": "execute_result"
    }
   ],
   "source": [
    "df_f.head()"
   ]
  },
  {
   "cell_type": "code",
   "execution_count": 294,
   "id": "14231cd7",
   "metadata": {},
   "outputs": [],
   "source": [
    "ypassanger_f=df_f.loc[:,[\"Transported\"]]\n",
    "Xpassanger_f=df_f.drop([\"Transported\"],axis=1)"
   ]
  },
  {
   "cell_type": "code",
   "execution_count": 295,
   "id": "9f124e6b",
   "metadata": {},
   "outputs": [
    {
     "data": {
      "text/html": [
       "<div>\n",
       "<style scoped>\n",
       "    .dataframe tbody tr th:only-of-type {\n",
       "        vertical-align: middle;\n",
       "    }\n",
       "\n",
       "    .dataframe tbody tr th {\n",
       "        vertical-align: top;\n",
       "    }\n",
       "\n",
       "    .dataframe thead th {\n",
       "        text-align: right;\n",
       "    }\n",
       "</style>\n",
       "<table border=\"1\" class=\"dataframe\">\n",
       "  <thead>\n",
       "    <tr style=\"text-align: right;\">\n",
       "      <th></th>\n",
       "      <th>CryoSleep</th>\n",
       "      <th>RoomService</th>\n",
       "      <th>Spa</th>\n",
       "    </tr>\n",
       "  </thead>\n",
       "  <tbody>\n",
       "    <tr>\n",
       "      <th>8415</th>\n",
       "      <td>0</td>\n",
       "      <td>0.0</td>\n",
       "      <td>356.0</td>\n",
       "    </tr>\n",
       "    <tr>\n",
       "      <th>4676</th>\n",
       "      <td>1</td>\n",
       "      <td>0.0</td>\n",
       "      <td>0.0</td>\n",
       "    </tr>\n",
       "    <tr>\n",
       "      <th>1588</th>\n",
       "      <td>0</td>\n",
       "      <td>0.0</td>\n",
       "      <td>0.0</td>\n",
       "    </tr>\n",
       "    <tr>\n",
       "      <th>4342</th>\n",
       "      <td>1</td>\n",
       "      <td>0.0</td>\n",
       "      <td>0.0</td>\n",
       "    </tr>\n",
       "    <tr>\n",
       "      <th>5763</th>\n",
       "      <td>0</td>\n",
       "      <td>0.0</td>\n",
       "      <td>0.0</td>\n",
       "    </tr>\n",
       "  </tbody>\n",
       "</table>\n",
       "</div>"
      ],
      "text/plain": [
       "     CryoSleep  RoomService    Spa\n",
       "8415         0          0.0  356.0\n",
       "4676         1          0.0    0.0\n",
       "1588         0          0.0    0.0\n",
       "4342         1          0.0    0.0\n",
       "5763         0          0.0    0.0"
      ]
     },
     "execution_count": 295,
     "metadata": {},
     "output_type": "execute_result"
    }
   ],
   "source": [
    "X_trainpassanger_f, X_testpassanger_f, y_trainpassanger_f, y_testpassanger_f = train_test_split(\n",
    "    Xpassanger_f,\n",
    "    ypassanger_f,                  \n",
    "    test_size=0.3,\n",
    "    random_state=RAND_SEED,\n",
    ")\n",
    "X_testpassanger_f.head()"
   ]
  },
  {
   "cell_type": "code",
   "execution_count": 296,
   "id": "3882b613",
   "metadata": {},
   "outputs": [
    {
     "data": {
      "text/html": [
       "<div>\n",
       "<style scoped>\n",
       "    .dataframe tbody tr th:only-of-type {\n",
       "        vertical-align: middle;\n",
       "    }\n",
       "\n",
       "    .dataframe tbody tr th {\n",
       "        vertical-align: top;\n",
       "    }\n",
       "\n",
       "    .dataframe thead th {\n",
       "        text-align: right;\n",
       "    }\n",
       "</style>\n",
       "<table border=\"1\" class=\"dataframe\">\n",
       "  <thead>\n",
       "    <tr style=\"text-align: right;\">\n",
       "      <th></th>\n",
       "      <th>Transported</th>\n",
       "    </tr>\n",
       "  </thead>\n",
       "  <tbody>\n",
       "    <tr>\n",
       "      <th>8415</th>\n",
       "      <td>1</td>\n",
       "    </tr>\n",
       "    <tr>\n",
       "      <th>4676</th>\n",
       "      <td>1</td>\n",
       "    </tr>\n",
       "    <tr>\n",
       "      <th>1588</th>\n",
       "      <td>0</td>\n",
       "    </tr>\n",
       "    <tr>\n",
       "      <th>4342</th>\n",
       "      <td>1</td>\n",
       "    </tr>\n",
       "    <tr>\n",
       "      <th>5763</th>\n",
       "      <td>0</td>\n",
       "    </tr>\n",
       "  </tbody>\n",
       "</table>\n",
       "</div>"
      ],
      "text/plain": [
       "     Transported\n",
       "8415           1\n",
       "4676           1\n",
       "1588           0\n",
       "4342           1\n",
       "5763           0"
      ]
     },
     "execution_count": 296,
     "metadata": {},
     "output_type": "execute_result"
    }
   ],
   "source": [
    "y_testpassanger_f.head()"
   ]
  },
  {
   "cell_type": "code",
   "execution_count": 297,
   "id": "ea712833",
   "metadata": {},
   "outputs": [
    {
     "name": "stderr",
     "output_type": "stream",
     "text": [
      "C:\\Users\\joaob\\Anaconda3\\lib\\site-packages\\sklearn\\utils\\validation.py:63: DataConversionWarning: A column-vector y was passed when a 1d array was expected. Please change the shape of y to (n_samples, ), for example using ravel().\n",
      "  return f(*args, **kwargs)\n"
     ]
    }
   ],
   "source": [
    "# Criando modelo e treinando com os dados de treino\n",
    "clr_f = LogisticRegression(random_state=42)\n",
    "clr_f.fit(X_trainpassanger_f, y_trainpassanger_f)\n",
    "# Fazendo a predição nos dados de treino\n",
    "resultado_clr_f = clr_f.predict(X_testpassanger_f)"
   ]
  },
  {
   "cell_type": "code",
   "execution_count": 298,
   "id": "8aa6b571",
   "metadata": {},
   "outputs": [
    {
     "name": "stderr",
     "output_type": "stream",
     "text": [
      "C:\\Users\\joaob\\Anaconda3\\lib\\site-packages\\sklearn\\utils\\validation.py:63: DataConversionWarning: A column-vector y was passed when a 1d array was expected. Please change the shape of y to (n_samples, ), for example using ravel().\n",
      "  return f(*args, **kwargs)\n"
     ]
    }
   ],
   "source": [
    "SVM_f = SVC(random_state=42)\n",
    "SVM_f.fit(X_trainpassanger_f, y_trainpassanger_f)\n",
    "# Fazendo a predição nos dados de treino\n",
    "resultado_SVM_f = SVM_f.predict(X_testpassanger_f)"
   ]
  },
  {
   "cell_type": "markdown",
   "id": "d0e0683d",
   "metadata": {},
   "source": [
    "## Resultados Regressão Logística \n",
    "(é de classificação)"
   ]
  },
  {
   "cell_type": "code",
   "execution_count": 299,
   "id": "49b5c312",
   "metadata": {},
   "outputs": [
    {
     "name": "stdout",
     "output_type": "stream",
     "text": [
      "              precision    recall  f1-score   support\n",
      "\n",
      "           0       0.69      0.87      0.77      1287\n",
      "           1       0.82      0.60      0.70      1262\n",
      "\n",
      "    accuracy                           0.74      2549\n",
      "   macro avg       0.76      0.74      0.73      2549\n",
      "weighted avg       0.76      0.74      0.73      2549\n",
      "\n"
     ]
    }
   ],
   "source": [
    "print(classification_report(y_testpassanger_f, resultado_clr_f))"
   ]
  },
  {
   "cell_type": "markdown",
   "id": "6e7f8c50",
   "metadata": {},
   "source": [
    "## Cross Validation"
   ]
  },
  {
   "cell_type": "code",
   "execution_count": 300,
   "id": "e42cebfd",
   "metadata": {},
   "outputs": [
    {
     "name": "stdout",
     "output_type": "stream",
     "text": [
      "[0.69747899 0.73109244 0.7092437  0.72605042 0.71932773 0.7037037\n",
      " 0.72558923 0.71212121 0.72895623 0.6986532 ]\n",
      "Scores: [0.7  0.73 0.71 0.73 0.72 0.7  0.73 0.71 0.73 0.7 ]\n",
      "Mean: 0.7152216846334494\n",
      "Standard deviation: 0.012039337825223444\n"
     ]
    }
   ],
   "source": [
    "clr_scores_f = cross_val_score(\n",
    "    clr_f,\n",
    "    X_trainpassanger_f,\n",
    "    y_trainpassanger_f,\n",
    "    cv=10,\n",
    "    n_jobs=-1\n",
    "    \n",
    ")\n",
    "\n",
    "\n",
    "print(clr_scores_f)\n",
    "\n",
    "display_scores(clr_scores_f)"
   ]
  },
  {
   "cell_type": "code",
   "execution_count": 301,
   "id": "07c59809",
   "metadata": {},
   "outputs": [
    {
     "name": "stdout",
     "output_type": "stream",
     "text": [
      "              precision    recall  f1-score   support\n",
      "\n",
      "           0       0.82      0.56      0.67      1287\n",
      "           1       0.66      0.87      0.75      1262\n",
      "\n",
      "    accuracy                           0.72      2549\n",
      "   macro avg       0.74      0.72      0.71      2549\n",
      "weighted avg       0.74      0.72      0.71      2549\n",
      "\n"
     ]
    }
   ],
   "source": [
    "print(classification_report(y_testpassanger_f, resultado_SVM_f))"
   ]
  },
  {
   "cell_type": "markdown",
   "id": "9dc88578",
   "metadata": {},
   "source": [
    "## Cross Validation"
   ]
  },
  {
   "cell_type": "code",
   "execution_count": 302,
   "id": "bc83d9e5",
   "metadata": {},
   "outputs": [
    {
     "name": "stdout",
     "output_type": "stream",
     "text": [
      "[0.68739496 0.69915966 0.70252101 0.72941176 0.74789916 0.75589226\n",
      " 0.71885522 0.68855219 0.75084175 0.69023569]\n",
      "Scores: [0.69 0.7  0.7  0.73 0.75 0.76 0.72 0.69 0.75 0.69]\n",
      "Mean: 0.7170763658998953\n",
      "Standard deviation: 0.02588445231438763\n"
     ]
    }
   ],
   "source": [
    "SVM_scores_f = cross_val_score(\n",
    "    SVM_f,\n",
    "    X_trainpassanger_f,\n",
    "    y_trainpassanger_f,\n",
    "    cv=10,\n",
    "    n_jobs=-1\n",
    ")\n",
    "\n",
    "print(SVM_scores_f)\n",
    "\n",
    "display_scores(SVM_scores_f)"
   ]
  },
  {
   "cell_type": "code",
   "execution_count": null,
   "id": "24567674",
   "metadata": {},
   "outputs": [],
   "source": []
  },
  {
   "cell_type": "code",
   "execution_count": null,
   "id": "3df3630a",
   "metadata": {},
   "outputs": [],
   "source": []
  }
 ],
 "metadata": {
  "kernelspec": {
   "display_name": "Python 3 (ipykernel)",
   "language": "python",
   "name": "python3"
  },
  "language_info": {
   "codemirror_mode": {
    "name": "ipython",
    "version": 3
   },
   "file_extension": ".py",
   "mimetype": "text/x-python",
   "name": "python",
   "nbconvert_exporter": "python",
   "pygments_lexer": "ipython3",
   "version": "3.9.7"
  }
 },
 "nbformat": 4,
 "nbformat_minor": 5
}
