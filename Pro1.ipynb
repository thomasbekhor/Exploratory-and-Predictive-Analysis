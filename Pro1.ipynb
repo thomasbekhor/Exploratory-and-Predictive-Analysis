{
 "cells": [
  {
   "cell_type": "markdown",
   "metadata": {},
   "source": [
    "quant com quant\n",
    "grafico dispersao e correlacao\n",
    "quant com quali histograma box plot"
   ]
  },
  {
   "cell_type": "code",
   "execution_count": 65,
   "metadata": {},
   "outputs": [],
   "source": [
    "%matplotlib inline\n",
    "from pprint import pprint\n",
    "\n",
    "import pandas as pd\n",
    "\n",
    "import matplotlib.pyplot as plt\n",
    "import numpy as np\n",
    "\n",
    "from sklearn.linear_model import LinearRegression\n",
    "from sklearn.pipeline import Pipeline\n",
    "from sklearn.preprocessing import PolynomialFeatures, StandardScaler\n",
    "from sklearn.impute import SimpleImputer\n",
    "from sklearn.model_selection import train_test_split\n",
    "from sklearn.preprocessing import OneHotEncoder\n",
    "from sklearn.compose import ColumnTransformer"
   ]
  },
  {
   "cell_type": "code",
   "execution_count": 66,
   "metadata": {},
   "outputs": [],
   "source": [
    "RAND_SEED = 42\n",
    "np.random.seed(RAND_SEED)"
   ]
  },
  {
   "cell_type": "code",
   "execution_count": 67,
   "metadata": {},
   "outputs": [],
   "source": [
    "df_house = pd.read_csv(\"DATA1_housing.csv\")\n",
    "df_passangers = pd.read_csv(\"DATA2_passengers.csv\")"
   ]
  },
  {
   "cell_type": "code",
   "execution_count": 68,
   "metadata": {},
   "outputs": [
    {
     "data": {
      "text/html": [
       "<div>\n",
       "<style scoped>\n",
       "    .dataframe tbody tr th:only-of-type {\n",
       "        vertical-align: middle;\n",
       "    }\n",
       "\n",
       "    .dataframe tbody tr th {\n",
       "        vertical-align: top;\n",
       "    }\n",
       "\n",
       "    .dataframe thead th {\n",
       "        text-align: right;\n",
       "    }\n",
       "</style>\n",
       "<table border=\"1\" class=\"dataframe\">\n",
       "  <thead>\n",
       "    <tr style=\"text-align: right;\">\n",
       "      <th></th>\n",
       "      <th>longitude</th>\n",
       "      <th>latitude</th>\n",
       "      <th>housing_median_age</th>\n",
       "      <th>total_rooms</th>\n",
       "      <th>total_bedrooms</th>\n",
       "      <th>population</th>\n",
       "      <th>households</th>\n",
       "      <th>median_income</th>\n",
       "      <th>median_house_value</th>\n",
       "      <th>ocean_proximity</th>\n",
       "    </tr>\n",
       "  </thead>\n",
       "  <tbody>\n",
       "    <tr>\n",
       "      <th>0</th>\n",
       "      <td>-122.23</td>\n",
       "      <td>37.88</td>\n",
       "      <td>41.0</td>\n",
       "      <td>880.0</td>\n",
       "      <td>129.0</td>\n",
       "      <td>322.0</td>\n",
       "      <td>126.0</td>\n",
       "      <td>8.3252</td>\n",
       "      <td>452600.0</td>\n",
       "      <td>NEAR BAY</td>\n",
       "    </tr>\n",
       "    <tr>\n",
       "      <th>1</th>\n",
       "      <td>-122.22</td>\n",
       "      <td>37.86</td>\n",
       "      <td>21.0</td>\n",
       "      <td>7099.0</td>\n",
       "      <td>1106.0</td>\n",
       "      <td>2401.0</td>\n",
       "      <td>1138.0</td>\n",
       "      <td>8.3014</td>\n",
       "      <td>358500.0</td>\n",
       "      <td>NEAR BAY</td>\n",
       "    </tr>\n",
       "    <tr>\n",
       "      <th>2</th>\n",
       "      <td>-122.24</td>\n",
       "      <td>37.85</td>\n",
       "      <td>52.0</td>\n",
       "      <td>1467.0</td>\n",
       "      <td>190.0</td>\n",
       "      <td>496.0</td>\n",
       "      <td>177.0</td>\n",
       "      <td>7.2574</td>\n",
       "      <td>352100.0</td>\n",
       "      <td>NEAR BAY</td>\n",
       "    </tr>\n",
       "    <tr>\n",
       "      <th>3</th>\n",
       "      <td>-122.25</td>\n",
       "      <td>37.85</td>\n",
       "      <td>52.0</td>\n",
       "      <td>1274.0</td>\n",
       "      <td>235.0</td>\n",
       "      <td>558.0</td>\n",
       "      <td>219.0</td>\n",
       "      <td>5.6431</td>\n",
       "      <td>341300.0</td>\n",
       "      <td>NEAR BAY</td>\n",
       "    </tr>\n",
       "    <tr>\n",
       "      <th>4</th>\n",
       "      <td>-122.25</td>\n",
       "      <td>37.85</td>\n",
       "      <td>52.0</td>\n",
       "      <td>1627.0</td>\n",
       "      <td>280.0</td>\n",
       "      <td>565.0</td>\n",
       "      <td>259.0</td>\n",
       "      <td>3.8462</td>\n",
       "      <td>342200.0</td>\n",
       "      <td>NEAR BAY</td>\n",
       "    </tr>\n",
       "  </tbody>\n",
       "</table>\n",
       "</div>"
      ],
      "text/plain": [
       "   longitude  latitude  housing_median_age  total_rooms  total_bedrooms  \\\n",
       "0    -122.23     37.88                41.0        880.0           129.0   \n",
       "1    -122.22     37.86                21.0       7099.0          1106.0   \n",
       "2    -122.24     37.85                52.0       1467.0           190.0   \n",
       "3    -122.25     37.85                52.0       1274.0           235.0   \n",
       "4    -122.25     37.85                52.0       1627.0           280.0   \n",
       "\n",
       "   population  households  median_income  median_house_value ocean_proximity  \n",
       "0       322.0       126.0         8.3252            452600.0        NEAR BAY  \n",
       "1      2401.0      1138.0         8.3014            358500.0        NEAR BAY  \n",
       "2       496.0       177.0         7.2574            352100.0        NEAR BAY  \n",
       "3       558.0       219.0         5.6431            341300.0        NEAR BAY  \n",
       "4       565.0       259.0         3.8462            342200.0        NEAR BAY  "
      ]
     },
     "execution_count": 68,
     "metadata": {},
     "output_type": "execute_result"
    }
   ],
   "source": [
    "df_house.head()"
   ]
  },
  {
   "cell_type": "code",
   "execution_count": 69,
   "metadata": {},
   "outputs": [
    {
     "data": {
      "text/html": [
       "<div>\n",
       "<style scoped>\n",
       "    .dataframe tbody tr th:only-of-type {\n",
       "        vertical-align: middle;\n",
       "    }\n",
       "\n",
       "    .dataframe tbody tr th {\n",
       "        vertical-align: top;\n",
       "    }\n",
       "\n",
       "    .dataframe thead th {\n",
       "        text-align: right;\n",
       "    }\n",
       "</style>\n",
       "<table border=\"1\" class=\"dataframe\">\n",
       "  <thead>\n",
       "    <tr style=\"text-align: right;\">\n",
       "      <th></th>\n",
       "      <th>PassengerId</th>\n",
       "      <th>HomePlanet</th>\n",
       "      <th>CryoSleep</th>\n",
       "      <th>Cabin</th>\n",
       "      <th>Destination</th>\n",
       "      <th>Age</th>\n",
       "      <th>VIP</th>\n",
       "      <th>RoomService</th>\n",
       "      <th>FoodCourt</th>\n",
       "      <th>ShoppingMall</th>\n",
       "      <th>Spa</th>\n",
       "      <th>VRDeck</th>\n",
       "      <th>Name</th>\n",
       "      <th>Transported</th>\n",
       "    </tr>\n",
       "  </thead>\n",
       "  <tbody>\n",
       "    <tr>\n",
       "      <th>0</th>\n",
       "      <td>0001_01</td>\n",
       "      <td>Europa</td>\n",
       "      <td>False</td>\n",
       "      <td>B/0/P</td>\n",
       "      <td>TRAPPIST-1e</td>\n",
       "      <td>39.0</td>\n",
       "      <td>False</td>\n",
       "      <td>0.0</td>\n",
       "      <td>0.0</td>\n",
       "      <td>0.0</td>\n",
       "      <td>0.0</td>\n",
       "      <td>0.0</td>\n",
       "      <td>Maham Ofracculy</td>\n",
       "      <td>False</td>\n",
       "    </tr>\n",
       "    <tr>\n",
       "      <th>1</th>\n",
       "      <td>0002_01</td>\n",
       "      <td>Earth</td>\n",
       "      <td>False</td>\n",
       "      <td>F/0/S</td>\n",
       "      <td>TRAPPIST-1e</td>\n",
       "      <td>24.0</td>\n",
       "      <td>False</td>\n",
       "      <td>109.0</td>\n",
       "      <td>9.0</td>\n",
       "      <td>25.0</td>\n",
       "      <td>549.0</td>\n",
       "      <td>44.0</td>\n",
       "      <td>Juanna Vines</td>\n",
       "      <td>True</td>\n",
       "    </tr>\n",
       "    <tr>\n",
       "      <th>2</th>\n",
       "      <td>0003_01</td>\n",
       "      <td>Europa</td>\n",
       "      <td>False</td>\n",
       "      <td>A/0/S</td>\n",
       "      <td>TRAPPIST-1e</td>\n",
       "      <td>58.0</td>\n",
       "      <td>True</td>\n",
       "      <td>43.0</td>\n",
       "      <td>3576.0</td>\n",
       "      <td>0.0</td>\n",
       "      <td>6715.0</td>\n",
       "      <td>49.0</td>\n",
       "      <td>Altark Susent</td>\n",
       "      <td>False</td>\n",
       "    </tr>\n",
       "    <tr>\n",
       "      <th>3</th>\n",
       "      <td>0003_02</td>\n",
       "      <td>Europa</td>\n",
       "      <td>False</td>\n",
       "      <td>A/0/S</td>\n",
       "      <td>TRAPPIST-1e</td>\n",
       "      <td>33.0</td>\n",
       "      <td>False</td>\n",
       "      <td>0.0</td>\n",
       "      <td>1283.0</td>\n",
       "      <td>371.0</td>\n",
       "      <td>3329.0</td>\n",
       "      <td>193.0</td>\n",
       "      <td>Solam Susent</td>\n",
       "      <td>False</td>\n",
       "    </tr>\n",
       "    <tr>\n",
       "      <th>4</th>\n",
       "      <td>0004_01</td>\n",
       "      <td>Earth</td>\n",
       "      <td>False</td>\n",
       "      <td>F/1/S</td>\n",
       "      <td>TRAPPIST-1e</td>\n",
       "      <td>16.0</td>\n",
       "      <td>False</td>\n",
       "      <td>303.0</td>\n",
       "      <td>70.0</td>\n",
       "      <td>151.0</td>\n",
       "      <td>565.0</td>\n",
       "      <td>2.0</td>\n",
       "      <td>Willy Santantines</td>\n",
       "      <td>True</td>\n",
       "    </tr>\n",
       "  </tbody>\n",
       "</table>\n",
       "</div>"
      ],
      "text/plain": [
       "  PassengerId HomePlanet CryoSleep  Cabin  Destination   Age    VIP  \\\n",
       "0     0001_01     Europa     False  B/0/P  TRAPPIST-1e  39.0  False   \n",
       "1     0002_01      Earth     False  F/0/S  TRAPPIST-1e  24.0  False   \n",
       "2     0003_01     Europa     False  A/0/S  TRAPPIST-1e  58.0   True   \n",
       "3     0003_02     Europa     False  A/0/S  TRAPPIST-1e  33.0  False   \n",
       "4     0004_01      Earth     False  F/1/S  TRAPPIST-1e  16.0  False   \n",
       "\n",
       "   RoomService  FoodCourt  ShoppingMall     Spa  VRDeck               Name  \\\n",
       "0          0.0        0.0           0.0     0.0     0.0    Maham Ofracculy   \n",
       "1        109.0        9.0          25.0   549.0    44.0       Juanna Vines   \n",
       "2         43.0     3576.0           0.0  6715.0    49.0      Altark Susent   \n",
       "3          0.0     1283.0         371.0  3329.0   193.0       Solam Susent   \n",
       "4        303.0       70.0         151.0   565.0     2.0  Willy Santantines   \n",
       "\n",
       "   Transported  \n",
       "0        False  \n",
       "1         True  \n",
       "2        False  \n",
       "3        False  \n",
       "4         True  "
      ]
     },
     "execution_count": 69,
     "metadata": {},
     "output_type": "execute_result"
    }
   ],
   "source": [
    "df_passangers.head()"
   ]
  },
  {
   "cell_type": "markdown",
   "metadata": {},
   "source": [
    "# DATA frame passangers "
   ]
  },
  {
   "cell_type": "code",
   "execution_count": 70,
   "metadata": {},
   "outputs": [
    {
     "data": {
      "text/html": [
       "<div>\n",
       "<style scoped>\n",
       "    .dataframe tbody tr th:only-of-type {\n",
       "        vertical-align: middle;\n",
       "    }\n",
       "\n",
       "    .dataframe tbody tr th {\n",
       "        vertical-align: top;\n",
       "    }\n",
       "\n",
       "    .dataframe thead th {\n",
       "        text-align: right;\n",
       "    }\n",
       "</style>\n",
       "<table border=\"1\" class=\"dataframe\">\n",
       "  <thead>\n",
       "    <tr style=\"text-align: right;\">\n",
       "      <th></th>\n",
       "      <th>count</th>\n",
       "      <th>mean</th>\n",
       "      <th>std</th>\n",
       "      <th>min</th>\n",
       "      <th>25%</th>\n",
       "      <th>50%</th>\n",
       "      <th>75%</th>\n",
       "      <th>max</th>\n",
       "    </tr>\n",
       "  </thead>\n",
       "  <tbody>\n",
       "    <tr>\n",
       "      <th>Age</th>\n",
       "      <td>8514.0</td>\n",
       "      <td>28.827930</td>\n",
       "      <td>14.489021</td>\n",
       "      <td>0.0</td>\n",
       "      <td>19.0</td>\n",
       "      <td>27.0</td>\n",
       "      <td>38.0</td>\n",
       "      <td>79.0</td>\n",
       "    </tr>\n",
       "    <tr>\n",
       "      <th>RoomService</th>\n",
       "      <td>8512.0</td>\n",
       "      <td>224.687617</td>\n",
       "      <td>666.717663</td>\n",
       "      <td>0.0</td>\n",
       "      <td>0.0</td>\n",
       "      <td>0.0</td>\n",
       "      <td>47.0</td>\n",
       "      <td>14327.0</td>\n",
       "    </tr>\n",
       "    <tr>\n",
       "      <th>FoodCourt</th>\n",
       "      <td>8510.0</td>\n",
       "      <td>458.077203</td>\n",
       "      <td>1611.489240</td>\n",
       "      <td>0.0</td>\n",
       "      <td>0.0</td>\n",
       "      <td>0.0</td>\n",
       "      <td>76.0</td>\n",
       "      <td>29813.0</td>\n",
       "    </tr>\n",
       "    <tr>\n",
       "      <th>ShoppingMall</th>\n",
       "      <td>8485.0</td>\n",
       "      <td>173.729169</td>\n",
       "      <td>604.696458</td>\n",
       "      <td>0.0</td>\n",
       "      <td>0.0</td>\n",
       "      <td>0.0</td>\n",
       "      <td>27.0</td>\n",
       "      <td>23492.0</td>\n",
       "    </tr>\n",
       "    <tr>\n",
       "      <th>Spa</th>\n",
       "      <td>8510.0</td>\n",
       "      <td>311.138778</td>\n",
       "      <td>1136.705535</td>\n",
       "      <td>0.0</td>\n",
       "      <td>0.0</td>\n",
       "      <td>0.0</td>\n",
       "      <td>59.0</td>\n",
       "      <td>22408.0</td>\n",
       "    </tr>\n",
       "    <tr>\n",
       "      <th>VRDeck</th>\n",
       "      <td>8505.0</td>\n",
       "      <td>304.854791</td>\n",
       "      <td>1145.717189</td>\n",
       "      <td>0.0</td>\n",
       "      <td>0.0</td>\n",
       "      <td>0.0</td>\n",
       "      <td>46.0</td>\n",
       "      <td>24133.0</td>\n",
       "    </tr>\n",
       "  </tbody>\n",
       "</table>\n",
       "</div>"
      ],
      "text/plain": [
       "               count        mean          std  min   25%   50%   75%      max\n",
       "Age           8514.0   28.827930    14.489021  0.0  19.0  27.0  38.0     79.0\n",
       "RoomService   8512.0  224.687617   666.717663  0.0   0.0   0.0  47.0  14327.0\n",
       "FoodCourt     8510.0  458.077203  1611.489240  0.0   0.0   0.0  76.0  29813.0\n",
       "ShoppingMall  8485.0  173.729169   604.696458  0.0   0.0   0.0  27.0  23492.0\n",
       "Spa           8510.0  311.138778  1136.705535  0.0   0.0   0.0  59.0  22408.0\n",
       "VRDeck        8505.0  304.854791  1145.717189  0.0   0.0   0.0  46.0  24133.0"
      ]
     },
     "execution_count": 70,
     "metadata": {},
     "output_type": "execute_result"
    }
   ],
   "source": [
    "df_passangers.describe().transpose()"
   ]
  },
  {
   "cell_type": "code",
   "execution_count": 71,
   "metadata": {},
   "outputs": [
    {
     "name": "stdout",
     "output_type": "stream",
     "text": [
      "<class 'pandas.core.frame.DataFrame'>\n",
      "RangeIndex: 8693 entries, 0 to 8692\n",
      "Data columns (total 14 columns):\n",
      " #   Column        Non-Null Count  Dtype  \n",
      "---  ------        --------------  -----  \n",
      " 0   PassengerId   8693 non-null   object \n",
      " 1   HomePlanet    8492 non-null   object \n",
      " 2   CryoSleep     8476 non-null   object \n",
      " 3   Cabin         8494 non-null   object \n",
      " 4   Destination   8511 non-null   object \n",
      " 5   Age           8514 non-null   float64\n",
      " 6   VIP           8490 non-null   object \n",
      " 7   RoomService   8512 non-null   float64\n",
      " 8   FoodCourt     8510 non-null   float64\n",
      " 9   ShoppingMall  8485 non-null   float64\n",
      " 10  Spa           8510 non-null   float64\n",
      " 11  VRDeck        8505 non-null   float64\n",
      " 12  Name          8493 non-null   object \n",
      " 13  Transported   8693 non-null   bool   \n",
      "dtypes: bool(1), float64(6), object(7)\n",
      "memory usage: 891.5+ KB\n"
     ]
    }
   ],
   "source": [
    "df_passangers.info()"
   ]
  },
  {
   "cell_type": "code",
   "execution_count": 72,
   "metadata": {
    "scrolled": false
   },
   "outputs": [
    {
     "data": {
      "text/html": [
       "<div>\n",
       "<style scoped>\n",
       "    .dataframe tbody tr th:only-of-type {\n",
       "        vertical-align: middle;\n",
       "    }\n",
       "\n",
       "    .dataframe tbody tr th {\n",
       "        vertical-align: top;\n",
       "    }\n",
       "\n",
       "    .dataframe thead th {\n",
       "        text-align: right;\n",
       "    }\n",
       "</style>\n",
       "<table border=\"1\" class=\"dataframe\">\n",
       "  <thead>\n",
       "    <tr style=\"text-align: right;\">\n",
       "      <th></th>\n",
       "      <th>PassengerId</th>\n",
       "      <th>HomePlanet</th>\n",
       "      <th>CryoSleep</th>\n",
       "      <th>Cabin</th>\n",
       "      <th>Destination</th>\n",
       "      <th>Age</th>\n",
       "      <th>VIP</th>\n",
       "      <th>RoomService</th>\n",
       "      <th>FoodCourt</th>\n",
       "      <th>ShoppingMall</th>\n",
       "      <th>Spa</th>\n",
       "      <th>VRDeck</th>\n",
       "      <th>Name</th>\n",
       "      <th>Transported</th>\n",
       "    </tr>\n",
       "  </thead>\n",
       "  <tbody>\n",
       "    <tr>\n",
       "      <th>0</th>\n",
       "      <td>0001_01</td>\n",
       "      <td>Europa</td>\n",
       "      <td>False</td>\n",
       "      <td>B/0/P</td>\n",
       "      <td>TRAPPIST-1e</td>\n",
       "      <td>39.0</td>\n",
       "      <td>False</td>\n",
       "      <td>0.0</td>\n",
       "      <td>0.0</td>\n",
       "      <td>0.0</td>\n",
       "      <td>0.0</td>\n",
       "      <td>0.0</td>\n",
       "      <td>Maham Ofracculy</td>\n",
       "      <td>False</td>\n",
       "    </tr>\n",
       "    <tr>\n",
       "      <th>1</th>\n",
       "      <td>0002_01</td>\n",
       "      <td>Earth</td>\n",
       "      <td>False</td>\n",
       "      <td>F/0/S</td>\n",
       "      <td>TRAPPIST-1e</td>\n",
       "      <td>24.0</td>\n",
       "      <td>False</td>\n",
       "      <td>109.0</td>\n",
       "      <td>9.0</td>\n",
       "      <td>25.0</td>\n",
       "      <td>549.0</td>\n",
       "      <td>44.0</td>\n",
       "      <td>Juanna Vines</td>\n",
       "      <td>True</td>\n",
       "    </tr>\n",
       "    <tr>\n",
       "      <th>2</th>\n",
       "      <td>0003_01</td>\n",
       "      <td>Europa</td>\n",
       "      <td>False</td>\n",
       "      <td>A/0/S</td>\n",
       "      <td>TRAPPIST-1e</td>\n",
       "      <td>58.0</td>\n",
       "      <td>True</td>\n",
       "      <td>43.0</td>\n",
       "      <td>3576.0</td>\n",
       "      <td>0.0</td>\n",
       "      <td>6715.0</td>\n",
       "      <td>49.0</td>\n",
       "      <td>Altark Susent</td>\n",
       "      <td>False</td>\n",
       "    </tr>\n",
       "    <tr>\n",
       "      <th>3</th>\n",
       "      <td>0003_02</td>\n",
       "      <td>Europa</td>\n",
       "      <td>False</td>\n",
       "      <td>A/0/S</td>\n",
       "      <td>TRAPPIST-1e</td>\n",
       "      <td>33.0</td>\n",
       "      <td>False</td>\n",
       "      <td>0.0</td>\n",
       "      <td>1283.0</td>\n",
       "      <td>371.0</td>\n",
       "      <td>3329.0</td>\n",
       "      <td>193.0</td>\n",
       "      <td>Solam Susent</td>\n",
       "      <td>False</td>\n",
       "    </tr>\n",
       "    <tr>\n",
       "      <th>4</th>\n",
       "      <td>0004_01</td>\n",
       "      <td>Earth</td>\n",
       "      <td>False</td>\n",
       "      <td>F/1/S</td>\n",
       "      <td>TRAPPIST-1e</td>\n",
       "      <td>16.0</td>\n",
       "      <td>False</td>\n",
       "      <td>303.0</td>\n",
       "      <td>70.0</td>\n",
       "      <td>151.0</td>\n",
       "      <td>565.0</td>\n",
       "      <td>2.0</td>\n",
       "      <td>Willy Santantines</td>\n",
       "      <td>True</td>\n",
       "    </tr>\n",
       "  </tbody>\n",
       "</table>\n",
       "</div>"
      ],
      "text/plain": [
       "  PassengerId HomePlanet CryoSleep  Cabin  Destination   Age    VIP  \\\n",
       "0     0001_01     Europa     False  B/0/P  TRAPPIST-1e  39.0  False   \n",
       "1     0002_01      Earth     False  F/0/S  TRAPPIST-1e  24.0  False   \n",
       "2     0003_01     Europa     False  A/0/S  TRAPPIST-1e  58.0   True   \n",
       "3     0003_02     Europa     False  A/0/S  TRAPPIST-1e  33.0  False   \n",
       "4     0004_01      Earth     False  F/1/S  TRAPPIST-1e  16.0  False   \n",
       "\n",
       "   RoomService  FoodCourt  ShoppingMall     Spa  VRDeck               Name  \\\n",
       "0          0.0        0.0           0.0     0.0     0.0    Maham Ofracculy   \n",
       "1        109.0        9.0          25.0   549.0    44.0       Juanna Vines   \n",
       "2         43.0     3576.0           0.0  6715.0    49.0      Altark Susent   \n",
       "3          0.0     1283.0         371.0  3329.0   193.0       Solam Susent   \n",
       "4        303.0       70.0         151.0   565.0     2.0  Willy Santantines   \n",
       "\n",
       "   Transported  \n",
       "0        False  \n",
       "1         True  \n",
       "2        False  \n",
       "3        False  \n",
       "4         True  "
      ]
     },
     "execution_count": 72,
     "metadata": {},
     "output_type": "execute_result"
    }
   ],
   "source": [
    "df_sliced=df_passangers[df_passangers[\"Transported\"].notna()]\n",
    "df_sliced.head()"
   ]
  },
  {
   "cell_type": "code",
   "execution_count": 73,
   "metadata": {
    "scrolled": true
   },
   "outputs": [
    {
     "data": {
      "text/html": [
       "<div>\n",
       "<style scoped>\n",
       "    .dataframe tbody tr th:only-of-type {\n",
       "        vertical-align: middle;\n",
       "    }\n",
       "\n",
       "    .dataframe tbody tr th {\n",
       "        vertical-align: top;\n",
       "    }\n",
       "\n",
       "    .dataframe thead th {\n",
       "        text-align: right;\n",
       "    }\n",
       "</style>\n",
       "<table border=\"1\" class=\"dataframe\">\n",
       "  <thead>\n",
       "    <tr style=\"text-align: right;\">\n",
       "      <th></th>\n",
       "      <th>PassengerId</th>\n",
       "      <th>HomePlanet</th>\n",
       "      <th>CryoSleep</th>\n",
       "      <th>Cabin</th>\n",
       "      <th>Destination</th>\n",
       "      <th>Age</th>\n",
       "      <th>VIP</th>\n",
       "      <th>RoomService</th>\n",
       "      <th>FoodCourt</th>\n",
       "      <th>ShoppingMall</th>\n",
       "      <th>Spa</th>\n",
       "      <th>VRDeck</th>\n",
       "      <th>Name</th>\n",
       "      <th>Transported</th>\n",
       "    </tr>\n",
       "  </thead>\n",
       "  <tbody>\n",
       "    <tr>\n",
       "      <th>0</th>\n",
       "      <td>0001_01</td>\n",
       "      <td>Europa</td>\n",
       "      <td>False</td>\n",
       "      <td>B/0/P</td>\n",
       "      <td>TRAPPIST-1e</td>\n",
       "      <td>39.0</td>\n",
       "      <td>False</td>\n",
       "      <td>0.0</td>\n",
       "      <td>0.0</td>\n",
       "      <td>0.0</td>\n",
       "      <td>0.0</td>\n",
       "      <td>0.0</td>\n",
       "      <td>Maham Ofracculy</td>\n",
       "      <td>False</td>\n",
       "    </tr>\n",
       "    <tr>\n",
       "      <th>1</th>\n",
       "      <td>0002_01</td>\n",
       "      <td>Earth</td>\n",
       "      <td>False</td>\n",
       "      <td>F/0/S</td>\n",
       "      <td>TRAPPIST-1e</td>\n",
       "      <td>24.0</td>\n",
       "      <td>False</td>\n",
       "      <td>109.0</td>\n",
       "      <td>9.0</td>\n",
       "      <td>25.0</td>\n",
       "      <td>549.0</td>\n",
       "      <td>44.0</td>\n",
       "      <td>Juanna Vines</td>\n",
       "      <td>True</td>\n",
       "    </tr>\n",
       "    <tr>\n",
       "      <th>2</th>\n",
       "      <td>0003_01</td>\n",
       "      <td>Europa</td>\n",
       "      <td>False</td>\n",
       "      <td>A/0/S</td>\n",
       "      <td>TRAPPIST-1e</td>\n",
       "      <td>58.0</td>\n",
       "      <td>True</td>\n",
       "      <td>43.0</td>\n",
       "      <td>3576.0</td>\n",
       "      <td>0.0</td>\n",
       "      <td>6715.0</td>\n",
       "      <td>49.0</td>\n",
       "      <td>Altark Susent</td>\n",
       "      <td>False</td>\n",
       "    </tr>\n",
       "    <tr>\n",
       "      <th>3</th>\n",
       "      <td>0003_02</td>\n",
       "      <td>Europa</td>\n",
       "      <td>False</td>\n",
       "      <td>A/0/S</td>\n",
       "      <td>TRAPPIST-1e</td>\n",
       "      <td>33.0</td>\n",
       "      <td>False</td>\n",
       "      <td>0.0</td>\n",
       "      <td>1283.0</td>\n",
       "      <td>371.0</td>\n",
       "      <td>3329.0</td>\n",
       "      <td>193.0</td>\n",
       "      <td>Solam Susent</td>\n",
       "      <td>False</td>\n",
       "    </tr>\n",
       "    <tr>\n",
       "      <th>4</th>\n",
       "      <td>0004_01</td>\n",
       "      <td>Earth</td>\n",
       "      <td>False</td>\n",
       "      <td>F/1/S</td>\n",
       "      <td>TRAPPIST-1e</td>\n",
       "      <td>16.0</td>\n",
       "      <td>False</td>\n",
       "      <td>303.0</td>\n",
       "      <td>70.0</td>\n",
       "      <td>151.0</td>\n",
       "      <td>565.0</td>\n",
       "      <td>2.0</td>\n",
       "      <td>Willy Santantines</td>\n",
       "      <td>True</td>\n",
       "    </tr>\n",
       "  </tbody>\n",
       "</table>\n",
       "</div>"
      ],
      "text/plain": [
       "  PassengerId HomePlanet CryoSleep  Cabin  Destination   Age    VIP  \\\n",
       "0     0001_01     Europa     False  B/0/P  TRAPPIST-1e  39.0  False   \n",
       "1     0002_01      Earth     False  F/0/S  TRAPPIST-1e  24.0  False   \n",
       "2     0003_01     Europa     False  A/0/S  TRAPPIST-1e  58.0   True   \n",
       "3     0003_02     Europa     False  A/0/S  TRAPPIST-1e  33.0  False   \n",
       "4     0004_01      Earth     False  F/1/S  TRAPPIST-1e  16.0  False   \n",
       "\n",
       "   RoomService  FoodCourt  ShoppingMall     Spa  VRDeck               Name  \\\n",
       "0          0.0        0.0           0.0     0.0     0.0    Maham Ofracculy   \n",
       "1        109.0        9.0          25.0   549.0    44.0       Juanna Vines   \n",
       "2         43.0     3576.0           0.0  6715.0    49.0      Altark Susent   \n",
       "3          0.0     1283.0         371.0  3329.0   193.0       Solam Susent   \n",
       "4        303.0       70.0         151.0   565.0     2.0  Willy Santantines   \n",
       "\n",
       "   Transported  \n",
       "0        False  \n",
       "1         True  \n",
       "2        False  \n",
       "3        False  \n",
       "4         True  "
      ]
     },
     "execution_count": 73,
     "metadata": {},
     "output_type": "execute_result"
    }
   ],
   "source": [
    "\n",
    "df_sliced.head()"
   ]
  },
  {
   "cell_type": "markdown",
   "metadata": {},
   "source": [
    "   # Analize exploratoria\n",
    "   criar dashbord entender melhor os graficos"
   ]
  },
  {
   "cell_type": "code",
   "execution_count": 74,
   "metadata": {},
   "outputs": [
    {
     "data": {
      "text/plain": [
       "HomePlanet  Transported\n",
       "Earth       False          0.576054\n",
       "            True           0.423946\n",
       "Europa      True           0.658846\n",
       "            False          0.341154\n",
       "Mars        True           0.523024\n",
       "            False          0.476976\n",
       "Name: Transported, dtype: float64"
      ]
     },
     "execution_count": 74,
     "metadata": {},
     "output_type": "execute_result"
    }
   ],
   "source": [
    "df_sliced.groupby(by='HomePlanet')[\"Transported\"].value_counts(normalize=True)"
   ]
  },
  {
   "cell_type": "code",
   "execution_count": 75,
   "metadata": {},
   "outputs": [],
   "source": [
    "#df_sliced.groupby(by='HomePlanet').Transported.mean().plot(kind=\"barh\").set_xlabel(\"% Transported\")"
   ]
  },
  {
   "cell_type": "code",
   "execution_count": 76,
   "metadata": {},
   "outputs": [
    {
     "data": {
      "text/plain": [
       "CryoSleep  Transported\n",
       "False      False          0.671079\n",
       "           True           0.328921\n",
       "True       True           0.817583\n",
       "           False          0.182417\n",
       "Name: Transported, dtype: float64"
      ]
     },
     "execution_count": 76,
     "metadata": {},
     "output_type": "execute_result"
    }
   ],
   "source": [
    "df_sliced.groupby(by='CryoSleep')[\"Transported\"].value_counts(normalize=True)"
   ]
  },
  {
   "cell_type": "code",
   "execution_count": 77,
   "metadata": {},
   "outputs": [
    {
     "data": {
      "text/plain": [
       "Cabin   Transported\n",
       "A/0/P   False          0.5\n",
       "        True           0.5\n",
       "A/0/S   False          1.0\n",
       "A/1/S   True           1.0\n",
       "A/10/P  False          1.0\n",
       "                      ... \n",
       "T/0/P   False          1.0\n",
       "T/1/P   False          1.0\n",
       "T/2/P   False          1.0\n",
       "T/2/S   False          1.0\n",
       "T/3/P   True           1.0\n",
       "Name: Transported, Length: 7169, dtype: float64"
      ]
     },
     "execution_count": 77,
     "metadata": {},
     "output_type": "execute_result"
    }
   ],
   "source": [
    "df_sliced.groupby(by='Cabin')[\"Transported\"].value_counts(normalize=True)"
   ]
  },
  {
   "cell_type": "code",
   "execution_count": 78,
   "metadata": {},
   "outputs": [
    {
     "data": {
      "text/plain": [
       "Destination    Transported\n",
       "55 Cancri e    True           0.610000\n",
       "               False          0.390000\n",
       "PSO J318.5-22  True           0.503769\n",
       "               False          0.496231\n",
       "TRAPPIST-1e    False          0.528825\n",
       "               True           0.471175\n",
       "Name: Transported, dtype: float64"
      ]
     },
     "execution_count": 78,
     "metadata": {},
     "output_type": "execute_result"
    }
   ],
   "source": [
    "df_sliced.groupby(by='Destination')[\"Transported\"].value_counts(normalize=True)"
   ]
  },
  {
   "cell_type": "markdown",
   "metadata": {},
   "source": [
    "# Como fazer um od.crosstab de value counts para ter a frequencia relativa"
   ]
  },
  {
   "cell_type": "code",
   "execution_count": 79,
   "metadata": {},
   "outputs": [
    {
     "name": "stdout",
     "output_type": "stream",
     "text": [
      "(20, 25]    0.175264\n",
      "(25, 30]    0.144794\n",
      "(15, 20]    0.143354\n",
      "(30, 35]    0.107726\n",
      "(35, 40]    0.093810\n",
      "(40, 45]    0.069578\n",
      "(10, 15]    0.062620\n",
      "(45, 50]    0.049664\n",
      "(0, 5]      0.038508\n",
      "(50, 55]    0.036828\n",
      "(5, 10]     0.026272\n",
      "(55, 60]    0.025192\n",
      "(60, 65]    0.016315\n",
      "(65, 70]    0.005638\n",
      "(70, 75]    0.003239\n",
      "(75, 80]    0.001200\n",
      "Name: Faixa_idade, dtype: float64\n"
     ]
    },
    {
     "data": {
      "text/html": [
       "<div>\n",
       "<style scoped>\n",
       "    .dataframe tbody tr th:only-of-type {\n",
       "        vertical-align: middle;\n",
       "    }\n",
       "\n",
       "    .dataframe tbody tr th {\n",
       "        vertical-align: top;\n",
       "    }\n",
       "\n",
       "    .dataframe thead th {\n",
       "        text-align: right;\n",
       "    }\n",
       "</style>\n",
       "<table border=\"1\" class=\"dataframe\">\n",
       "  <thead>\n",
       "    <tr style=\"text-align: right;\">\n",
       "      <th>Faixa_idade</th>\n",
       "      <th>(0, 5]</th>\n",
       "      <th>(5, 10]</th>\n",
       "      <th>(10, 15]</th>\n",
       "      <th>(15, 20]</th>\n",
       "      <th>(20, 25]</th>\n",
       "      <th>(25, 30]</th>\n",
       "      <th>(30, 35]</th>\n",
       "      <th>(35, 40]</th>\n",
       "      <th>(40, 45]</th>\n",
       "      <th>(45, 50]</th>\n",
       "      <th>(50, 55]</th>\n",
       "      <th>(55, 60]</th>\n",
       "      <th>(60, 65]</th>\n",
       "      <th>(65, 70]</th>\n",
       "      <th>(70, 75]</th>\n",
       "      <th>(75, 80]</th>\n",
       "    </tr>\n",
       "    <tr>\n",
       "      <th>Transported</th>\n",
       "      <th></th>\n",
       "      <th></th>\n",
       "      <th></th>\n",
       "      <th></th>\n",
       "      <th></th>\n",
       "      <th></th>\n",
       "      <th></th>\n",
       "      <th></th>\n",
       "      <th></th>\n",
       "      <th></th>\n",
       "      <th></th>\n",
       "      <th></th>\n",
       "      <th></th>\n",
       "      <th></th>\n",
       "      <th></th>\n",
       "      <th></th>\n",
       "    </tr>\n",
       "  </thead>\n",
       "  <tbody>\n",
       "    <tr>\n",
       "      <th>False</th>\n",
       "      <td>87</td>\n",
       "      <td>89</td>\n",
       "      <td>226</td>\n",
       "      <td>602</td>\n",
       "      <td>808</td>\n",
       "      <td>608</td>\n",
       "      <td>480</td>\n",
       "      <td>413</td>\n",
       "      <td>290</td>\n",
       "      <td>209</td>\n",
       "      <td>164</td>\n",
       "      <td>100</td>\n",
       "      <td>72</td>\n",
       "      <td>21</td>\n",
       "      <td>16</td>\n",
       "      <td>7</td>\n",
       "    </tr>\n",
       "    <tr>\n",
       "      <th>True</th>\n",
       "      <td>234</td>\n",
       "      <td>130</td>\n",
       "      <td>296</td>\n",
       "      <td>593</td>\n",
       "      <td>653</td>\n",
       "      <td>599</td>\n",
       "      <td>418</td>\n",
       "      <td>369</td>\n",
       "      <td>290</td>\n",
       "      <td>205</td>\n",
       "      <td>143</td>\n",
       "      <td>110</td>\n",
       "      <td>64</td>\n",
       "      <td>26</td>\n",
       "      <td>11</td>\n",
       "      <td>3</td>\n",
       "    </tr>\n",
       "  </tbody>\n",
       "</table>\n",
       "</div>"
      ],
      "text/plain": [
       "Faixa_idade  (0, 5]  (5, 10]  (10, 15]  (15, 20]  (20, 25]  (25, 30]  \\\n",
       "Transported                                                            \n",
       "False            87       89       226       602       808       608   \n",
       "True            234      130       296       593       653       599   \n",
       "\n",
       "Faixa_idade  (30, 35]  (35, 40]  (40, 45]  (45, 50]  (50, 55]  (55, 60]  \\\n",
       "Transported                                                               \n",
       "False             480       413       290       209       164       100   \n",
       "True              418       369       290       205       143       110   \n",
       "\n",
       "Faixa_idade  (60, 65]  (65, 70]  (70, 75]  (75, 80]  \n",
       "Transported                                          \n",
       "False              72        21        16         7  \n",
       "True               64        26        11         3  "
      ]
     },
     "execution_count": 79,
     "metadata": {},
     "output_type": "execute_result"
    }
   ],
   "source": [
    "df_sliced['Faixa_idade']=pd.cut(df_sliced['Age'],np.arange(0,85,5))\n",
    "oi=df_sliced['Faixa_idade'].value_counts(normalize=True)\n",
    "print(oi)\n",
    "pd.crosstab(df_sliced['Transported'],df_sliced['Faixa_idade'])"
   ]
  },
  {
   "cell_type": "code",
   "execution_count": 80,
   "metadata": {},
   "outputs": [
    {
     "data": {
      "text/plain": [
       "VIP    Transported\n",
       "False  True           0.506332\n",
       "       False          0.493668\n",
       "True   False          0.618090\n",
       "       True           0.381910\n",
       "Name: Transported, dtype: float64"
      ]
     },
     "execution_count": 80,
     "metadata": {},
     "output_type": "execute_result"
    }
   ],
   "source": [
    "df_sliced.groupby(by='VIP')[\"Transported\"].value_counts(normalize=True)"
   ]
  },
  {
   "cell_type": "code",
   "execution_count": 81,
   "metadata": {},
   "outputs": [
    {
     "data": {
      "text/plain": [
       "count     8512.000000\n",
       "mean       224.687617\n",
       "std        666.717663\n",
       "min          0.000000\n",
       "25%          0.000000\n",
       "50%          0.000000\n",
       "75%         47.000000\n",
       "max      14327.000000\n",
       "Name: RoomService, dtype: float64"
      ]
     },
     "execution_count": 81,
     "metadata": {},
     "output_type": "execute_result"
    }
   ],
   "source": [
    "#nao sei fazer uma analise com esses valores\n",
    "df_sliced[\"ShoppingMall\"].describe()\n",
    "df_sliced[\"FoodCourt\"].describe()\n",
    "df_sliced[\"RoomService\"].describe()"
   ]
  },
  {
   "cell_type": "code",
   "execution_count": null,
   "metadata": {},
   "outputs": [],
   "source": []
  },
  {
   "cell_type": "markdown",
   "metadata": {},
   "source": []
  },
  {
   "cell_type": "markdown",
   "metadata": {},
   "source": [
    "## Analise das informações:\n",
    "### Home Planet:\n",
    "Pela tabela de frequencias relativas, analisamos que o seu planeta de origem no caso de ser Terra e Europa influencia na propabilidade do nosso Target ser True ou False\n",
    "### Cryo Sleep\n",
    "Analisamos que se voce ter cryo sleepd ou não influencia muito no nosso target\n",
    "### Cabin\n",
    "Não encontramos relação significativa com a probabilidade do nosso target\n",
    "### Destination\n",
    "Analisamos que se o seu destino for 55 cancry tem uma relação significativa o nosso target, caso contrário não\n",
    "### idade\n",
    "A primeiro momento não encontramos relação da idade com o nosso target\n",
    "### VIP\n",
    "Analisamos que se você for VIP a probabilidade do nosso target é alterada, caso contrario não\n",
    "### \n"
   ]
  },
  {
   "cell_type": "markdown",
   "metadata": {},
   "source": [
    "# arvore de classificação\n",
    "random forest-- \n",
    "regressao logistica\n",
    "xgputs\n"
   ]
  },
  {
   "cell_type": "code",
   "execution_count": 20,
   "metadata": {},
   "outputs": [
    {
     "data": {
      "image/png": "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",
      "text/plain": [
       "<Figure size 1080x720 with 6 Axes>"
      ]
     },
     "metadata": {
      "needs_background": "light"
     },
     "output_type": "display_data"
    }
   ],
   "source": [
    "BINS= int(np.sqrt(len(df_sliced.index)))\n",
    "df_sliced.hist(bins=BINS,figsize=(15,10));"
   ]
  },
  {
   "cell_type": "code",
   "execution_count": 21,
   "metadata": {},
   "outputs": [],
   "source": [
    "#df_sliced[\"Spa\"].apply(np.log10).plot.hist(bins=BINS)"
   ]
  },
  {
   "cell_type": "markdown",
   "metadata": {},
   "source": [
    "Contando a quantidade de passageiros que a gente vai perder caso aplique esses cortes: "
   ]
  },
  {
   "cell_type": "code",
   "execution_count": 22,
   "metadata": {},
   "outputs": [
    {
     "data": {
      "text/plain": [
       "PassengerId     8693\n",
       "HomePlanet      8492\n",
       "CryoSleep       8476\n",
       "Cabin           8494\n",
       "Destination     8511\n",
       "Age             8514\n",
       "VIP             8490\n",
       "RoomService     8512\n",
       "FoodCourt       8510\n",
       "ShoppingMall    8485\n",
       "Spa             8510\n",
       "VRDeck          8505\n",
       "Name            8493\n",
       "Transported     8693\n",
       "Faixa_idade     8336\n",
       "dtype: int64"
      ]
     },
     "execution_count": 22,
     "metadata": {},
     "output_type": "execute_result"
    }
   ],
   "source": [
    "df_sliced.count()"
   ]
  },
  {
   "cell_type": "code",
   "execution_count": 23,
   "metadata": {},
   "outputs": [
    {
     "data": {
      "text/plain": [
       "41"
      ]
     },
     "execution_count": 23,
     "metadata": {},
     "output_type": "execute_result"
    }
   ],
   "source": [
    "\n",
    "df_sliced[df_sliced[\"RoomService\"]>4000].loc[:,\"RoomService\"].count()"
   ]
  },
  {
   "cell_type": "code",
   "execution_count": 24,
   "metadata": {},
   "outputs": [
    {
     "data": {
      "text/plain": [
       "86"
      ]
     },
     "execution_count": 24,
     "metadata": {},
     "output_type": "execute_result"
    }
   ],
   "source": [
    "df_sliced[df_sliced[\"FoodCourt\"]>8000].loc[:,\"FoodCourt\"].count()\n"
   ]
  },
  {
   "cell_type": "code",
   "execution_count": 25,
   "metadata": {},
   "outputs": [
    {
     "data": {
      "text/plain": [
       "97"
      ]
     },
     "execution_count": 25,
     "metadata": {},
     "output_type": "execute_result"
    }
   ],
   "source": [
    "df_sliced[df_sliced[\"Spa\"]>5000].loc[:,\"Spa\"].count()"
   ]
  },
  {
   "cell_type": "code",
   "execution_count": 26,
   "metadata": {},
   "outputs": [
    {
     "data": {
      "text/plain": [
       "74"
      ]
     },
     "execution_count": 26,
     "metadata": {},
     "output_type": "execute_result"
    }
   ],
   "source": [
    "df_sliced[df_sliced[\"ShoppingMall\"]>2500].loc[:,\"ShoppingMall\"].count()"
   ]
  },
  {
   "cell_type": "code",
   "execution_count": 27,
   "metadata": {},
   "outputs": [
    {
     "data": {
      "text/plain": [
       "91"
      ]
     },
     "execution_count": 27,
     "metadata": {},
     "output_type": "execute_result"
    }
   ],
   "source": [
    "df_sliced[df_sliced[\"VRDeck\"]>5500].loc[:,\"VRDeck\"].count()"
   ]
  },
  {
   "cell_type": "code",
   "execution_count": 28,
   "metadata": {},
   "outputs": [
    {
     "name": "stdout",
     "output_type": "stream",
     "text": [
      "<class 'pandas.core.frame.DataFrame'>\n",
      "Int64Index: 7451 entries, 0 to 8692\n",
      "Data columns (total 15 columns):\n",
      " #   Column        Non-Null Count  Dtype   \n",
      "---  ------        --------------  -----   \n",
      " 0   PassengerId   7451 non-null   object  \n",
      " 1   HomePlanet    7272 non-null   object  \n",
      " 2   CryoSleep     7264 non-null   object  \n",
      " 3   Cabin         7281 non-null   object  \n",
      " 4   Destination   7294 non-null   object  \n",
      " 5   Age           7291 non-null   float64 \n",
      " 6   VIP           7271 non-null   object  \n",
      " 7   RoomService   7451 non-null   float64 \n",
      " 8   FoodCourt     7451 non-null   float64 \n",
      " 9   ShoppingMall  7451 non-null   float64 \n",
      " 10  Spa           7451 non-null   float64 \n",
      " 11  VRDeck        7451 non-null   float64 \n",
      " 12  Name          7279 non-null   object  \n",
      " 13  Transported   7451 non-null   bool    \n",
      " 14  Faixa_idade   7133 non-null   category\n",
      "dtypes: bool(1), category(1), float64(6), object(7)\n",
      "memory usage: 830.3+ KB\n"
     ]
    }
   ],
   "source": [
    "df_dropped=df_sliced\n",
    "idx = (df_dropped[\"RoomService\"]<=4000)\\\n",
    "    & (df_dropped[\"FoodCourt\"] <=8000) \\\n",
    "    & (df_dropped[\"Spa\"] <=5000) \\\n",
    "    & (df_dropped[\"ShoppingMall\"]<= 2500 ) \\\n",
    "    & (df_dropped[\"VRDeck\"] <=5500) \n",
    "df_filtered = df_dropped[idx].copy()\n",
    "df_filtered.info()"
   ]
  },
  {
   "cell_type": "code",
   "execution_count": 29,
   "metadata": {},
   "outputs": [],
   "source": [
    "#(df_filtered[\"ShoppingMall\"]!=0).apply(np.log10).plot.hist(bins=BINS)\n"
   ]
  },
  {
   "cell_type": "markdown",
   "metadata": {},
   "source": [
    "# Separando treino e teste"
   ]
  },
  {
   "cell_type": "code",
   "execution_count": 57,
   "metadata": {},
   "outputs": [],
   "source": [
    "Xpassanger=df_sliced.loc[:\"Transported\"]\n",
    "ypassanger=df_sliced.drop([\"Transported\"],axis=1)"
   ]
  },
  {
   "cell_type": "code",
   "execution_count": 58,
   "metadata": {},
   "outputs": [
    {
     "data": {
      "text/html": [
       "<div>\n",
       "<style scoped>\n",
       "    .dataframe tbody tr th:only-of-type {\n",
       "        vertical-align: middle;\n",
       "    }\n",
       "\n",
       "    .dataframe tbody tr th {\n",
       "        vertical-align: top;\n",
       "    }\n",
       "\n",
       "    .dataframe thead th {\n",
       "        text-align: right;\n",
       "    }\n",
       "</style>\n",
       "<table border=\"1\" class=\"dataframe\">\n",
       "  <thead>\n",
       "    <tr style=\"text-align: right;\">\n",
       "      <th></th>\n",
       "      <th>PassengerId</th>\n",
       "      <th>HomePlanet</th>\n",
       "      <th>CryoSleep</th>\n",
       "      <th>Cabin</th>\n",
       "      <th>Destination</th>\n",
       "      <th>Age</th>\n",
       "      <th>VIP</th>\n",
       "      <th>RoomService</th>\n",
       "      <th>FoodCourt</th>\n",
       "      <th>ShoppingMall</th>\n",
       "      <th>Spa</th>\n",
       "      <th>VRDeck</th>\n",
       "      <th>Name</th>\n",
       "      <th>Transported</th>\n",
       "      <th>Faixa_idade</th>\n",
       "    </tr>\n",
       "  </thead>\n",
       "  <tbody>\n",
       "    <tr>\n",
       "      <th>3032</th>\n",
       "      <td>3282_03</td>\n",
       "      <td>Europa</td>\n",
       "      <td>False</td>\n",
       "      <td>B/120/S</td>\n",
       "      <td>TRAPPIST-1e</td>\n",
       "      <td>43.0</td>\n",
       "      <td>False</td>\n",
       "      <td>0.0</td>\n",
       "      <td>1440.0</td>\n",
       "      <td>0.0</td>\n",
       "      <td>85.0</td>\n",
       "      <td>150.0</td>\n",
       "      <td>Sheratz Prighty</td>\n",
       "      <td>True</td>\n",
       "      <td>(40, 45]</td>\n",
       "    </tr>\n",
       "    <tr>\n",
       "      <th>7757</th>\n",
       "      <td>8276_02</td>\n",
       "      <td>Europa</td>\n",
       "      <td>True</td>\n",
       "      <td>C/273/P</td>\n",
       "      <td>TRAPPIST-1e</td>\n",
       "      <td>23.0</td>\n",
       "      <td>False</td>\n",
       "      <td>0.0</td>\n",
       "      <td>0.0</td>\n",
       "      <td>0.0</td>\n",
       "      <td>0.0</td>\n",
       "      <td>0.0</td>\n",
       "      <td>Zaurion Tractive</td>\n",
       "      <td>True</td>\n",
       "      <td>(20, 25]</td>\n",
       "    </tr>\n",
       "    <tr>\n",
       "      <th>1795</th>\n",
       "      <td>1911_01</td>\n",
       "      <td>Earth</td>\n",
       "      <td>False</td>\n",
       "      <td>G/300/S</td>\n",
       "      <td>TRAPPIST-1e</td>\n",
       "      <td>46.0</td>\n",
       "      <td>False</td>\n",
       "      <td>8.0</td>\n",
       "      <td>652.0</td>\n",
       "      <td>0.0</td>\n",
       "      <td>5.0</td>\n",
       "      <td>90.0</td>\n",
       "      <td>Dia Cartez</td>\n",
       "      <td>False</td>\n",
       "      <td>(45, 50]</td>\n",
       "    </tr>\n",
       "    <tr>\n",
       "      <th>1702</th>\n",
       "      <td>1808_01</td>\n",
       "      <td>Earth</td>\n",
       "      <td>False</td>\n",
       "      <td>F/346/S</td>\n",
       "      <td>TRAPPIST-1e</td>\n",
       "      <td>33.0</td>\n",
       "      <td>False</td>\n",
       "      <td>0.0</td>\n",
       "      <td>763.0</td>\n",
       "      <td>8.0</td>\n",
       "      <td>2.0</td>\n",
       "      <td>30.0</td>\n",
       "      <td>Rician Pollarkeeks</td>\n",
       "      <td>False</td>\n",
       "      <td>(30, 35]</td>\n",
       "    </tr>\n",
       "    <tr>\n",
       "      <th>6634</th>\n",
       "      <td>6995_01</td>\n",
       "      <td>Earth</td>\n",
       "      <td>False</td>\n",
       "      <td>F/1334/S</td>\n",
       "      <td>55 Cancri e</td>\n",
       "      <td>24.0</td>\n",
       "      <td>False</td>\n",
       "      <td>0.0</td>\n",
       "      <td>58.0</td>\n",
       "      <td>618.0</td>\n",
       "      <td>0.0</td>\n",
       "      <td>41.0</td>\n",
       "      <td>Stany Hamberterry</td>\n",
       "      <td>False</td>\n",
       "      <td>(20, 25]</td>\n",
       "    </tr>\n",
       "  </tbody>\n",
       "</table>\n",
       "</div>"
      ],
      "text/plain": [
       "     PassengerId HomePlanet CryoSleep     Cabin  Destination   Age    VIP  \\\n",
       "3032     3282_03     Europa     False   B/120/S  TRAPPIST-1e  43.0  False   \n",
       "7757     8276_02     Europa      True   C/273/P  TRAPPIST-1e  23.0  False   \n",
       "1795     1911_01      Earth     False   G/300/S  TRAPPIST-1e  46.0  False   \n",
       "1702     1808_01      Earth     False   F/346/S  TRAPPIST-1e  33.0  False   \n",
       "6634     6995_01      Earth     False  F/1334/S  55 Cancri e  24.0  False   \n",
       "\n",
       "      RoomService  FoodCourt  ShoppingMall   Spa  VRDeck                Name  \\\n",
       "3032          0.0     1440.0           0.0  85.0   150.0     Sheratz Prighty   \n",
       "7757          0.0        0.0           0.0   0.0     0.0    Zaurion Tractive   \n",
       "1795          8.0      652.0           0.0   5.0    90.0          Dia Cartez   \n",
       "1702          0.0      763.0           8.0   2.0    30.0  Rician Pollarkeeks   \n",
       "6634          0.0       58.0         618.0   0.0    41.0   Stany Hamberterry   \n",
       "\n",
       "      Transported Faixa_idade  \n",
       "3032         True    (40, 45]  \n",
       "7757         True    (20, 25]  \n",
       "1795        False    (45, 50]  \n",
       "1702        False    (30, 35]  \n",
       "6634        False    (20, 25]  "
      ]
     },
     "execution_count": 58,
     "metadata": {},
     "output_type": "execute_result"
    }
   ],
   "source": [
    "X_trainpassanger, X_testpassanger, y_trainpassanger, y_testpassanger = train_test_split(\n",
    "    Xpassanger,\n",
    "    ypassanger,                  \n",
    "    test_size=0.3,\n",
    "    random_state=RAND_SEED,\n",
    ")\n",
    "X_trainpassanger.head()"
   ]
  },
  {
   "cell_type": "code",
   "execution_count": 59,
   "metadata": {},
   "outputs": [
    {
     "ename": "ValueError",
     "evalue": "could not convert string to float: 'Europa'",
     "output_type": "error",
     "traceback": [
      "\u001b[1;31m---------------------------------------------------------------------------\u001b[0m",
      "\u001b[1;31mValueError\u001b[0m                                Traceback (most recent call last)",
      "\u001b[1;32m~\\AppData\\Local\\Temp/ipykernel_14136/176928914.py\u001b[0m in \u001b[0;36m<module>\u001b[1;34m\u001b[0m\n\u001b[0;32m      1\u001b[0m \u001b[1;32mfrom\u001b[0m \u001b[0msklearn\u001b[0m \u001b[1;32mimport\u001b[0m \u001b[0mtree\u001b[0m\u001b[1;33m\u001b[0m\u001b[1;33m\u001b[0m\u001b[0m\n\u001b[0;32m      2\u001b[0m \u001b[0mclf\u001b[0m\u001b[1;33m=\u001b[0m\u001b[0mtree\u001b[0m\u001b[1;33m.\u001b[0m\u001b[0mDecisionTreeClassifier\u001b[0m\u001b[1;33m(\u001b[0m\u001b[1;33m)\u001b[0m\u001b[1;33m\u001b[0m\u001b[1;33m\u001b[0m\u001b[0m\n\u001b[1;32m----> 3\u001b[1;33m \u001b[0mclf\u001b[0m\u001b[1;33m=\u001b[0m\u001b[0mclf\u001b[0m\u001b[1;33m.\u001b[0m\u001b[0mfit\u001b[0m\u001b[1;33m(\u001b[0m\u001b[0mX_trainpassanger\u001b[0m\u001b[1;33m,\u001b[0m\u001b[0my_trainpassanger\u001b[0m\u001b[1;33m)\u001b[0m\u001b[1;33m\u001b[0m\u001b[1;33m\u001b[0m\u001b[0m\n\u001b[0m",
      "\u001b[1;32m~\\Anaconda3\\lib\\site-packages\\sklearn\\tree\\_classes.py\u001b[0m in \u001b[0;36mfit\u001b[1;34m(self, X, y, sample_weight, check_input, X_idx_sorted)\u001b[0m\n\u001b[0;32m    901\u001b[0m         \"\"\"\n\u001b[0;32m    902\u001b[0m \u001b[1;33m\u001b[0m\u001b[0m\n\u001b[1;32m--> 903\u001b[1;33m         super().fit(\n\u001b[0m\u001b[0;32m    904\u001b[0m             \u001b[0mX\u001b[0m\u001b[1;33m,\u001b[0m \u001b[0my\u001b[0m\u001b[1;33m,\u001b[0m\u001b[1;33m\u001b[0m\u001b[1;33m\u001b[0m\u001b[0m\n\u001b[0;32m    905\u001b[0m             \u001b[0msample_weight\u001b[0m\u001b[1;33m=\u001b[0m\u001b[0msample_weight\u001b[0m\u001b[1;33m,\u001b[0m\u001b[1;33m\u001b[0m\u001b[1;33m\u001b[0m\u001b[0m\n",
      "\u001b[1;32m~\\Anaconda3\\lib\\site-packages\\sklearn\\tree\\_classes.py\u001b[0m in \u001b[0;36mfit\u001b[1;34m(self, X, y, sample_weight, check_input, X_idx_sorted)\u001b[0m\n\u001b[0;32m    155\u001b[0m             \u001b[0mcheck_X_params\u001b[0m \u001b[1;33m=\u001b[0m \u001b[0mdict\u001b[0m\u001b[1;33m(\u001b[0m\u001b[0mdtype\u001b[0m\u001b[1;33m=\u001b[0m\u001b[0mDTYPE\u001b[0m\u001b[1;33m,\u001b[0m \u001b[0maccept_sparse\u001b[0m\u001b[1;33m=\u001b[0m\u001b[1;34m\"csc\"\u001b[0m\u001b[1;33m)\u001b[0m\u001b[1;33m\u001b[0m\u001b[1;33m\u001b[0m\u001b[0m\n\u001b[0;32m    156\u001b[0m             \u001b[0mcheck_y_params\u001b[0m \u001b[1;33m=\u001b[0m \u001b[0mdict\u001b[0m\u001b[1;33m(\u001b[0m\u001b[0mensure_2d\u001b[0m\u001b[1;33m=\u001b[0m\u001b[1;32mFalse\u001b[0m\u001b[1;33m,\u001b[0m \u001b[0mdtype\u001b[0m\u001b[1;33m=\u001b[0m\u001b[1;32mNone\u001b[0m\u001b[1;33m)\u001b[0m\u001b[1;33m\u001b[0m\u001b[1;33m\u001b[0m\u001b[0m\n\u001b[1;32m--> 157\u001b[1;33m             X, y = self._validate_data(X, y,\n\u001b[0m\u001b[0;32m    158\u001b[0m                                        validate_separately=(check_X_params,\n\u001b[0;32m    159\u001b[0m                                                             check_y_params))\n",
      "\u001b[1;32m~\\Anaconda3\\lib\\site-packages\\sklearn\\base.py\u001b[0m in \u001b[0;36m_validate_data\u001b[1;34m(self, X, y, reset, validate_separately, **check_params)\u001b[0m\n\u001b[0;32m    428\u001b[0m                 \u001b[1;31m# :(\u001b[0m\u001b[1;33m\u001b[0m\u001b[1;33m\u001b[0m\u001b[0m\n\u001b[0;32m    429\u001b[0m                 \u001b[0mcheck_X_params\u001b[0m\u001b[1;33m,\u001b[0m \u001b[0mcheck_y_params\u001b[0m \u001b[1;33m=\u001b[0m \u001b[0mvalidate_separately\u001b[0m\u001b[1;33m\u001b[0m\u001b[1;33m\u001b[0m\u001b[0m\n\u001b[1;32m--> 430\u001b[1;33m                 \u001b[0mX\u001b[0m \u001b[1;33m=\u001b[0m \u001b[0mcheck_array\u001b[0m\u001b[1;33m(\u001b[0m\u001b[0mX\u001b[0m\u001b[1;33m,\u001b[0m \u001b[1;33m**\u001b[0m\u001b[0mcheck_X_params\u001b[0m\u001b[1;33m)\u001b[0m\u001b[1;33m\u001b[0m\u001b[1;33m\u001b[0m\u001b[0m\n\u001b[0m\u001b[0;32m    431\u001b[0m                 \u001b[0my\u001b[0m \u001b[1;33m=\u001b[0m \u001b[0mcheck_array\u001b[0m\u001b[1;33m(\u001b[0m\u001b[0my\u001b[0m\u001b[1;33m,\u001b[0m \u001b[1;33m**\u001b[0m\u001b[0mcheck_y_params\u001b[0m\u001b[1;33m)\u001b[0m\u001b[1;33m\u001b[0m\u001b[1;33m\u001b[0m\u001b[0m\n\u001b[0;32m    432\u001b[0m             \u001b[1;32melse\u001b[0m\u001b[1;33m:\u001b[0m\u001b[1;33m\u001b[0m\u001b[1;33m\u001b[0m\u001b[0m\n",
      "\u001b[1;32m~\\Anaconda3\\lib\\site-packages\\sklearn\\utils\\validation.py\u001b[0m in \u001b[0;36minner_f\u001b[1;34m(*args, **kwargs)\u001b[0m\n\u001b[0;32m     61\u001b[0m             \u001b[0mextra_args\u001b[0m \u001b[1;33m=\u001b[0m \u001b[0mlen\u001b[0m\u001b[1;33m(\u001b[0m\u001b[0margs\u001b[0m\u001b[1;33m)\u001b[0m \u001b[1;33m-\u001b[0m \u001b[0mlen\u001b[0m\u001b[1;33m(\u001b[0m\u001b[0mall_args\u001b[0m\u001b[1;33m)\u001b[0m\u001b[1;33m\u001b[0m\u001b[1;33m\u001b[0m\u001b[0m\n\u001b[0;32m     62\u001b[0m             \u001b[1;32mif\u001b[0m \u001b[0mextra_args\u001b[0m \u001b[1;33m<=\u001b[0m \u001b[1;36m0\u001b[0m\u001b[1;33m:\u001b[0m\u001b[1;33m\u001b[0m\u001b[1;33m\u001b[0m\u001b[0m\n\u001b[1;32m---> 63\u001b[1;33m                 \u001b[1;32mreturn\u001b[0m \u001b[0mf\u001b[0m\u001b[1;33m(\u001b[0m\u001b[1;33m*\u001b[0m\u001b[0margs\u001b[0m\u001b[1;33m,\u001b[0m \u001b[1;33m**\u001b[0m\u001b[0mkwargs\u001b[0m\u001b[1;33m)\u001b[0m\u001b[1;33m\u001b[0m\u001b[1;33m\u001b[0m\u001b[0m\n\u001b[0m\u001b[0;32m     64\u001b[0m \u001b[1;33m\u001b[0m\u001b[0m\n\u001b[0;32m     65\u001b[0m             \u001b[1;31m# extra_args > 0\u001b[0m\u001b[1;33m\u001b[0m\u001b[1;33m\u001b[0m\u001b[0m\n",
      "\u001b[1;32m~\\Anaconda3\\lib\\site-packages\\sklearn\\utils\\validation.py\u001b[0m in \u001b[0;36mcheck_array\u001b[1;34m(array, accept_sparse, accept_large_sparse, dtype, order, copy, force_all_finite, ensure_2d, allow_nd, ensure_min_samples, ensure_min_features, estimator)\u001b[0m\n\u001b[0;32m    671\u001b[0m                     \u001b[0marray\u001b[0m \u001b[1;33m=\u001b[0m \u001b[0marray\u001b[0m\u001b[1;33m.\u001b[0m\u001b[0mastype\u001b[0m\u001b[1;33m(\u001b[0m\u001b[0mdtype\u001b[0m\u001b[1;33m,\u001b[0m \u001b[0mcasting\u001b[0m\u001b[1;33m=\u001b[0m\u001b[1;34m\"unsafe\"\u001b[0m\u001b[1;33m,\u001b[0m \u001b[0mcopy\u001b[0m\u001b[1;33m=\u001b[0m\u001b[1;32mFalse\u001b[0m\u001b[1;33m)\u001b[0m\u001b[1;33m\u001b[0m\u001b[1;33m\u001b[0m\u001b[0m\n\u001b[0;32m    672\u001b[0m                 \u001b[1;32melse\u001b[0m\u001b[1;33m:\u001b[0m\u001b[1;33m\u001b[0m\u001b[1;33m\u001b[0m\u001b[0m\n\u001b[1;32m--> 673\u001b[1;33m                     \u001b[0marray\u001b[0m \u001b[1;33m=\u001b[0m \u001b[0mnp\u001b[0m\u001b[1;33m.\u001b[0m\u001b[0masarray\u001b[0m\u001b[1;33m(\u001b[0m\u001b[0marray\u001b[0m\u001b[1;33m,\u001b[0m \u001b[0morder\u001b[0m\u001b[1;33m=\u001b[0m\u001b[0morder\u001b[0m\u001b[1;33m,\u001b[0m \u001b[0mdtype\u001b[0m\u001b[1;33m=\u001b[0m\u001b[0mdtype\u001b[0m\u001b[1;33m)\u001b[0m\u001b[1;33m\u001b[0m\u001b[1;33m\u001b[0m\u001b[0m\n\u001b[0m\u001b[0;32m    674\u001b[0m             \u001b[1;32mexcept\u001b[0m \u001b[0mComplexWarning\u001b[0m \u001b[1;32mas\u001b[0m \u001b[0mcomplex_warning\u001b[0m\u001b[1;33m:\u001b[0m\u001b[1;33m\u001b[0m\u001b[1;33m\u001b[0m\u001b[0m\n\u001b[0;32m    675\u001b[0m                 raise ValueError(\"Complex data not supported\\n\"\n",
      "\u001b[1;32m~\\Anaconda3\\lib\\site-packages\\numpy\\core\\_asarray.py\u001b[0m in \u001b[0;36masarray\u001b[1;34m(a, dtype, order, like)\u001b[0m\n\u001b[0;32m    100\u001b[0m         \u001b[1;32mreturn\u001b[0m \u001b[0m_asarray_with_like\u001b[0m\u001b[1;33m(\u001b[0m\u001b[0ma\u001b[0m\u001b[1;33m,\u001b[0m \u001b[0mdtype\u001b[0m\u001b[1;33m=\u001b[0m\u001b[0mdtype\u001b[0m\u001b[1;33m,\u001b[0m \u001b[0morder\u001b[0m\u001b[1;33m=\u001b[0m\u001b[0morder\u001b[0m\u001b[1;33m,\u001b[0m \u001b[0mlike\u001b[0m\u001b[1;33m=\u001b[0m\u001b[0mlike\u001b[0m\u001b[1;33m)\u001b[0m\u001b[1;33m\u001b[0m\u001b[1;33m\u001b[0m\u001b[0m\n\u001b[0;32m    101\u001b[0m \u001b[1;33m\u001b[0m\u001b[0m\n\u001b[1;32m--> 102\u001b[1;33m     \u001b[1;32mreturn\u001b[0m \u001b[0marray\u001b[0m\u001b[1;33m(\u001b[0m\u001b[0ma\u001b[0m\u001b[1;33m,\u001b[0m \u001b[0mdtype\u001b[0m\u001b[1;33m,\u001b[0m \u001b[0mcopy\u001b[0m\u001b[1;33m=\u001b[0m\u001b[1;32mFalse\u001b[0m\u001b[1;33m,\u001b[0m \u001b[0morder\u001b[0m\u001b[1;33m=\u001b[0m\u001b[0morder\u001b[0m\u001b[1;33m)\u001b[0m\u001b[1;33m\u001b[0m\u001b[1;33m\u001b[0m\u001b[0m\n\u001b[0m\u001b[0;32m    103\u001b[0m \u001b[1;33m\u001b[0m\u001b[0m\n\u001b[0;32m    104\u001b[0m \u001b[1;33m\u001b[0m\u001b[0m\n",
      "\u001b[1;32m~\\Anaconda3\\lib\\site-packages\\pandas\\core\\generic.py\u001b[0m in \u001b[0;36m__array__\u001b[1;34m(self, dtype)\u001b[0m\n\u001b[0;32m   1991\u001b[0m \u001b[1;33m\u001b[0m\u001b[0m\n\u001b[0;32m   1992\u001b[0m     \u001b[1;32mdef\u001b[0m \u001b[0m__array__\u001b[0m\u001b[1;33m(\u001b[0m\u001b[0mself\u001b[0m\u001b[1;33m,\u001b[0m \u001b[0mdtype\u001b[0m\u001b[1;33m:\u001b[0m \u001b[0mNpDtype\u001b[0m \u001b[1;33m|\u001b[0m \u001b[1;32mNone\u001b[0m \u001b[1;33m=\u001b[0m \u001b[1;32mNone\u001b[0m\u001b[1;33m)\u001b[0m \u001b[1;33m->\u001b[0m \u001b[0mnp\u001b[0m\u001b[1;33m.\u001b[0m\u001b[0mndarray\u001b[0m\u001b[1;33m:\u001b[0m\u001b[1;33m\u001b[0m\u001b[1;33m\u001b[0m\u001b[0m\n\u001b[1;32m-> 1993\u001b[1;33m         \u001b[1;32mreturn\u001b[0m \u001b[0mnp\u001b[0m\u001b[1;33m.\u001b[0m\u001b[0masarray\u001b[0m\u001b[1;33m(\u001b[0m\u001b[0mself\u001b[0m\u001b[1;33m.\u001b[0m\u001b[0m_values\u001b[0m\u001b[1;33m,\u001b[0m \u001b[0mdtype\u001b[0m\u001b[1;33m=\u001b[0m\u001b[0mdtype\u001b[0m\u001b[1;33m)\u001b[0m\u001b[1;33m\u001b[0m\u001b[1;33m\u001b[0m\u001b[0m\n\u001b[0m\u001b[0;32m   1994\u001b[0m \u001b[1;33m\u001b[0m\u001b[0m\n\u001b[0;32m   1995\u001b[0m     def __array_wrap__(\n",
      "\u001b[1;32m~\\Anaconda3\\lib\\site-packages\\numpy\\core\\_asarray.py\u001b[0m in \u001b[0;36masarray\u001b[1;34m(a, dtype, order, like)\u001b[0m\n\u001b[0;32m    100\u001b[0m         \u001b[1;32mreturn\u001b[0m \u001b[0m_asarray_with_like\u001b[0m\u001b[1;33m(\u001b[0m\u001b[0ma\u001b[0m\u001b[1;33m,\u001b[0m \u001b[0mdtype\u001b[0m\u001b[1;33m=\u001b[0m\u001b[0mdtype\u001b[0m\u001b[1;33m,\u001b[0m \u001b[0morder\u001b[0m\u001b[1;33m=\u001b[0m\u001b[0morder\u001b[0m\u001b[1;33m,\u001b[0m \u001b[0mlike\u001b[0m\u001b[1;33m=\u001b[0m\u001b[0mlike\u001b[0m\u001b[1;33m)\u001b[0m\u001b[1;33m\u001b[0m\u001b[1;33m\u001b[0m\u001b[0m\n\u001b[0;32m    101\u001b[0m \u001b[1;33m\u001b[0m\u001b[0m\n\u001b[1;32m--> 102\u001b[1;33m     \u001b[1;32mreturn\u001b[0m \u001b[0marray\u001b[0m\u001b[1;33m(\u001b[0m\u001b[0ma\u001b[0m\u001b[1;33m,\u001b[0m \u001b[0mdtype\u001b[0m\u001b[1;33m,\u001b[0m \u001b[0mcopy\u001b[0m\u001b[1;33m=\u001b[0m\u001b[1;32mFalse\u001b[0m\u001b[1;33m,\u001b[0m \u001b[0morder\u001b[0m\u001b[1;33m=\u001b[0m\u001b[0morder\u001b[0m\u001b[1;33m)\u001b[0m\u001b[1;33m\u001b[0m\u001b[1;33m\u001b[0m\u001b[0m\n\u001b[0m\u001b[0;32m    103\u001b[0m \u001b[1;33m\u001b[0m\u001b[0m\n\u001b[0;32m    104\u001b[0m \u001b[1;33m\u001b[0m\u001b[0m\n",
      "\u001b[1;31mValueError\u001b[0m: could not convert string to float: 'Europa'"
     ]
    }
   ],
   "source": [
    "from sklearn import tree\n",
    "clf=tree.DecisionTreeClassifier()\n",
    "clf=clf.fit(X_trainpassanger,y_trainpassanger)"
   ]
  },
  {
   "cell_type": "markdown",
   "metadata": {},
   "source": [
    "# Data frame housing"
   ]
  },
  {
   "cell_type": "code",
   "execution_count": 30,
   "metadata": {},
   "outputs": [
    {
     "data": {
      "text/html": [
       "<div>\n",
       "<style scoped>\n",
       "    .dataframe tbody tr th:only-of-type {\n",
       "        vertical-align: middle;\n",
       "    }\n",
       "\n",
       "    .dataframe tbody tr th {\n",
       "        vertical-align: top;\n",
       "    }\n",
       "\n",
       "    .dataframe thead th {\n",
       "        text-align: right;\n",
       "    }\n",
       "</style>\n",
       "<table border=\"1\" class=\"dataframe\">\n",
       "  <thead>\n",
       "    <tr style=\"text-align: right;\">\n",
       "      <th></th>\n",
       "      <th>count</th>\n",
       "      <th>mean</th>\n",
       "      <th>std</th>\n",
       "      <th>min</th>\n",
       "      <th>25%</th>\n",
       "      <th>50%</th>\n",
       "      <th>75%</th>\n",
       "      <th>max</th>\n",
       "    </tr>\n",
       "  </thead>\n",
       "  <tbody>\n",
       "    <tr>\n",
       "      <th>longitude</th>\n",
       "      <td>20640.0</td>\n",
       "      <td>-119.569704</td>\n",
       "      <td>2.003532</td>\n",
       "      <td>-124.3500</td>\n",
       "      <td>-121.8000</td>\n",
       "      <td>-118.4900</td>\n",
       "      <td>-118.01000</td>\n",
       "      <td>-114.3100</td>\n",
       "    </tr>\n",
       "    <tr>\n",
       "      <th>latitude</th>\n",
       "      <td>20640.0</td>\n",
       "      <td>35.631861</td>\n",
       "      <td>2.135952</td>\n",
       "      <td>32.5400</td>\n",
       "      <td>33.9300</td>\n",
       "      <td>34.2600</td>\n",
       "      <td>37.71000</td>\n",
       "      <td>41.9500</td>\n",
       "    </tr>\n",
       "    <tr>\n",
       "      <th>housing_median_age</th>\n",
       "      <td>20640.0</td>\n",
       "      <td>28.639486</td>\n",
       "      <td>12.585558</td>\n",
       "      <td>1.0000</td>\n",
       "      <td>18.0000</td>\n",
       "      <td>29.0000</td>\n",
       "      <td>37.00000</td>\n",
       "      <td>52.0000</td>\n",
       "    </tr>\n",
       "    <tr>\n",
       "      <th>total_rooms</th>\n",
       "      <td>20640.0</td>\n",
       "      <td>2635.763081</td>\n",
       "      <td>2181.615252</td>\n",
       "      <td>2.0000</td>\n",
       "      <td>1447.7500</td>\n",
       "      <td>2127.0000</td>\n",
       "      <td>3148.00000</td>\n",
       "      <td>39320.0000</td>\n",
       "    </tr>\n",
       "    <tr>\n",
       "      <th>total_bedrooms</th>\n",
       "      <td>20433.0</td>\n",
       "      <td>537.870553</td>\n",
       "      <td>421.385070</td>\n",
       "      <td>1.0000</td>\n",
       "      <td>296.0000</td>\n",
       "      <td>435.0000</td>\n",
       "      <td>647.00000</td>\n",
       "      <td>6445.0000</td>\n",
       "    </tr>\n",
       "    <tr>\n",
       "      <th>population</th>\n",
       "      <td>20640.0</td>\n",
       "      <td>1425.476744</td>\n",
       "      <td>1132.462122</td>\n",
       "      <td>3.0000</td>\n",
       "      <td>787.0000</td>\n",
       "      <td>1166.0000</td>\n",
       "      <td>1725.00000</td>\n",
       "      <td>35682.0000</td>\n",
       "    </tr>\n",
       "    <tr>\n",
       "      <th>households</th>\n",
       "      <td>20640.0</td>\n",
       "      <td>499.539680</td>\n",
       "      <td>382.329753</td>\n",
       "      <td>1.0000</td>\n",
       "      <td>280.0000</td>\n",
       "      <td>409.0000</td>\n",
       "      <td>605.00000</td>\n",
       "      <td>6082.0000</td>\n",
       "    </tr>\n",
       "    <tr>\n",
       "      <th>median_income</th>\n",
       "      <td>20640.0</td>\n",
       "      <td>3.870671</td>\n",
       "      <td>1.899822</td>\n",
       "      <td>0.4999</td>\n",
       "      <td>2.5634</td>\n",
       "      <td>3.5348</td>\n",
       "      <td>4.74325</td>\n",
       "      <td>15.0001</td>\n",
       "    </tr>\n",
       "    <tr>\n",
       "      <th>median_house_value</th>\n",
       "      <td>20640.0</td>\n",
       "      <td>206855.816909</td>\n",
       "      <td>115395.615874</td>\n",
       "      <td>14999.0000</td>\n",
       "      <td>119600.0000</td>\n",
       "      <td>179700.0000</td>\n",
       "      <td>264725.00000</td>\n",
       "      <td>500001.0000</td>\n",
       "    </tr>\n",
       "  </tbody>\n",
       "</table>\n",
       "</div>"
      ],
      "text/plain": [
       "                      count           mean            std         min  \\\n",
       "longitude           20640.0    -119.569704       2.003532   -124.3500   \n",
       "latitude            20640.0      35.631861       2.135952     32.5400   \n",
       "housing_median_age  20640.0      28.639486      12.585558      1.0000   \n",
       "total_rooms         20640.0    2635.763081    2181.615252      2.0000   \n",
       "total_bedrooms      20433.0     537.870553     421.385070      1.0000   \n",
       "population          20640.0    1425.476744    1132.462122      3.0000   \n",
       "households          20640.0     499.539680     382.329753      1.0000   \n",
       "median_income       20640.0       3.870671       1.899822      0.4999   \n",
       "median_house_value  20640.0  206855.816909  115395.615874  14999.0000   \n",
       "\n",
       "                            25%          50%           75%          max  \n",
       "longitude             -121.8000    -118.4900    -118.01000    -114.3100  \n",
       "latitude                33.9300      34.2600      37.71000      41.9500  \n",
       "housing_median_age      18.0000      29.0000      37.00000      52.0000  \n",
       "total_rooms           1447.7500    2127.0000    3148.00000   39320.0000  \n",
       "total_bedrooms         296.0000     435.0000     647.00000    6445.0000  \n",
       "population             787.0000    1166.0000    1725.00000   35682.0000  \n",
       "households             280.0000     409.0000     605.00000    6082.0000  \n",
       "median_income            2.5634       3.5348       4.74325      15.0001  \n",
       "median_house_value  119600.0000  179700.0000  264725.00000  500001.0000  "
      ]
     },
     "execution_count": 30,
     "metadata": {},
     "output_type": "execute_result"
    }
   ],
   "source": [
    "df_house.describe().transpose()"
   ]
  },
  {
   "cell_type": "code",
   "execution_count": 31,
   "metadata": {},
   "outputs": [
    {
     "name": "stdout",
     "output_type": "stream",
     "text": [
      "<class 'pandas.core.frame.DataFrame'>\n",
      "RangeIndex: 20640 entries, 0 to 20639\n",
      "Data columns (total 10 columns):\n",
      " #   Column              Non-Null Count  Dtype  \n",
      "---  ------              --------------  -----  \n",
      " 0   longitude           20640 non-null  float64\n",
      " 1   latitude            20640 non-null  float64\n",
      " 2   housing_median_age  20640 non-null  float64\n",
      " 3   total_rooms         20640 non-null  float64\n",
      " 4   total_bedrooms      20433 non-null  float64\n",
      " 5   population          20640 non-null  float64\n",
      " 6   households          20640 non-null  float64\n",
      " 7   median_income       20640 non-null  float64\n",
      " 8   median_house_value  20640 non-null  float64\n",
      " 9   ocean_proximity     20640 non-null  object \n",
      "dtypes: float64(9), object(1)\n",
      "memory usage: 1.6+ MB\n"
     ]
    }
   ],
   "source": [
    "df_house.info()"
   ]
  },
  {
   "cell_type": "code",
   "execution_count": 32,
   "metadata": {},
   "outputs": [
    {
     "data": {
      "text/html": [
       "<div>\n",
       "<style scoped>\n",
       "    .dataframe tbody tr th:only-of-type {\n",
       "        vertical-align: middle;\n",
       "    }\n",
       "\n",
       "    .dataframe tbody tr th {\n",
       "        vertical-align: top;\n",
       "    }\n",
       "\n",
       "    .dataframe thead th {\n",
       "        text-align: right;\n",
       "    }\n",
       "</style>\n",
       "<table border=\"1\" class=\"dataframe\">\n",
       "  <thead>\n",
       "    <tr style=\"text-align: right;\">\n",
       "      <th></th>\n",
       "      <th>longitude</th>\n",
       "      <th>latitude</th>\n",
       "      <th>housing_median_age</th>\n",
       "      <th>total_rooms</th>\n",
       "      <th>total_bedrooms</th>\n",
       "      <th>population</th>\n",
       "      <th>households</th>\n",
       "      <th>median_income</th>\n",
       "      <th>median_house_value</th>\n",
       "      <th>ocean_proximity</th>\n",
       "    </tr>\n",
       "  </thead>\n",
       "  <tbody>\n",
       "    <tr>\n",
       "      <th>0</th>\n",
       "      <td>-122.23</td>\n",
       "      <td>37.88</td>\n",
       "      <td>41.0</td>\n",
       "      <td>880.0</td>\n",
       "      <td>129.0</td>\n",
       "      <td>322.0</td>\n",
       "      <td>126.0</td>\n",
       "      <td>8.3252</td>\n",
       "      <td>452600.0</td>\n",
       "      <td>NEAR BAY</td>\n",
       "    </tr>\n",
       "    <tr>\n",
       "      <th>1</th>\n",
       "      <td>-122.22</td>\n",
       "      <td>37.86</td>\n",
       "      <td>21.0</td>\n",
       "      <td>7099.0</td>\n",
       "      <td>1106.0</td>\n",
       "      <td>2401.0</td>\n",
       "      <td>1138.0</td>\n",
       "      <td>8.3014</td>\n",
       "      <td>358500.0</td>\n",
       "      <td>NEAR BAY</td>\n",
       "    </tr>\n",
       "    <tr>\n",
       "      <th>2</th>\n",
       "      <td>-122.24</td>\n",
       "      <td>37.85</td>\n",
       "      <td>52.0</td>\n",
       "      <td>1467.0</td>\n",
       "      <td>190.0</td>\n",
       "      <td>496.0</td>\n",
       "      <td>177.0</td>\n",
       "      <td>7.2574</td>\n",
       "      <td>352100.0</td>\n",
       "      <td>NEAR BAY</td>\n",
       "    </tr>\n",
       "    <tr>\n",
       "      <th>3</th>\n",
       "      <td>-122.25</td>\n",
       "      <td>37.85</td>\n",
       "      <td>52.0</td>\n",
       "      <td>1274.0</td>\n",
       "      <td>235.0</td>\n",
       "      <td>558.0</td>\n",
       "      <td>219.0</td>\n",
       "      <td>5.6431</td>\n",
       "      <td>341300.0</td>\n",
       "      <td>NEAR BAY</td>\n",
       "    </tr>\n",
       "    <tr>\n",
       "      <th>4</th>\n",
       "      <td>-122.25</td>\n",
       "      <td>37.85</td>\n",
       "      <td>52.0</td>\n",
       "      <td>1627.0</td>\n",
       "      <td>280.0</td>\n",
       "      <td>565.0</td>\n",
       "      <td>259.0</td>\n",
       "      <td>3.8462</td>\n",
       "      <td>342200.0</td>\n",
       "      <td>NEAR BAY</td>\n",
       "    </tr>\n",
       "  </tbody>\n",
       "</table>\n",
       "</div>"
      ],
      "text/plain": [
       "   longitude  latitude  housing_median_age  total_rooms  total_bedrooms  \\\n",
       "0    -122.23     37.88                41.0        880.0           129.0   \n",
       "1    -122.22     37.86                21.0       7099.0          1106.0   \n",
       "2    -122.24     37.85                52.0       1467.0           190.0   \n",
       "3    -122.25     37.85                52.0       1274.0           235.0   \n",
       "4    -122.25     37.85                52.0       1627.0           280.0   \n",
       "\n",
       "   population  households  median_income  median_house_value ocean_proximity  \n",
       "0       322.0       126.0         8.3252            452600.0        NEAR BAY  \n",
       "1      2401.0      1138.0         8.3014            358500.0        NEAR BAY  \n",
       "2       496.0       177.0         7.2574            352100.0        NEAR BAY  \n",
       "3       558.0       219.0         5.6431            341300.0        NEAR BAY  \n",
       "4       565.0       259.0         3.8462            342200.0        NEAR BAY  "
      ]
     },
     "execution_count": 32,
     "metadata": {},
     "output_type": "execute_result"
    }
   ],
   "source": [
    "df=df_house[df_house[\"median_house_value\"].notna()]\n",
    "df.head()"
   ]
  },
  {
   "cell_type": "code",
   "execution_count": 33,
   "metadata": {},
   "outputs": [
    {
     "data": {
      "text/plain": [
       "median_income         0.688075\n",
       "total_rooms           0.134153\n",
       "housing_median_age    0.105623\n",
       "households            0.065843\n",
       "total_bedrooms        0.049686\n",
       "population           -0.024650\n",
       "longitude            -0.045967\n",
       "latitude             -0.144160\n",
       "Name: median_house_value, dtype: float64"
      ]
     },
     "execution_count": 33,
     "metadata": {},
     "output_type": "execute_result"
    }
   ],
   "source": [
    "df.corr()[\"median_house_value\"].sort_values(ascending=False).drop(\"median_house_value\")"
   ]
  },
  {
   "cell_type": "code",
   "execution_count": 34,
   "metadata": {},
   "outputs": [
    {
     "name": "stdout",
     "output_type": "stream",
     "text": [
      "<class 'pandas.core.frame.DataFrame'>\n",
      "Int64Index: 20640 entries, 0 to 20639\n",
      "Data columns (total 10 columns):\n",
      " #   Column              Non-Null Count  Dtype  \n",
      "---  ------              --------------  -----  \n",
      " 0   longitude           20640 non-null  float64\n",
      " 1   latitude            20640 non-null  float64\n",
      " 2   housing_median_age  20640 non-null  float64\n",
      " 3   total_rooms         20640 non-null  float64\n",
      " 4   total_bedrooms      20433 non-null  float64\n",
      " 5   population          20640 non-null  float64\n",
      " 6   households          20640 non-null  float64\n",
      " 7   median_income       20640 non-null  float64\n",
      " 8   median_house_value  20640 non-null  float64\n",
      " 9   ocean_proximity     20640 non-null  object \n",
      "dtypes: float64(9), object(1)\n",
      "memory usage: 1.7+ MB\n"
     ]
    }
   ],
   "source": [
    "df.info()"
   ]
  },
  {
   "cell_type": "code",
   "execution_count": 54,
   "metadata": {},
   "outputs": [
    {
     "data": {
      "text/plain": [
       "<1H OCEAN     9136\n",
       "INLAND        6551\n",
       "NEAR OCEAN    2658\n",
       "NEAR BAY      2290\n",
       "ISLAND           5\n",
       "Name: ocean_proximity, dtype: int64"
      ]
     },
     "execution_count": 54,
     "metadata": {},
     "output_type": "execute_result"
    }
   ],
   "source": [
    "df[\"ocean_proximity\"].value_counts()"
   ]
  },
  {
   "cell_type": "code",
   "execution_count": 64,
   "metadata": {},
   "outputs": [
    {
     "data": {
      "text/html": [
       "<div>\n",
       "<style scoped>\n",
       "    .dataframe tbody tr th:only-of-type {\n",
       "        vertical-align: middle;\n",
       "    }\n",
       "\n",
       "    .dataframe tbody tr th {\n",
       "        vertical-align: top;\n",
       "    }\n",
       "\n",
       "    .dataframe thead th {\n",
       "        text-align: right;\n",
       "    }\n",
       "</style>\n",
       "<table border=\"1\" class=\"dataframe\">\n",
       "  <thead>\n",
       "    <tr style=\"text-align: right;\">\n",
       "      <th></th>\n",
       "      <th>longitude</th>\n",
       "      <th>latitude</th>\n",
       "      <th>housing_median_age</th>\n",
       "      <th>total_rooms</th>\n",
       "      <th>total_bedrooms</th>\n",
       "      <th>population</th>\n",
       "      <th>households</th>\n",
       "      <th>median_income</th>\n",
       "      <th>median_house_value</th>\n",
       "      <th>ocean_proximity</th>\n",
       "    </tr>\n",
       "  </thead>\n",
       "  <tbody>\n",
       "    <tr>\n",
       "      <th>20635</th>\n",
       "      <td>-121.09</td>\n",
       "      <td>39.48</td>\n",
       "      <td>25.0</td>\n",
       "      <td>1665.0</td>\n",
       "      <td>374.0</td>\n",
       "      <td>845.0</td>\n",
       "      <td>330.0</td>\n",
       "      <td>1.5603</td>\n",
       "      <td>78100.0</td>\n",
       "      <td>2</td>\n",
       "    </tr>\n",
       "    <tr>\n",
       "      <th>20636</th>\n",
       "      <td>-121.21</td>\n",
       "      <td>39.49</td>\n",
       "      <td>18.0</td>\n",
       "      <td>697.0</td>\n",
       "      <td>150.0</td>\n",
       "      <td>356.0</td>\n",
       "      <td>114.0</td>\n",
       "      <td>2.5568</td>\n",
       "      <td>77100.0</td>\n",
       "      <td>2</td>\n",
       "    </tr>\n",
       "    <tr>\n",
       "      <th>20637</th>\n",
       "      <td>-121.22</td>\n",
       "      <td>39.43</td>\n",
       "      <td>17.0</td>\n",
       "      <td>2254.0</td>\n",
       "      <td>485.0</td>\n",
       "      <td>1007.0</td>\n",
       "      <td>433.0</td>\n",
       "      <td>1.7000</td>\n",
       "      <td>92300.0</td>\n",
       "      <td>2</td>\n",
       "    </tr>\n",
       "    <tr>\n",
       "      <th>20638</th>\n",
       "      <td>-121.32</td>\n",
       "      <td>39.43</td>\n",
       "      <td>18.0</td>\n",
       "      <td>1860.0</td>\n",
       "      <td>409.0</td>\n",
       "      <td>741.0</td>\n",
       "      <td>349.0</td>\n",
       "      <td>1.8672</td>\n",
       "      <td>84700.0</td>\n",
       "      <td>2</td>\n",
       "    </tr>\n",
       "    <tr>\n",
       "      <th>20639</th>\n",
       "      <td>-121.24</td>\n",
       "      <td>39.37</td>\n",
       "      <td>16.0</td>\n",
       "      <td>2785.0</td>\n",
       "      <td>616.0</td>\n",
       "      <td>1387.0</td>\n",
       "      <td>530.0</td>\n",
       "      <td>2.3886</td>\n",
       "      <td>89400.0</td>\n",
       "      <td>2</td>\n",
       "    </tr>\n",
       "  </tbody>\n",
       "</table>\n",
       "</div>"
      ],
      "text/plain": [
       "       longitude  latitude  housing_median_age  total_rooms  total_bedrooms  \\\n",
       "20635    -121.09     39.48                25.0       1665.0           374.0   \n",
       "20636    -121.21     39.49                18.0        697.0           150.0   \n",
       "20637    -121.22     39.43                17.0       2254.0           485.0   \n",
       "20638    -121.32     39.43                18.0       1860.0           409.0   \n",
       "20639    -121.24     39.37                16.0       2785.0           616.0   \n",
       "\n",
       "       population  households  median_income  median_house_value  \\\n",
       "20635       845.0       330.0         1.5603             78100.0   \n",
       "20636       356.0       114.0         2.5568             77100.0   \n",
       "20637      1007.0       433.0         1.7000             92300.0   \n",
       "20638       741.0       349.0         1.8672             84700.0   \n",
       "20639      1387.0       530.0         2.3886             89400.0   \n",
       "\n",
       "      ocean_proximity  \n",
       "20635               2  \n",
       "20636               2  \n",
       "20637               2  \n",
       "20638               2  \n",
       "20639               2  "
      ]
     },
     "execution_count": 64,
     "metadata": {},
     "output_type": "execute_result"
    }
   ],
   "source": [
    "df[\"ocean_proximity\"]=df[\"ocean_proximity\"].astype('category')\n",
    "df[\"ocean_proximity\"].cat.categories=range(1,6)\n"
   ]
  },
  {
   "cell_type": "code",
   "execution_count": 35,
   "metadata": {},
   "outputs": [],
   "source": [
    "BINS2=int(np.sqrt(len(df.index)))"
   ]
  },
  {
   "cell_type": "code",
   "execution_count": 36,
   "metadata": {},
   "outputs": [
    {
     "data": {
      "image/png": "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",
      "text/plain": [
       "<Figure size 1080x720 with 9 Axes>"
      ]
     },
     "metadata": {
      "needs_background": "light"
     },
     "output_type": "display_data"
    }
   ],
   "source": [
    "df.hist(bins=BINS,figsize=(15,10));"
   ]
  },
  {
   "cell_type": "code",
   "execution_count": 37,
   "metadata": {},
   "outputs": [
    {
     "data": {
      "text/plain": [
       "<AxesSubplot:ylabel='Frequency'>"
      ]
     },
     "execution_count": 37,
     "metadata": {},
     "output_type": "execute_result"
    },
    {
     "data": {
      "image/png": "iVBORw0KGgoAAAANSUhEUgAAAYsAAAD4CAYAAAAdIcpQAAAAOXRFWHRTb2Z0d2FyZQBNYXRwbG90bGliIHZlcnNpb24zLjQuMywgaHR0cHM6Ly9tYXRwbG90bGliLm9yZy/MnkTPAAAACXBIWXMAAAsTAAALEwEAmpwYAAAR0UlEQVR4nO3da7BdZX3H8e9PUC5aBxgCTRPwYCdFgqOCR4qlN0UHKirYKTbOaDMWpdVYtXVGE6dT7YtM86L1Nh2sKV7ipWK8VNJSayHepjNKPEFahGhlSoSYlMRbg44Dgv++2IvONpyTtXNy9l77nP39zJw5az17rbP+2TM5v/M8z1rPTlUhSdLhPKrrAiRJ48+wkCS1MiwkSa0MC0lSK8NCktTq2K4LGJZTTz21pqamui5DkhaVnTt3freqlh3avmTDYmpqipmZma7LkKRFJcm3Z2t3GEqS1MqwkCS1MiwkSa0MC0lSK8NCktTKsJAktRpaWCR5X5L9Sb7e13ZKkhuTfKv5fnLfaxuS3Jnkm0ku6Wt/epLbmtfelSTDqlmSNLth9iw+AFx6SNt6YHtVrQK2N/skWQ2sAc5tzrkmyTHNOe8GrgZWNV+H/kxJ0pANLSyq6kvA9w9pvhzY0mxvAa7oa7+uqu6vqruAO4ELkiwHHl9VX67eB298sO8cSdKIjPoJ7tOrah9AVe1LclrTvgL4St9xe5q2nzbbh7bPKsnV9HohnHnmmQtYtqSjMbX+hp/b373pso4q0XyNywT3bPMQdZj2WVXV5qqarqrpZcsesbSJJGmeRh0W9zZDSzTf9zfte4Az+o5bCext2lfO0i5JGqFRh8U2YG2zvRa4vq99TZLjkpxFbyJ7RzNkdV+SC5u7oP6g7xxJ0ogMbc4iyUeB3wZOTbIHeAuwCdia5CrgbuBKgKq6PclW4A7gQWBdVT3U/KhX0buz6gTgM82XJGmEhhYWVfWSOV66eI7jNwIbZ2mfAZ68gKVJko7QuExwS5ogU+tveMQdUhpvhoUkqZVhIUlqZVhIkloZFpKkVqNe7kPSBHDyeukxLCQtCANiaXMYSpLUyrCQJLUyLCRJrQwLSZ3xSe7Fw7CQJLUyLCRJrQwLSVIrw0JS55y7GH+GhSSplWEhSWplWEiSWhkWkqRWLiQo6ag4MT0Z7FlIkloZFpKkVoaFJKmVYSFJamVYSJJaGRaSpFaGhSSplWEhSWplWEiSWhkWkqRWhoUkqZVhIUlq1clCgkn+FHgFUMBtwMuBE4GPAVPAbuDFVfWD5vgNwFXAQ8Brq+qzo69aUj8XEJwsIw+LJCuA1wKrq+onSbYCa4DVwPaq2pRkPbAeeFOS1c3r5wK/BNyU5Feq6qFR1y5puPoDaPemyzqsRIfqahjqWOCEJMfS61HsBS4HtjSvbwGuaLYvB66rqvur6i7gTuCC0ZYrSZNt5GFRVd8B/hq4G9gH/G9V/RtwelXta47ZB5zWnLICuKfvR+xp2h4hydVJZpLMHDhwYFj/BEmaOCMPiyQn0+stnEVvWOmxSV56uFNmaavZDqyqzVU1XVXTy5YtO/piJUlAN8NQzwHuqqoDVfVT4FPArwH3JlkO0Hzf3xy/Bzij7/yV9IatJEkj0kVY3A1cmOTEJAEuBnYB24C1zTFrgeub7W3AmiTHJTkLWAXsGHHNkjTRRn43VFXdnOQTwC3Ag8DXgM3A44CtSa6iFyhXNsff3twxdUdz/DrvhJKk0UrVrMP/i9709HTNzMx0XYa0ZI3qOQtvoR2tJDuravrQdp/gliS1MiwkSa0MC0lSK8NCktTKsJAktTIsJEmtDAtJUivDQpLUyrCQJLUyLCRJrQwLSVIrw0KS1MqwkCS1MiwkSa0MC0lSK8NCktTKsJAktTIsJEmtDAtJUivDQpLUyrCQJLUyLCRJrQwLSWNtav0NTK2/oesyJp5hIUlqZVhIkloZFpKkVoaFJKmVYSFJajVQWCR58rALkSSNr0F7Fn+XZEeSVyc5aZgFSZLGz7GDHFRVv55kFfCHwEySHcD7q+rGoVYnaWz4rMNkG3jOoqq+Bfw58Cbgt4B3JflGkt8dVnGSpPEw6JzFU5K8HdgFPBt4QVWd02y/fYj1SZLGwKA9i78FbgGeWlXrquoWgKraS6+3cUSSnJTkE03PZFeSZyY5JcmNSb7VfD+57/gNSe5M8s0klxzp9SRJR2fQsHge8A9V9ROAJI9KciJAVX1oHtd9J/CvVfUk4Kn0eizrge1VtQrY3uyTZDWwBjgXuBS4Jskx87imJGmeBg2Lm4AT+vZPbNqOWJLHA78JvBegqh6oqh8ClwNbmsO2AFc025cD11XV/VV1F3AncMF8ri1Jmp9Bw+L4qvrRwzvN9onzvOYTgQPA+5N8Lcm1SR4LnF5V+5qfvw84rTl+BXBP3/l7mrZHSHJ1kpkkMwcOHJhneZLGkavPdmvQsPhxkvMf3knydOAn87zmscD5wLur6jzgxzRDTnPILG0124FVtbmqpqtqetmyZfMsT5J0qIGeswBeD3w8yd5mfznw+/O85h5gT1Xd3Ox/gl5Y3JtkeVXtS7Ic2N93/Bl9568E9iJJGpmBehZV9VXgScCrgFcD51TVzvlcsKr+B7gnydlN08XAHcA2YG3Ttha4vtneBqxJclySs4BVwI75XFuSND+D9iwAngFMNeecl4Sq+uA8r/snwEeSPAb4b+Dl9IJra5KrgLuBKwGq6vYkW+kFyoPAuqp6aJ7XlSTNw0BhkeRDwC8DtwIP/6IuYF5hUVW3AtOzvHTxHMdvBDbO51qSpKM3aM9iGlhdVbNOLEuSlrZB74b6OvCLwyxEkjS+Bu1ZnArc0aw2e//DjVX1wqFUJUkaK4OGxVuHWYQkabwN+nkWX0zyBGBVVd3UrAvl+kySNCEGXaL8lfQenntP07QC+PSQapIkjZlBJ7jXARcBB+H/PwjptMOeIUlaMgYNi/ur6oGHd5IcyxzrM0mSlp5Bw+KLSd4MnJDkucDHgX8aXlmSpHEyaFisp7es+G3AHwH/wjw+IU+StDgNejfUz4C/b74kqTMPf6bF7k2XdVzJZBl0bai7mGWOoqqeuOAVSZLGzpGsDfWw4+mtCHvKwpcjadz46XSCwT/P4nt9X9+pqncAzx5uaZKkcTHoMNT5fbuPotfT+IWhVCRJGjuDDkP9Td/2g8Bu4MULXo0kaSwNejfUs4ZdiCRpfA06DPVnh3u9qt62MOVIksbRkdwN9QxgW7P/AuBLwD3DKEqSNF6O5MOPzq+q+wCSvBX4eFW9YliFSZLGx6DLfZwJPNC3/wAwteDVSJLG0qA9iw8BO5L8I70nuV8EfHBoVUlSC5f9GK1B74bamOQzwG80TS+vqq8NryxJ0jgZdBgK4ETgYFW9E9iT5Kwh1SRJGjODfqzqW4A3ARuapkcDHx5WUZKk8TLonMWLgPOAWwCqam8Sl/uQljAXEFS/QYehHqiqolmmPMljh1eSJGncDBoWW5O8BzgpySuBm/CDkCRpYrQOQyUJ8DHgScBB4GzgL6rqxiHXJkkaE61hUVWV5NNV9XTAgJCkCTToMNRXkjxjqJVIksbWoHdDPQv44yS7gR8DodfpeMqwCpMkjY/DhkWSM6vqbuB3FvrCSY4BZoDvVNXzk5xCb25kiubDlarqB82xG4CrgIeA11bVZxe6HknS3NqGoT4NUFXfBt5WVd/u/zrKa78O2NW3vx7YXlWrgO3NPklWA2uAc4FLgWuaoJEkjUhbWKRv+4kLddEkK4HLgGv7mi8HtjTbW4Ar+tqvq6r7q+ou4E7ggoWqRZLUri0sao7to/UO4I3Az/raTq+qfQDN99Oa9hX8/Ics7WnaHiHJ1UlmkswcOHBgAcuVNK6m1t/g0+Yj0BYWT01yMMl9wFOa7YNJ7ktycD4XTPJ8YH9V7Rz0lFnaZg2uqtpcVdNVNb1s2bL5lCdJmsVhJ7irahhzAxcBL0zyPOB44PFJPgzcm2R5Ve1LshzY3xy/Bzij7/yVwN4h1CVJmsORLFG+IKpqQ1WtrKopehPXn6uql9L7fO+1zWFrgeub7W3AmiTHNcuirwJ2jLhsSZpogz5nMQqb6K1BdRVwN3AlQFXdnmQrcAfwILCuqh7qrkxJmjydhkVVfQH4QrP9PeDiOY7bCGwcWWGSpJ8zTj0LSR3zriLNZeRzFpKkxcewkCS1MiwkSa0MC0lSK8NCktTKsJAktTIsJEmtDAtJUivDQpLUyrCQJLUyLCRJrQwLSVIrFxKU5AKCamXPQpLUyrCQJLUyLCQtCVPrb3A4bYgMC0lSK8NCktTKsJAktTIsJEmtDAtJUisfypO0pPTfEbV702UdVrK02LOQJLWyZyFNMJ9L0KDsWUiSWhkWkqRWhoUkqZVhIWnJcr2ohWNYSJJaGRaSpFbeOitNIIdmdKRG3rNIckaSzyfZleT2JK9r2k9JcmOSbzXfT+47Z0OSO5N8M8klo65ZkiZdF8NQDwJvqKpzgAuBdUlWA+uB7VW1Ctje7NO8tgY4F7gUuCbJMR3ULWmRc8J7/kYeFlW1r6puabbvA3YBK4DLgS3NYVuAK5rty4Hrqur+qroLuBO4YKRFS9KE63SCO8kUcB5wM3B6Ve2DXqAApzWHrQDu6TttT9M228+7OslMkpkDBw4MrW5JmjSdTXAneRzwSeD1VXUwyZyHztJWsx1YVZuBzQDT09OzHiNp8jj0dPQ66VkkeTS9oPhIVX2qab43yfLm9eXA/qZ9D3BG3+krgb2jqlWS1M3dUAHeC+yqqrf1vbQNWNtsrwWu72tfk+S4JGcBq4Ado6pXktTNMNRFwMuA25Lc2rS9GdgEbE1yFXA3cCVAVd2eZCtwB707qdZV1UMjr1qSJtjIw6Kq/p3Z5yEALp7jnI3AxqEVJU0Ix+41Xy73IUlqZVhIkloZFpKkVoaFJKmVYSFJauUS5dIE8C4oHS17FpImjqvPHjl7FtIS5i9ELRR7FpKkVoaFJKmVYSFpYjl3MTjDQpLUyrCQJLUyLCRJrQwLSVIrw0LSxHOiu51hIUlq5RPc0hLkX8laaIaFtMgZDBoFw0JapAyJhffwe7p702UdVzJ+nLOQJLWyZyFJh+jvtdnL6DEspEXG4afRcmiqx7CQFglDoluTHhqGhTQGZhv2MBw0TpzgliS1MiwkSa0chpLGjMNPGkf2LCTpCEzqooP2LKQOTeIvnaVi0u6OMiykITr0F4rhsPRMSmgYFtJRGuRpX0Ni6VvqoZGq6rqGoZienq6ZmZmuy9ASZgBovsY5UJLsrKrpQ9sXTc8iyaXAO4FjgGuralPHJWkRmuuvv8M9FHe4Y6VJsSh6FkmOAf4LeC6wB/gq8JKqumOuc+xZLA5H8kv60HMO99eZcwVaTMappzFXz2KxhMUzgbdW1SXN/gaAqvqruc4xLI7cQv6C9Ze0NBqD/pE1qMUeFr8HXFpVr2j2Xwb8alW95pDjrgaubnbPBr450kLHy6nAd7suYkz53szN92Zuk/LePKGqlh3auFjmLDJL2yNSrqo2A5uHX874SzIz218H8r05HN+buU36e7NYnuDeA5zRt78S2NtRLZI0cRZLWHwVWJXkrCSPAdYA2zquSZImxqIYhqqqB5O8BvgsvVtn31dVt3dc1rhzOG5uvjdz872Z20S/N4tigluS1K3FMgwlSeqQYSFJamVYLDFJ3pdkf5Kvd13LuElyRpLPJ9mV5PYkr+u6pnGR5PgkO5L8R/Pe/GXXNY2TJMck+VqSf+66lq4YFkvPB4BLuy5iTD0IvKGqzgEuBNYlWd1xTePifuDZVfVU4GnApUku7LaksfI6YFfXRXTJsFhiqupLwPe7rmMcVdW+qrql2b6P3n/+Fd1WNR6q50fN7qObL+9+AZKsBC4Dru26li4ZFppISaaA84CbOy5lbDRDLbcC+4Ebq8r3pucdwBuBn3VcR6cMC02cJI8DPgm8vqoOdl3PuKiqh6rqafRWSLggyZM7LqlzSZ4P7K+qnV3X0jXDQhMlyaPpBcVHqupTXdczjqrqh8AXcO4L4CLghUl2A9cBz07y4W5L6oZhoYmRJMB7gV1V9bau6xknSZYlOanZPgF4DvCNTosaA1W1oapWVtUUvWWGPldVL+24rE4YFktMko8CXwbOTrInyVVd1zRGLgJeRu+vw1ubr+d1XdSYWA58Psl/0luL7caqmtjbRPVILvchSWplz0KS1MqwkCS1MiwkSa0MC0lSK8NCktTKsJAktTIsJEmt/g/1Hg4wb1ew/gAAAABJRU5ErkJggg==",
      "text/plain": [
       "<Figure size 432x288 with 1 Axes>"
      ]
     },
     "metadata": {
      "needs_background": "light"
     },
     "output_type": "display_data"
    }
   ],
   "source": [
    "df[\"total_rooms\"].apply(np.log10).plot.hist(bins=BINS2)"
   ]
  },
  {
   "cell_type": "code",
   "execution_count": 38,
   "metadata": {},
   "outputs": [
    {
     "data": {
      "text/plain": [
       "126"
      ]
     },
     "execution_count": 38,
     "metadata": {},
     "output_type": "execute_result"
    }
   ],
   "source": [
    "df[df[\"total_rooms\"]<10**2].loc[:,\"total_rooms\"].count()"
   ]
  },
  {
   "cell_type": "code",
   "execution_count": 39,
   "metadata": {},
   "outputs": [
    {
     "data": {
      "text/plain": [
       "<AxesSubplot:ylabel='Frequency'>"
      ]
     },
     "execution_count": 39,
     "metadata": {},
     "output_type": "execute_result"
    },
    {
     "data": {
      "image/png": "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",
      "text/plain": [
       "<Figure size 432x288 with 1 Axes>"
      ]
     },
     "metadata": {
      "needs_background": "light"
     },
     "output_type": "display_data"
    }
   ],
   "source": [
    "(df[df['total_rooms'] >= 10**2].loc[:, 'total_rooms']).apply(np.log10).plot.hist(bins = BINS2)"
   ]
  },
  {
   "cell_type": "markdown",
   "metadata": {},
   "source": [
    "# Separando os valores em treino e teste:\n"
   ]
  },
  {
   "cell_type": "code",
   "execution_count": 42,
   "metadata": {},
   "outputs": [],
   "source": [
    "\n"
   ]
  },
  {
   "cell_type": "code",
   "execution_count": 51,
   "metadata": {},
   "outputs": [
    {
     "data": {
      "text/html": [
       "<div>\n",
       "<style scoped>\n",
       "    .dataframe tbody tr th:only-of-type {\n",
       "        vertical-align: middle;\n",
       "    }\n",
       "\n",
       "    .dataframe tbody tr th {\n",
       "        vertical-align: top;\n",
       "    }\n",
       "\n",
       "    .dataframe thead th {\n",
       "        text-align: right;\n",
       "    }\n",
       "</style>\n",
       "<table border=\"1\" class=\"dataframe\">\n",
       "  <thead>\n",
       "    <tr style=\"text-align: right;\">\n",
       "      <th></th>\n",
       "      <th>longitude</th>\n",
       "      <th>latitude</th>\n",
       "      <th>housing_median_age</th>\n",
       "      <th>total_rooms</th>\n",
       "      <th>total_bedrooms</th>\n",
       "      <th>population</th>\n",
       "      <th>households</th>\n",
       "      <th>median_income</th>\n",
       "      <th>ocean_proximity</th>\n",
       "    </tr>\n",
       "  </thead>\n",
       "  <tbody>\n",
       "    <tr>\n",
       "      <th>7061</th>\n",
       "      <td>-118.02</td>\n",
       "      <td>33.93</td>\n",
       "      <td>35.0</td>\n",
       "      <td>2400.0</td>\n",
       "      <td>398.0</td>\n",
       "      <td>1218.0</td>\n",
       "      <td>408.0</td>\n",
       "      <td>4.1312</td>\n",
       "      <td>&lt;1H OCEAN</td>\n",
       "    </tr>\n",
       "    <tr>\n",
       "      <th>14689</th>\n",
       "      <td>-117.09</td>\n",
       "      <td>32.79</td>\n",
       "      <td>20.0</td>\n",
       "      <td>2183.0</td>\n",
       "      <td>534.0</td>\n",
       "      <td>999.0</td>\n",
       "      <td>496.0</td>\n",
       "      <td>2.8631</td>\n",
       "      <td>NEAR OCEAN</td>\n",
       "    </tr>\n",
       "    <tr>\n",
       "      <th>17323</th>\n",
       "      <td>-120.14</td>\n",
       "      <td>34.59</td>\n",
       "      <td>24.0</td>\n",
       "      <td>1601.0</td>\n",
       "      <td>282.0</td>\n",
       "      <td>731.0</td>\n",
       "      <td>285.0</td>\n",
       "      <td>4.2026</td>\n",
       "      <td>NEAR OCEAN</td>\n",
       "    </tr>\n",
       "    <tr>\n",
       "      <th>10056</th>\n",
       "      <td>-121.00</td>\n",
       "      <td>39.26</td>\n",
       "      <td>14.0</td>\n",
       "      <td>810.0</td>\n",
       "      <td>151.0</td>\n",
       "      <td>302.0</td>\n",
       "      <td>138.0</td>\n",
       "      <td>3.1094</td>\n",
       "      <td>INLAND</td>\n",
       "    </tr>\n",
       "    <tr>\n",
       "      <th>15750</th>\n",
       "      <td>-122.45</td>\n",
       "      <td>37.77</td>\n",
       "      <td>52.0</td>\n",
       "      <td>3188.0</td>\n",
       "      <td>708.0</td>\n",
       "      <td>1526.0</td>\n",
       "      <td>664.0</td>\n",
       "      <td>3.3068</td>\n",
       "      <td>NEAR BAY</td>\n",
       "    </tr>\n",
       "  </tbody>\n",
       "</table>\n",
       "</div>"
      ],
      "text/plain": [
       "       longitude  latitude  housing_median_age  total_rooms  total_bedrooms  \\\n",
       "7061     -118.02     33.93                35.0       2400.0           398.0   \n",
       "14689    -117.09     32.79                20.0       2183.0           534.0   \n",
       "17323    -120.14     34.59                24.0       1601.0           282.0   \n",
       "10056    -121.00     39.26                14.0        810.0           151.0   \n",
       "15750    -122.45     37.77                52.0       3188.0           708.0   \n",
       "\n",
       "       population  households  median_income ocean_proximity  \n",
       "7061       1218.0       408.0         4.1312       <1H OCEAN  \n",
       "14689       999.0       496.0         2.8631      NEAR OCEAN  \n",
       "17323       731.0       285.0         4.2026      NEAR OCEAN  \n",
       "10056       302.0       138.0         3.1094          INLAND  \n",
       "15750      1526.0       664.0         3.3068        NEAR BAY  "
      ]
     },
     "execution_count": 51,
     "metadata": {},
     "output_type": "execute_result"
    }
   ],
   "source": [
    "X_train, X_test, y_train, y_test = train_test_split(\n",
    "    X,\n",
    "    y,                  \n",
    "    test_size=0.3,\n",
    "    random_state=RAND_SEED,\n",
    ")\n",
    "X_train.head()"
   ]
  },
  {
   "cell_type": "markdown",
   "metadata": {},
   "source": [
    "# Aplicando os modelos"
   ]
  },
  {
   "cell_type": "code",
   "execution_count": 53,
   "metadata": {},
   "outputs": [
    {
     "ename": "ValueError",
     "evalue": "could not convert string to float: '<1H OCEAN'",
     "output_type": "error",
     "traceback": [
      "\u001b[1;31m---------------------------------------------------------------------------\u001b[0m",
      "\u001b[1;31mValueError\u001b[0m                                Traceback (most recent call last)",
      "\u001b[1;32m~\\AppData\\Local\\Temp/ipykernel_14136/3935103392.py\u001b[0m in \u001b[0;36m<module>\u001b[1;34m\u001b[0m\n\u001b[0;32m      1\u001b[0m \u001b[0mlin_reg\u001b[0m\u001b[1;33m=\u001b[0m\u001b[0mLinearRegression\u001b[0m\u001b[1;33m(\u001b[0m\u001b[1;33m)\u001b[0m\u001b[1;33m\u001b[0m\u001b[1;33m\u001b[0m\u001b[0m\n\u001b[1;32m----> 2\u001b[1;33m \u001b[0mlin_reg\u001b[0m\u001b[1;33m.\u001b[0m\u001b[0mfit\u001b[0m\u001b[1;33m(\u001b[0m\u001b[0mX_train\u001b[0m\u001b[1;33m,\u001b[0m\u001b[0my_train\u001b[0m\u001b[1;33m)\u001b[0m\u001b[1;33m\u001b[0m\u001b[1;33m\u001b[0m\u001b[0m\n\u001b[0m",
      "\u001b[1;32m~\\Anaconda3\\lib\\site-packages\\sklearn\\linear_model\\_base.py\u001b[0m in \u001b[0;36mfit\u001b[1;34m(self, X, y, sample_weight)\u001b[0m\n\u001b[0;32m    516\u001b[0m         \u001b[0maccept_sparse\u001b[0m \u001b[1;33m=\u001b[0m \u001b[1;32mFalse\u001b[0m \u001b[1;32mif\u001b[0m \u001b[0mself\u001b[0m\u001b[1;33m.\u001b[0m\u001b[0mpositive\u001b[0m \u001b[1;32melse\u001b[0m \u001b[1;33m[\u001b[0m\u001b[1;34m'csr'\u001b[0m\u001b[1;33m,\u001b[0m \u001b[1;34m'csc'\u001b[0m\u001b[1;33m,\u001b[0m \u001b[1;34m'coo'\u001b[0m\u001b[1;33m]\u001b[0m\u001b[1;33m\u001b[0m\u001b[1;33m\u001b[0m\u001b[0m\n\u001b[0;32m    517\u001b[0m \u001b[1;33m\u001b[0m\u001b[0m\n\u001b[1;32m--> 518\u001b[1;33m         X, y = self._validate_data(X, y, accept_sparse=accept_sparse,\n\u001b[0m\u001b[0;32m    519\u001b[0m                                    y_numeric=True, multi_output=True)\n\u001b[0;32m    520\u001b[0m \u001b[1;33m\u001b[0m\u001b[0m\n",
      "\u001b[1;32m~\\Anaconda3\\lib\\site-packages\\sklearn\\base.py\u001b[0m in \u001b[0;36m_validate_data\u001b[1;34m(self, X, y, reset, validate_separately, **check_params)\u001b[0m\n\u001b[0;32m    431\u001b[0m                 \u001b[0my\u001b[0m \u001b[1;33m=\u001b[0m \u001b[0mcheck_array\u001b[0m\u001b[1;33m(\u001b[0m\u001b[0my\u001b[0m\u001b[1;33m,\u001b[0m \u001b[1;33m**\u001b[0m\u001b[0mcheck_y_params\u001b[0m\u001b[1;33m)\u001b[0m\u001b[1;33m\u001b[0m\u001b[1;33m\u001b[0m\u001b[0m\n\u001b[0;32m    432\u001b[0m             \u001b[1;32melse\u001b[0m\u001b[1;33m:\u001b[0m\u001b[1;33m\u001b[0m\u001b[1;33m\u001b[0m\u001b[0m\n\u001b[1;32m--> 433\u001b[1;33m                 \u001b[0mX\u001b[0m\u001b[1;33m,\u001b[0m \u001b[0my\u001b[0m \u001b[1;33m=\u001b[0m \u001b[0mcheck_X_y\u001b[0m\u001b[1;33m(\u001b[0m\u001b[0mX\u001b[0m\u001b[1;33m,\u001b[0m \u001b[0my\u001b[0m\u001b[1;33m,\u001b[0m \u001b[1;33m**\u001b[0m\u001b[0mcheck_params\u001b[0m\u001b[1;33m)\u001b[0m\u001b[1;33m\u001b[0m\u001b[1;33m\u001b[0m\u001b[0m\n\u001b[0m\u001b[0;32m    434\u001b[0m             \u001b[0mout\u001b[0m \u001b[1;33m=\u001b[0m \u001b[0mX\u001b[0m\u001b[1;33m,\u001b[0m \u001b[0my\u001b[0m\u001b[1;33m\u001b[0m\u001b[1;33m\u001b[0m\u001b[0m\n\u001b[0;32m    435\u001b[0m \u001b[1;33m\u001b[0m\u001b[0m\n",
      "\u001b[1;32m~\\Anaconda3\\lib\\site-packages\\sklearn\\utils\\validation.py\u001b[0m in \u001b[0;36minner_f\u001b[1;34m(*args, **kwargs)\u001b[0m\n\u001b[0;32m     61\u001b[0m             \u001b[0mextra_args\u001b[0m \u001b[1;33m=\u001b[0m \u001b[0mlen\u001b[0m\u001b[1;33m(\u001b[0m\u001b[0margs\u001b[0m\u001b[1;33m)\u001b[0m \u001b[1;33m-\u001b[0m \u001b[0mlen\u001b[0m\u001b[1;33m(\u001b[0m\u001b[0mall_args\u001b[0m\u001b[1;33m)\u001b[0m\u001b[1;33m\u001b[0m\u001b[1;33m\u001b[0m\u001b[0m\n\u001b[0;32m     62\u001b[0m             \u001b[1;32mif\u001b[0m \u001b[0mextra_args\u001b[0m \u001b[1;33m<=\u001b[0m \u001b[1;36m0\u001b[0m\u001b[1;33m:\u001b[0m\u001b[1;33m\u001b[0m\u001b[1;33m\u001b[0m\u001b[0m\n\u001b[1;32m---> 63\u001b[1;33m                 \u001b[1;32mreturn\u001b[0m \u001b[0mf\u001b[0m\u001b[1;33m(\u001b[0m\u001b[1;33m*\u001b[0m\u001b[0margs\u001b[0m\u001b[1;33m,\u001b[0m \u001b[1;33m**\u001b[0m\u001b[0mkwargs\u001b[0m\u001b[1;33m)\u001b[0m\u001b[1;33m\u001b[0m\u001b[1;33m\u001b[0m\u001b[0m\n\u001b[0m\u001b[0;32m     64\u001b[0m \u001b[1;33m\u001b[0m\u001b[0m\n\u001b[0;32m     65\u001b[0m             \u001b[1;31m# extra_args > 0\u001b[0m\u001b[1;33m\u001b[0m\u001b[1;33m\u001b[0m\u001b[0m\n",
      "\u001b[1;32m~\\Anaconda3\\lib\\site-packages\\sklearn\\utils\\validation.py\u001b[0m in \u001b[0;36mcheck_X_y\u001b[1;34m(X, y, accept_sparse, accept_large_sparse, dtype, order, copy, force_all_finite, ensure_2d, allow_nd, multi_output, ensure_min_samples, ensure_min_features, y_numeric, estimator)\u001b[0m\n\u001b[0;32m    869\u001b[0m         \u001b[1;32mraise\u001b[0m \u001b[0mValueError\u001b[0m\u001b[1;33m(\u001b[0m\u001b[1;34m\"y cannot be None\"\u001b[0m\u001b[1;33m)\u001b[0m\u001b[1;33m\u001b[0m\u001b[1;33m\u001b[0m\u001b[0m\n\u001b[0;32m    870\u001b[0m \u001b[1;33m\u001b[0m\u001b[0m\n\u001b[1;32m--> 871\u001b[1;33m     X = check_array(X, accept_sparse=accept_sparse,\n\u001b[0m\u001b[0;32m    872\u001b[0m                     \u001b[0maccept_large_sparse\u001b[0m\u001b[1;33m=\u001b[0m\u001b[0maccept_large_sparse\u001b[0m\u001b[1;33m,\u001b[0m\u001b[1;33m\u001b[0m\u001b[1;33m\u001b[0m\u001b[0m\n\u001b[0;32m    873\u001b[0m                     \u001b[0mdtype\u001b[0m\u001b[1;33m=\u001b[0m\u001b[0mdtype\u001b[0m\u001b[1;33m,\u001b[0m \u001b[0morder\u001b[0m\u001b[1;33m=\u001b[0m\u001b[0morder\u001b[0m\u001b[1;33m,\u001b[0m \u001b[0mcopy\u001b[0m\u001b[1;33m=\u001b[0m\u001b[0mcopy\u001b[0m\u001b[1;33m,\u001b[0m\u001b[1;33m\u001b[0m\u001b[1;33m\u001b[0m\u001b[0m\n",
      "\u001b[1;32m~\\Anaconda3\\lib\\site-packages\\sklearn\\utils\\validation.py\u001b[0m in \u001b[0;36minner_f\u001b[1;34m(*args, **kwargs)\u001b[0m\n\u001b[0;32m     61\u001b[0m             \u001b[0mextra_args\u001b[0m \u001b[1;33m=\u001b[0m \u001b[0mlen\u001b[0m\u001b[1;33m(\u001b[0m\u001b[0margs\u001b[0m\u001b[1;33m)\u001b[0m \u001b[1;33m-\u001b[0m \u001b[0mlen\u001b[0m\u001b[1;33m(\u001b[0m\u001b[0mall_args\u001b[0m\u001b[1;33m)\u001b[0m\u001b[1;33m\u001b[0m\u001b[1;33m\u001b[0m\u001b[0m\n\u001b[0;32m     62\u001b[0m             \u001b[1;32mif\u001b[0m \u001b[0mextra_args\u001b[0m \u001b[1;33m<=\u001b[0m \u001b[1;36m0\u001b[0m\u001b[1;33m:\u001b[0m\u001b[1;33m\u001b[0m\u001b[1;33m\u001b[0m\u001b[0m\n\u001b[1;32m---> 63\u001b[1;33m                 \u001b[1;32mreturn\u001b[0m \u001b[0mf\u001b[0m\u001b[1;33m(\u001b[0m\u001b[1;33m*\u001b[0m\u001b[0margs\u001b[0m\u001b[1;33m,\u001b[0m \u001b[1;33m**\u001b[0m\u001b[0mkwargs\u001b[0m\u001b[1;33m)\u001b[0m\u001b[1;33m\u001b[0m\u001b[1;33m\u001b[0m\u001b[0m\n\u001b[0m\u001b[0;32m     64\u001b[0m \u001b[1;33m\u001b[0m\u001b[0m\n\u001b[0;32m     65\u001b[0m             \u001b[1;31m# extra_args > 0\u001b[0m\u001b[1;33m\u001b[0m\u001b[1;33m\u001b[0m\u001b[0m\n",
      "\u001b[1;32m~\\Anaconda3\\lib\\site-packages\\sklearn\\utils\\validation.py\u001b[0m in \u001b[0;36mcheck_array\u001b[1;34m(array, accept_sparse, accept_large_sparse, dtype, order, copy, force_all_finite, ensure_2d, allow_nd, ensure_min_samples, ensure_min_features, estimator)\u001b[0m\n\u001b[0;32m    671\u001b[0m                     \u001b[0marray\u001b[0m \u001b[1;33m=\u001b[0m \u001b[0marray\u001b[0m\u001b[1;33m.\u001b[0m\u001b[0mastype\u001b[0m\u001b[1;33m(\u001b[0m\u001b[0mdtype\u001b[0m\u001b[1;33m,\u001b[0m \u001b[0mcasting\u001b[0m\u001b[1;33m=\u001b[0m\u001b[1;34m\"unsafe\"\u001b[0m\u001b[1;33m,\u001b[0m \u001b[0mcopy\u001b[0m\u001b[1;33m=\u001b[0m\u001b[1;32mFalse\u001b[0m\u001b[1;33m)\u001b[0m\u001b[1;33m\u001b[0m\u001b[1;33m\u001b[0m\u001b[0m\n\u001b[0;32m    672\u001b[0m                 \u001b[1;32melse\u001b[0m\u001b[1;33m:\u001b[0m\u001b[1;33m\u001b[0m\u001b[1;33m\u001b[0m\u001b[0m\n\u001b[1;32m--> 673\u001b[1;33m                     \u001b[0marray\u001b[0m \u001b[1;33m=\u001b[0m \u001b[0mnp\u001b[0m\u001b[1;33m.\u001b[0m\u001b[0masarray\u001b[0m\u001b[1;33m(\u001b[0m\u001b[0marray\u001b[0m\u001b[1;33m,\u001b[0m \u001b[0morder\u001b[0m\u001b[1;33m=\u001b[0m\u001b[0morder\u001b[0m\u001b[1;33m,\u001b[0m \u001b[0mdtype\u001b[0m\u001b[1;33m=\u001b[0m\u001b[0mdtype\u001b[0m\u001b[1;33m)\u001b[0m\u001b[1;33m\u001b[0m\u001b[1;33m\u001b[0m\u001b[0m\n\u001b[0m\u001b[0;32m    674\u001b[0m             \u001b[1;32mexcept\u001b[0m \u001b[0mComplexWarning\u001b[0m \u001b[1;32mas\u001b[0m \u001b[0mcomplex_warning\u001b[0m\u001b[1;33m:\u001b[0m\u001b[1;33m\u001b[0m\u001b[1;33m\u001b[0m\u001b[0m\n\u001b[0;32m    675\u001b[0m                 raise ValueError(\"Complex data not supported\\n\"\n",
      "\u001b[1;32m~\\Anaconda3\\lib\\site-packages\\numpy\\core\\_asarray.py\u001b[0m in \u001b[0;36masarray\u001b[1;34m(a, dtype, order, like)\u001b[0m\n\u001b[0;32m    100\u001b[0m         \u001b[1;32mreturn\u001b[0m \u001b[0m_asarray_with_like\u001b[0m\u001b[1;33m(\u001b[0m\u001b[0ma\u001b[0m\u001b[1;33m,\u001b[0m \u001b[0mdtype\u001b[0m\u001b[1;33m=\u001b[0m\u001b[0mdtype\u001b[0m\u001b[1;33m,\u001b[0m \u001b[0morder\u001b[0m\u001b[1;33m=\u001b[0m\u001b[0morder\u001b[0m\u001b[1;33m,\u001b[0m \u001b[0mlike\u001b[0m\u001b[1;33m=\u001b[0m\u001b[0mlike\u001b[0m\u001b[1;33m)\u001b[0m\u001b[1;33m\u001b[0m\u001b[1;33m\u001b[0m\u001b[0m\n\u001b[0;32m    101\u001b[0m \u001b[1;33m\u001b[0m\u001b[0m\n\u001b[1;32m--> 102\u001b[1;33m     \u001b[1;32mreturn\u001b[0m \u001b[0marray\u001b[0m\u001b[1;33m(\u001b[0m\u001b[0ma\u001b[0m\u001b[1;33m,\u001b[0m \u001b[0mdtype\u001b[0m\u001b[1;33m,\u001b[0m \u001b[0mcopy\u001b[0m\u001b[1;33m=\u001b[0m\u001b[1;32mFalse\u001b[0m\u001b[1;33m,\u001b[0m \u001b[0morder\u001b[0m\u001b[1;33m=\u001b[0m\u001b[0morder\u001b[0m\u001b[1;33m)\u001b[0m\u001b[1;33m\u001b[0m\u001b[1;33m\u001b[0m\u001b[0m\n\u001b[0m\u001b[0;32m    103\u001b[0m \u001b[1;33m\u001b[0m\u001b[0m\n\u001b[0;32m    104\u001b[0m \u001b[1;33m\u001b[0m\u001b[0m\n",
      "\u001b[1;32m~\\Anaconda3\\lib\\site-packages\\pandas\\core\\generic.py\u001b[0m in \u001b[0;36m__array__\u001b[1;34m(self, dtype)\u001b[0m\n\u001b[0;32m   1991\u001b[0m \u001b[1;33m\u001b[0m\u001b[0m\n\u001b[0;32m   1992\u001b[0m     \u001b[1;32mdef\u001b[0m \u001b[0m__array__\u001b[0m\u001b[1;33m(\u001b[0m\u001b[0mself\u001b[0m\u001b[1;33m,\u001b[0m \u001b[0mdtype\u001b[0m\u001b[1;33m:\u001b[0m \u001b[0mNpDtype\u001b[0m \u001b[1;33m|\u001b[0m \u001b[1;32mNone\u001b[0m \u001b[1;33m=\u001b[0m \u001b[1;32mNone\u001b[0m\u001b[1;33m)\u001b[0m \u001b[1;33m->\u001b[0m \u001b[0mnp\u001b[0m\u001b[1;33m.\u001b[0m\u001b[0mndarray\u001b[0m\u001b[1;33m:\u001b[0m\u001b[1;33m\u001b[0m\u001b[1;33m\u001b[0m\u001b[0m\n\u001b[1;32m-> 1993\u001b[1;33m         \u001b[1;32mreturn\u001b[0m \u001b[0mnp\u001b[0m\u001b[1;33m.\u001b[0m\u001b[0masarray\u001b[0m\u001b[1;33m(\u001b[0m\u001b[0mself\u001b[0m\u001b[1;33m.\u001b[0m\u001b[0m_values\u001b[0m\u001b[1;33m,\u001b[0m \u001b[0mdtype\u001b[0m\u001b[1;33m=\u001b[0m\u001b[0mdtype\u001b[0m\u001b[1;33m)\u001b[0m\u001b[1;33m\u001b[0m\u001b[1;33m\u001b[0m\u001b[0m\n\u001b[0m\u001b[0;32m   1994\u001b[0m \u001b[1;33m\u001b[0m\u001b[0m\n\u001b[0;32m   1995\u001b[0m     def __array_wrap__(\n",
      "\u001b[1;32m~\\Anaconda3\\lib\\site-packages\\numpy\\core\\_asarray.py\u001b[0m in \u001b[0;36masarray\u001b[1;34m(a, dtype, order, like)\u001b[0m\n\u001b[0;32m    100\u001b[0m         \u001b[1;32mreturn\u001b[0m \u001b[0m_asarray_with_like\u001b[0m\u001b[1;33m(\u001b[0m\u001b[0ma\u001b[0m\u001b[1;33m,\u001b[0m \u001b[0mdtype\u001b[0m\u001b[1;33m=\u001b[0m\u001b[0mdtype\u001b[0m\u001b[1;33m,\u001b[0m \u001b[0morder\u001b[0m\u001b[1;33m=\u001b[0m\u001b[0morder\u001b[0m\u001b[1;33m,\u001b[0m \u001b[0mlike\u001b[0m\u001b[1;33m=\u001b[0m\u001b[0mlike\u001b[0m\u001b[1;33m)\u001b[0m\u001b[1;33m\u001b[0m\u001b[1;33m\u001b[0m\u001b[0m\n\u001b[0;32m    101\u001b[0m \u001b[1;33m\u001b[0m\u001b[0m\n\u001b[1;32m--> 102\u001b[1;33m     \u001b[1;32mreturn\u001b[0m \u001b[0marray\u001b[0m\u001b[1;33m(\u001b[0m\u001b[0ma\u001b[0m\u001b[1;33m,\u001b[0m \u001b[0mdtype\u001b[0m\u001b[1;33m,\u001b[0m \u001b[0mcopy\u001b[0m\u001b[1;33m=\u001b[0m\u001b[1;32mFalse\u001b[0m\u001b[1;33m,\u001b[0m \u001b[0morder\u001b[0m\u001b[1;33m=\u001b[0m\u001b[0morder\u001b[0m\u001b[1;33m)\u001b[0m\u001b[1;33m\u001b[0m\u001b[1;33m\u001b[0m\u001b[0m\n\u001b[0m\u001b[0;32m    103\u001b[0m \u001b[1;33m\u001b[0m\u001b[0m\n\u001b[0;32m    104\u001b[0m \u001b[1;33m\u001b[0m\u001b[0m\n",
      "\u001b[1;31mValueError\u001b[0m: could not convert string to float: '<1H OCEAN'"
     ]
    }
   ],
   "source": [
    "lin_reg=LinearRegression()\n",
    "lin_reg.fit(X_train,y_train)"
   ]
  },
  {
   "cell_type": "code",
   "execution_count": null,
   "metadata": {},
   "outputs": [],
   "source": []
  }
 ],
 "metadata": {
  "kernelspec": {
<<<<<<< HEAD
   "display_name": "Python 3.9.7 64-bit ('anaconda3')",
=======
   "display_name": "Python 3.9.12 ('base')",
>>>>>>> 952e7cc15416eecf33de1fb444b00bc44dca3446
   "language": "python",
   "name": "python3"
  },
  "language_info": {
   "codemirror_mode": {
    "name": "ipython",
    "version": 3
   },
   "file_extension": ".py",
   "mimetype": "text/x-python",
   "name": "python",
   "nbconvert_exporter": "python",
   "pygments_lexer": "ipython3",
   "version": "3.9.12"
  },
  "vscode": {
   "interpreter": {
<<<<<<< HEAD
    "hash": "f5c412d1dbea01ef3fd78650bb3a52055fa6c9048fd9876591f4e6607e6a4756"
=======
    "hash": "33bea494317c8c22a4760028ceed23349c4667bf8f6d1305a13b8d31b6e7f27d"
>>>>>>> 952e7cc15416eecf33de1fb444b00bc44dca3446
   }
  }
 },
 "nbformat": 4,
 "nbformat_minor": 2
}
